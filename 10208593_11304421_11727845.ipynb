{
 "cells": [
  {
   "cell_type": "markdown",
   "metadata": {
    "deletable": false,
    "editable": false,
    "nbgrader": {
     "cell_type": "markdown",
     "checksum": "758d05f39ab671358f17858c55f7161c",
     "grade": false,
     "grade_id": "cell-c9cd9e550239e812",
     "locked": true,
     "schema_version": 3,
     "solution": false,
     "task": false
    }
   },
   "source": [
    "# Homework 1 (Total Points: 260) <a class=\"anchor\" id=\"top\"></a>\n",
    "\n",
    "\n",
    "**Submission instructions**:\n",
    "- Only the code `TODO: Implement this!` denotes that these sections are graded.\n",
    "- For Part 1: You can use the `nltk`, `numpy` and `matplotlib` libraries here. Other libraries, e.g., `gensim` or `scikit-learn`, may not be used. For Part 2: `gensim` is allowed in addition to the imported libraries in the next code cell\n",
    "- The notebook you submit has to have the student ids, separated by underscores (E.g., `12341234_12341234_12341234.ipynb`). \n",
    "- This will be parsed by a regexp, so please double check your filename.\n",
    "- Only one member of each group has to submit the file to canvas.\n",
    "- Make sure to check that your notebook runs before submission. A quick way to do this is to restart the kernel and run all the cells.  \n",
    "- Please do not delete/add new cells. Removing cells can lead to grade deduction.\n",
    "- Note, that you are not allowed to use Google Colab.\n",
    "\n",
    "\n",
    "**Learning Goals**:\n",
    "- [Part 1, Term-based matching](#part1) (175 points):\n",
    "    - Learn how to load a dataset and process it.\n",
    "    - Learn how to implement several standard IR methods (TF-IDF, BM25, QL) and understand their weaknesses & strengths.\n",
    "    - Learn how to evaluate IR methods.\n",
    "- [Part 2, Semantic-based matching](#part2) (85 points):\n",
    "    - Learn how to implement vector-space retrieval methods (LSI, LDA).\n",
    "    - Learn how to use LSI and LDA for re-ranking\n",
    "\n",
    "    \n",
    "**Resources**: \n",
    "- **Part 1**: Sections 2.3, 4.1, 4.2, 4.3, 5.3, 5.6, 5.7, 6.2, 7, 8 of [Search Engines: Information Retrieval in Practice](https://ciir.cs.umass.edu/downloads/SEIRiP.pdf)\n",
    "- **Part 2**: [LSI - Chapter 18](https://nlp.stanford.edu/IR-book/pdf/18lsi.pdf) from [Introduction to Information Retrieval](https://nlp.stanford.edu/IR-book/) book and the [original LDA paper](https://jmlr.org/papers/volume3/blei03a/blei03a.pdf)"
   ]
  },
  {
   "cell_type": "code",
   "execution_count": 1,
   "metadata": {
    "deletable": false,
    "editable": false,
    "nbgrader": {
     "cell_type": "code",
     "checksum": "c55bfe94ff1f564dd595547e516c4c6e",
     "grade": false,
     "grade_id": "cell-f5357fabdb9660e3",
     "locked": true,
     "schema_version": 3,
     "solution": false,
     "task": false
    }
   },
   "outputs": [],
   "source": [
    "# imports \n",
    "# TODO: Ensure that no additional library is imported in the notebook. \n",
    "# TODO: Only the standard library and the following libraries are allowed:\n",
    "# TODO: You can also use unlisted classes from these libraries or standard libraries (such as defaultdict, Counter, ...).\n",
    "\n",
    "import os\n",
    "import zipfile\n",
    "from functools import partial\n",
    "\n",
    "import nltk\n",
    "import requests\n",
    "import numpy as np\n",
    "from tqdm import tqdm\n",
    "\n",
    "import matplotlib.pyplot as plt\n",
    "from matplotlib.pyplot import cm\n",
    "\n",
    "from ipywidgets import widgets\n",
    "from IPython.display import display, HTML\n",
    "#from IPython.html import widgets\n",
    "from collections import namedtuple\n",
    "\n",
    "%matplotlib inline"
   ]
  },
  {
   "cell_type": "markdown",
   "metadata": {
    "deletable": false,
    "editable": false,
    "nbgrader": {
     "cell_type": "markdown",
     "checksum": "4ef0139c6fbc22b41520721a9275c1e1",
     "grade": false,
     "grade_id": "cell-7428e12ed184408b",
     "locked": true,
     "schema_version": 3,
     "solution": false,
     "task": false
    }
   },
   "source": [
    "\n",
    "# Part 1: Term-based Matching (175 points) <a class=\"anchor\" id=\"part1\"></a>\n",
    "\n",
    "[Back to top](#top)\n",
    "\n",
    "In the first part, we will learn the basics of IR from loading and preprocessing the material, to implementing some well known search algorithms, to evaluating the ranking performance of the implemented algorithms. We will be using the CACM dataset throughout the assignment. The CACM dataset is a collection of titles and abstracts from the journal CACM (Communication of the ACM).\n",
    "\n",
    "Table of contents:\n",
    "- [Section 1: Text Processing](#text_processing) (15 points)\n",
    "- [Section 2: Indexing](#indexing) (10 points)\n",
    "- [Section 3: Ranking](#ranking) (80 points)\n",
    "- [Section 4: Evaluation](#evaluation) (40 points)\n",
    "- [Section 5: Analysis](#analysis) (30 points)\n"
   ]
  },
  {
   "cell_type": "markdown",
   "metadata": {
    "deletable": false,
    "editable": false,
    "nbgrader": {
     "cell_type": "markdown",
     "checksum": "a9050c97b011a926b9e4cf6831eff5bd",
     "grade": false,
     "grade_id": "cell-4b24825cf4ae55ec",
     "locked": true,
     "schema_version": 3,
     "solution": false,
     "task": false
    }
   },
   "source": [
    "---\n",
    "## Section 1: Text Processing (15 points)<a class=\"anchor\" id=\"text_processing\"></a>\n",
    "\n",
    "[Back to Part 1](#part1)\n",
    "\n",
    "In this section, we will load the dataset and learn how to clean up the data to make it usable for an IR system. \n",
    "The points of this section are earned for the following implementations:\n",
    "- `read_cacm_docs` (4 points): Reads in the CACM documents.\n",
    "- `read_queries` (3 points): Reads in the CACM queries.\n",
    "- `load_stopwords` (1 point): Loads the stopwords.\n",
    "- `tokenize` (4 points): Tokenizes the input text.\n",
    "- `stem_token` (3 points): Stems the given token. \n",
    "\n",
    "We are using the [CACM dataset](http://ir.dcs.gla.ac.uk/resources/test_collections/cacm/), which is a small, classic IR dataset, composed of a collection of titles and abstracts from the journal CACM. It comes with relevance judgements for queries, so we can evaluate our IR system. \n"
   ]
  },
  {
   "cell_type": "markdown",
   "metadata": {
    "deletable": false,
    "editable": false,
    "nbgrader": {
     "cell_type": "markdown",
     "checksum": "1de1b97f9ee233ad2348359f0c158eb7",
     "grade": false,
     "grade_id": "cell-45651364e7af6d5a",
     "locked": true,
     "schema_version": 3,
     "solution": false,
     "task": false
    }
   },
   "source": [
    "---\n",
    "### 1.1 Read the CACM documents (4 points)\n",
    "\n",
    "\n",
    "The following cell downloads the dataset and unzips it to a local directory."
   ]
  },
  {
   "cell_type": "code",
   "execution_count": 2,
   "metadata": {
    "deletable": false,
    "editable": false,
    "nbgrader": {
     "cell_type": "code",
     "checksum": "4d43c9ad6e77cc01ce4cef0c34824930",
     "grade": false,
     "grade_id": "cell-bbc3030bb3fe7e02",
     "locked": true,
     "schema_version": 3,
     "solution": false,
     "task": false
    }
   },
   "outputs": [],
   "source": [
    "def download_dataset():\n",
    "    folder_path = os.environ.get(\"IR1_DATA_PATH\")\n",
    "    if not folder_path:\n",
    "        folder_path = \"./datasets/\"\n",
    "    os.makedirs(folder_path, exist_ok=True)\n",
    "    \n",
    "    file_location = os.path.join(folder_path, \"cacm.zip\")\n",
    "    \n",
    "    # download file if it doesn't exist\n",
    "    if not os.path.exists(file_location):\n",
    "        \n",
    "        url = \"https://surfdrive.surf.nl/files/index.php/s/M0FGJpX2p8wDwxR/download\"\n",
    "\n",
    "        with open(file_location, \"wb\") as handle:\n",
    "            print(f\"Downloading file from {url} to {file_location}\")\n",
    "            response = requests.get(url, stream=True)\n",
    "            for data in tqdm(response.iter_content()):\n",
    "                handle.write(data)\n",
    "            print(\"Finished downloading file\")\n",
    "    \n",
    "    if not os.path.exists(os.path.join(folder_path, \"train.txt\")):\n",
    "        \n",
    "        # unzip file\n",
    "        with zipfile.ZipFile(file_location, 'r') as zip_ref:\n",
    "            zip_ref.extractall(folder_path)\n",
    "        \n",
    "download_dataset()"
   ]
  },
  {
   "cell_type": "markdown",
   "metadata": {
    "deletable": false,
    "editable": false,
    "nbgrader": {
     "cell_type": "markdown",
     "checksum": "31609b0d61d0c74cbd69bc43e47c23be",
     "grade": false,
     "grade_id": "cell-a7dd9a9bf98ede05",
     "locked": true,
     "schema_version": 3,
     "solution": false,
     "task": false
    }
   },
   "source": [
    "---\n",
    "\n",
    "You can see a brief description of each file in the dataset by looking at the README file:"
   ]
  },
  {
   "cell_type": "code",
   "execution_count": 3,
   "metadata": {
    "deletable": false,
    "editable": false,
    "nbgrader": {
     "cell_type": "code",
     "checksum": "1783f9999c7d06955e8da815de62ba5f",
     "grade": false,
     "grade_id": "cell-9b6ff1a17124711f",
     "locked": true,
     "schema_version": 3,
     "solution": false,
     "task": false
    }
   },
   "outputs": [
    {
     "name": "stdout",
     "output_type": "stream",
     "text": [
      "Files in this directory with sizes:\r\n",
      "          0 Jun 19 21:01 README\r\n",
      "\r\n",
      "    2187734 Jun 19 20:55 cacm.all              text of documents\r\n",
      "        626 Jun 19 20:58 cite.info             key to citation info\r\n",
      "                                                (the X sections in cacm.all)\r\n",
      "       2668 Jun 19 20:55 common_words           stop words used by smart\r\n",
      "       2194 Jun 19 20:55 make_coll*             shell script to make collection\r\n",
      "       1557 Jun 19 20:55 make_coll_term*        ditto (both useless without\r\n",
      "                                                smart system)\r\n",
      "       9948 Jun 19 20:55 qrels.text             relation giving\r\n",
      "                                                    qid did 0 0\r\n",
      "                                                to indicate dument did is\r\n",
      "                                                relevant to query qid\r\n",
      "      13689 Jun 19 20:55 query.text             Original text of the query\r\n"
     ]
    }
   ],
   "source": [
    "##### Read the README file \n",
    "!cat ./datasets/README\n",
    "#####"
   ]
  },
  {
   "cell_type": "markdown",
   "metadata": {
    "deletable": false,
    "editable": false,
    "nbgrader": {
     "cell_type": "markdown",
     "checksum": "d6a5333ae8e7f69d81900e714cc43852",
     "grade": false,
     "grade_id": "cell-73351431869fda76",
     "locked": true,
     "schema_version": 3,
     "solution": false,
     "task": false
    }
   },
   "source": [
    "---\n",
    "We are interested in 4 files:\n",
    "- `cacm.all` : Contains the text for all documents. Note that some documents do not have abstracts available. \n",
    "- `query.text` : The text of all queries\n",
    "- `qrels.text` : The relevance judgements\n",
    "- `common_words` : A list of common words. This may be used as a collection of stopwords"
   ]
  },
  {
   "cell_type": "code",
   "execution_count": 4,
   "metadata": {
    "deletable": false,
    "editable": false,
    "nbgrader": {
     "cell_type": "code",
     "checksum": "c78e4256a08889ce3d0d985ea799b0a9",
     "grade": false,
     "grade_id": "cell-b44dd14079f278ca",
     "locked": true,
     "schema_version": 3,
     "solution": false,
     "task": false
    }
   },
   "outputs": [
    {
     "name": "stdout",
     "output_type": "stream",
     "text": [
      ".I 1\r\n",
      ".T\r\n",
      "Preliminary Report-International Algebraic Language\r\n",
      ".B\r\n",
      "CACM December, 1958\r\n",
      ".A\r\n",
      "Perlis, A. J.\r\n",
      "Samelson,K.\r\n",
      ".N\r\n",
      "CA581203 JB March 22, 1978  8:28 PM\r\n",
      ".X\r\n",
      "100\t5\t1\r\n",
      "123\t5\t1\r\n",
      "164\t5\t1\r\n",
      "1\t5\t1\r\n",
      "1\t5\t1\r\n",
      "1\t5\t1\r\n",
      "205\t5\t1\r\n",
      "210\t5\t1\r\n",
      "214\t5\t1\r\n",
      "1982\t5\t1\r\n",
      "398\t5\t1\r\n",
      "642\t5\t1\r\n",
      "669\t5\t1\r\n",
      "1\t6\t1\r\n",
      "1\t6\t1\r\n",
      "1\t6\t1\r\n",
      "1\t6\t1\r\n",
      "1\t6\t1\r\n",
      "1\t6\t1\r\n",
      "1\t6\t1\r\n",
      "1\t6\t1\r\n",
      "1\t6\t1\r\n",
      "1\t6\t1\r\n",
      "165\t6\t1\r\n",
      "196\t6\t1\r\n",
      "196\t6\t1\r\n",
      "1273\t6\t1\r\n",
      "1883\t6\t1\r\n",
      "324\t6\t1\r\n",
      "43\t6\t1\r\n",
      "53\t6\t1\r\n",
      "91\t6\t1\r\n",
      "410\t6\t1\r\n",
      "3184\t6\t1\r\n"
     ]
    }
   ],
   "source": [
    "##### The first 45 lines of the CACM dataset forms the first record\n",
    "# We are interested only in 3 fields. \n",
    "# 1. the '.I' field, which is the document id\n",
    "# 2. the '.T' field (the title) and\n",
    "# 3. the '.W' field (the abstract, which may be absent)\n",
    "!head -45 ./datasets/cacm.all\n",
    "#####"
   ]
  },
  {
   "cell_type": "markdown",
   "metadata": {
    "deletable": false,
    "editable": false,
    "nbgrader": {
     "cell_type": "markdown",
     "checksum": "aff7cbe5a15a0e3329dc223e3e31abf3",
     "grade": false,
     "grade_id": "cell-c4bf2e263ec553d8",
     "locked": true,
     "schema_version": 3,
     "solution": false,
     "task": false
    }
   },
   "source": [
    "---\n",
    "\n",
    "**Implementation (4 points):**\n",
    "Write a function to read the `cacm.all` file. Note that each document has a variable number of lines. The `.I` field denotes a new document:"
   ]
  },
  {
   "cell_type": "code",
   "execution_count": 5,
   "metadata": {
    "deletable": false,
    "nbgrader": {
     "cell_type": "code",
     "checksum": "45fef5d5b543ee439176d7fd0a9d20be",
     "grade": false,
     "grade_id": "cell-b736116eb419c624",
     "locked": false,
     "schema_version": 3,
     "solution": true,
     "task": false
    }
   },
   "outputs": [],
   "source": [
    "def read_cacm_docs(root_folder = \"./datasets/\"):\n",
    "    \"\"\"\n",
    "        Reads in the CACM documents. The dataset is assumed to be in the folder \"./datasets/\" by default\n",
    "        Returns: A list of 2-tuples: (doc_id, document), where 'document' is a single string created by \n",
    "            appending the title and abstract (separated by a \"\\n\"). \n",
    "            In case the record doesn't have an abstract, the document is composed only by the title\n",
    "    \"\"\"\n",
    "    # YOUR CODE HERE\n",
    "    docs = []\n",
    "    \n",
    "    with open(root_folder + \"cacm.all\", \"r\") as f:\n",
    "\n",
    "        while True:\n",
    "            line = f.readline()\n",
    "            \n",
    "            if line[:2] == \".I\":\n",
    "                if \"doc_id\" in locals():\n",
    "                      docs.append((doc_id, document[:-1]))\n",
    "                doc_id = int(line[3:-1])\n",
    "                \n",
    "            if line[:2] == \".T\":\n",
    "                document = \"\"\n",
    "                line = f.readline()\n",
    "                while not (line[0] == \".\" and line[1].isupper()):   \n",
    "                    document += line[:-1] + \" \"\n",
    "                    line = f.readline()\n",
    "                    \n",
    "            if line[:2] == \".W\":\n",
    "                line = f.readline()\n",
    "                document = document[:-1] + \" \\n \"\n",
    "                while not (line[0] == \".\" and line[1].isupper()):                   \n",
    "                    document += line[:-1] + \" \"\n",
    "                    line = f.readline()  \n",
    "                    \n",
    "            if not line:\n",
    "                docs.append((int(doc_id), document[:-1]))\n",
    "                break\n",
    "    \n",
    "    return docs"
   ]
  },
  {
   "cell_type": "code",
   "execution_count": 6,
   "metadata": {
    "deletable": false,
    "editable": false,
    "nbgrader": {
     "cell_type": "code",
     "checksum": "70472b5c277bb7c417de8da24e4e5261",
     "grade": true,
     "grade_id": "cell-a1c43818e0d3fd79",
     "locked": true,
     "points": 4,
     "schema_version": 3,
     "solution": false,
     "task": false
    }
   },
   "outputs": [],
   "source": [
    "##### Function check\n",
    "docs = read_cacm_docs()\n",
    "\n",
    "assert isinstance(docs, list)\n",
    "assert len(docs) == 3204, \"There should be exactly 3024 documents\"\n",
    "##### "
   ]
  },
  {
   "cell_type": "markdown",
   "metadata": {
    "deletable": false,
    "editable": false,
    "nbgrader": {
     "cell_type": "markdown",
     "checksum": "6fd095d2204cce3935444ca37c7c42da",
     "grade": false,
     "grade_id": "cell-5ed2ddc91f73c60e",
     "locked": true,
     "schema_version": 3,
     "solution": false,
     "task": false
    }
   },
   "source": [
    "---\n",
    "### 1.2 Read the CACM queries (3 points)\n",
    "\n",
    "Next, let us read the queries. They are formatted similarly:"
   ]
  },
  {
   "cell_type": "code",
   "execution_count": 7,
   "metadata": {
    "deletable": false,
    "editable": false,
    "nbgrader": {
     "cell_type": "code",
     "checksum": "5d26c0908e758acb9968b84056b1060a",
     "grade": false,
     "grade_id": "cell-5c7e8e7c4fc2757f",
     "locked": true,
     "schema_version": 3,
     "solution": false,
     "task": false
    }
   },
   "outputs": [
    {
     "name": "stdout",
     "output_type": "stream",
     "text": [
      ".I 1\r\n",
      ".W\r\n",
      " What articles exist which deal with TSS (Time Sharing System), an\r\n",
      "operating system for IBM computers?\r\n",
      ".N\r\n",
      " 1. Richard Alexander, Comp Serv, Langmuir Lab (TSS)\r\n",
      " \r\n",
      ".I 2\r\n",
      ".W\r\n",
      " I am interested in articles written either by Prieve or Udo Pooch\r\n",
      ".A\r\n",
      "Prieve, B.\r\n",
      "Pooch, U.\r\n",
      ".N\r\n",
      " 2. Richard Alexander, Comp Serv, Langmuir Lab (author = Pooch or Prieve)\r\n"
     ]
    }
   ],
   "source": [
    "##### The first 15 lines of 'query.text' has 2 queries\n",
    "# We are interested only in 2 fields. \n",
    "# 1. the '.I' - the query id\n",
    "# 2. the '.W' - the query\n",
    "!head -15 ./datasets/query.text\n",
    "#####"
   ]
  },
  {
   "cell_type": "markdown",
   "metadata": {
    "deletable": false,
    "editable": false,
    "nbgrader": {
     "cell_type": "markdown",
     "checksum": "da34d95924026ea55bf0a9b2070ec237",
     "grade": false,
     "grade_id": "cell-88e293507d2dcef6",
     "locked": true,
     "schema_version": 3,
     "solution": false,
     "task": false
    }
   },
   "source": [
    "---\n",
    "\n",
    "**Implementation (3 points):**\n",
    "Write a function to read the `query.text` file:"
   ]
  },
  {
   "cell_type": "code",
   "execution_count": 8,
   "metadata": {
    "deletable": false,
    "nbgrader": {
     "cell_type": "code",
     "checksum": "f98ac81b2ccb44fe3441e202e980c847",
     "grade": false,
     "grade_id": "cell-433e3ad5d0e2572a",
     "locked": false,
     "schema_version": 3,
     "solution": true,
     "task": false
    }
   },
   "outputs": [],
   "source": [
    "def read_queries(root_folder = \"./datasets/\"):\n",
    "    \"\"\"\n",
    "        Reads in the CACM queries. The dataset is assumed to be in the folder \"./datasets/\" by default\n",
    "        Returns: A list of 2-tuples: (query_id, query)\n",
    "    \"\"\"\n",
    "    # YOUR CODE HERE\n",
    "    queries = []\n",
    "    \n",
    "    with open(root_folder + \"query.text\", \"r\") as f:\n",
    "\n",
    "        while True:  \n",
    "            line = f.readline()\n",
    "            \n",
    "            if line[:2] == \".I\":\n",
    "                if \"query_id\" in locals():\n",
    "                      queries.append((query_id, query[:-1]))\n",
    "                query_id = int(line[3:-1])\n",
    "                \n",
    "            if line[:2] == \".W\":\n",
    "                query = \"\"\n",
    "                line = f.readline()\n",
    "                while not (line[0] == \".\" and line[1].isupper()):\n",
    "                    query += line[:-1] + \" \"\n",
    "                    line = f.readline()\n",
    "            \n",
    "            if not line:\n",
    "                queries.append((int(query_id), query[:-1]))\n",
    "                break\n",
    "    \n",
    "    return queries"
   ]
  },
  {
   "cell_type": "code",
   "execution_count": 9,
   "metadata": {
    "deletable": false,
    "editable": false,
    "nbgrader": {
     "cell_type": "code",
     "checksum": "c0e7a9868bd4b92692c33732af640b8b",
     "grade": true,
     "grade_id": "cell-6ec540abce66c598",
     "locked": true,
     "points": 3,
     "schema_version": 3,
     "solution": false,
     "task": false
    }
   },
   "outputs": [],
   "source": [
    "##### Function check\n",
    "queries = read_queries()\n",
    "\n",
    "assert isinstance(queries, list)\n",
    "assert len(queries) == 64 and all([q[1] is not None for q in queries]), \"There should be exactly 64 queries\"\n",
    "##### "
   ]
  },
  {
   "cell_type": "markdown",
   "metadata": {
    "deletable": false,
    "editable": false,
    "nbgrader": {
     "cell_type": "markdown",
     "checksum": "652f9159caea63888e06b54103bd7f32",
     "grade": false,
     "grade_id": "cell-1c31569491d7b782",
     "locked": true,
     "schema_version": 3,
     "solution": false,
     "task": false
    }
   },
   "source": [
    "---\n",
    "### 1.3 Read the stop words (1 point)\n",
    "\n",
    "We use the common words stored in `common_words`:"
   ]
  },
  {
   "cell_type": "code",
   "execution_count": 10,
   "metadata": {
    "deletable": false,
    "editable": false,
    "nbgrader": {
     "cell_type": "code",
     "checksum": "1ad6f5bae6a792504c1c8513ae5751ad",
     "grade": false,
     "grade_id": "cell-34bdb63461418a96",
     "locked": true,
     "schema_version": 3,
     "solution": false,
     "task": false
    }
   },
   "outputs": [
    {
     "name": "stdout",
     "output_type": "stream",
     "text": [
      "a\r\n",
      "about\r\n",
      "above\r\n",
      "accordingly\r\n",
      "across\r\n",
      "after\r\n",
      "afterwards\r\n",
      "again\r\n",
      "against\r\n",
      "all\r\n"
     ]
    }
   ],
   "source": [
    "##### Read the stop words file \n",
    "!head ./datasets/common_words\n",
    "##### Read the README file "
   ]
  },
  {
   "cell_type": "markdown",
   "metadata": {
    "deletable": false,
    "editable": false,
    "nbgrader": {
     "cell_type": "markdown",
     "checksum": "f720edbacd79170351156a443e0018ff",
     "grade": false,
     "grade_id": "cell-4744bde0338895d8",
     "locked": true,
     "schema_version": 3,
     "solution": false,
     "task": false
    }
   },
   "source": [
    "---\n",
    "**Implementation (1 point):**\n",
    "Write a function to read the `common_words` file (For better coverage, try to keep them in lowercase):"
   ]
  },
  {
   "cell_type": "code",
   "execution_count": 11,
   "metadata": {
    "deletable": false,
    "nbgrader": {
     "cell_type": "code",
     "checksum": "e6a9e9bb3ad0f8dc2ec3c497a3149092",
     "grade": false,
     "grade_id": "cell-7357aa40f64e5bcb",
     "locked": false,
     "schema_version": 3,
     "solution": true,
     "task": false
    }
   },
   "outputs": [],
   "source": [
    "def load_stopwords(root_folder = \"./datasets/\"):\n",
    "    \"\"\"\n",
    "        Loads the stopwords. The dataset is assumed to be in the folder \"./datasets/\" by default\n",
    "        Output: A set of stopwords\n",
    "    \"\"\"\n",
    "    # YOUR CODE HERE\n",
    "    with open(root_folder + \"/common_words\", \"r\") as f:       \n",
    "        return set([word[:-1] for word in f])"
   ]
  },
  {
   "cell_type": "code",
   "execution_count": 12,
   "metadata": {
    "deletable": false,
    "editable": false,
    "nbgrader": {
     "cell_type": "code",
     "checksum": "9211b9735b828d89d1a51d8743c448b4",
     "grade": true,
     "grade_id": "cell-2ca3ac162004de97",
     "locked": true,
     "points": 1,
     "schema_version": 3,
     "solution": false,
     "task": false
    }
   },
   "outputs": [],
   "source": [
    "##### Function check\n",
    "stopwords = load_stopwords()\n",
    "\n",
    "assert isinstance(stopwords, set)\n",
    "assert len(stopwords) == 428, \"There should be exactly 428 stop words\"\n",
    "##### "
   ]
  },
  {
   "cell_type": "markdown",
   "metadata": {
    "deletable": false,
    "editable": false,
    "nbgrader": {
     "cell_type": "markdown",
     "checksum": "fc7e419f35dfd3f507d8a7555ce2cde9",
     "grade": false,
     "grade_id": "cell-134b72872f4300cb",
     "locked": true,
     "schema_version": 3,
     "solution": false,
     "task": false
    }
   },
   "source": [
    "---\n",
    "### 1.4 Tokenization (4 points)\n",
    "\n",
    "We can now write some basic text processing functions. \n",
    "A first step is to tokenize the text. \n",
    "\n",
    "**Note**: Use the  `WordPunctTokenizer` available in the `nltk` library:"
   ]
  },
  {
   "cell_type": "code",
   "execution_count": 13,
   "metadata": {
    "deletable": false,
    "nbgrader": {
     "cell_type": "code",
     "checksum": "3f5564d3c75bf22fbf832b3a9b938f37",
     "grade": false,
     "grade_id": "cell-322be4c9499bdc4b",
     "locked": false,
     "schema_version": 3,
     "solution": true,
     "task": false
    }
   },
   "outputs": [],
   "source": [
    "from nltk.tokenize import WordPunctTokenizer\n",
    "\n",
    "def tokenize(text):\n",
    "    \"\"\"\n",
    "        Tokenizes the input text. Use the WordPunctTokenizer\n",
    "        Input: text - a string\n",
    "        Output: a list of tokens\n",
    "    \"\"\"\n",
    "    # YOUR CODE HERE\n",
    "    return WordPunctTokenizer().tokenize(text)"
   ]
  },
  {
   "cell_type": "code",
   "execution_count": 14,
   "metadata": {
    "deletable": false,
    "editable": false,
    "nbgrader": {
     "cell_type": "code",
     "checksum": "f60b93aa03bf9eced64940252eb33fe3",
     "grade": true,
     "grade_id": "cell-7fbf48bf7541a622",
     "locked": true,
     "points": 4,
     "schema_version": 3,
     "solution": false,
     "task": false
    }
   },
   "outputs": [
    {
     "name": "stdout",
     "output_type": "stream",
     "text": [
      "['the', 'quick', 'brown', 'fox', 'jumps', 'over', 'the', 'lazy', 'dog']\n"
     ]
    }
   ],
   "source": [
    "##### Function check\n",
    "text = \"the quick brown fox jumps over the lazy dog\"\n",
    "tokens = tokenize(text)\n",
    "\n",
    "assert isinstance(tokens, list)\n",
    "assert len(tokens) == 9\n",
    "\n",
    "print(tokens)\n",
    "# output: ['the', 'quick', 'brown', 'fox', 'jumps', 'over', 'the', 'lazy', 'dog']\n",
    "#####"
   ]
  },
  {
   "cell_type": "markdown",
   "metadata": {
    "deletable": false,
    "editable": false,
    "nbgrader": {
     "cell_type": "markdown",
     "checksum": "1b1cc868db22735e5e193bc64ff67877",
     "grade": false,
     "grade_id": "cell-fd1b98ae61b697ca",
     "locked": true,
     "schema_version": 3,
     "solution": false,
     "task": false
    }
   },
   "source": [
    "---\n",
    "### 1.5 Stemming (3 points)\n",
    "\n",
    "Write a function to stem tokens. \n",
    "Again, you can use the nltk library for this:"
   ]
  },
  {
   "cell_type": "code",
   "execution_count": 15,
   "metadata": {
    "deletable": false,
    "nbgrader": {
     "cell_type": "code",
     "checksum": "1c4a6aa979d66158c7b6b992af43293a",
     "grade": false,
     "grade_id": "cell-e3f6c8e3f874b28d",
     "locked": false,
     "schema_version": 3,
     "solution": true,
     "task": false
    }
   },
   "outputs": [],
   "source": [
    "from nltk.stem import PorterStemmer\n",
    "\n",
    "def stem_token(token):\n",
    "    \"\"\"\n",
    "        Stems the given token using the PorterStemmer from the nltk library\n",
    "        Input: a single token\n",
    "        Output: the stem of the token\n",
    "    \"\"\"\n",
    "    # YOUR CODE HERE\n",
    "    return PorterStemmer().stem(token)"
   ]
  },
  {
   "cell_type": "code",
   "execution_count": 16,
   "metadata": {
    "deletable": false,
    "editable": false,
    "nbgrader": {
     "cell_type": "code",
     "checksum": "cd2611a46e7c2e92af438d7166cf2616",
     "grade": true,
     "grade_id": "cell-cd6863e6ee6ed205",
     "locked": true,
     "points": 3,
     "schema_version": 3,
     "solution": false,
     "task": false
    }
   },
   "outputs": [],
   "source": [
    "##### Function check\n",
    "\n",
    "assert stem_token('owned') == 'own'\n",
    "assert stem_token('itemization') == 'item'\n",
    "#####"
   ]
  },
  {
   "cell_type": "markdown",
   "metadata": {
    "deletable": false,
    "editable": false,
    "nbgrader": {
     "cell_type": "markdown",
     "checksum": "5fcc93f08a6abcaffd5bd9475e4768e5",
     "grade": false,
     "grade_id": "cell-47c9f90498699110",
     "locked": true,
     "schema_version": 3,
     "solution": false,
     "task": false
    }
   },
   "source": [
    "---\n",
    "### 1.6 Summary\n",
    "\n",
    "The following function puts it all together. Given a string, it tokenizes it and processes it according to the flags that you set."
   ]
  },
  {
   "cell_type": "code",
   "execution_count": 17,
   "metadata": {
    "deletable": false,
    "editable": false,
    "nbgrader": {
     "cell_type": "code",
     "checksum": "2ff2d215ee8e0039c5a91fd3de12e6bd",
     "grade": false,
     "grade_id": "cell-dd0d3f46b30801da",
     "locked": true,
     "schema_version": 3,
     "solution": false,
     "task": false
    }
   },
   "outputs": [],
   "source": [
    "#### Putting it all together\n",
    "def process_text(text, stem=False, remove_stopwords=False, lowercase_text=False):\n",
    "    \n",
    "    tokens = []\n",
    "    for token in tokenize(text):\n",
    "        if remove_stopwords and token.lower() in stopwords:\n",
    "            continue\n",
    "        if stem:\n",
    "            token = stem_token(token)\n",
    "        if lowercase_text:\n",
    "            token = token.lower()\n",
    "        tokens.append(token)\n",
    "\n",
    "    return tokens\n",
    "#### "
   ]
  },
  {
   "cell_type": "markdown",
   "metadata": {
    "deletable": false,
    "editable": false,
    "nbgrader": {
     "cell_type": "markdown",
     "checksum": "02d433b18eb43654fa4306a7bf55b190",
     "grade": false,
     "grade_id": "cell-8d885bfd2edd43ae",
     "locked": true,
     "schema_version": 3,
     "solution": false,
     "task": false
    }
   },
   "source": [
    "---\n",
    "\n",
    "Let's create two sets of preprocessed documents.\n",
    "We can process the documents and queries according to these two configurations:"
   ]
  },
  {
   "cell_type": "code",
   "execution_count": 18,
   "metadata": {
    "deletable": false,
    "editable": false,
    "nbgrader": {
     "cell_type": "code",
     "checksum": "dbe4ca667be6842fdcf512fbcad50c7f",
     "grade": false,
     "grade_id": "cell-d427365ee0fb21d8",
     "locked": true,
     "schema_version": 3,
     "solution": false,
     "task": false
    }
   },
   "outputs": [],
   "source": [
    "# In this configuration:\n",
    "# Don't preprocess the text, except to tokenize \n",
    "config_1 = {\n",
    "  \"stem\": False,\n",
    "  \"remove_stopwords\" : False,\n",
    "  \"lowercase_text\": True\n",
    "} \n",
    "\n",
    "\n",
    "# In this configuration:\n",
    "# Preprocess the text, stem and remove stopwords\n",
    "config_2 = {\n",
    "  \"stem\": True,\n",
    "  \"remove_stopwords\" : True,\n",
    "  \"lowercase_text\": True, \n",
    "} \n",
    "\n",
    "####\n",
    "doc_repr_1 = []\n",
    "doc_repr_2 = []\n",
    "for (doc_id, document) in docs:\n",
    "    doc_repr_1.append((doc_id, process_text(document, **config_1)))\n",
    "    doc_repr_2.append((doc_id, process_text(document, **config_2)))\n",
    "\n",
    "####"
   ]
  },
  {
   "cell_type": "markdown",
   "metadata": {
    "deletable": false,
    "editable": false,
    "nbgrader": {
     "cell_type": "markdown",
     "checksum": "b60589aac19e80941d860d9b3f1e9a16",
     "grade": false,
     "grade_id": "cell-b1c102db61ae7495",
     "locked": true,
     "schema_version": 3,
     "solution": false,
     "task": false
    }
   },
   "source": [
    "--- \n",
    "\n",
    "## Section 2: Indexing (10 points)<a class=\"anchor\" id=\"indexing\"></a>\n",
    "\n",
    "[Back to Part 1](#part1)\n",
    "\n",
    "\n",
    "\n",
    "A retrieval function usually takes in a query document pair, and scores a query against a document.  Our document set is quite small - just a few thousand documents. However, consider a web-scale dataset with a few million documents. In such a scenario, it would become infeasible to score every query and document pair. In such a case, we can build an inverted index. From Wikipedia:\n",
    "\n",
    "> ... , an inverted index (also referred to as a postings file or inverted file) is a database index storing a mapping from content, such as words or numbers, to its locations in a table, .... The purpose of an inverted index is to allow fast full-text searches, at a cost of increased processing when a document is added to the database. ...\n",
    "\n",
    "\n",
    "Consider a simple inverted index, which maps from word to document. This can improve the performance of a retrieval system significantly. In this assignment, we consider a *simple* inverted index, which maps a word to a set of documents. In practice, however, more complex indices might be used.  \n"
   ]
  },
  {
   "cell_type": "markdown",
   "metadata": {
    "deletable": false,
    "editable": false,
    "nbgrader": {
     "cell_type": "markdown",
     "checksum": "710fd943f45523ac36fcb887cc0d4d39",
     "grade": false,
     "grade_id": "cell-fa373192c1b7bb95",
     "locked": true,
     "schema_version": 3,
     "solution": false,
     "task": false
    }
   },
   "source": [
    "### 2.1 Term Frequency-index (10 points)\n",
    "In this assignment, we will be using an index created in memory since our dataset is tiny. To get started, build a simple index that maps each `token` to a list of `(doc_id, count)` where `count` is the count of the `token` in `doc_id`.\n",
    "For consistency, build this index using a python dictionary.\n",
    "    \n",
    "Now, implement a function to build an index:"
   ]
  },
  {
   "cell_type": "code",
   "execution_count": 19,
   "metadata": {
    "deletable": false,
    "nbgrader": {
     "cell_type": "code",
     "checksum": "c281c45196493b87e45e1b3fb4ddd6c9",
     "grade": false,
     "grade_id": "cell-077599b87e953209",
     "locked": false,
     "schema_version": 3,
     "solution": true,
     "task": false
    }
   },
   "outputs": [],
   "source": [
    "from collections import defaultdict\n",
    "\n",
    "def build_tf_index(documents):\n",
    "    \"\"\"\n",
    "        Build an inverted index (with counts). The output is a dictionary which takes in a token\n",
    "        and returns a list of (doc_id, count) where 'count' is the count of the 'token' in 'doc_id'\n",
    "        Input: a list of documents - (doc_id, tokens) \n",
    "        Output: An inverted index. [token] -> [(doc_id, token_count)]\n",
    "    \"\"\"\n",
    "    # YOUR CODE HERE\n",
    "    index = defaultdict(list)\n",
    "    \n",
    "    for (doc_id, doc) in documents:\n",
    "        doc_counts = defaultdict(int)\n",
    "        \n",
    "        for term in doc:\n",
    "            doc_counts[term] += 1\n",
    "            \n",
    "        for term in doc_counts:\n",
    "            index[term].append((doc_id, doc_counts[term]))\n",
    "            \n",
    "    return index"
   ]
  },
  {
   "cell_type": "markdown",
   "metadata": {
    "deletable": false,
    "editable": false,
    "nbgrader": {
     "cell_type": "markdown",
     "checksum": "15e7041b4323d2a290322de538ff7670",
     "grade": false,
     "grade_id": "cell-093aebfa504f96f2",
     "locked": true,
     "schema_version": 3,
     "solution": false,
     "task": false
    }
   },
   "source": [
    "---\n",
    "Now we can build indexed documents and preprocess the queries based on the two configurations:"
   ]
  },
  {
   "cell_type": "code",
   "execution_count": 20,
   "metadata": {
    "deletable": false,
    "editable": false,
    "nbgrader": {
     "cell_type": "code",
     "checksum": "e27540c1d8d77a3779a05f557f3f40c6",
     "grade": false,
     "grade_id": "cell-b2ff1676348b90a8",
     "locked": true,
     "schema_version": 3,
     "solution": false,
     "task": false
    }
   },
   "outputs": [],
   "source": [
    "#### Indexed documents based on the two configs\n",
    "\n",
    "# Create the 2 indices\n",
    "tf_index_1 = build_tf_index(doc_repr_1)\n",
    "tf_index_2 = build_tf_index(doc_repr_2)\n",
    "\n",
    "# This function returns the tf_index of the corresponding config\n",
    "def get_index(index_set):\n",
    "    assert index_set in {1, 2}\n",
    "    return {\n",
    "        1: tf_index_1,\n",
    "        2: tf_index_2\n",
    "    }[index_set]\n",
    "\n",
    "####\n",
    "#### Preprocessed query based on the two configs\n",
    "\n",
    "# This function preprocesses the text given the index set, according to the specified config\n",
    "def preprocess_query(text, index_set):\n",
    "    assert index_set in {1, 2}\n",
    "    if index_set == 1:\n",
    "        return process_text(text, **config_1)\n",
    "    elif index_set == 2:\n",
    "        return process_text(text, **config_2)\n",
    "\n",
    "#### "
   ]
  },
  {
   "cell_type": "code",
   "execution_count": 21,
   "metadata": {
    "deletable": false,
    "editable": false,
    "nbgrader": {
     "cell_type": "code",
     "checksum": "2c50e4b4c68261ff1184277bcf3c38d8",
     "grade": true,
     "grade_id": "cell-fc7c7232d5d2ee46",
     "locked": true,
     "points": 5,
     "schema_version": 3,
     "solution": false,
     "task": false
    }
   },
   "outputs": [
    {
     "name": "stdout",
     "output_type": "stream",
     "text": [
      "[(4, 1), (7, 1), (10, 1), (13, 1), (19, 1), (22, 1), (23, 1), (37, 1), (40, 3), (41, 1)]\n"
     ]
    }
   ],
   "source": [
    "##### Function check\n",
    "\n",
    "print(tf_index_1['computer'][:10])\n",
    "#### "
   ]
  },
  {
   "cell_type": "code",
   "execution_count": 22,
   "metadata": {
    "deletable": false,
    "editable": false,
    "nbgrader": {
     "cell_type": "code",
     "checksum": "02de27463e2a393f46278d6fe3160481",
     "grade": true,
     "grade_id": "cell-ff06bd11204db250",
     "locked": true,
     "points": 5,
     "schema_version": 3,
     "solution": false,
     "task": false
    }
   },
   "outputs": [
    {
     "name": "stdout",
     "output_type": "stream",
     "text": [
      "[(670, 1), (675, 1), (1621, 3), (1681, 1), (2145, 1), (2339, 1), (2572, 1), (2583, 1), (2739, 1), (3012, 1)]\n"
     ]
    }
   ],
   "source": [
    "##### Function check\n",
    "\n",
    "print(tf_index_2['computer'][:10])\n",
    "#### "
   ]
  },
  {
   "cell_type": "markdown",
   "metadata": {
    "deletable": false,
    "editable": false,
    "nbgrader": {
     "cell_type": "markdown",
     "checksum": "982112dca3f9a75e871bea74fe1adab4",
     "grade": false,
     "grade_id": "cell-89eba71f04310291",
     "locked": true,
     "schema_version": 3,
     "solution": false,
     "task": false
    }
   },
   "source": [
    "\n",
    "---\n",
    "## Section 3: Ranking  (80 points) <a class=\"anchor\" id=\"ranking\"></a>\n",
    "\n",
    "[Back to Part 1](#part1)\n",
    "\n",
    "Now that we have cleaned and processed our dataset, we can start building simple IR systems. \n",
    "\n",
    "For now, we consider *simple* IR systems, which involve computing scores from the tokens present in the document/query. More advanced methods are covered in later assignments.\n",
    "\n",
    "We will implement the following methods in this section:\n",
    "- [Section 3.1: Bag of Words](#bow) (10 points)\n",
    "- [Section 3.2: TF-IDF](#tfidf) (15 points)\n",
    "- [Section 3.3: Query Likelihood Model](#qlm) (35 points)\n",
    "- [Section 3.4: BM25](#bm25) (20 points)\n",
    "\n",
    "**Scoring policy:**\n",
    "Your implementations in this section are scored based on the expected performance of your ranking functions.\n",
    "You will get a full mark if your implementation meets the expected performance (measured by some evaluation metric).\n",
    "Otherwise, you may get partial credit.\n",
    "For example, if your *Bag of words* ranking function has 60% of expected performance, you will get 4 out of 10."
   ]
  },
  {
   "cell_type": "markdown",
   "metadata": {
    "deletable": false,
    "editable": false,
    "nbgrader": {
     "cell_type": "markdown",
     "checksum": "97c13d2e2cad60df4a70dcb61ea7c30e",
     "grade": false,
     "grade_id": "cell-3daf70a60e393adf",
     "locked": true,
     "schema_version": 3,
     "solution": false,
     "task": false
    }
   },
   "source": [
    "--- \n",
    "\n",
    "### Section 3.1: Bag of Words (10 points)<a class=\"anchor\" id=\"bow\"></a>\n",
    "\n",
    "Probably the simplest IR model is the Bag of Words (BOW) model.\n",
    "Implement a function that scores and ranks all the documents against a query using this model.   \n",
    "\n",
    "Note that you can use either the count of the token or 'binarize' it i.e set the value equal to 1 if the token appears.   \n"
   ]
  },
  {
   "cell_type": "code",
   "execution_count": 23,
   "metadata": {
    "deletable": false,
    "nbgrader": {
     "cell_type": "code",
     "checksum": "1178c8a8908b0e4dc07add7aa49b7fde",
     "grade": false,
     "grade_id": "cell-de9cf0459c4b9324",
     "locked": false,
     "schema_version": 3,
     "solution": true,
     "task": false
    }
   },
   "outputs": [],
   "source": [
    "def bow_search(query, index_set):\n",
    "    \"\"\"\n",
    "        Perform a search over all documents with the given query. \n",
    "        Note: You have to use the `get_index` function created in the previous cells\n",
    "        Input: \n",
    "            query - a (unprocessed) query\n",
    "            index_set - the index to use\n",
    "        Output: a list of (document_id, score), sorted in descending relevance to the given query \n",
    "    \"\"\"\n",
    "    \n",
    "    index = get_index(index_set)\n",
    "    processed_query = preprocess_query(query, index_set)\n",
    "    \n",
    "    # YOUR CODE HERE\n",
    "    results = defaultdict(float)\n",
    "    \n",
    "    for term in processed_query:\n",
    "        if term in index:\n",
    "            for (doc_id, tf) in index[term]:\n",
    "                results[doc_id] += tf\n",
    "    \n",
    "    return sorted(results.items(), key=lambda item: item[1], reverse=True)"
   ]
  },
  {
   "cell_type": "code",
   "execution_count": 24,
   "metadata": {
    "deletable": false,
    "editable": false,
    "nbgrader": {
     "cell_type": "code",
     "checksum": "644d6d33cf5075c6d9878d4fe24c6213",
     "grade": true,
     "grade_id": "cell-9f6aceae6dd9125f",
     "locked": true,
     "points": 2,
     "schema_version": 3,
     "solution": false,
     "task": false
    }
   },
   "outputs": [
    {
     "name": "stdout",
     "output_type": "stream",
     "text": [
      "BOW Results:\n",
      "Rank 0(6.0): An Information Algebra - Phase I Report-Language S...\n",
      "Rank 1(6.0): Rejuvenating Experimental Computer Science \\n This...\n",
      "Rank 2(3.0): ALGOL 60 Confidential \\n The ALGOL 60 Report,* whe...\n",
      "Rank 3(2.0): Automatic Abstracting and Indexing Survey and Reco...\n",
      "Rank 4(2.0): A String Language for Symbol Manipulation Based on...\n"
     ]
    }
   ],
   "source": [
    "#### Function check\n",
    "\n",
    "docs_by_id = dict(docs)\n",
    "def print_results(docs, len_limit=50):    \n",
    "    for i, (doc_id, score) in enumerate(docs):\n",
    "        doc_content = docs_by_id[doc_id].strip().replace(\"\\n\", \"\\\\n\")[:len_limit] + \"...\"\n",
    "        print(f\"Rank {i}({score:.2}): {doc_content}\")\n",
    "\n",
    "test_bow = bow_search(\"report\", index_set=1)[:5]\n",
    "print(f\"BOW Results:\")\n",
    "print_results(test_bow)\n",
    "#### "
   ]
  },
  {
   "cell_type": "code",
   "execution_count": 25,
   "metadata": {
    "deletable": false,
    "editable": false,
    "nbgrader": {
     "cell_type": "code",
     "checksum": "8d54c91b913d7a54b25f3358c969fa45",
     "grade": true,
     "grade_id": "cell-4eed3abf233d9b58",
     "locked": true,
     "points": 2,
     "schema_version": 3,
     "solution": false,
     "task": false
    }
   },
   "outputs": [],
   "source": [
    "#### Please do not change this. This cell is used for grading."
   ]
  },
  {
   "cell_type": "code",
   "execution_count": 26,
   "metadata": {
    "deletable": false,
    "editable": false,
    "nbgrader": {
     "cell_type": "code",
     "checksum": "58bcc16d36dc079b7f41f9572423c62b",
     "grade": true,
     "grade_id": "cell-4d65a2d7090c466c",
     "locked": true,
     "points": 3,
     "schema_version": 3,
     "solution": false,
     "task": false
    }
   },
   "outputs": [],
   "source": [
    "#### Please do not change this. This cell is used for grading."
   ]
  },
  {
   "cell_type": "code",
   "execution_count": 27,
   "metadata": {
    "deletable": false,
    "editable": false,
    "nbgrader": {
     "cell_type": "code",
     "checksum": "65e4561970c4eba3e5ce43b142f858af",
     "grade": true,
     "grade_id": "cell-dedf36ab5853ce20",
     "locked": true,
     "points": 3,
     "schema_version": 3,
     "solution": false,
     "task": false
    }
   },
   "outputs": [],
   "source": [
    "#### Please do not change this. This cell is used for grading."
   ]
  },
  {
   "cell_type": "markdown",
   "metadata": {
    "deletable": false,
    "editable": false,
    "nbgrader": {
     "cell_type": "markdown",
     "checksum": "a5c2318004c5ce534b67c7a36bbc7c31",
     "grade": false,
     "grade_id": "cell-a5c09c79ac1f2871",
     "locked": true,
     "schema_version": 3,
     "solution": false,
     "task": false
    }
   },
   "source": [
    "\n",
    "---\n",
    "\n",
    "### Section 3.2: TF-IDF (15 points) <a class=\"anchor\" id=\"tfidf\"></a>\n",
    "\n",
    "Before we implement the tf-idf scoring functions, let's first write a function to compute the document frequencies of all words.  \n",
    "\n",
    "#### 3.2.1 Document frequency (5 points)\n",
    "Compute the document frequencies of all tokens in the collection.  "
   ]
  },
  {
   "cell_type": "code",
   "execution_count": 28,
   "metadata": {
    "deletable": false,
    "nbgrader": {
     "cell_type": "code",
     "checksum": "11cdde77378ded394d7922fe36bbc5d1",
     "grade": false,
     "grade_id": "cell-9a2369f32e864b8a",
     "locked": false,
     "schema_version": 3,
     "solution": true,
     "task": false
    }
   },
   "outputs": [],
   "source": [
    "def compute_df(documents):\n",
    "    \"\"\"\n",
    "        Compute the document frequency of all terms in the vocabulary\n",
    "        Input: A list of documents\n",
    "        Output: A dictionary with {token: document frequency)\n",
    "    \"\"\"\n",
    "    # YOUR CODE HERE\n",
    "    df = defaultdict(int)\n",
    "    for doc in documents:\n",
    "        # set removes duplicate terms in the document\n",
    "        for term in set(doc):\n",
    "            df[term] += 1\n",
    "    \n",
    "    return df"
   ]
  },
  {
   "cell_type": "code",
   "execution_count": 29,
   "metadata": {
    "deletable": false,
    "editable": false,
    "nbgrader": {
     "cell_type": "code",
     "checksum": "154985511d7925c5793a1f97dea81880",
     "grade": false,
     "grade_id": "cell-4c3bddd0b73ac90e",
     "locked": true,
     "schema_version": 3,
     "solution": false,
     "task": false
    }
   },
   "outputs": [],
   "source": [
    "#### Compute df based on the two configs\n",
    "\n",
    "# get the document frequencies of each document\n",
    "df_1 = compute_df([d[1] for d in doc_repr_1])\n",
    "df_2 = compute_df([d[1] for d in doc_repr_2])\n",
    "\n",
    "def get_df(index_set):\n",
    "    assert index_set in {1, 2}\n",
    "    return {\n",
    "        1: df_1,\n",
    "        2: df_2\n",
    "    }[index_set]\n",
    "####"
   ]
  },
  {
   "cell_type": "code",
   "execution_count": 30,
   "metadata": {
    "deletable": false,
    "editable": false,
    "nbgrader": {
     "cell_type": "code",
     "checksum": "110cc180068cf3f77c682ee3de2a117c",
     "grade": true,
     "grade_id": "cell-79e8a6db1e5fc46f",
     "locked": true,
     "points": 5,
     "schema_version": 3,
     "solution": false,
     "task": false
    }
   },
   "outputs": [
    {
     "name": "stdout",
     "output_type": "stream",
     "text": [
      "597\n",
      "11\n"
     ]
    }
   ],
   "source": [
    "#### Function check\n",
    "\n",
    "print(df_1['computer'])\n",
    "print(df_2['computer'])\n",
    "####"
   ]
  },
  {
   "cell_type": "markdown",
   "metadata": {
    "deletable": false,
    "editable": false,
    "nbgrader": {
     "cell_type": "markdown",
     "checksum": "6646996a2d016ef86e7cedd2f79a29d1",
     "grade": false,
     "grade_id": "cell-52f6acc487e1b96d",
     "locked": true,
     "schema_version": 3,
     "solution": false,
     "task": false
    }
   },
   "source": [
    "---\n",
    "#### 3.2.2 TF-IDF search (10 points)\n",
    "Next, implement a function that computes a tf-idf score given a query.      "
   ]
  },
  {
   "cell_type": "code",
   "execution_count": 31,
   "metadata": {
    "deletable": false,
    "nbgrader": {
     "cell_type": "code",
     "checksum": "b33c859693d1b383bcb53acea340027f",
     "grade": false,
     "grade_id": "cell-2fb5ba34b2994cd9",
     "locked": false,
     "schema_version": 3,
     "solution": true,
     "task": false
    }
   },
   "outputs": [],
   "source": [
    "def tfidf_search(query, index_set):\n",
    "    \"\"\"\n",
    "        Perform a search over all documents with the given query using tf-idf. \n",
    "        Note #1: You have to use the `get_index` (and the `get_df`) function created in the previous cells\n",
    "        Input: \n",
    "            query - a (unprocessed) query\n",
    "            index_set - the index to use\n",
    "        Output: a list of (document_id, score), sorted in descending relevance to the given query \n",
    "    \"\"\"\n",
    "    \n",
    "    index = get_index(index_set)\n",
    "    df = get_df(index_set)\n",
    "    processed_query = preprocess_query(query, index_set)\n",
    "    \n",
    "    # YOUR CODE HERE\n",
    "    results = defaultdict(float)\n",
    "    N = len(docs)\n",
    "    \n",
    "    for term in processed_query:\n",
    "        if df[term] == 0:\n",
    "            continue\n",
    "            \n",
    "        idf = np.log(N / df[term])\n",
    "        for (doc_id, tf) in index[term]:\n",
    "            results[doc_id] += tf * idf       \n",
    "                  \n",
    "    return sorted(results.items(), key=lambda item: item[1], reverse=True)\n",
    "        "
   ]
  },
  {
   "cell_type": "code",
   "execution_count": 32,
   "metadata": {
    "deletable": false,
    "editable": false,
    "nbgrader": {
     "cell_type": "code",
     "checksum": "10b9fd39f3c9a9f3ca274c020ad79323",
     "grade": true,
     "grade_id": "cell-bc68aeeacf42beb3",
     "locked": true,
     "points": 2,
     "schema_version": 3,
     "solution": false,
     "task": false
    }
   },
   "outputs": [
    {
     "name": "stdout",
     "output_type": "stream",
     "text": [
      "TFIDF Results:\n",
      "Rank 0(2.3e+01): An Information Algebra - Phase I Report-Language S...\n",
      "Rank 1(2.3e+01): Rejuvenating Experimental Computer Science \\n This...\n",
      "Rank 2(1.2e+01): ALGOL 60 Confidential \\n The ALGOL 60 Report,* whe...\n",
      "Rank 3(7.8): Automatic Abstracting and Indexing Survey and Reco...\n",
      "Rank 4(7.8): A String Language for Symbol Manipulation Based on...\n"
     ]
    }
   ],
   "source": [
    "#### Function check\n",
    "test_tfidf = tfidf_search(\"report\", index_set=1)[:5]\n",
    "print(f\"TFIDF Results:\")\n",
    "print_results(test_tfidf)\n",
    "####"
   ]
  },
  {
   "cell_type": "code",
   "execution_count": 33,
   "metadata": {
    "deletable": false,
    "editable": false,
    "nbgrader": {
     "cell_type": "code",
     "checksum": "03441f97df9db4996d0f260fcc974e9d",
     "grade": true,
     "grade_id": "cell-c7702fa8179fadb9",
     "locked": true,
     "points": 2,
     "schema_version": 3,
     "solution": false,
     "task": false
    }
   },
   "outputs": [],
   "source": [
    "#### Please do not change this. This cell is used for grading."
   ]
  },
  {
   "cell_type": "code",
   "execution_count": 34,
   "metadata": {
    "deletable": false,
    "editable": false,
    "nbgrader": {
     "cell_type": "code",
     "checksum": "7272cfcbb457a74d23bfec1f85d22d5f",
     "grade": true,
     "grade_id": "cell-3284f50ac29abbaa",
     "locked": true,
     "points": 3,
     "schema_version": 3,
     "solution": false,
     "task": false
    }
   },
   "outputs": [],
   "source": [
    "#### Please do not change this. This cell is used for grading."
   ]
  },
  {
   "cell_type": "code",
   "execution_count": 35,
   "metadata": {
    "deletable": false,
    "editable": false,
    "nbgrader": {
     "cell_type": "code",
     "checksum": "fcbcc867713612b90395d653db8fd5e3",
     "grade": true,
     "grade_id": "cell-d908c80a3155354b",
     "locked": true,
     "points": 3,
     "schema_version": 3,
     "solution": false,
     "task": false
    }
   },
   "outputs": [],
   "source": [
    "#### Please do not change this. This cell is used for grading."
   ]
  },
  {
   "cell_type": "markdown",
   "metadata": {
    "deletable": false,
    "editable": false,
    "nbgrader": {
     "cell_type": "markdown",
     "checksum": "cdffc83f0eaea937cf64a212e7e9af8d",
     "grade": false,
     "grade_id": "cell-f5d923459ba21733",
     "locked": true,
     "schema_version": 3,
     "solution": false,
     "task": false
    }
   },
   "source": [
    "--- \n",
    "\n",
    "### Section 3.3: Query Likelihood Model (35 points) <a class=\"anchor\" id=\"qlm\"></a>\n",
    "\n",
    "In this section, you will implement a simple query likelihood model. \n",
    "\n",
    "\n",
    "#### 3.3.1 Naive QL (15 points)\n",
    "\n",
    "First, let us implement a naive version of a QL model, assuming a multinomial unigram language model (with a uniform prior over the documents). \n",
    "\n"
   ]
  },
  {
   "cell_type": "code",
   "execution_count": 36,
   "metadata": {
    "deletable": false,
    "editable": false,
    "nbgrader": {
     "cell_type": "code",
     "checksum": "b7ae2b7d818b428b4638c1c9206d2aca",
     "grade": false,
     "grade_id": "cell-98505778f7b68e7f",
     "locked": true,
     "schema_version": 3,
     "solution": false,
     "task": false
    }
   },
   "outputs": [],
   "source": [
    "#### Document length for normalization\n",
    "\n",
    "def doc_lengths(documents):\n",
    "    doc_lengths = {doc_id:len(doc) for (doc_id, doc) in documents}\n",
    "    return doc_lengths\n",
    "\n",
    "doc_lengths_1 = doc_lengths(doc_repr_1)\n",
    "doc_lengths_2 = doc_lengths(doc_repr_2)\n",
    "\n",
    "def get_doc_lengths(index_set):\n",
    "    assert index_set in {1, 2}\n",
    "    return {\n",
    "        1: doc_lengths_1,\n",
    "        2: doc_lengths_2\n",
    "    }[index_set]\n",
    "####"
   ]
  },
  {
   "cell_type": "code",
   "execution_count": 37,
   "metadata": {
    "deletable": false,
    "nbgrader": {
     "cell_type": "code",
     "checksum": "cedd08303a914243fefdb6b876977ca1",
     "grade": false,
     "grade_id": "cell-8bcf2b804d636c2e",
     "locked": false,
     "schema_version": 3,
     "solution": true,
     "task": false
    }
   },
   "outputs": [],
   "source": [
    "def naive_ql_search(query, index_set):\n",
    "    \"\"\"\n",
    "        Perform a search over all documents with the given query using a naive QL model. \n",
    "        Note #1: You have to use the `get_index` (and get_doc_lengths) function created in the previous cells\n",
    "        Input: \n",
    "            query - a (unprocessed) query\n",
    "            index_set - the index to use\n",
    "        Output: a list of (document_id, score), sorted in descending relevance to the given query \n",
    "    \"\"\"\n",
    "    \n",
    "    index = get_index(index_set)\n",
    "    doc_lengths = get_doc_lengths(index_set)\n",
    "    processed_query = preprocess_query(query, index_set) \n",
    "    \n",
    "    # YOUR CODE HERE\n",
    "    results = {doc: 1.0 for doc in doc_lengths}\n",
    "    \n",
    "    for term in processed_query:\n",
    "        term_scores = {doc_id: 0 for doc_id in doc_lengths}\n",
    "        for (doc_id, tf) in index[term]:\n",
    "            term_scores[doc_id] = tf / doc_lengths[doc_id]\n",
    "\n",
    "        results = {doc_id: results[doc_id] * term_scores[doc_id] for doc_id in results}\n",
    "            \n",
    "    return sorted(results.items(), key=lambda item: item[1], reverse=True)\n",
    "    "
   ]
  },
  {
   "cell_type": "code",
   "execution_count": 38,
   "metadata": {
    "deletable": false,
    "editable": false,
    "nbgrader": {
     "cell_type": "code",
     "checksum": "b550d15bdad28354c336020a00c33d56",
     "grade": true,
     "grade_id": "cell-5a83ac12ecde8578",
     "locked": true,
     "points": 3,
     "schema_version": 3,
     "solution": false,
     "task": false
    }
   },
   "outputs": [
    {
     "name": "stdout",
     "output_type": "stream",
     "text": [
      "Naive QL Results:\n",
      "Rank 0(0.2): A Report Writer For COBOL...\n",
      "Rank 1(0.2): A CRT Report Generating System...\n",
      "Rank 2(0.17): Preliminary Report-International Algebraic Languag...\n",
      "Rank 3(0.17): Supplement to the ALGOL 60 Report...\n",
      "Rank 4(0.14): ALGOL Sub-Committee Report - Extensions...\n"
     ]
    }
   ],
   "source": [
    "#### Function check\n",
    "test_naiveql = naive_ql_search(\"report\", index_set=1)[:5]\n",
    "print(f\"Naive QL Results:\")\n",
    "print_results(test_naiveql)\n",
    "####"
   ]
  },
  {
   "cell_type": "code",
   "execution_count": 39,
   "metadata": {
    "deletable": false,
    "editable": false,
    "nbgrader": {
     "cell_type": "code",
     "checksum": "799df1d81c63fe90edbb6c218fc707fb",
     "grade": true,
     "grade_id": "cell-80f4bf2137f997bb",
     "locked": true,
     "points": 2,
     "schema_version": 3,
     "solution": false,
     "task": false
    }
   },
   "outputs": [],
   "source": [
    "#### Please do not change this. This cell is used for grading."
   ]
  },
  {
   "cell_type": "code",
   "execution_count": 40,
   "metadata": {
    "deletable": false,
    "editable": false,
    "nbgrader": {
     "cell_type": "code",
     "checksum": "875a4a517d27e20625d41783cebec118",
     "grade": true,
     "grade_id": "cell-5ce2993458a8ce51",
     "locked": true,
     "points": 3,
     "schema_version": 3,
     "solution": false,
     "task": false
    }
   },
   "outputs": [],
   "source": [
    "#### Please do not change this. This cell is used for grading."
   ]
  },
  {
   "cell_type": "code",
   "execution_count": 41,
   "metadata": {
    "deletable": false,
    "editable": false,
    "nbgrader": {
     "cell_type": "code",
     "checksum": "d5c4e1c3852e71a46f32825b122f1b71",
     "grade": true,
     "grade_id": "cell-7753bdb54e292f3d",
     "locked": true,
     "points": 3,
     "schema_version": 3,
     "solution": false,
     "task": false
    }
   },
   "outputs": [],
   "source": [
    "#### Please do not change this. This cell is used for grading."
   ]
  },
  {
   "cell_type": "code",
   "execution_count": 42,
   "metadata": {
    "deletable": false,
    "editable": false,
    "nbgrader": {
     "cell_type": "code",
     "checksum": "c4d4332d4356e89ce0240f6b80e1899a",
     "grade": true,
     "grade_id": "cell-54e476e2f96e64bb",
     "locked": true,
     "points": 4,
     "schema_version": 3,
     "solution": false,
     "task": false
    }
   },
   "outputs": [],
   "source": [
    "#### Please do not change this. This cell is used for grading."
   ]
  },
  {
   "cell_type": "markdown",
   "metadata": {
    "deletable": false,
    "editable": false,
    "nbgrader": {
     "cell_type": "markdown",
     "checksum": "8d739dc91a22bd48897f603885f95a74",
     "grade": false,
     "grade_id": "cell-5414dfd69dab8b94",
     "locked": true,
     "schema_version": 3,
     "solution": false,
     "task": false
    }
   },
   "source": [
    "---\n",
    "#### 3.3.2 QL (20 points)\n",
    "Now, let's implement a QL model that handles the issues with the naive version. In particular, you will implement a QL model with Jelinek-Mercer Smoothing. That means an interpolated score is computed per word - one term is the same as the previous naive version, and the second term comes from a unigram language model. In addition, you should accumulate the scores by summing the **log** (smoothed) probability which leads to better numerical stability."
   ]
  },
  {
   "cell_type": "code",
   "execution_count": 43,
   "metadata": {
    "deletable": false,
    "nbgrader": {
     "cell_type": "code",
     "checksum": "b8c6abf937ad333e628f1db891f2e29e",
     "grade": false,
     "grade_id": "cell-bb1f506409771257",
     "locked": false,
     "schema_version": 3,
     "solution": true,
     "task": false
    }
   },
   "outputs": [],
   "source": [
    "def ql_search(query, index_set):\n",
    "    \"\"\"\n",
    "        Perform a search over all documents with the given query using a QL model \n",
    "        with Jelinek-Mercer Smoothing (set smoothing=0.1). \n",
    "        \n",
    "        \n",
    "        Note #1: You have to use the `get_index` (and get_doc_lengths) function created in the previous cells\n",
    "        Note #2: You might have to create some variables beforehand and use them in this function\n",
    "        \n",
    "        \n",
    "        Input: \n",
    "            query - a (unprocessed) query\n",
    "            index_set - the index to use\n",
    "        Output: a list of (document_id, score), sorted in descending relevance to the given query \n",
    "    \"\"\"\n",
    "    \n",
    "    index = get_index(index_set)\n",
    "    doc_lengths = get_doc_lengths(index_set)\n",
    "    processed_query = preprocess_query(query, index_set)\n",
    "    \n",
    "    # YOUR CODE HERE\n",
    "    smoothing = 0.1\n",
    "    collection_length = sum(doc_lengths.values())\n",
    "    results = defaultdict(float)\n",
    "    \n",
    "    for term in processed_query:\n",
    "        tc_frequency = sum([tf for (doc_id, tf) in index[term]])\n",
    "        if tc_frequency == 0:\n",
    "            continue\n",
    "        \n",
    "        JM_smoothing = (1 - smoothing) * (tc_frequency / collection_length)\n",
    "        term_scores = {doc_id: np.log(JM_smoothing) for doc_id in doc_lengths}\n",
    "        \n",
    "        for (doc_id, tf) in index[term]:\n",
    "            term_scores[doc_id] = np.log(smoothing * (tf / doc_lengths[doc_id]) + JM_smoothing)\n",
    "\n",
    "        results = {doc_id: results[doc_id] + term_scores[doc_id] for doc_id in term_scores}\n",
    "    \n",
    "    return sorted(results.items(), key=lambda item: item[1], reverse=True)"
   ]
  },
  {
   "cell_type": "code",
   "execution_count": 44,
   "metadata": {
    "deletable": false,
    "editable": false,
    "nbgrader": {
     "cell_type": "code",
     "checksum": "0b12a7f3355193a257fd9f5f69a66562",
     "grade": true,
     "grade_id": "cell-850e9d6369bcec32",
     "locked": true,
     "points": 4,
     "schema_version": 3,
     "solution": false,
     "task": false
    }
   },
   "outputs": [
    {
     "name": "stdout",
     "output_type": "stream",
     "text": [
      "Rank 0(-3.9): A Report Writer For COBOL...\n",
      "Rank 1(-3.9): A CRT Report Generating System...\n",
      "Rank 2(-4.1): Preliminary Report-International Algebraic Languag...\n",
      "Rank 3(-4.1): Supplement to the ALGOL 60 Report...\n",
      "Rank 4(-4.2): ALGOL Sub-Committee Report - Extensions...\n",
      "\n",
      "Rank 0(-3.9e+01): A Report Writer For COBOL...\n",
      "Rank 1(-3.9e+01): A CRT Report Generating System...\n",
      "Rank 2(-4.1e+01): Preliminary Report-International Algebraic Languag...\n",
      "Rank 3(-4.1e+01): Supplement to the ALGOL 60 Report...\n",
      "Rank 4(-4.2e+01): ALGOL Sub-Committee Report - Extensions...\n"
     ]
    }
   ],
   "source": [
    "#### Function check\n",
    "test_ql_results = ql_search(\"report\", index_set=1)[:5]\n",
    "print_results(test_ql_results)\n",
    "print()\n",
    "test_ql_results_long = ql_search(\"report \" * 10, index_set=1)[:5]\n",
    "print_results(test_ql_results_long)\n",
    "####"
   ]
  },
  {
   "cell_type": "code",
   "execution_count": 45,
   "metadata": {
    "deletable": false,
    "editable": false,
    "nbgrader": {
     "cell_type": "code",
     "checksum": "e40be645140389c115849856145f5b59",
     "grade": true,
     "grade_id": "cell-958cdcf6fd6899b7",
     "locked": true,
     "points": 3,
     "schema_version": 3,
     "solution": false,
     "task": false
    }
   },
   "outputs": [],
   "source": [
    "#### Please do not change this. This cell is used for grading."
   ]
  },
  {
   "cell_type": "code",
   "execution_count": 46,
   "metadata": {
    "deletable": false,
    "editable": false,
    "nbgrader": {
     "cell_type": "code",
     "checksum": "41d4aff001df17e7963ba79b45810b30",
     "grade": true,
     "grade_id": "cell-384dc23a0c251f6e",
     "locked": true,
     "points": 4,
     "schema_version": 3,
     "solution": false,
     "task": false
    }
   },
   "outputs": [],
   "source": [
    "#### Please do not change this. This cell is used for grading."
   ]
  },
  {
   "cell_type": "code",
   "execution_count": 47,
   "metadata": {
    "deletable": false,
    "editable": false,
    "nbgrader": {
     "cell_type": "code",
     "checksum": "893e8c5a073abc8ebb763d267b91bc02",
     "grade": true,
     "grade_id": "cell-7218966cba5097cc",
     "locked": true,
     "points": 4,
     "schema_version": 3,
     "solution": false,
     "task": false
    }
   },
   "outputs": [],
   "source": [
    "#### Please do not change this. This cell is used for grading."
   ]
  },
  {
   "cell_type": "code",
   "execution_count": 48,
   "metadata": {
    "deletable": false,
    "editable": false,
    "nbgrader": {
     "cell_type": "code",
     "checksum": "f99cb6f8b1f5830aaed8f06712ff846e",
     "grade": true,
     "grade_id": "cell-481ab073259ae53f",
     "locked": true,
     "points": 5,
     "schema_version": 3,
     "solution": false,
     "task": false
    }
   },
   "outputs": [],
   "source": [
    "#### Please do not change this. This cell is used for grading."
   ]
  },
  {
   "cell_type": "markdown",
   "metadata": {
    "deletable": false,
    "editable": false,
    "nbgrader": {
     "cell_type": "markdown",
     "checksum": "c02f14705d679579b1aa9f78f54779d5",
     "grade": false,
     "grade_id": "cell-f44088bfdac1dc90",
     "locked": true,
     "schema_version": 3,
     "solution": false,
     "task": false
    }
   },
   "source": [
    "--- \n",
    "\n",
    "### Section 3.4: BM25 (20 points) <a class=\"anchor\" id=\"bm25\"></a>\n",
    "\n",
    "In this section, we will implement the BM25 scoring function. \n"
   ]
  },
  {
   "cell_type": "code",
   "execution_count": 49,
   "metadata": {
    "deletable": false,
    "nbgrader": {
     "cell_type": "code",
     "checksum": "e57efe06ea92af1c83784a42eb3d86e0",
     "grade": false,
     "grade_id": "cell-15640fc9b5d00a3c",
     "locked": false,
     "schema_version": 3,
     "solution": true,
     "task": false
    }
   },
   "outputs": [],
   "source": [
    "def bm25_search(query, index_set):\n",
    "    \"\"\"\n",
    "        Perform a search over all documents with the given query using BM25. Use k_1 = 1.5 and b = 0.75\n",
    "        Note #1: You have to use the `get_index` (and `get_doc_lengths`) function created in the previous cells\n",
    "        Note #2: You might have to create some variables beforehand and use them in this function\n",
    "        \n",
    "        Input: \n",
    "            query - a (unprocessed) query\n",
    "            index_set - the index to use\n",
    "        Output: a list of (document_id, score), sorted in descending relevance to the given query \n",
    "    \"\"\"\n",
    "    \n",
    "    index = get_index(index_set)\n",
    "    df = get_df(index_set)\n",
    "    doc_lengths = get_doc_lengths(index_set)\n",
    "    processed_query = preprocess_query(query, index_set)\n",
    "    \n",
    "    # YOUR CODE HERE\n",
    "    k_1, b = 1.5, 0.75\n",
    "    N = len(doc_lengths)\n",
    "    average_dl = np.mean(list(doc_lengths.values()))\n",
    "    results = defaultdict(float)\n",
    "    \n",
    "    for term in processed_query:\n",
    "        if df[term] == 0:\n",
    "            continue\n",
    "            \n",
    "        idf = np.log(N / df[term])\n",
    "        for (doc_id, tf) in index[term]:\n",
    "            num = (k_1 + 1) * tf\n",
    "            denom = k_1 * ((1 - b) + b * (doc_lengths[doc_id] / average_dl)) + tf\n",
    "            results[doc_id] += idf * (num / denom)\n",
    "            \n",
    "    return sorted(results.items(), key=lambda item: item[1], reverse=True)"
   ]
  },
  {
   "cell_type": "code",
   "execution_count": 50,
   "metadata": {
    "deletable": false,
    "editable": false,
    "nbgrader": {
     "cell_type": "code",
     "checksum": "4be9de5d4e94637960d83725422bea6c",
     "grade": true,
     "grade_id": "cell-d10536bca72c74b1",
     "locked": true,
     "points": 3,
     "schema_version": 3,
     "solution": false,
     "task": false
    }
   },
   "outputs": [
    {
     "name": "stdout",
     "output_type": "stream",
     "text": [
      "Rank 0(6.7): A Report Writer For COBOL...\n",
      "Rank 1(6.7): A CRT Report Generating System...\n",
      "Rank 2(6.6): Preliminary Report-International Algebraic Languag...\n",
      "Rank 3(6.6): Supplement to the ALGOL 60 Report...\n",
      "Rank 4(6.5): ALGOL Sub-Committee Report - Extensions...\n"
     ]
    }
   ],
   "source": [
    "#### Function check\n",
    "test_bm25_results = bm25_search(\"report\", index_set=1)[:5]\n",
    "print_results(test_bm25_results)\n",
    "####"
   ]
  },
  {
   "cell_type": "code",
   "execution_count": 51,
   "metadata": {
    "deletable": false,
    "editable": false,
    "nbgrader": {
     "cell_type": "code",
     "checksum": "31b550d6a46ae4f8ede88788799ac2b9",
     "grade": true,
     "grade_id": "cell-60f6ec5052712d79",
     "locked": true,
     "points": 5,
     "schema_version": 3,
     "solution": false,
     "task": false
    }
   },
   "outputs": [],
   "source": [
    "#### Please do not change this. This cell is used for grading."
   ]
  },
  {
   "cell_type": "code",
   "execution_count": 52,
   "metadata": {
    "deletable": false,
    "editable": false,
    "nbgrader": {
     "cell_type": "code",
     "checksum": "3da2ec16bfe781916e71755d65aa2983",
     "grade": true,
     "grade_id": "cell-5d17524043a5abcc",
     "locked": true,
     "points": 5,
     "schema_version": 3,
     "solution": false,
     "task": false
    }
   },
   "outputs": [],
   "source": [
    "#### Please do not change this. This cell is used for grading."
   ]
  },
  {
   "cell_type": "code",
   "execution_count": 53,
   "metadata": {
    "deletable": false,
    "editable": false,
    "nbgrader": {
     "cell_type": "code",
     "checksum": "e7b563d54fa84c20909c0ae107010541",
     "grade": true,
     "grade_id": "cell-ff8e704eda1184e3",
     "locked": true,
     "points": 3,
     "schema_version": 3,
     "solution": false,
     "task": false
    }
   },
   "outputs": [],
   "source": [
    "#### Please do not change this. This cell is used for grading."
   ]
  },
  {
   "cell_type": "code",
   "execution_count": 54,
   "metadata": {
    "deletable": false,
    "editable": false,
    "nbgrader": {
     "cell_type": "code",
     "checksum": "b013f90974b396630a8831d6f1d7e5f7",
     "grade": true,
     "grade_id": "cell-a52310500a2543cb",
     "locked": true,
     "points": 4,
     "schema_version": 3,
     "solution": false,
     "task": false
    }
   },
   "outputs": [],
   "source": [
    "#### Please do not change this. This cell is used for grading."
   ]
  },
  {
   "cell_type": "markdown",
   "metadata": {
    "deletable": false,
    "editable": false,
    "nbgrader": {
     "cell_type": "markdown",
     "checksum": "8fcf67cb7d5e8b26cb9bf1f0aa42c847",
     "grade": false,
     "grade_id": "cell-8b2b412c81d62f2d",
     "locked": true,
     "schema_version": 3,
     "solution": false,
     "task": false
    }
   },
   "source": [
    "\n",
    "---\n",
    "\n",
    "### 3.5. Test Your Functions\n",
    "\n",
    "The widget below allows you to play with the search functions you've written so far. Use this to test your search functions and ensure that they work as expected."
   ]
  },
  {
   "cell_type": "code",
   "execution_count": 55,
   "metadata": {
    "deletable": false,
    "editable": false,
    "nbgrader": {
     "cell_type": "code",
     "checksum": "dfeb204b390acc0794dbdcac92b0cf2c",
     "grade": false,
     "grade_id": "cell-c9c2bb76354e8d97",
     "locked": true,
     "schema_version": 3,
     "solution": false,
     "task": false
    }
   },
   "outputs": [],
   "source": [
    "#### Highlighter function\n",
    "# class for results\n",
    "ResultRow = namedtuple(\"ResultRow\", [\"doc_id\", \"snippet\", \"score\"])\n",
    "# doc_id -> doc\n",
    "docs_by_id = dict((d[0], d[1]) for d in docs)\n",
    "\n",
    "def highlight_text(document, query, tol=17):\n",
    "    import re\n",
    "    tokens = tokenize(query)\n",
    "    regex = \"|\".join(f\"(\\\\b{t}\\\\b)\" for t in tokens)\n",
    "    regex = re.compile(regex, flags=re.IGNORECASE)\n",
    "    output = \"\"\n",
    "    i = 0\n",
    "    for m in regex.finditer(document):\n",
    "        start_idx = max(0, m.start() - tol)\n",
    "        end_idx = min(len(document), m.end() + tol)\n",
    "        output += \"\".join([\"...\",\n",
    "                        document[start_idx:m.start()],\n",
    "                        \"<strong>\",\n",
    "                        document[m.start():m.end()],\n",
    "                        \"</strong>\",\n",
    "                        document[m.end():end_idx],\n",
    "                        \"...\"])\n",
    "    return output.replace(\"\\n\", \" \")\n",
    "\n",
    "\n",
    "def make_results(query, search_fn, index_set):\n",
    "    results = []\n",
    "    for doc_id, score in search_fn(query, index_set):\n",
    "        highlight = highlight_text(docs_by_id[doc_id], query)\n",
    "        if len(highlight.strip()) == 0:\n",
    "            highlight = docs_by_id[doc_id]\n",
    "        results.append(ResultRow(doc_id, highlight, score))\n",
    "    return results\n",
    "####"
   ]
  },
  {
   "cell_type": "code",
   "execution_count": 56,
   "metadata": {},
   "outputs": [
    {
     "data": {
      "application/vnd.jupyter.widget-view+json": {
       "model_id": "95dbec385bcc4c198fa011633e35f8a7",
       "version_major": 2,
       "version_minor": 0
      },
      "text/plain": [
       "Text(value='', description='Search Bar')"
      ]
     },
     "metadata": {},
     "output_type": "display_data"
    }
   ],
   "source": [
    "# TODO: Set this to the function you want to test!\n",
    "# this function should take in a query (string)\n",
    "# and return a sorted list of (doc_id, score) \n",
    "# with the most relevant document in the first position\n",
    "search_fn = bm25_search\n",
    "index_set = 1\n",
    "\n",
    "text = widgets.Text(description=\"Search Bar\", width=200)\n",
    "display(text)\n",
    "\n",
    "def handle_submit(sender):\n",
    "    print(f\"Searching for: '{sender.value}'\")\n",
    "    \n",
    "    results = make_results(sender.value, search_fn, index_set)\n",
    "    \n",
    "    # display only the top 5\n",
    "    results = results[:5]\n",
    "    \n",
    "    body = \"\"\n",
    "    for idx, r in enumerate(results):\n",
    "        body += f\"<li>Document #{r.doc_id}({r.score}): {r.snippet}</li>\"\n",
    "    display(HTML(f\"<ul>{body}</ul>\"))\n",
    "    \n",
    "\n",
    "text.on_submit(handle_submit)"
   ]
  },
  {
   "cell_type": "markdown",
   "metadata": {
    "deletable": false,
    "editable": false,
    "nbgrader": {
     "cell_type": "markdown",
     "checksum": "b315c280048a50e8bad7d6250f6f39d1",
     "grade": false,
     "grade_id": "cell-8d46fe8e4f3d8cdb",
     "locked": true,
     "schema_version": 3,
     "solution": false,
     "task": false
    }
   },
   "source": [
    "---\n",
    "\n",
    "## Section 4: Evaluation (40 points) <a class=\"anchor\" id=\"evaluation\"></a>\n",
    "\n",
    "[Back to Part 1](#part1)\n",
    "\n",
    "Before we jump in and implement an algorithm for retrieval, we first have to learn how to evaluate such a system. In particular, we will work with offline evaluation metrics. These metrics are computed on a dataset with known relevance judgements.\n",
    "\n",
    "Implement the following evaluation metrics. \n",
    "\n",
    "1. Precision (7 points)\n",
    "2. Recall (7 points)\n",
    "3. Mean Average Precision (12 points)\n",
    "4. Expected Reciprocal Rank (12 points)"
   ]
  },
  {
   "cell_type": "markdown",
   "metadata": {
    "deletable": false,
    "editable": false,
    "nbgrader": {
     "cell_type": "markdown",
     "checksum": "82e90076c51893e31fec5c40c49d1828",
     "grade": false,
     "grade_id": "cell-3419fd3bc663d7cc",
     "locked": true,
     "schema_version": 3,
     "solution": false,
     "task": false
    }
   },
   "source": [
    "---\n",
    "### 4.1 Read relevance labels (2 points)\n",
    "\n",
    "Let's take a look at the `qrels.text` file, which contains the ground truth relevance scores. The relevance labels for CACM are binary - either 0 or 1. \n"
   ]
  },
  {
   "cell_type": "code",
   "execution_count": 57,
   "metadata": {
    "deletable": false,
    "editable": false,
    "nbgrader": {
     "cell_type": "code",
     "checksum": "6c11025f5a222796f2882c73c1634799",
     "grade": false,
     "grade_id": "cell-6b738366059dde9e",
     "locked": true,
     "schema_version": 3,
     "solution": false,
     "task": false
    }
   },
   "outputs": [
    {
     "name": "stdout",
     "output_type": "stream",
     "text": [
      "01 1410  0 0\r\n",
      "01 1572  0 0\r\n",
      "01 1605  0 0\r\n",
      "01 2020  0 0\r\n",
      "01 2358  0 0\r\n",
      "02 2434  0 0\r\n",
      "02 2863  0 0\r\n",
      "02 3078  0 0\r\n",
      "03 1134  0 0\r\n",
      "03 1613  0 0\r\n"
     ]
    }
   ],
   "source": [
    "!head ./datasets/qrels.text"
   ]
  },
  {
   "cell_type": "markdown",
   "metadata": {
    "deletable": false,
    "editable": false,
    "nbgrader": {
     "cell_type": "markdown",
     "checksum": "e77d7cc6aae69fdbadb5ac9f78f8a560",
     "grade": false,
     "grade_id": "cell-10e16bff2753ffbb",
     "locked": true,
     "schema_version": 3,
     "solution": false,
     "task": false
    }
   },
   "source": [
    "---\n",
    "**Implementation (2 points):**\n",
    "The first column is the query_id and the second column is the document_id. You can safely ignore the 3rd and 4th columns. Write a function to read in the file:"
   ]
  },
  {
   "cell_type": "code",
   "execution_count": 58,
   "metadata": {
    "deletable": false,
    "nbgrader": {
     "cell_type": "code",
     "checksum": "ef347565a0990ddbd049835105753d59",
     "grade": false,
     "grade_id": "cell-ee5253a4ef602fce",
     "locked": false,
     "schema_version": 3,
     "solution": true,
     "task": false
    }
   },
   "outputs": [],
   "source": [
    "def read_qrels(root_folder = \"./datasets/\"):\n",
    "    \"\"\"\n",
    "        Reads the qrels.text file. \n",
    "        Output: A dictionary: query_id -> [list of relevant documents]\n",
    "    \"\"\"\n",
    "    # YOUR CODE HERE\n",
    "    qrels = defaultdict(list)\n",
    "    with open(root_folder + \"qrels.text\", \"r\") as f:\n",
    "        for line in f:\n",
    "            ids = tokenize(line)[0:2]\n",
    "            query_id = ids[0].lstrip('0')\n",
    "            document_id = ids[1].lstrip('0')\n",
    "            qrels[int(query_id)].append(int(document_id))\n",
    "    \n",
    "    return qrels"
   ]
  },
  {
   "cell_type": "code",
   "execution_count": 59,
   "metadata": {
    "deletable": false,
    "editable": false,
    "nbgrader": {
     "cell_type": "code",
     "checksum": "6a258a834392cc8cbf8af5d4ccdee81f",
     "grade": true,
     "grade_id": "cell-72215605fbe24f65",
     "locked": true,
     "points": 2,
     "schema_version": 3,
     "solution": false,
     "task": false
    }
   },
   "outputs": [],
   "source": [
    "#### Function check\n",
    "qrels = read_qrels()\n",
    "\n",
    "assert len(qrels) == 52, \"There should be 52 queries with relevance judgements\"\n",
    "assert sum(len(j) for j in qrels.values()) == 796, \"There should be a total of 796 Relevance Judgements\"\n",
    "####"
   ]
  },
  {
   "cell_type": "markdown",
   "metadata": {
    "deletable": false,
    "editable": false,
    "nbgrader": {
     "cell_type": "markdown",
     "checksum": "6c9e7428a52e291a2cdf92a379730d4c",
     "grade": false,
     "grade_id": "cell-176a6fb2939d0420",
     "locked": true,
     "schema_version": 3,
     "solution": false,
     "task": false
    }
   },
   "source": [
    "---\n",
    "**Note:** For a given query `query_id`, you can assume that documents *not* in `qrels[query_id]` are not relevant to `query_id`. \n"
   ]
  },
  {
   "cell_type": "markdown",
   "metadata": {
    "deletable": false,
    "editable": false,
    "nbgrader": {
     "cell_type": "markdown",
     "checksum": "b26a818c7b4f7ad490e00b35ea0edd69",
     "grade": false,
     "grade_id": "cell-bd8341b72cdd89bb",
     "locked": true,
     "schema_version": 3,
     "solution": false,
     "task": false
    }
   },
   "source": [
    "---\n",
    "### 4.2 Precision (7 points)\n",
    "Implement the `precision@k` metric:"
   ]
  },
  {
   "cell_type": "code",
   "execution_count": 60,
   "metadata": {
    "deletable": false,
    "nbgrader": {
     "cell_type": "code",
     "checksum": "ad3cc3234a361d269ecb6b59cc447e9f",
     "grade": false,
     "grade_id": "cell-494bd0cce108ed67",
     "locked": false,
     "schema_version": 3,
     "solution": true,
     "task": false
    }
   },
   "outputs": [],
   "source": [
    "def precision_k(results, relevant_docs, k):\n",
    "    \"\"\"\n",
    "        Compute Precision@K\n",
    "        Input: \n",
    "            results: A sorted list of 2-tuples (document_id, score), \n",
    "                    with the most relevant document in the first position\n",
    "            relevant_docs: A set of relevant documents. \n",
    "            k: the cut-off\n",
    "        Output: Precision@K\n",
    "    \"\"\"\n",
    "    # YOUR CODE HERE\n",
    "    k_results = set(doc[0] for doc in results[:k])\n",
    "    tp = len(k_results & set(relevant_docs))\n",
    "   \n",
    "    return tp / k "
   ]
  },
  {
   "cell_type": "code",
   "execution_count": 61,
   "metadata": {
    "deletable": false,
    "editable": false,
    "nbgrader": {
     "cell_type": "code",
     "checksum": "964b214dbfff8fc53cada864019ee863",
     "grade": true,
     "grade_id": "cell-e7ff0d91c319ca64",
     "locked": true,
     "points": 7,
     "schema_version": 3,
     "solution": false,
     "task": false
    }
   },
   "outputs": [
    {
     "name": "stdout",
     "output_type": "stream",
     "text": [
      "query: What articles exist which deal with TSS (Time Sharing System), an operating system for IBM computers?\n",
      "precision@10 = 0.2\n"
     ]
    }
   ],
   "source": [
    "#### Function check\n",
    "qid = queries[0][0]\n",
    "qtext = queries[0][1]\n",
    "print(f'query:{qtext}')\n",
    "results = bm25_search(qtext, 2)\n",
    "precision = precision_k(results, qrels[qid], 10)\n",
    "print(f'precision@10 = {precision}')\n",
    "####"
   ]
  },
  {
   "cell_type": "markdown",
   "metadata": {
    "deletable": false,
    "editable": false,
    "nbgrader": {
     "cell_type": "markdown",
     "checksum": "8fd3b3998197c7097a40348500affb68",
     "grade": false,
     "grade_id": "cell-afd95f865bc7191e",
     "locked": true,
     "schema_version": 3,
     "solution": false,
     "task": false
    }
   },
   "source": [
    "---\n",
    "### 4.3 Recall (7 points)\n",
    "Implement the `recall@k` metric:"
   ]
  },
  {
   "cell_type": "code",
   "execution_count": 62,
   "metadata": {
    "deletable": false,
    "nbgrader": {
     "cell_type": "code",
     "checksum": "b2020e5741ae03b3fe35817ed8f4ccaa",
     "grade": false,
     "grade_id": "cell-c323fc8c3f8a7cf8",
     "locked": false,
     "schema_version": 3,
     "solution": true,
     "task": false
    }
   },
   "outputs": [],
   "source": [
    "def recall_k(results, relevant_docs, k):\n",
    "    \"\"\"\n",
    "        Compute Recall@K\n",
    "        Input: \n",
    "            results: A sorted list of 2-tuples (document_id, score), with the most relevant document in the first position\n",
    "            relevant_docs: A set of relevant documents. \n",
    "            k: the cut-off\n",
    "        Output: Recall@K\n",
    "    \"\"\"\n",
    "    # YOUR CODE HERE\n",
    "    k_results = set(doc[0] for doc in results[:k])\n",
    "    tp = len(k_results & set(relevant_docs))\n",
    "    fn = len(relevant_docs) - tp\n",
    "\n",
    "    return tp / (tp + fn)"
   ]
  },
  {
   "cell_type": "code",
   "execution_count": 63,
   "metadata": {
    "deletable": false,
    "editable": false,
    "nbgrader": {
     "cell_type": "code",
     "checksum": "56b6e0b8522f8b2dffbfb3206b2efa84",
     "grade": true,
     "grade_id": "cell-b25172161aef165c",
     "locked": true,
     "points": 7,
     "schema_version": 3,
     "solution": false,
     "task": false
    }
   },
   "outputs": [
    {
     "name": "stdout",
     "output_type": "stream",
     "text": [
      "query: SETL, Very High Level Languages\n",
      "recall@10 = 0.3157894736842105\n"
     ]
    }
   ],
   "source": [
    "#### Function check\n",
    "qid = queries[10][0]\n",
    "qtext = queries[10][1]\n",
    "print(f'query:{qtext}')\n",
    "results = bm25_search(qtext, 2)\n",
    "recall = recall_k(results, qrels[qid], 10)\n",
    "print(f'recall@10 = {recall}')\n",
    "####"
   ]
  },
  {
   "cell_type": "markdown",
   "metadata": {
    "deletable": false,
    "editable": false,
    "nbgrader": {
     "cell_type": "markdown",
     "checksum": "d43c63fa38f333e0b52d41639b2655f7",
     "grade": false,
     "grade_id": "cell-77fd2e7a39a74739",
     "locked": true,
     "schema_version": 3,
     "solution": false,
     "task": false
    }
   },
   "source": [
    "---\n",
    "### 4.4 Mean Average Precision (12 points)\n",
    "Implement the `map` metric:"
   ]
  },
  {
   "cell_type": "code",
   "execution_count": 64,
   "metadata": {
    "deletable": false,
    "nbgrader": {
     "cell_type": "code",
     "checksum": "aae2c62f2ffd76f5b6c004e9519b9f14",
     "grade": false,
     "grade_id": "cell-e50925fa9093a30d",
     "locked": false,
     "schema_version": 3,
     "solution": true,
     "task": false
    }
   },
   "outputs": [],
   "source": [
    "def average_precision(results, relevant_docs):\n",
    "    \"\"\"\n",
    "        Compute Average Precision (for a single query - the results are \n",
    "        averaged across queries to get MAP in the next few cells)\n",
    "        Hint: You can use the recall_k and precision_k functions here!\n",
    "        Input: \n",
    "            results: A sorted list of 2-tuples (document_id, score), with the most \n",
    "                    relevant document in the first position\n",
    "            relevant_docs: A set of relevant documents. \n",
    "        Output: Average Precision\n",
    "    \"\"\"\n",
    "    # YOUR CODE HERE\n",
    "    tp, ap = 0, 0\n",
    "    \n",
    "    for i, (doc_id, _) in enumerate(results):\n",
    "        if doc_id in relevant_docs:\n",
    "            tp += 1\n",
    "            ap += tp / (i+1)\n",
    "    \n",
    "    return(ap / len(relevant_docs))\n"
   ]
  },
  {
   "cell_type": "code",
   "execution_count": 65,
   "metadata": {
    "deletable": false,
    "editable": false,
    "nbgrader": {
     "cell_type": "code",
     "checksum": "5db8cb2dfd3a77554f4147b409f47f38",
     "grade": true,
     "grade_id": "cell-8a1f7ec98571e58b",
     "locked": true,
     "points": 12,
     "schema_version": 3,
     "solution": false,
     "task": false
    }
   },
   "outputs": [
    {
     "name": "stdout",
     "output_type": "stream",
     "text": [
      "query: computational complexity, intractability, class-complete reductions, algorithms and efficiency\n",
      "MAP = 0.17240404110559454\n"
     ]
    }
   ],
   "source": [
    "#### Function check\n",
    "qid = queries[20][0]\n",
    "qtext = queries[20][1]\n",
    "print(f'query:{qtext}')\n",
    "results = bm25_search(qtext, 2)\n",
    "mean_ap = average_precision(results, qrels[qid])\n",
    "print(f'MAP = {mean_ap}')\n",
    "####"
   ]
  },
  {
   "cell_type": "markdown",
   "metadata": {
    "deletable": false,
    "editable": false,
    "nbgrader": {
     "cell_type": "markdown",
     "checksum": "cb645b79d04cc3eed33ca060a5e7bf0f",
     "grade": false,
     "grade_id": "cell-1da18f0fe6f6d7be",
     "locked": true,
     "schema_version": 3,
     "solution": false,
     "task": false
    }
   },
   "source": [
    "---\n",
    "### 4.5 Expected Reciprocal Rank (12 points)\n",
    "Implement the `err` metric:"
   ]
  },
  {
   "cell_type": "code",
   "execution_count": 66,
   "metadata": {
    "deletable": false,
    "nbgrader": {
     "cell_type": "code",
     "checksum": "9ac94db728e23ea1f5dc0d509473c6fb",
     "grade": false,
     "grade_id": "cell-64262889f9b267ea",
     "locked": false,
     "schema_version": 3,
     "solution": true,
     "task": false
    }
   },
   "outputs": [],
   "source": [
    "def err(results, relevant_docs):\n",
    "    \"\"\"\n",
    "        Compute the expected reciprocal rank.\n",
    "        Hint: https://dl.acm.org/doi/pdf/10.1145/1645953.1646033?download=true\n",
    "        Input: \n",
    "            results: A sorted list of 2-tuples (document_id, score), with the most \n",
    "                    relevant document in the first position\n",
    "            relevant_docs: A set of relevant documents. \n",
    "        Output: ERR\n",
    "        \n",
    "    \"\"\"\n",
    "    # YOUR CODE HERE\n",
    "    grade, max_grade = 1, 1\n",
    "    p, ERR = 1, 0\n",
    "    \n",
    "    for i, (doc_id, _) in enumerate(results):\n",
    "        if doc_id in relevant_docs:\n",
    "            R = (2**grade - 1) / 2**max_grade\n",
    "            ERR += p * R / (i+1)\n",
    "            p *= (1 - R)\n",
    "    \n",
    "    return ERR         "
   ]
  },
  {
   "cell_type": "code",
   "execution_count": 67,
   "metadata": {
    "deletable": false,
    "editable": false,
    "nbgrader": {
     "cell_type": "code",
     "checksum": "eb97e6d89a0b992b642e4e0ff36ff9f5",
     "grade": true,
     "grade_id": "cell-071e3970ff1afae4",
     "locked": true,
     "points": 12,
     "schema_version": 3,
     "solution": false,
     "task": false
    }
   },
   "outputs": [
    {
     "name": "stdout",
     "output_type": "stream",
     "text": [
      "query: I'd like to find articles describing the use of singular value decomposition in digital image processing.  Applications include finding approximations to the original image and restoring images that are subject to noise. An article on the subject is H.C. Andrews and C.L. Patterson \"Outer product expansions and their uses in digital image processing\", American Mathematical Monthly, vol. 82.\n",
      "ERR = 0.625\n"
     ]
    }
   ],
   "source": [
    "#### Function check\n",
    "qid = queries[30][0]\n",
    "qtext = queries[30][1]\n",
    "print(f'query:{qtext}')\n",
    "results = bm25_search(qtext, 2)\n",
    "ERR = err(results, qrels[qid])\n",
    "print(f'ERR = {ERR}')\n",
    "####"
   ]
  },
  {
   "cell_type": "markdown",
   "metadata": {
    "deletable": false,
    "editable": false,
    "nbgrader": {
     "cell_type": "markdown",
     "checksum": "5bd94caf77cfa5f34675df758d91002d",
     "grade": false,
     "grade_id": "cell-43709a765f353946",
     "locked": true,
     "schema_version": 3,
     "solution": false,
     "task": false
    }
   },
   "source": [
    "---\n",
    "### 4.6 Evaluate Search Functions\n",
    "\n",
    "Let's define some metrics@k using [partial functions](https://docs.python.org/3/library/functools.html#functools.partial)"
   ]
  },
  {
   "cell_type": "code",
   "execution_count": 68,
   "metadata": {
    "deletable": false,
    "editable": false,
    "nbgrader": {
     "cell_type": "code",
     "checksum": "49ccc158e5fb7340ace55e90eeb9d62a",
     "grade": false,
     "grade_id": "cell-dab560e18e340da8",
     "locked": true,
     "schema_version": 3,
     "solution": false,
     "task": false
    }
   },
   "outputs": [],
   "source": [
    "#### metrics@k functions\n",
    "\n",
    "recall_at_1 = partial(recall_k, k=1)\n",
    "recall_at_5 = partial(recall_k, k=5)\n",
    "recall_at_10 = partial(recall_k, k=10)\n",
    "precision_at_1 = partial(precision_k, k=1)\n",
    "precision_at_5 = partial(precision_k, k=5)\n",
    "precision_at_10 = partial(precision_k, k=10)\n",
    "\n",
    "\n",
    "list_of_metrics = [\n",
    "    (\"ERR\", err),\n",
    "    (\"MAP\", average_precision),\n",
    "    (\"Recall@1\",recall_at_1),\n",
    "    (\"Recall@5\", recall_at_5),\n",
    "    (\"Recall@10\", recall_at_10),\n",
    "    (\"Precision@1\", precision_at_1),\n",
    "    (\"Precision@5\", precision_at_5),\n",
    "    (\"Precision@10\", precision_at_10)]\n",
    "####"
   ]
  },
  {
   "cell_type": "markdown",
   "metadata": {
    "deletable": false,
    "editable": false,
    "nbgrader": {
     "cell_type": "markdown",
     "checksum": "fb541002c03221b453b8936290020ea5",
     "grade": false,
     "grade_id": "cell-580a2bdc66d03b47",
     "locked": true,
     "schema_version": 3,
     "solution": false,
     "task": false
    }
   },
   "source": [
    "---\n",
    "\n",
    "The following function evaluates a `search_fn` using the `metric_fn`. Note that the final number is averaged over all the queries"
   ]
  },
  {
   "cell_type": "code",
   "execution_count": 69,
   "metadata": {},
   "outputs": [],
   "source": [
    "#### Evaluate a search function\n",
    "\n",
    "list_of_search_fns = [\n",
    "    (\"BOW\", bow_search),\n",
    "    (\"TF-IDF\", tfidf_search),\n",
    "    (\"NaiveQL\", naive_ql_search),\n",
    "    (\"QL\", ql_search),\n",
    "    (\"BM25\", bm25_search)\n",
    "]\n",
    "\n",
    "def evaluate_search_fn(search_fn, metric_fns, index_set=None):\n",
    "    # build a dict query_id -> query \n",
    "    queries_by_id = dict((q[0], q[1]) for q in queries)\n",
    "    \n",
    "    metrics = {}\n",
    "    for metric, metric_fn in metric_fns:\n",
    "        metrics[metric] = np.zeros(len(qrels), dtype=np.float32)\n",
    "    \n",
    "    for i, (query_id, relevant_docs) in enumerate(qrels.items()):\n",
    "        query = queries_by_id[query_id]\n",
    "        if index_set:\n",
    "            results = search_fn(query, index_set)\n",
    "        else:\n",
    "            results = search_fn(query)\n",
    "        \n",
    "        for metric, metric_fn in metric_fns:\n",
    "            metrics[metric][i] = metric_fn(results, relevant_docs)\n",
    "\n",
    "    final_dict = {}\n",
    "    for metric, metric_vals in metrics.items():\n",
    "        final_dict[metric] = metric_vals.mean()\n",
    "    \n",
    "    return final_dict\n",
    "####"
   ]
  },
  {
   "cell_type": "markdown",
   "metadata": {
    "deletable": false,
    "editable": false,
    "nbgrader": {
     "cell_type": "markdown",
     "checksum": "6ea67534f74a8f81e1f504794f641709",
     "grade": false,
     "grade_id": "cell-b156d83a0649cbb4",
     "locked": true,
     "schema_version": 3,
     "solution": false,
     "task": false
    }
   },
   "source": [
    "## Section 5: Analysis (30 points) <a class=\"anchor\" id=\"analysis\"></a>\n",
    "\n",
    "[Back to Part 1](#part1)\n",
    "\n",
    "In the final section of Part1, we will compare the different term-based IR algorithms and different preprocessing configurations and analyze their advantages and disadvantages.\n",
    "\n",
    "### Section 5.1: Plot (20 points)\n",
    "\n",
    "First, gather the results. The results should consider the index set, the different search functions and different metrics. Plot the results in bar charts, per metric, with clear labels.\n",
    "\n",
    "**Rubric:**\n",
    "- Each Metric is plotted: 7 points\n",
    "- Each Method is plotted: 7 points\n",
    "- Clear titles, x label, y labels and legends (if applicable): 6 points"
   ]
  },
  {
   "cell_type": "code",
   "execution_count": 70,
   "metadata": {
    "deletable": false,
    "nbgrader": {
     "cell_type": "code",
     "checksum": "7e2588a925d13ddf588abe8311dc9cfc",
     "grade": true,
     "grade_id": "cell-46fda42a25863a04",
     "locked": false,
     "points": 20,
     "schema_version": 3,
     "solution": true,
     "task": false
    },
    "scrolled": false
   },
   "outputs": [
    {
     "data": {
      "image/png": "[encoded data removed]",
      "text/plain": [
       "<Figure size 432x288 with 1 Axes>"
      ]
     },
     "metadata": {
      "needs_background": "light"
     },
     "output_type": "display_data"
    },
    {
     "data": {
      "image/png": "[encoded data removed]",
      "text/plain": [
       "<Figure size 432x288 with 1 Axes>"
      ]
     },
     "metadata": {
      "needs_background": "light"
     },
     "output_type": "display_data"
    },
    {
     "data": {
      "image/png": "[encoded data removed]",
      "text/plain": [
       "<Figure size 432x288 with 1 Axes>"
      ]
     },
     "metadata": {
      "needs_background": "light"
     },
     "output_type": "display_data"
    },
    {
     "data": {
      "image/png": "[encoded data removed]",
      "text/plain": [
       "<Figure size 432x288 with 1 Axes>"
      ]
     },
     "metadata": {
      "needs_background": "light"
     },
     "output_type": "display_data"
    },
    {
     "data": {
      "image/png": "[encoded data removed]",
      "text/plain": [
       "<Figure size 432x288 with 1 Axes>"
      ]
     },
     "metadata": {
      "needs_background": "light"
     },
     "output_type": "display_data"
    },
    {
     "data": {
      "image/png": "[encoded data removed]",
      "text/plain": [
       "<Figure size 432x288 with 1 Axes>"
      ]
     },
     "metadata": {
      "needs_background": "light"
     },
     "output_type": "display_data"
    },
    {
     "data": {
      "image/png": "[encoded data removed]",
      "text/plain": [
       "<Figure size 432x288 with 1 Axes>"
      ]
     },
     "metadata": {
      "needs_background": "light"
     },
     "output_type": "display_data"
    },
    {
     "data": {
      "image/png": "[encoded data removed]",
      "text/plain": [
       "<Figure size 432x288 with 1 Axes>"
      ]
     },
     "metadata": {
      "needs_background": "light"
     },
     "output_type": "display_data"
    }
   ],
   "source": [
    "# YOUR CODE HERE\n",
    "evaluations_1 = {}\n",
    "for search_fn in list_of_search_fns:\n",
    "    evaluations_1[search_fn[0]] = evaluate_search_fn(search_fn[1], list_of_metrics, index_set=1)\n",
    "\n",
    "evaluations_2 = {}\n",
    "for search_fn in list_of_search_fns:\n",
    "    evaluations_2[search_fn[0]] = evaluate_search_fn(search_fn[1], list_of_metrics, index_set=2)\n",
    "\n",
    "width = 0.35\n",
    "x_index_1 = np.arange(len(list_of_search_fns))\n",
    "x_index_2 = [x + width for x in x_index_1]\n",
    "\n",
    "for metric in list_of_metrics:\n",
    "    eval_1 = [evaluations_1[search_fn[0]][metric[0]] for search_fn in list_of_search_fns]\n",
    "    eval_2 = [evaluations_2[search_fn[0]][metric[0]] for search_fn in list_of_search_fns]\n",
    "        \n",
    "    plt.bar(x_index_1, eval_1, width, color='#1f77b4')\n",
    "    plt.bar(x_index_2, eval_2, width, color='#ff7f0e') \n",
    "    plt.xticks([x + width/2 for x in range(len(list_of_search_fns))], [search_fn[0] for search_fn in list_of_search_fns])\n",
    "    \n",
    "    plt.title(metric[0])\n",
    "    plt.ylabel(\"Score\")\n",
    "    plt.legend([\"Index 1\", \"Index 2\"])\n",
    "    plt.show()\n",
    "\n",
    "plt.show()"
   ]
  },
  {
   "cell_type": "markdown",
   "metadata": {
    "deletable": false,
    "editable": false,
    "nbgrader": {
     "cell_type": "markdown",
     "checksum": "e88c444a0acf4e398c65e289169b75f7",
     "grade": false,
     "grade_id": "cell-8aabe3bcf265deb0",
     "locked": true,
     "points": 10,
     "schema_version": 3,
     "solution": false,
     "task": true
    }
   },
   "source": [
    "---\n",
    "### Section 5.2: Summary (10 points)\n",
    "Write a summary of what you observe in the results.\n",
    "Your summary should compare results across the 2 indices and the methods being used. State what you expected to see in the results, followed by either supporting evidence *or* justify why the results did not support your expectations.      "
   ]
  },
  {
   "cell_type": "markdown",
   "metadata": {},
   "source": [
    "We expected index 2 to perform better overall, the main reason would be due to the use of stemming. As stemming removes suffixes, words that may have the same meaning but are of a different form can now be matched more easily, this should be especially noticable in recall. However we notice that in all measures the impact of stemming and stop-word removal is similarly benificial. Stop-word removal would be especially useful for all the methods that use the relative frequence of a term in order to establish its representative power. \n",
    "\n",
    "We expected the language modelling methods to allow for better representations of documents and queries, resulting in improved matching. While it was obvious that QL needs smoothing, once applied if perform well even against BM25 which beats all methods on all metrics.\n",
    "\n",
    "For the Bag-of-Words model, we used the term frequency based approach, rather than the binary approach. This makes it more comparable to TF-IDF, because the main difference between BoW and TF-IDF is IDF, which increases the importance of the word based on how often it occurs in the collection. The intuition is that rare words are more representative, and we can see that the TF-IDF model performs substantially better than the term frequency based BoW model, likely because common words that aren't indicative are given a higher score to documents irrelevant to the user query."
   ]
  },
  {
   "cell_type": "markdown",
   "metadata": {
    "deletable": false,
    "editable": false,
    "nbgrader": {
     "cell_type": "markdown",
     "checksum": "b3eb77be74eecca205fc7b47316d1627",
     "grade": false,
     "grade_id": "cell-bb60dd5c092d0f2e",
     "locked": true,
     "schema_version": 3,
     "solution": false,
     "task": false
    }
   },
   "source": [
    "---\n",
    "---\n",
    "# Part 2: Semantic-based Matching (85 points) <a class=\"anchor\" id=\"part2\"></a>\n",
    "\n",
    "[Back to top](#top)\n",
    "\n",
    "We will now experiment with methods that go beyond lexical methods like TF-IDF, which operate at the word level and are high dimensional and sparse, and look at methods which constructs low dimensional dense representations of queries and documents. \n",
    "\n",
    "Since these low-dimensional methods have a higher time complexity, they are typically used in conjunction with methods like BM-25. That is, instead of searching through potentially million documents to find matches using low dimensional vectors, a list of K documents are retrieved using BM25, and then **re-ranked** using the other method. This is the method that is going to be applied in the following exercises. \n",
    "\n",
    "LSI/LDA takes documents that are similar on a semantic level - for instance, if they are describing the same topic - and projects them into nearby vectors, despite having low lexical overlap.\n",
    "\n",
    "In this assignment, you will use `gensim` to create LSI/LDA models and use them in re-ranking. \n",
    "\n",
    "**Note**: The following exercises only uses `doc_repr_2` and `config_2`\n",
    "\n",
    "Table of contents:\n",
    "- [Section 6: LSI](#lsi) (15 points)\n",
    "- [Section 7: LDA](#lda) (10 points)\n",
    "- [Section 8: Word2Vec/Doc2Vec](#2vec) (20 points)\n",
    "- [Section 8: Re-ranking](#reranking) (10 points)\n",
    "- [Section 9: Re-ranking Evaluation](#reranking_eval) (30 points)"
   ]
  },
  {
   "cell_type": "markdown",
   "metadata": {
    "deletable": false,
    "editable": false,
    "nbgrader": {
     "cell_type": "markdown",
     "checksum": "f7c7b2cab82f576ed0acf836ca57171c",
     "grade": false,
     "grade_id": "cell-6b2c81e7a8abd180",
     "locked": true,
     "schema_version": 3,
     "solution": false,
     "task": false
    }
   },
   "source": [
    "---\n",
    "## Section 6: Latent Semantic Indexing (LSI) (15 points) <a class=\"anchor\" id=\"lsi\"></a>\n",
    "\n",
    "[Back to Part 2](#part2)\n",
    "\n",
    "LSI is one of the methods to embed the queries and documents into vectors. It is based on a method similar to Principal Component Analysis (PCA) for obtaining a dense concept matrix out of the sparse term-document matrix.\n",
    "\n",
    "See [wikipedia](https://en.wikipedia.org/wiki/Latent_semantic_analysis), particularly [#Mathematics_of_LSI](https://en.wikipedia.org/wiki/Latent_semantic_analysis#Mathematics_of_LSI)."
   ]
  },
  {
   "cell_type": "code",
   "execution_count": 71,
   "metadata": {
    "deletable": false,
    "editable": false,
    "nbgrader": {
     "cell_type": "code",
     "checksum": "c17ee75319cb517e2bf48ec3d9efc329",
     "grade": false,
     "grade_id": "cell-59913daee47f680d",
     "locked": true,
     "schema_version": 3,
     "solution": false,
     "task": false
    }
   },
   "outputs": [],
   "source": [
    "from gensim.corpora import Dictionary\n",
    "from gensim.models import LdaModel, LsiModel, Word2Vec\n",
    "from gensim.models.doc2vec import Doc2Vec, TaggedDocument\n",
    "from gensim import downloader as g_downloader\n",
    "# gensim uses logging, so set it up \n",
    "import logging\n",
    "logging.basicConfig(format='%(asctime)s : %(levelname)s : %(message)s', level=logging.INFO)"
   ]
  },
  {
   "cell_type": "markdown",
   "metadata": {
    "deletable": false,
    "editable": false,
    "nbgrader": {
     "cell_type": "markdown",
     "checksum": "5fce140c546759b54a9fc060901ae77c",
     "grade": false,
     "grade_id": "cell-3644faff4976598a",
     "locked": true,
     "schema_version": 3,
     "solution": false,
     "task": false
    }
   },
   "source": [
    "---\n",
    "### Section 6.1: Cosine Similarity (5 points)<a class=\"anchor\" id=\"cosing_sim\"></a>\n",
    "Before we begin, let us first define our method of similarity for the LSI model, the cosine similarity:\n",
    "\n",
    "$$\\text{similarity} = \\cos(\\theta) = {\\mathbf{A} \\cdot \\mathbf{B} \\over \\|\\mathbf{A}\\| \\|\\mathbf{B}\\|} = \\frac{ \\sum\\limits_{i=1}^{n}{A_i  B_i} }{ \\sqrt{\\sum\\limits_{i=1}^{n}{A_i^2}}  \\sqrt{\\sum\\limits_{i=1}^{n}{B_i^2}} }$$\n",
    "\n",
    "Since we are using gensim, the types of vectors returned by their classes are of the form defined below (they are not just simple vectors):"
   ]
  },
  {
   "cell_type": "code",
   "execution_count": 72,
   "metadata": {
    "deletable": false,
    "editable": false,
    "nbgrader": {
     "cell_type": "code",
     "checksum": "4e340e1a1d546f430c018fd0760e707a",
     "grade": false,
     "grade_id": "cell-3995a50f951314d5",
     "locked": true,
     "schema_version": 3,
     "solution": false,
     "task": false
    }
   },
   "outputs": [],
   "source": [
    "# 1, 2, 3 are either latent dimensions (LSI), or topics (LDA)\n",
    "# The second value in each tuple is a number (LSI) or a probability (LDA)  \n",
    "example_vec_1 = [(1, 0.2), (2, 0.3), (3, 0.4)]\n",
    "example_vec_2 = [(1, 0.2), (2, 0.7), (3, 0.4)]"
   ]
  },
  {
   "cell_type": "markdown",
   "metadata": {
    "deletable": false,
    "editable": false,
    "nbgrader": {
     "cell_type": "markdown",
     "checksum": "20832fd4f579f49ae204b0efee02edd1",
     "grade": false,
     "grade_id": "cell-5e54d581858dc8f7",
     "locked": true,
     "schema_version": 3,
     "solution": false,
     "task": false
    }
   },
   "source": [
    "---\n",
    "**Implementation (2+3 points):**\n",
    "Now, implement the `dot product` operation on these types of vectors and using this operator, implement the `cosine similarity` (don't forget: two functions to implement!):"
   ]
  },
  {
   "cell_type": "code",
   "execution_count": 73,
   "metadata": {
    "deletable": false,
    "nbgrader": {
     "cell_type": "code",
     "checksum": "06a712ee75fc213a21c5f0067fd8fe28",
     "grade": false,
     "grade_id": "cell-0e8189f5f93de33f",
     "locked": false,
     "schema_version": 3,
     "solution": true,
     "task": false
    }
   },
   "outputs": [],
   "source": [
    "def dot(vec_1,vec_2): \n",
    "    \"\"\"\n",
    "        vec_1 and vec_2 are of the form: [(int, float), (int, float), ...]\n",
    "        Return the dot product of two such vectors, computed only on the floats\n",
    "        You can assume that the lengths of the vectors are the same, and the dimensions are aligned \n",
    "            i.e you won't get: vec_1 = [(1, 0.2)] ; vec_2 = [(2, 0.3)] \n",
    "                                (dimensions are unaligned and lengths are different)\n",
    "    \"\"\"\n",
    "    # YOUR CODE HERE\n",
    "    return np.dot(list(zip(*vec_1))[1], list(zip(*vec_2))[1])\n",
    "\n",
    "def cosine_sim(vec_1, vec_2):\n",
    "    # YOUR CODE HERE\n",
    "    num = dot(vec_1, vec_2)\n",
    "    denom = np.sqrt(dot(vec_1, vec_1)) * np.sqrt(dot(vec_2, vec_2))\n",
    "    return num/denom"
   ]
  },
  {
   "cell_type": "code",
   "execution_count": 74,
   "metadata": {
    "deletable": false,
    "editable": false,
    "nbgrader": {
     "cell_type": "code",
     "checksum": "d22a4a7325ba7815a808390388f534a1",
     "grade": true,
     "grade_id": "cell-b25d04ed6b79fd35",
     "locked": true,
     "points": 2,
     "schema_version": 3,
     "solution": false,
     "task": false
    }
   },
   "outputs": [
    {
     "name": "stdout",
     "output_type": "stream",
     "text": [
      "vectors: ([(1, 0.2), (2, 0.3), (3, 0.4)], [(1, 0.2), (2, 0.7), (3, 0.4)])\n",
      "dot product = 0.41000000000000003\n",
      "cosine similarity = 0.9165587597202866\n"
     ]
    }
   ],
   "source": [
    "##### Function check\n",
    "print(f'vectors: {(example_vec_1,example_vec_2)}')\n",
    "print(f'dot product = {dot(example_vec_1,example_vec_2)}')\n",
    "print(f'cosine similarity = {cosine_sim(example_vec_1,example_vec_2)}')\n",
    "##### "
   ]
  },
  {
   "cell_type": "code",
   "execution_count": 75,
   "metadata": {
    "deletable": false,
    "editable": false,
    "nbgrader": {
     "cell_type": "code",
     "checksum": "0744131724ce76b1b3f163b4bae5f700",
     "grade": true,
     "grade_id": "cell-ae3c4466866ace77",
     "locked": true,
     "points": 3,
     "schema_version": 3,
     "solution": false,
     "task": false
    }
   },
   "outputs": [],
   "source": [
    "#### Please do not change this. This cell is used for grading."
   ]
  },
  {
   "cell_type": "markdown",
   "metadata": {
    "deletable": false,
    "editable": false,
    "nbgrader": {
     "cell_type": "markdown",
     "checksum": "9b123f599f9ea372d14676e23f1c6a52",
     "grade": false,
     "grade_id": "cell-4b2534067c44fcdf",
     "locked": true,
     "schema_version": 3,
     "solution": false,
     "task": false
    }
   },
   "source": [
    "---\n",
    "### Section 6.2: LSI Retrieval (10 points)<a class=\"anchor\" id=\"lsi_retrieval\"></a>\n",
    "LSI retrieval is simply ranking the documents based on their cosine similarity to the query vector.\n",
    "First, let's write a parent class for vector-based retrieval models:"
   ]
  },
  {
   "cell_type": "code",
   "execution_count": 76,
   "metadata": {
    "deletable": false,
    "editable": false,
    "nbgrader": {
     "cell_type": "code",
     "checksum": "ecc111d58182570e2252b8ef5d6b02af",
     "grade": false,
     "grade_id": "cell-937936cea18711ee",
     "locked": true,
     "schema_version": 3,
     "solution": false,
     "task": false
    }
   },
   "outputs": [],
   "source": [
    "class VectorSpaceRetrievalModel:\n",
    "    \"\"\"\n",
    "        Parent class for Dense Vector Retrieval models\n",
    "    \"\"\"\n",
    "    def __init__(self, doc_repr):\n",
    "        \"\"\"\n",
    "            document_collection: \n",
    "                [\n",
    "                    (doc_id_1, [token 1, token 2, ...]), \n",
    "                    (doc_id_2, [token 1, token 2, ....]) \n",
    "                    ...\n",
    "                ]\n",
    "\n",
    "        \"\"\"\n",
    "        self.doc_repr = doc_repr\n",
    "        self.documents = [_[1] for _ in self.doc_repr]\n",
    "        \n",
    "        # construct a dictionary\n",
    "        self.dictionary = Dictionary(self.documents)\n",
    "        # Filter out words that occur less than 20 documents, or more than 50% of the documents.\n",
    "        self.dictionary.filter_extremes(no_below=10)\n",
    "        self.corpus = [self.dictionary.doc2bow(doc) for doc in self.documents]\n",
    "    \n",
    "        # Make a index to word dictionary.\n",
    "        temp = self.dictionary[0]  # This is only to \"load\" the dictionary.\n",
    "        self.id2word = self.dictionary.id2token\n",
    "        \n",
    "        # this is set by the train_model function\n",
    "        self.model = None\n",
    "        \n",
    "        \n",
    "    def vectorize_documents(self):\n",
    "        \"\"\"\n",
    "            Returns a doc_id -> vector dictionary\n",
    "        \"\"\"\n",
    "        vectors = {}\n",
    "        for (doc_id, _), cc in zip(self.doc_repr, self.corpus):\n",
    "            vectors[doc_id] = self.model[cc]\n",
    "        return vectors\n",
    "\n",
    "    def vectorize_query(self, query):\n",
    "        # Note the use of config_2 here!\n",
    "        query = process_text(query, **config_2)\n",
    "        query_vector = self.dictionary.doc2bow(query)\n",
    "        return self.model[query_vector]\n",
    "    \n",
    "    def train_model(self):\n",
    "        \"\"\"\n",
    "            Trains a model and sets the 'self.model' variable. \n",
    "            Make sure to use the variables created in the __init__ method.\n",
    "            e.g the variables which may be useful: {corpus, dictionary, id2word}\n",
    "        \"\"\"\n",
    "        raise NotImplementedError()"
   ]
  },
  {
   "cell_type": "markdown",
   "metadata": {
    "deletable": false,
    "editable": false,
    "nbgrader": {
     "cell_type": "markdown",
     "checksum": "ff161eefd9b81b768cd6361bc1a502b0",
     "grade": false,
     "grade_id": "cell-704a18c2f80cd60c",
     "locked": true,
     "schema_version": 3,
     "solution": false,
     "task": false
    }
   },
   "source": [
    "---\n",
    "**Implementation (5 points):**\n",
    "Implement the `train_model` method in the following class (note that this is only one line of code in `gensim`!). Ensure that the parameters defined in the `__init__` method are not changed, and are *used in the `train_method` function*. Normally, the hyperaparameter space will be searched using grid search / other methods - in this assignment we have provided the hyperparameters for you.\n",
    "\n",
    "The last two lines of code train an LSI model on the list of documents which have been stemmed, lower-cased and have stopwords removed. "
   ]
  },
  {
   "cell_type": "code",
   "execution_count": 77,
   "metadata": {
    "deletable": false,
    "nbgrader": {
     "cell_type": "code",
     "checksum": "0e90eedc27c248bc1ae050518a46a46c",
     "grade": false,
     "grade_id": "cell-307682c9089f15d6",
     "locked": false,
     "schema_version": 3,
     "solution": true,
     "task": false
    }
   },
   "outputs": [],
   "source": [
    "class LsiRetrievalModel(VectorSpaceRetrievalModel):\n",
    "    def __init__(self, doc_repr):\n",
    "        super().__init__(doc_repr)\n",
    "        \n",
    "        self.num_topics = 100\n",
    "        self.chunksize = 2000\n",
    "    \n",
    "    def train_model(self):\n",
    "        # YOUR CODE HERE\n",
    "        self.model = LsiModel(self.corpus, \n",
    "                              id2word = self.id2word, \n",
    "                              num_topics = self.num_topics, \n",
    "                              chunksize = self.chunksize)"
   ]
  },
  {
   "cell_type": "code",
   "execution_count": 78,
   "metadata": {
    "deletable": false,
    "editable": false,
    "nbgrader": {
     "cell_type": "code",
     "checksum": "00399cfe13d60cb4beed1271e36004b0",
     "grade": true,
     "grade_id": "cell-5ce512650c1b2dfb",
     "locked": true,
     "points": 0,
     "schema_version": 3,
     "solution": false,
     "task": false
    }
   },
   "outputs": [
    {
     "name": "stderr",
     "output_type": "stream",
     "text": [
      "2021-02-18 15:29:12,722 : INFO : adding document #0 to Dictionary(0 unique tokens: [])\n",
      "2021-02-18 15:29:12,813 : INFO : built Dictionary(5937 unique tokens: ['-', 'algebra', 'intern', 'languag', 'preliminari']...) from 3204 documents (total 115969 corpus positions)\n",
      "2021-02-18 15:29:12,818 : INFO : discarding 4740 tokens: [('repeat', 8), ('glossari', 7), ('inspect', 8), ('uncol', 2), ('rung', 9), ('secant', 2), ('.', 1603), ('acceler', 6), ('diverg', 3), ('induc', 9)]...\n",
      "2021-02-18 15:29:12,818 : INFO : keeping 1197 tokens which were in no less than 10 and no more than 1602 (=50.0%) documents\n",
      "2021-02-18 15:29:12,820 : INFO : resulting dictionary: Dictionary(1197 unique tokens: ['-', 'algebra', 'intern', 'languag', 'preliminari']...)\n",
      "2021-02-18 15:29:12,918 : INFO : using serial LSI version on this node\n",
      "2021-02-18 15:29:12,918 : INFO : updating model with new documents\n",
      "2021-02-18 15:29:12,919 : INFO : preparing a new chunk of documents\n",
      "2021-02-18 15:29:12,929 : INFO : using 100 extra samples and 2 power iterations\n",
      "2021-02-18 15:29:12,929 : INFO : 1st phase: constructing (1197, 200) action matrix\n",
      "2021-02-18 15:29:12,945 : INFO : orthonormalizing (1197, 200) action matrix\n",
      "2021-02-18 15:29:13,065 : INFO : 2nd phase: running dense svd on (200, 2000) matrix\n",
      "2021-02-18 15:29:13,140 : INFO : computing the final decomposition\n",
      "2021-02-18 15:29:13,141 : INFO : keeping 100 factors (discarding 13.475% of energy spectrum)\n",
      "2021-02-18 15:29:13,166 : INFO : processed documents up to #2000\n",
      "2021-02-18 15:29:13,169 : INFO : topic #0(152.127): 0.741*\",\" + 0.342*\"-\" + 0.211*\"system\" + 0.204*\"program\" + 0.192*\"comput\" + 0.146*\"(\" + 0.127*\"languag\" + 0.108*\")\" + 0.084*\"gener\" + 0.083*\"data\"\n",
      "2021-02-18 15:29:13,170 : INFO : topic #1(60.600): -0.607*\"(\" + -0.434*\")\" + -0.366*\"algorithm\" + -0.300*\"-\" + 0.237*\",\" + 0.213*\"system\" + 0.132*\"comput\" + -0.096*\"[\" + 0.093*\"program\" + -0.084*\"])\"\n",
      "2021-02-18 15:29:13,171 : INFO : topic #2(57.438): -0.744*\"-\" + 0.452*\",\" + -0.263*\"system\" + 0.214*\"(\" + 0.166*\")\" + -0.107*\"time\" + -0.105*\"program\" + 0.094*\"algorithm\" + -0.068*\"comput\" + -0.067*\"share\"\n",
      "2021-02-18 15:29:13,172 : INFO : topic #3(48.370): -0.483*\"system\" + -0.375*\"program\" + -0.367*\"comput\" + 0.363*\"-\" + 0.308*\",\" + -0.212*\"(\" + -0.168*\")\" + -0.147*\"algorithm\" + 0.144*\"languag\" + -0.119*\"time\"\n",
      "2021-02-18 15:29:13,174 : INFO : topic #4(45.710): 0.489*\"comput\" + -0.475*\"languag\" + -0.428*\"program\" + 0.238*\"method\" + 0.141*\"problem\" + -0.121*\"system\" + -0.109*\")\" + 0.107*\"equat\" + 0.100*\"algorithm\" + -0.099*\"(\"\n",
      "2021-02-18 15:29:13,175 : INFO : preparing a new chunk of documents\n",
      "2021-02-18 15:29:13,205 : INFO : using 100 extra samples and 2 power iterations\n",
      "2021-02-18 15:29:13,213 : INFO : 1st phase: constructing (1197, 200) action matrix\n",
      "2021-02-18 15:29:13,227 : INFO : orthonormalizing (1197, 200) action matrix\n",
      "2021-02-18 15:29:13,289 : INFO : 2nd phase: running dense svd on (200, 1204) matrix\n",
      "2021-02-18 15:29:13,352 : INFO : computing the final decomposition\n",
      "2021-02-18 15:29:13,352 : INFO : keeping 100 factors (discarding 14.026% of energy spectrum)\n",
      "2021-02-18 15:29:13,354 : INFO : merging projections: (1197, 100) + (1197, 100)\n",
      "2021-02-18 15:29:13,394 : INFO : keeping 100 factors (discarding 8.160% of energy spectrum)\n",
      "2021-02-18 15:29:13,397 : INFO : processed documents up to #3204\n",
      "2021-02-18 15:29:13,397 : INFO : topic #0(225.136): 0.759*\",\" + 0.337*\"-\" + 0.196*\"system\" + 0.186*\"program\" + 0.166*\"comput\" + 0.139*\"(\" + 0.103*\")\" + 0.103*\"algorithm\" + 0.099*\"languag\" + 0.087*\"time\"\n",
      "2021-02-18 15:29:13,408 : INFO : topic #1(87.805): 0.613*\"-\" + -0.399*\",\" + 0.399*\"(\" + 0.326*\"algorithm\" + 0.293*\")\" + -0.129*\"system\" + -0.107*\"program\" + 0.085*\"method\" + 0.077*\"time\" + 0.062*\"1\"\n",
      "2021-02-18 15:29:13,409 : INFO : topic #2(81.909): 0.550*\"-\" + -0.434*\"(\" + 0.355*\"system\" + -0.321*\")\" + -0.291*\",\" + -0.266*\"algorithm\" + 0.146*\"program\" + 0.123*\"comput\" + 0.078*\"time\" + -0.064*\"[\"\n",
      "2021-02-18 15:29:13,409 : INFO : topic #3(72.433): -0.693*\"program\" + 0.339*\",\" + 0.279*\"-\" + -0.251*\"(\" + -0.221*\"system\" + -0.214*\"languag\" + -0.204*\")\" + -0.160*\"comput\" + -0.099*\"data\" + -0.056*\"execut\"\n",
      "2021-02-18 15:29:13,410 : INFO : topic #4(68.523): -0.673*\"system\" + 0.453*\"program\" + 0.254*\"languag\" + 0.212*\"-\" + -0.179*\"comput\" + -0.165*\"(\" + -0.121*\")\" + -0.115*\"model\" + 0.101*\",\" + -0.098*\"algorithm\"\n"
     ]
    },
    {
     "data": {
      "text/plain": [
       "[(0, 0.015216723621127606),\n",
       " (1, -0.016232219795216073),\n",
       " (2, -0.00018078255190178468),\n",
       " (3, -0.001801804290526511),\n",
       " (4, -0.009425170468061083),\n",
       " (5, -0.004768213199561838),\n",
       " (6, 0.02694876456802395),\n",
       " (7, 0.016721103094388567),\n",
       " (8, -0.03179545260387306),\n",
       " (9, -0.0005003784534167825),\n",
       " (10, 0.0020619907144353413),\n",
       " (11, -0.017544358504715668),\n",
       " (12, 0.00022674685395140427),\n",
       " (13, 0.0010921744793521435),\n",
       " (14, 0.004582188576955395),\n",
       " (15, 0.005579451033091522),\n",
       " (16, 0.005078718887660837),\n",
       " (17, 0.0018375251282907006),\n",
       " (18, -0.017328189362172498),\n",
       " (19, 0.020351223836506917),\n",
       " (20, -0.009023983927369462),\n",
       " (21, -0.013938995663793547),\n",
       " (22, 0.04794332396568365),\n",
       " (23, 0.024672217784132783),\n",
       " (24, -0.011212814915671391),\n",
       " (25, -0.010869544377255328),\n",
       " (26, 0.006401672260198749),\n",
       " (27, 0.0760878143942592),\n",
       " (28, -0.06377072132208744),\n",
       " (29, 0.03106945195514737),\n",
       " (30, 0.04362097973262508),\n",
       " (31, 0.047328470431296496),\n",
       " (32, -0.06972099095343498),\n",
       " (33, 0.047451192916716775),\n",
       " (34, -0.02867058137990372),\n",
       " (35, 0.059999581065014115),\n",
       " (36, 0.04321552444134728),\n",
       " (37, -0.0012467152592951043),\n",
       " (38, -0.06054987562163411),\n",
       " (39, 0.03144803209590369),\n",
       " (40, -0.0396844065125564),\n",
       " (41, -0.03547572355253141),\n",
       " (42, 0.02383034853704946),\n",
       " (43, 0.012708614546515378),\n",
       " (44, 0.01592372219604924),\n",
       " (45, 0.05709357703710566),\n",
       " (46, -0.012518387056063762),\n",
       " (47, 0.002016618981949006),\n",
       " (48, 0.006499419705227545),\n",
       " (49, 0.028782632361418082),\n",
       " (50, 0.011339671549933934),\n",
       " (51, 0.04591094318723677),\n",
       " (52, -0.008804628416690313),\n",
       " (53, 0.009870091100982033),\n",
       " (54, 0.03534677137664945),\n",
       " (55, 0.023200273463550435),\n",
       " (56, 0.0044796744291635965),\n",
       " (57, -0.015874005176521332),\n",
       " (58, -0.013815732283157453),\n",
       " (59, 0.04699040114429336),\n",
       " (60, 0.000519008196843522),\n",
       " (61, 0.04862795713553654),\n",
       " (62, -0.019256173727820215),\n",
       " (63, 0.04984188316827902),\n",
       " (64, -0.037479308552856444),\n",
       " (65, 0.052371683310995794),\n",
       " (66, 0.02440811361926),\n",
       " (67, -0.05178299453685601),\n",
       " (68, 0.0021323515080905586),\n",
       " (69, -0.04407371007266809),\n",
       " (70, -0.052924216334029904),\n",
       " (71, -0.012470419316566263),\n",
       " (72, 0.06100992168033524),\n",
       " (73, -0.022355121467657408),\n",
       " (74, -0.08295263449795345),\n",
       " (75, 0.04151540126227505),\n",
       " (76, -0.014156146454683565),\n",
       " (77, 0.027119930971384616),\n",
       " (78, 0.05047754945300076),\n",
       " (79, 0.014042827992003626),\n",
       " (80, 0.00373472315982672),\n",
       " (81, -0.004183259979654469),\n",
       " (82, 0.03910715209708438),\n",
       " (83, 0.01850753077386722),\n",
       " (84, -0.05525878641120429),\n",
       " (85, -0.030310140307903834),\n",
       " (86, -0.029791482716245377),\n",
       " (87, -0.013225178733994078),\n",
       " (88, -0.0646548553311643),\n",
       " (89, -0.07454402088508916),\n",
       " (90, -0.02561497145699297),\n",
       " (91, -0.053490321574159436),\n",
       " (92, -0.0036423488870859994),\n",
       " (93, -0.049738469446864664),\n",
       " (94, 0.028265677276118204),\n",
       " (95, -0.041713750625056695),\n",
       " (96, -0.017096262682237674),\n",
       " (97, 0.025497741902884334),\n",
       " (98, 0.01253390328218018),\n",
       " (99, 0.013980266094515045)]"
      ]
     },
     "execution_count": 78,
     "metadata": {},
     "output_type": "execute_result"
    }
   ],
   "source": [
    "##### Function check\n",
    "lsi = LsiRetrievalModel(doc_repr_2)\n",
    "lsi.train_model()\n",
    "\n",
    "# you can now get an LSI vector for a given query in the following way:\n",
    "lsi.vectorize_query(\"report\")\n",
    "##### "
   ]
  },
  {
   "cell_type": "markdown",
   "metadata": {
    "deletable": false,
    "editable": false,
    "nbgrader": {
     "cell_type": "markdown",
     "checksum": "7116bb9f576c5bb04934e1d59c51d729",
     "grade": false,
     "grade_id": "cell-4c5eeb557b4fca2f",
     "locked": true,
     "points": 5,
     "schema_version": 3,
     "solution": false,
     "task": true
    }
   },
   "source": [
    "\\#### Please do not change this. This cell is used for grading."
   ]
  },
  {
   "cell_type": "markdown",
   "metadata": {
    "deletable": false,
    "editable": false,
    "nbgrader": {
     "cell_type": "markdown",
     "checksum": "1068a108600b8c1539117d543e720354",
     "grade": false,
     "grade_id": "cell-c4e50296cd17a555",
     "locked": true,
     "schema_version": 3,
     "solution": false,
     "task": false
    }
   },
   "source": [
    "---\n",
    "Next, implement a basic ranking class for vector space retrieval (used for all semantic methods): "
   ]
  },
  {
   "cell_type": "code",
   "execution_count": 79,
   "metadata": {
    "deletable": false,
    "nbgrader": {
     "cell_type": "code",
     "checksum": "1a8389d2f0635c3405e2b0b27ed9f327",
     "grade": false,
     "grade_id": "cell-250515d288e80cdc",
     "locked": false,
     "schema_version": 3,
     "solution": true,
     "task": false
    }
   },
   "outputs": [],
   "source": [
    "class DenseRetrievalRanker:\n",
    "    def __init__(self, vsrm, similarity_fn):\n",
    "        \"\"\"\n",
    "            vsrm: instance of `VectorSpaceRetrievalModel`\n",
    "            similarity_fn: function instance that takes in two vectors \n",
    "                            and returns a similarity score e.g cosine_sim defined earlier\n",
    "        \"\"\"\n",
    "        self.vsrm = vsrm \n",
    "        self.vectorized_documents = self.vsrm.vectorize_documents()\n",
    "        self.similarity_fn = similarity_fn\n",
    "    \n",
    "    def _compute_sim(self, query_vector):\n",
    "        \"\"\"\n",
    "            Compute the similarity of `query_vector` to documents in \n",
    "            `self.vectorized_documents` using `self.similarity_fn`\n",
    "            Returns a list of (doc_id, score) tuples\n",
    "        \"\"\"\n",
    "        # YOUR CODE HERE\n",
    "        scores = [(doc_id, self.similarity_fn(query_vector, doc_vec)) for (doc_id, doc_vec) in self.vectorized_documents.items()\n",
    "                 if len(doc_vec) == len(query_vector)]        \n",
    "        return scores\n",
    "        \n",
    "    def search(self, query):\n",
    "        scores = self._compute_sim(self.vsrm.vectorize_query(query))\n",
    "        scores.sort(key=lambda _:-_[1])\n",
    "        return scores "
   ]
  },
  {
   "cell_type": "code",
   "execution_count": 80,
   "metadata": {
    "deletable": false,
    "editable": false,
    "nbgrader": {
     "cell_type": "code",
     "checksum": "f237dd1ef6c1783c06797f4b514421f5",
     "grade": true,
     "grade_id": "cell-b73068b3e77a8e31",
     "locked": true,
     "points": 0,
     "schema_version": 3,
     "solution": false,
     "task": false
    }
   },
   "outputs": [
    {
     "data": {
      "text/plain": [
       "[(599, 0.7953676572174153),\n",
       " (947, 0.5924689511731042),\n",
       " (53, 0.500595242335279),\n",
       " (1339, 0.46618287651567814),\n",
       " (38, 0.43847506098498795)]"
      ]
     },
     "execution_count": 80,
     "metadata": {},
     "output_type": "execute_result"
    }
   ],
   "source": [
    "##### Function check\n",
    "drm_lsi = DenseRetrievalRanker(lsi, cosine_sim)\n",
    "drm_lsi.search(\"report\")[:5]\n",
    "##### "
   ]
  },
  {
   "cell_type": "markdown",
   "metadata": {
    "deletable": false,
    "editable": false,
    "nbgrader": {
     "cell_type": "markdown",
     "checksum": "5b3f19fdcaa585d263706d5a26038799",
     "grade": false,
     "grade_id": "cell-034c755a6502b868",
     "locked": true,
     "points": 5,
     "schema_version": 3,
     "solution": false,
     "task": true
    }
   },
   "source": [
    "\\#### Please do not change this. This cell is used for grading."
   ]
  },
  {
   "cell_type": "markdown",
   "metadata": {
    "deletable": false,
    "editable": false,
    "nbgrader": {
     "cell_type": "markdown",
     "checksum": "dcafef6e037033c46304b914f7c78bdf",
     "grade": false,
     "grade_id": "cell-d1df23f497d5ed6b",
     "locked": true,
     "schema_version": 3,
     "solution": false,
     "task": false
    }
   },
   "source": [
    "---\n",
    "Now, you can test your LSI model in the following cell: try finding queries which are lexically different to documents, but semantically similar - does LSI work well for these queries?!"
   ]
  },
  {
   "cell_type": "code",
   "execution_count": 81,
   "metadata": {
    "deletable": false,
    "editable": false,
    "nbgrader": {
     "cell_type": "code",
     "checksum": "11734bc7674377b340ad51297a8e8bb5",
     "grade": false,
     "grade_id": "cell-efd1d08dfc04ec3e",
     "locked": true,
     "schema_version": 3,
     "solution": false,
     "task": false
    }
   },
   "outputs": [
    {
     "data": {
      "application/vnd.jupyter.widget-view+json": {
       "model_id": "0519b2e7109a49839ec8ebc51666c9d4",
       "version_major": 2,
       "version_minor": 0
      },
      "text/plain": [
       "Text(value='', description='Search Bar')"
      ]
     },
     "metadata": {},
     "output_type": "display_data"
    }
   ],
   "source": [
    "# test your LSI model\n",
    "search_fn = drm_lsi.search\n",
    "\n",
    "text = widgets.Text(description=\"Search Bar\", width=200)\n",
    "display(text)\n",
    "\n",
    "def make_results_2(query, search_fn):\n",
    "    results = []\n",
    "    for doc_id, score in search_fn(query):\n",
    "        highlight = highlight_text(docs_by_id[doc_id], query)\n",
    "        if len(highlight.strip()) == 0:\n",
    "            highlight = docs_by_id[doc_id]\n",
    "        results.append(ResultRow(doc_id, highlight, score))\n",
    "    return results\n",
    "\n",
    "def handle_submit_2(sender):\n",
    "    print(f\"Searching for: '{sender.value}' (SEARCH FN: {search_fn})\")\n",
    "    \n",
    "    results = make_results_2(sender.value, search_fn)\n",
    "    \n",
    "    # display only the top 5\n",
    "    results = results[:5]\n",
    "    \n",
    "    body = \"\"\n",
    "    for idx, r in enumerate(results):\n",
    "        body += f\"<li>Document #{r.doc_id}({r.score}): {r.snippet}</li>\"\n",
    "    display(HTML(f\"<ul>{body}</ul>\"))\n",
    "    \n",
    "\n",
    "text.on_submit(handle_submit_2)"
   ]
  },
  {
   "cell_type": "markdown",
   "metadata": {
    "deletable": false,
    "editable": false,
    "nbgrader": {
     "cell_type": "markdown",
     "checksum": "d074ce1ca48384cdda78742741c938be",
     "grade": false,
     "grade_id": "cell-3a86cef264d8f6cf",
     "locked": true,
     "schema_version": 3,
     "solution": false,
     "task": false
    }
   },
   "source": [
    "---\n",
    "## Section 7: Latent Dirichlet Allocation (LDA) (10 points) <a class=\"anchor\" id=\"lda\"></a>\n",
    "\n",
    "[Back to Part 2](#part2)\n",
    "\n",
    "The specifics of LDA is out of the scope of this assignment, but we will use the `gensim` implementation to perform search using LDA over our small document collection. The key thing to remember is that LDA, unlike LSI, outputs a topic **distribution**, not a vector. With that in mind, let's first define a similarity measure.\n"
   ]
  },
  {
   "cell_type": "markdown",
   "metadata": {
    "deletable": false,
    "editable": false,
    "nbgrader": {
     "cell_type": "markdown",
     "checksum": "db01092373b18f0c9dfed1bb17db4ad9",
     "grade": false,
     "grade_id": "cell-6b78ad22c2d60ba7",
     "locked": true,
     "schema_version": 3,
     "solution": false,
     "task": false
    }
   },
   "source": [
    "---\n",
    "### Section 7.1: Jenson-Shannon divergence (5 points) <a class=\"anchor\" id=\"js_sim\"></a>\n",
    "\n",
    "The Jenson-Shannon divergence is a symmetric and finite measure on two probability distributions (unlike the KL, which is neither). For identical distributions, the JSD is equal to 0, and since our code uses 0 as irrelevant and higher scores as relevant, we use `(1 - JSD)` as the score or 'similarity' in our setup\n",
    "\n",
    "**Note**: the JSD is bounded to \\[0,1\\] only if we use log base 2. So please ensure that you're using `np.log2` instead of `np.log`"
   ]
  },
  {
   "cell_type": "code",
   "execution_count": 82,
   "metadata": {
    "deletable": false,
    "nbgrader": {
     "cell_type": "code",
     "checksum": "a579e6cd7a24a3516bc9a84528b392d3",
     "grade": false,
     "grade_id": "cell-d2376a85a4841e98",
     "locked": false,
     "schema_version": 3,
     "solution": true,
     "task": false
    }
   },
   "outputs": [],
   "source": [
    "def calc_entropy(distribution):\n",
    "    return -np.sum(distribution * np.log2(distribution))\n",
    "\n",
    "\n",
    "def jenson_shannon_divergence(vec_1, vec_2, assert_prob=False):\n",
    "    \"\"\"\n",
    "        Computes the Jensen-Shannon divergence between two probability distributions. \n",
    "        NOTE: DO NOT RETURN 1 - JSD here, that is handled by the next function which is already implemented! \n",
    "        The inputs are *gensim* vectors - same as the vectors for the cosine_sim function\n",
    "        assert_prob is a flag that checks if the inputs are proper probability distributions \n",
    "            i.e they sum to 1 and are positive - use this to check your inputs if needed. \n",
    "                (This is optional to implement, but recommended - \n",
    "                you can the default to False to save a few ms off the runtime)\n",
    "    \"\"\"\n",
    "    # YOUR CODE HERE    \n",
    "    values_1 = np.array(list(zip(*vec_1))[1])\n",
    "    values_2 = np.array(list(zip(*vec_2))[1])\n",
    "    \n",
    "    if assert_prob:\n",
    "        if np.sum(values_1) != 1:\n",
    "            raise ValueError('vec_1 should sum to 1')\n",
    "        if np.sum(values_2) != 1:\n",
    "            raise ValueError('vec_2 should sum to 1')\n",
    "    \n",
    "    ent_sum = calc_entropy((values_1 + values_2)/2)\n",
    "    ent_1 = calc_entropy(values_1)\n",
    "    ent_2 = calc_entropy(values_2)\n",
    "    \n",
    "    return ent_sum - (ent_1 + ent_2)/2\n",
    "\n",
    "\n",
    "def jenson_shannon_sim(vec_1, vec_2, assert_prob=False):\n",
    "    return 1 - jenson_shannon_divergence(vec_1, vec_2, assert_prob)\n"
   ]
  },
  {
   "cell_type": "code",
   "execution_count": 83,
   "metadata": {
    "deletable": false,
    "editable": false,
    "nbgrader": {
     "cell_type": "code",
     "checksum": "ab340aa941c9fb5c89b3fd0a9139e246",
     "grade": true,
     "grade_id": "cell-487c6d2933f38053",
     "locked": true,
     "points": 5,
     "schema_version": 3,
     "solution": false,
     "task": false
    }
   },
   "outputs": [
    {
     "data": {
      "text/plain": [
       "0.9251064410358458"
      ]
     },
     "execution_count": 83,
     "metadata": {},
     "output_type": "execute_result"
    }
   ],
   "source": [
    "##### Function check\n",
    "vec_1 = [(1, 0.3), (2, 0.4), (3, 0.3)]\n",
    "vec_2 = [(1, 0.1), (2, 0.7), (3, 0.2)]\n",
    "jenson_shannon_sim(vec_1, vec_2, assert_prob=True)\n",
    "##### "
   ]
  },
  {
   "cell_type": "markdown",
   "metadata": {
    "deletable": false,
    "editable": false,
    "nbgrader": {
     "cell_type": "markdown",
     "checksum": "0a1583a5f23e3390038331cce67f5d8e",
     "grade": false,
     "grade_id": "cell-4535cc67a50b80fa",
     "locked": true,
     "schema_version": 3,
     "solution": false,
     "task": false
    }
   },
   "source": [
    "---\n",
    "### Section 7.2: LDA retrieval (5 points) <a class=\"anchor\" id=\"lda_ret\"></a>\n",
    "\n",
    "Implement the `train_model` method in the following class (note that this is only one line of code in `gensim`!). Ensure that the parameters defined in the `__init__` method are not changed, and are *used in the `train_method` function*. You do not need to set this. Normally, the hyperaparameter space will be searched using grid search / other methods. Note that training the LDA model might take some time\n",
    "\n",
    "The last two lines of code train an LDA model on the list of documents which have been stemmed, lower-cased and have stopwords removed. "
   ]
  },
  {
   "cell_type": "code",
   "execution_count": 84,
   "metadata": {
    "deletable": false,
    "nbgrader": {
     "cell_type": "code",
     "checksum": "27de8e4fa85536bb396b73bfc51b3f50",
     "grade": false,
     "grade_id": "cell-021a48dff4a8bb91",
     "locked": false,
     "schema_version": 3,
     "solution": true,
     "task": false
    }
   },
   "outputs": [],
   "source": [
    "class LdaRetrievalModel(VectorSpaceRetrievalModel):\n",
    "    def __init__(self, doc_repr):\n",
    "        super().__init__(doc_repr)\n",
    "        \n",
    "        # use these parameters in the train_model method\n",
    "        self.num_topics = 100\n",
    "        self.chunksize = 2000\n",
    "        self.passes = 20\n",
    "        self.iterations = 400\n",
    "        self.eval_every = 10\n",
    "        # this is need to get full vectors\n",
    "        self.minimum_probability=0.0\n",
    "        self.alpha='auto'\n",
    "        self.eta='auto'\n",
    "    \n",
    "    \n",
    "    def train_model(self):\n",
    "        # YOUR CODE HERE\n",
    "        self.model = LdaModel(self.corpus,\n",
    "                              id2word = self.id2word,\n",
    "                              num_topics = self.num_topics, \n",
    "                              chunksize = self.chunksize, \n",
    "                              passes = self.passes, \n",
    "                              iterations = self.iterations, \n",
    "                              eval_every = self.eval_every, \n",
    "                              minimum_probability = self.minimum_probability, \n",
    "                              alpha = self.alpha, \n",
    "                              eta = self.eta)"
   ]
  },
  {
   "cell_type": "code",
   "execution_count": 85,
   "metadata": {
    "deletable": false,
    "editable": false,
    "nbgrader": {
     "cell_type": "code",
     "checksum": "be70fcb8098d0b6ce64cd2a10e6a05b7",
     "grade": true,
     "grade_id": "cell-86750b715f0345fd",
     "locked": true,
     "points": 0,
     "schema_version": 3,
     "solution": false,
     "task": false
    }
   },
   "outputs": [
    {
     "name": "stderr",
     "output_type": "stream",
     "text": [
      "2021-02-18 15:29:14,174 : INFO : adding document #0 to Dictionary(0 unique tokens: [])\n",
      "2021-02-18 15:29:14,260 : INFO : built Dictionary(5937 unique tokens: ['-', 'algebra', 'intern', 'languag', 'preliminari']...) from 3204 documents (total 115969 corpus positions)\n",
      "2021-02-18 15:29:14,265 : INFO : discarding 4740 tokens: [('repeat', 8), ('glossari', 7), ('inspect', 8), ('uncol', 2), ('rung', 9), ('secant', 2), ('.', 1603), ('acceler', 6), ('diverg', 3), ('induc', 9)]...\n",
      "2021-02-18 15:29:14,265 : INFO : keeping 1197 tokens which were in no less than 10 and no more than 1602 (=50.0%) documents\n",
      "2021-02-18 15:29:14,266 : INFO : resulting dictionary: Dictionary(1197 unique tokens: ['-', 'algebra', 'intern', 'languag', 'preliminari']...)\n",
      "2021-02-18 15:29:14,315 : INFO : using autotuned alpha, starting with [0.01, 0.01, 0.01, 0.01, 0.01, 0.01, 0.01, 0.01, 0.01, 0.01, 0.01, 0.01, 0.01, 0.01, 0.01, 0.01, 0.01, 0.01, 0.01, 0.01, 0.01, 0.01, 0.01, 0.01, 0.01, 0.01, 0.01, 0.01, 0.01, 0.01, 0.01, 0.01, 0.01, 0.01, 0.01, 0.01, 0.01, 0.01, 0.01, 0.01, 0.01, 0.01, 0.01, 0.01, 0.01, 0.01, 0.01, 0.01, 0.01, 0.01, 0.01, 0.01, 0.01, 0.01, 0.01, 0.01, 0.01, 0.01, 0.01, 0.01, 0.01, 0.01, 0.01, 0.01, 0.01, 0.01, 0.01, 0.01, 0.01, 0.01, 0.01, 0.01, 0.01, 0.01, 0.01, 0.01, 0.01, 0.01, 0.01, 0.01, 0.01, 0.01, 0.01, 0.01, 0.01, 0.01, 0.01, 0.01, 0.01, 0.01, 0.01, 0.01, 0.01, 0.01, 0.01, 0.01, 0.01, 0.01, 0.01, 0.01]\n",
      "2021-02-18 15:29:14,316 : INFO : using serial LDA version on this node\n",
      "2021-02-18 15:29:14,326 : INFO : running online (multi-pass) LDA training, 100 topics, 20 passes over the supplied corpus of 3204 documents, updating model once every 2000 documents, evaluating perplexity every 3204 documents, iterating 400x with a convergence threshold of 0.001000\n",
      "2021-02-18 15:29:14,326 : INFO : PROGRESS: pass 0, at document #2000/3204\n",
      "2021-02-18 15:29:15,427 : INFO : optimized alpha [0.009870272, 0.009813297, 0.009844601, 0.009772042, 0.009813478, 0.009777264, 0.009782288, 0.009871214, 0.009797686, 0.009808177, 0.009766784, 0.0098080905, 0.009828934, 0.009844479, 0.009844276, 0.009886067, 0.009792285, 0.009807926, 0.009834415, 0.009817873, 0.009802685, 0.009906278, 0.009824029, 0.0098132165, 0.009818291, 0.009818613, 0.009949233, 0.009777189, 0.009787205, 0.009839252, 0.009797833, 0.009792301, 0.009896858, 0.009917347, 0.009959694, 0.00977711, 0.009792643, 0.009802873, 0.009766699, 0.009797698, 0.009839149, 0.009782134, 0.009843885, 0.009890994, 0.009782742, 0.009839681, 0.009916923, 0.009787504, 0.009855181, 0.009802924, 0.009828616, 0.009818449, 0.0098338, 0.009870866, 0.009766796, 0.009818652, 0.009792679, 0.009854683, 0.009808373, 0.00981844, 0.009792513, 0.009766723, 0.009802786, 0.009787432, 0.009803111, 0.009849708, 0.0098494915, 0.009885637, 0.009859893, 0.009818462, 0.009798155, 0.009813531, 0.009813465, 0.009829064, 0.00991296, 0.009803117, 0.009875873, 0.009808331, 0.009818177, 0.009787581, 0.009829221, 0.009901989, 0.009911901, 0.009824036, 0.009813233, 0.009824028, 0.0098238345, 0.009787311, 0.00984393, 0.00980836, 0.009818797, 0.009802949, 0.00987598, 0.009875877, 0.009803389, 0.009808208, 0.009838903, 0.00986538, 0.009890747, 0.009849889]\n",
      "2021-02-18 15:29:15,432 : INFO : merging changes from 2000 documents into a model of 3204 documents\n",
      "2021-02-18 15:29:15,437 : INFO : topic #38 (0.010): 0.070*\"comput\" + 0.056*\",\" + 0.054*\"part\" + 0.054*\"express\" + 0.054*\"recurs\" + 0.054*\"machin\" + 0.054*\"function\" + 0.054*\"symbol\" + 0.013*\"mathemat\" + 0.009*\"idea\"\n",
      "2021-02-18 15:29:15,438 : INFO : topic #79 (0.010): 0.065*\",\" + 0.035*\"languag\" + 0.032*\"-\" + 0.025*\"program\" + 0.021*\"machin\" + 0.021*\"algorithm\" + 0.019*\"graphic\" + 0.018*\"system\" + 0.018*\"processor\" + 0.014*\"onlin\"\n",
      "2021-02-18 15:29:15,438 : INFO : topic #98 (0.010): 0.055*\",\" + 0.043*\"(\" + 0.031*\")\" + 0.024*\"algorithm\" + 0.023*\"-\" + 0.018*\"method\" + 0.016*\"program\" + 0.015*\"answer\" + 0.015*\"drum\" + 0.014*\"polynomi\"\n",
      "2021-02-18 15:29:15,438 : INFO : topic #34 (0.010): 0.084*\",\" + 0.034*\"-\" + 0.030*\"system\" + 0.025*\"program\" + 0.019*\"comput\" + 0.011*\"gener\" + 0.010*\"data\" + 0.010*\"time\" + 0.009*\"(\" + 0.009*\"process\"\n",
      "2021-02-18 15:29:15,439 : INFO : topic #33 (0.010): 0.070*\",\" + 0.036*\"(\" + 0.030*\"program\" + 0.024*\")\" + 0.018*\"gener\" + 0.016*\"number\" + 0.016*\"-\" + 0.014*\"method\" + 0.014*\"memori\" + 0.012*\"\"\"\n",
      "2021-02-18 15:29:15,439 : INFO : topic diff=82.597626, rho=1.000000\n",
      "2021-02-18 15:29:16,165 : INFO : -7.301 per-word bound, 157.7 perplexity estimate based on a held-out corpus of 1204 documents with 49783 words\n",
      "2021-02-18 15:29:16,166 : INFO : PROGRESS: pass 0, at document #3204/3204\n",
      "2021-02-18 15:29:16,707 : INFO : optimized alpha [0.0099885445, 0.009877363, 0.010365984, 0.0098528685, 0.009925631, 0.009946682, 0.010103146, 0.010259793, 0.009979004, 0.009843136, 0.009783845, 0.010230696, 0.009940779, 0.010135124, 0.0100844065, 0.010118006, 0.00970454, 0.009859917, 0.009994526, 0.010025168, 0.009772626, 0.010409026, 0.010080727, 0.009989287, 0.009793882, 0.00988421, 0.01014712, 0.009952137, 0.010043594, 0.010117139, 0.009891372, 0.009715026, 0.010177434, 0.010353857, 0.010313807, 0.010103695, 0.009786982, 0.009790934, 0.009539723, 0.009879007, 0.009749765, 0.009630284, 0.009777622, 0.009967076, 0.009787816, 0.010011609, 0.009934166, 0.009870787, 0.009992625, 0.0099902395, 0.010252276, 0.009912188, 0.009862079, 0.010121384, 0.009626598, 0.009807178, 0.010101159, 0.00994947, 0.010004859, 0.00988307, 0.009885868, 0.009592155, 0.009720385, 0.009728867, 0.009809115, 0.010040044, 0.009972812, 0.010050609, 0.009930695, 0.009801009, 0.010104404, 0.010103376, 0.009995378, 0.010047701, 0.010017512, 0.009926937, 0.010052993, 0.0101025775, 0.009805569, 0.00978835, 0.0099837845, 0.0099320775, 0.010042089, 0.01012052, 0.009854184, 0.010007326, 0.009912296, 0.009968814, 0.009872269, 0.0098843165, 0.0102259405, 0.009796823, 0.010107598, 0.010148673, 0.010046482, 0.00992464, 0.009927398, 0.009949124, 0.009925245, 0.009997523]\n",
      "2021-02-18 15:29:16,712 : INFO : merging changes from 1204 documents into a model of 3204 documents\n",
      "2021-02-18 15:29:16,717 : INFO : topic #38 (0.010): 0.447*\"symbol\" + 0.121*\"express\" + 0.072*\"recurs\" + 0.047*\"function\" + 0.027*\"comput\" + 0.026*\",\" + 0.009*\"part\" + 0.009*\"machin\" + 0.002*\"mathemat\" + 0.002*\"idea\"\n",
      "2021-02-18 15:29:16,718 : INFO : topic #61 (0.010): 0.242*\"permut\" + 0.143*\"algorithm\" + 0.092*\"order\" + 0.090*\"deriv\" + 0.087*\"s22\" + 0.081*\"(\" + 0.058*\"gener\" + 0.048*\")\" + 0.029*\"[\" + 0.021*\"lexicograph\"\n",
      "2021-02-18 15:29:16,718 : INFO : topic #33 (0.010): 0.079*\",\" + 0.034*\"program\" + 0.026*\"(\" + 0.024*\"memori\" + 0.021*\")\" + 0.015*\"-\" + 0.014*\"method\" + 0.014*\"key\" + 0.013*\"gener\" + 0.013*\"structur\"\n",
      "2021-02-18 15:29:16,719 : INFO : topic #2 (0.010): 0.063*\",\" + 0.046*\"program\" + 0.026*\"system\" + 0.023*\"hash\" + 0.022*\"comput\" + 0.020*\"-\" + 0.018*\"induct\" + 0.017*\"design\" + 0.016*\"discuss\" + 0.015*\"protect\"\n",
      "2021-02-18 15:29:16,719 : INFO : topic #21 (0.010): 0.082*\",\" + 0.050*\")\" + 0.049*\"(\" + 0.041*\"]\" + 0.027*\"size\" + 0.025*\"algorithm\" + 0.022*\"2\" + 0.018*\"-\" + 0.016*\"method\" + 0.014*\"^\"\n",
      "2021-02-18 15:29:16,720 : INFO : topic diff=0.725251, rho=0.707107\n",
      "2021-02-18 15:29:16,726 : INFO : PROGRESS: pass 1, at document #2000/3204\n",
      "2021-02-18 15:29:17,214 : INFO : optimized alpha [0.009881618, 0.009830807, 0.010285332, 0.009855964, 0.00988104, 0.00997285, 0.010127335, 0.01014617, 0.009983081, 0.009789866, 0.009743919, 0.010222523, 0.009906529, 0.010108486, 0.0099505335, 0.010024346, 0.009942389, 0.009894681, 0.009999965, 0.009936039, 0.009722671, 0.010340919, 0.010015086, 0.009974608, 0.009881742, 0.009837925, 0.010077848, 0.010001505, 0.010994936, 0.01004681, 0.009810405, 0.009751338, 0.010148234, 0.010243012, 0.010257265, 0.010059905, 0.009708212, 0.00991565, 0.009559542, 0.009855784, 0.009674624, 0.009619687, 0.009706914, 0.009866175, 0.009808204, 0.009955245, 0.009847461, 0.0098880315, 0.00994456, 0.0099784685, 0.010280559, 0.009864589, 0.009860908, 0.010057555, 0.00963823, 0.009776023, 0.010057761, 0.009883641, 0.009996858, 0.00992889, 0.009846817, 0.009574552, 0.009627651, 0.009754546, 0.009824065, 0.009950829, 0.009937809, 0.009977165, 0.009894668, 0.009716783, 0.010072407, 0.0099933585, 0.010037386, 0.009990206, 0.010256308, 0.0098821875, 0.010100041, 0.010054105, 0.009838295, 0.009783254, 0.009912187, 0.009851309, 0.009974385, 0.010078082, 0.0098626865, 0.0099293925, 0.009847053, 0.009973193, 0.009908315, 0.009834953, 0.010096166, 0.009845407, 0.009992675, 0.010130425, 0.0100402385, 0.0099145835, 0.009883012, 0.009891377, 0.00985718, 0.009979025]\n"
     ]
    },
    {
     "name": "stderr",
     "output_type": "stream",
     "text": [
      "2021-02-18 15:29:17,219 : INFO : merging changes from 2000 documents into a model of 3204 documents\n",
      "2021-02-18 15:29:17,225 : INFO : topic #38 (0.010): 0.619*\"symbol\" + 0.128*\"express\" + 0.054*\"recurs\" + 0.029*\"function\" + 0.028*\"comput\" + 0.019*\",\" + 0.010*\"machin\" + 0.009*\"part\" + 0.001*\"mathemat\" + 0.000*\"idea\"\n",
      "2021-02-18 15:29:17,225 : INFO : topic #61 (0.010): 0.173*\"permut\" + 0.165*\"algorithm\" + 0.131*\"(\" + 0.080*\")\" + 0.080*\"order\" + 0.078*\"gener\" + 0.062*\"s22\" + 0.055*\"deriv\" + 0.049*\"[\" + 0.047*\"lexicograph\"\n",
      "2021-02-18 15:29:17,226 : INFO : topic #50 (0.010): 0.096*\"\"\" + 0.045*\",\" + 0.042*\"languag\" + 0.040*\"model\" + 0.039*\"abstract\" + 0.031*\"work\" + 0.028*\"algol\" + 0.027*\"gener\" + 0.026*\"formal\" + 0.024*\"corrigendum\"\n",
      "2021-02-18 15:29:17,226 : INFO : topic #21 (0.010): 0.081*\",\" + 0.048*\"(\" + 0.047*\")\" + 0.029*\"]\" + 0.027*\"2\" + 0.023*\"size\" + 0.020*\"algorithm\" + 0.018*\"method\" + 0.017*\"-\" + 0.015*\"^\"\n",
      "2021-02-18 15:29:17,227 : INFO : topic #28 (0.011): 0.263*\")\" + 0.249*\"(\" + 0.224*\"algorithm\" + 0.049*\"integr\" + 0.031*\"function\" + 0.030*\"surfac\" + 0.024*\"root\" + 0.016*\"complex\" + 0.014*\"exponenti\" + 0.012*\"coeffici\"\n",
      "2021-02-18 15:29:17,227 : INFO : topic diff=0.321717, rho=0.526900\n",
      "2021-02-18 15:29:17,860 : INFO : -6.915 per-word bound, 120.7 perplexity estimate based on a held-out corpus of 1204 documents with 49783 words\n",
      "2021-02-18 15:29:17,861 : INFO : PROGRESS: pass 1, at document #3204/3204\n",
      "2021-02-18 15:29:18,325 : INFO : optimized alpha [0.009926267, 0.00998388, 0.010646835, 0.009994969, 0.009903709, 0.010165948, 0.010531175, 0.0103431875, 0.010127266, 0.009900043, 0.009853153, 0.010630136, 0.010020693, 0.0103307, 0.010170042, 0.010167101, 0.009998051, 0.010020342, 0.010097515, 0.010131463, 0.009724834, 0.010727614, 0.010342399, 0.01013665, 0.009920259, 0.009957544, 0.0101803895, 0.010219873, 0.011802299, 0.010178552, 0.009894104, 0.009803347, 0.0102771, 0.010449575, 0.010426371, 0.01033729, 0.009797456, 0.00999261, 0.00951289, 0.009951534, 0.009643995, 0.009606822, 0.009700195, 0.009875825, 0.00989554, 0.010079081, 0.009875523, 0.010139576, 0.01006537, 0.01017589, 0.010694839, 0.0100533385, 0.009939453, 0.010253921, 0.009683871, 0.009821232, 0.010316577, 0.009919835, 0.01021149, 0.010029797, 0.009968782, 0.009541236, 0.009670243, 0.009816446, 0.009859705, 0.010075615, 0.010056669, 0.0100740595, 0.009957406, 0.009758633, 0.010329907, 0.010153108, 0.010257693, 0.010225227, 0.010389846, 0.01007554, 0.010236088, 0.010265706, 0.00992119, 0.009868292, 0.01006343, 0.00984045, 0.0100492025, 0.0103097055, 0.0098845335, 0.01012337, 0.009953395, 0.010249581, 0.009951299, 0.009931441, 0.010339892, 0.00997206, 0.010054426, 0.010311624, 0.010245709, 0.010102274, 0.010007296, 0.009976165, 0.009840561, 0.010089106]\n",
      "2021-02-18 15:29:18,330 : INFO : merging changes from 1204 documents into a model of 3204 documents\n",
      "2021-02-18 15:29:18,336 : INFO : topic #38 (0.010): 0.637*\"symbol\" + 0.170*\"express\" + 0.034*\"recurs\" + 0.032*\"function\" + 0.017*\"comput\" + 0.014*\",\" + 0.008*\"machin\" + 0.006*\"part\" + 0.000*\"mathemat\" + 0.000*\"idea\"\n",
      "2021-02-18 15:29:18,336 : INFO : topic #61 (0.010): 0.202*\"permut\" + 0.192*\"algorithm\" + 0.110*\"gener\" + 0.109*\"(\" + 0.108*\"order\" + 0.069*\")\" + 0.059*\"deriv\" + 0.044*\"s22\" + 0.039*\"[\" + 0.021*\"lexicograph\"\n",
      "2021-02-18 15:29:18,337 : INFO : topic #50 (0.011): 0.115*\"\"\" + 0.047*\",\" + 0.046*\"abstract\" + 0.044*\"work\" + 0.044*\"model\" + 0.040*\"languag\" + 0.033*\"set\" + 0.028*\"corrigendum\" + 0.023*\"formal\" + 0.022*\"type\"\n",
      "2021-02-18 15:29:18,338 : INFO : topic #21 (0.011): 0.092*\",\" + 0.053*\"]\" + 0.045*\"(\" + 0.043*\")\" + 0.035*\"2\" + 0.035*\"size\" + 0.021*\"^\" + 0.018*\"method\" + 0.017*\"algorithm\" + 0.017*\"-\"\n",
      "2021-02-18 15:29:18,338 : INFO : topic #28 (0.012): 0.292*\")\" + 0.279*\"(\" + 0.209*\"algorithm\" + 0.044*\"surfac\" + 0.036*\"integr\" + 0.027*\"function\" + 0.018*\"complex\" + 0.014*\"root\" + 0.012*\"exponenti\" + 0.010*\"integ\"\n",
      "2021-02-18 15:29:18,339 : INFO : topic diff=0.407414, rho=0.526900\n",
      "2021-02-18 15:29:18,351 : INFO : PROGRESS: pass 2, at document #2000/3204\n",
      "2021-02-18 15:29:18,821 : INFO : optimized alpha [0.009838927, 0.00994428, 0.01058851, 0.010029964, 0.009896164, 0.01021904, 0.010592927, 0.010249149, 0.010179984, 0.009908817, 0.0098412195, 0.010627922, 0.0100329025, 0.010324795, 0.010060201, 0.010120508, 0.010204446, 0.010109079, 0.010116434, 0.010075532, 0.009703157, 0.010704789, 0.010324741, 0.010139238, 0.01011248, 0.009949393, 0.01011963, 0.010305787, 0.0130068045, 0.010128218, 0.009846867, 0.009890592, 0.01025355, 0.010360219, 0.010370345, 0.010314919, 0.009742549, 0.010162162, 0.009558665, 0.009956794, 0.009608111, 0.009614784, 0.009660726, 0.0097874375, 0.009994738, 0.010041052, 0.009796582, 0.010226833, 0.010034899, 0.010183069, 0.0107385935, 0.010040603, 0.009954771, 0.010222619, 0.009758421, 0.009833885, 0.010285182, 0.009884504, 0.010248783, 0.010124628, 0.009969128, 0.009574562, 0.009620028, 0.009869366, 0.009908354, 0.010018609, 0.010051672, 0.010017169, 0.009980495, 0.00969076, 0.010301532, 0.010067798, 0.010324957, 0.010201046, 0.01072788, 0.010048716, 0.010313197, 0.010228206, 0.010020178, 0.009950625, 0.010033006, 0.00978593, 0.009992806, 0.010304324, 0.00991614, 0.010062637, 0.009926611, 0.010272512, 0.009976161, 0.009927806, 0.010225778, 0.010045111, 0.009962323, 0.010364703, 0.010284745, 0.01014451, 0.0099866325, 0.0099515105, 0.009794659, 0.010081947]\n",
      "2021-02-18 15:29:18,826 : INFO : merging changes from 2000 documents into a model of 3204 documents\n",
      "2021-02-18 15:29:18,831 : INFO : topic #38 (0.010): 0.664*\"symbol\" + 0.171*\"express\" + 0.025*\"recurs\" + 0.025*\"function\" + 0.019*\"comput\" + 0.013*\",\" + 0.009*\"machin\" + 0.008*\"part\" + 0.000*\"mathemat\" + 0.000*\"idea\"\n",
      "2021-02-18 15:29:18,832 : INFO : topic #61 (0.010): 0.188*\"algorithm\" + 0.172*\"permut\" + 0.126*\"gener\" + 0.116*\"(\" + 0.103*\"order\" + 0.062*\")\" + 0.052*\"deriv\" + 0.046*\"s22\" + 0.045*\"[\" + 0.034*\"lexicograph\"\n",
      "2021-02-18 15:29:18,833 : INFO : topic #74 (0.011): 0.162*\"algorithm\" + 0.154*\"(\" + 0.151*\"[\" + 0.121*\"])\" + 0.031*\"array\" + 0.029*\")\" + 0.026*\"-\" + 0.025*\"function\" + 0.022*\"linear\" + 0.015*\"solut\"\n",
      "2021-02-18 15:29:18,833 : INFO : topic #21 (0.011): 0.092*\",\" + 0.045*\"(\" + 0.042*\")\" + 0.042*\"2\" + 0.040*\"]\" + 0.030*\"size\" + 0.022*\"^\" + 0.019*\"segment\" + 0.019*\"method\" + 0.016*\"1\"\n",
      "2021-02-18 15:29:18,834 : INFO : topic #28 (0.013): 0.298*\")\" + 0.293*\"(\" + 0.216*\"algorithm\" + 0.040*\"integr\" + 0.026*\"function\" + 0.022*\"surfac\" + 0.017*\"root\" + 0.015*\"complex\" + 0.010*\"exponenti\" + 0.009*\"real\"\n",
      "2021-02-18 15:29:18,835 : INFO : topic diff=0.381914, rho=0.466151\n",
      "2021-02-18 15:29:19,416 : INFO : -6.803 per-word bound, 111.7 perplexity estimate based on a held-out corpus of 1204 documents with 49783 words\n",
      "2021-02-18 15:29:19,416 : INFO : PROGRESS: pass 2, at document #3204/3204\n",
      "2021-02-18 15:29:19,830 : INFO : optimized alpha [0.009887901, 0.010115797, 0.010892807, 0.010169164, 0.009928863, 0.010403692, 0.0109927645, 0.010420175, 0.010319891, 0.010049516, 0.0099998955, 0.011067659, 0.010173795, 0.010527239, 0.010232456, 0.010271987, 0.010227397, 0.010279347, 0.010183286, 0.010281821, 0.009752163, 0.011132682, 0.0106444005, 0.01031115, 0.010180087, 0.01008725, 0.010230972, 0.0105048055, 0.0141391605, 0.010241491, 0.009933273, 0.009974528, 0.010356174, 0.01050287, 0.010516552, 0.010583947, 0.0098796645, 0.01024478, 0.00955591, 0.010057386, 0.009621168, 0.009634784, 0.009675698, 0.009806154, 0.010130409, 0.010155193, 0.009835095, 0.010504846, 0.010158631, 0.010378859, 0.011173702, 0.010236615, 0.010032477, 0.010409462, 0.009844336, 0.009886048, 0.010488773, 0.009960669, 0.010472886, 0.010205829, 0.0100856, 0.009621539, 0.009727288, 0.009989592, 0.009943847, 0.010125882, 0.010192829, 0.010107869, 0.01007153, 0.009748335, 0.010568132, 0.010229939, 0.010533692, 0.010435105, 0.010907057, 0.010260473, 0.010429243, 0.010428695, 0.010136017, 0.010076719, 0.010191636, 0.009805663, 0.01004397, 0.010515175, 0.009916453, 0.010267096, 0.010052671, 0.010556557, 0.010018493, 0.010048385, 0.0104470635, 0.010215978, 0.010018634, 0.010513472, 0.010496512, 0.010379654, 0.010132925, 0.010027374, 0.009778795, 0.010187638]\n",
      "2021-02-18 15:29:19,836 : INFO : merging changes from 1204 documents into a model of 3204 documents\n"
     ]
    },
    {
     "name": "stderr",
     "output_type": "stream",
     "text": [
      "2021-02-18 15:29:19,841 : INFO : topic #61 (0.010): 0.211*\"algorithm\" + 0.173*\"permut\" + 0.150*\"gener\" + 0.132*\"order\" + 0.098*\"(\" + 0.056*\")\" + 0.052*\"deriv\" + 0.041*\"[\" + 0.034*\"s22\" + 0.017*\"lexicograph\"\n",
      "2021-02-18 15:29:19,842 : INFO : topic #38 (0.010): 0.613*\"symbol\" + 0.242*\"express\" + 0.026*\"function\" + 0.020*\"recurs\" + 0.013*\"comput\" + 0.010*\",\" + 0.010*\"machin\" + 0.006*\"part\" + 0.000*\"mathemat\" + 0.000*\"idea\"\n",
      "2021-02-18 15:29:19,842 : INFO : topic #21 (0.011): 0.098*\",\" + 0.065*\"]\" + 0.046*\"2\" + 0.042*\"(\" + 0.040*\"size\" + 0.038*\")\" + 0.028*\"^\" + 0.021*\"segment\" + 0.020*\"1\" + 0.017*\"method\"\n",
      "2021-02-18 15:29:19,843 : INFO : topic #50 (0.011): 0.152*\"\"\" + 0.049*\",\" + 0.047*\"work\" + 0.046*\"abstract\" + 0.039*\"languag\" + 0.038*\"model\" + 0.036*\"set\" + 0.028*\"type\" + 0.027*\"corrigendum\" + 0.022*\"array\"\n",
      "2021-02-18 15:29:19,843 : INFO : topic #28 (0.014): 0.316*\")\" + 0.315*\"(\" + 0.200*\"algorithm\" + 0.031*\"integr\" + 0.030*\"surfac\" + 0.024*\"function\" + 0.015*\"complex\" + 0.012*\"root\" + 0.010*\"exponenti\" + 0.007*\"integ\"\n",
      "2021-02-18 15:29:19,844 : INFO : topic diff=0.503433, rho=0.466151\n",
      "2021-02-18 15:29:19,852 : INFO : PROGRESS: pass 3, at document #2000/3204\n",
      "2021-02-18 15:29:20,291 : INFO : optimized alpha [0.009823566, 0.010096257, 0.010853421, 0.010209275, 0.009933705, 0.010462412, 0.011071885, 0.010332437, 0.0103873005, 0.0100784525, 0.010009711, 0.011105796, 0.01020599, 0.010525133, 0.010133011, 0.010253725, 0.010416452, 0.010403541, 0.010235649, 0.010249702, 0.009745841, 0.011121487, 0.010659923, 0.01033904, 0.010376483, 0.010081567, 0.010178443, 0.010611684, 0.015563664, 0.010196291, 0.00989741, 0.010068829, 0.010341735, 0.010424529, 0.010472204, 0.010572516, 0.009846616, 0.01041801, 0.009612521, 0.010075032, 0.009608632, 0.009653042, 0.00966819, 0.009726577, 0.01025752, 0.010129499, 0.009788736, 0.010612683, 0.010144129, 0.0104020145, 0.011250841, 0.010230435, 0.0100572435, 0.0103933, 0.009952123, 0.009944397, 0.010470251, 0.009935835, 0.010525989, 0.010312272, 0.010109463, 0.009670527, 0.009692523, 0.010067309, 0.010005416, 0.010087709, 0.010198721, 0.0100656375, 0.010129153, 0.009696553, 0.0105603915, 0.010159013, 0.0106187835, 0.010424874, 0.011312304, 0.010241323, 0.01053484, 0.0103956405, 0.010265337, 0.010227298, 0.010207178, 0.009758184, 0.010002881, 0.010506597, 0.009956609, 0.010239209, 0.010045463, 0.010591143, 0.010045515, 0.010061921, 0.010362647, 0.0103037665, 0.009941557, 0.010601967, 0.010528985, 0.010467857, 0.010128998, 0.010009831, 0.009760219, 0.010211628]\n",
      "2021-02-18 15:29:20,297 : INFO : merging changes from 2000 documents into a model of 3204 documents\n",
      "2021-02-18 15:29:20,302 : INFO : topic #40 (0.010): 0.127*\"block\" + 0.052*\",\" + 0.042*\"-\" + 0.037*\"comput\" + 0.032*\"method\" + 0.031*\"simul\" + 0.028*\"transfer\" + 0.028*\"adapt\" + 0.024*\"densiti\" + 0.023*\"repres\"\n",
      "2021-02-18 15:29:20,303 : INFO : topic #38 (0.010): 0.630*\"symbol\" + 0.234*\"express\" + 0.022*\"function\" + 0.017*\"recurs\" + 0.015*\"comput\" + 0.010*\",\" + 0.010*\"machin\" + 0.006*\"part\" + 0.000*\"mathemat\" + 0.000*\"idea\"\n",
      "2021-02-18 15:29:20,304 : INFO : topic #50 (0.011): 0.170*\"\"\" + 0.049*\",\" + 0.043*\"work\" + 0.042*\"languag\" + 0.040*\"abstract\" + 0.034*\"model\" + 0.031*\"set\" + 0.026*\"type\" + 0.023*\"corrigendum\" + 0.023*\"gener\"\n",
      "2021-02-18 15:29:20,305 : INFO : topic #74 (0.011): 0.179*\"[\" + 0.175*\"algorithm\" + 0.159*\"(\" + 0.133*\"])\" + 0.029*\"array\" + 0.029*\"-\" + 0.028*\"function\" + 0.023*\"linear\" + 0.020*\")\" + 0.013*\"solut\"\n",
      "2021-02-18 15:29:20,305 : INFO : topic #28 (0.016): 0.320*\"(\" + 0.318*\")\" + 0.207*\"algorithm\" + 0.033*\"integr\" + 0.023*\"function\" + 0.018*\"surfac\" + 0.014*\"root\" + 0.014*\"complex\" + 0.009*\"exponenti\" + 0.008*\"real\"\n",
      "2021-02-18 15:29:20,306 : INFO : topic diff=0.510951, rho=0.422502\n",
      "2021-02-18 15:29:20,869 : INFO : -6.723 per-word bound, 105.6 perplexity estimate based on a held-out corpus of 1204 documents with 49783 words\n",
      "2021-02-18 15:29:20,870 : INFO : PROGRESS: pass 3, at document #3204/3204\n",
      "2021-02-18 15:29:21,281 : INFO : optimized alpha [0.009897373, 0.010260221, 0.011129824, 0.010361385, 0.009981756, 0.010646192, 0.011486942, 0.010488757, 0.010529634, 0.010214266, 0.010154964, 0.011512071, 0.010359876, 0.010736491, 0.010254977, 0.010418042, 0.010457319, 0.010577357, 0.010303897, 0.010449601, 0.009794634, 0.011573142, 0.010963043, 0.010532905, 0.010436478, 0.01022179, 0.010294904, 0.010819978, 0.016914807, 0.010292547, 0.009983712, 0.010155339, 0.010442833, 0.010554717, 0.010620668, 0.010853481, 0.010013919, 0.010510655, 0.009627549, 0.010191746, 0.009655687, 0.009661714, 0.009693073, 0.009773333, 0.010410184, 0.010244652, 0.009859929, 0.010869611, 0.010264514, 0.01059965, 0.011729133, 0.010406515, 0.010131656, 0.010575024, 0.010061692, 0.010027084, 0.010663793, 0.010016502, 0.010746748, 0.010415025, 0.010233384, 0.009768342, 0.009862669, 0.010176905, 0.010041285, 0.010200423, 0.010342061, 0.010166564, 0.010240564, 0.009756906, 0.010820477, 0.010332177, 0.010817579, 0.010662051, 0.011551322, 0.010439065, 0.010643651, 0.010589865, 0.010381209, 0.010385816, 0.010359385, 0.009788221, 0.010053999, 0.010707064, 0.009960968, 0.010462907, 0.010164125, 0.010886808, 0.0101126665, 0.010207347, 0.010576252, 0.010492735, 0.010026029, 0.01073367, 0.010730728, 0.010729073, 0.010259036, 0.010079437, 0.009751133, 0.010325924]\n",
      "2021-02-18 15:29:21,287 : INFO : merging changes from 1204 documents into a model of 3204 documents\n",
      "2021-02-18 15:29:21,292 : INFO : topic #41 (0.010): 0.241*\"formula\" + 0.132*\"quadratur\" + 0.103*\"d1\" + 0.099*\"(\" + 0.090*\"[\" + 0.067*\"algorithm\" + 0.054*\"valu\" + 0.034*\"'\" + 0.032*\"gaussian\" + 0.026*\"solut\"\n",
      "2021-02-18 15:29:21,293 : INFO : topic #40 (0.010): 0.155*\"block\" + 0.052*\",\" + 0.042*\"-\" + 0.042*\"adapt\" + 0.033*\"transfer\" + 0.031*\"comput\" + 0.031*\"simul\" + 0.029*\"densiti\" + 0.027*\"repres\" + 0.027*\"method\"\n",
      "2021-02-18 15:29:21,294 : INFO : topic #21 (0.012): 0.099*\",\" + 0.083*\"]\" + 0.055*\"2\" + 0.045*\"size\" + 0.039*\"(\" + 0.035*\")\" + 0.032*\"^\" + 0.025*\"segment\" + 0.024*\"1\" + 0.017*\"method\"\n",
      "2021-02-18 15:29:21,294 : INFO : topic #50 (0.012): 0.182*\"\"\" + 0.050*\",\" + 0.049*\"work\" + 0.044*\"abstract\" + 0.038*\"set\" + 0.035*\"languag\" + 0.034*\"type\" + 0.031*\"model\" + 0.026*\"corrigendum\" + 0.024*\"array\"\n",
      "2021-02-18 15:29:21,295 : INFO : topic #28 (0.017): 0.340*\"(\" + 0.335*\")\" + 0.192*\"algorithm\" + 0.027*\"integr\" + 0.021*\"function\" + 0.017*\"surfac\" + 0.014*\"complex\" + 0.011*\"root\" + 0.008*\"exponenti\" + 0.006*\"integ\"\n",
      "2021-02-18 15:29:21,295 : INFO : topic diff=0.620117, rho=0.422502\n",
      "2021-02-18 15:29:21,307 : INFO : PROGRESS: pass 4, at document #2000/3204\n",
      "2021-02-18 15:29:21,739 : INFO : optimized alpha [0.009841164, 0.010255794, 0.011097965, 0.010402206, 0.0099889515, 0.010708407, 0.01156054, 0.01041422, 0.01060636, 0.010268796, 0.010173611, 0.011555751, 0.010413539, 0.010735512, 0.010178381, 0.010431659, 0.0106456885, 0.010699118, 0.010362647, 0.010433368, 0.009799143, 0.011569359, 0.010994794, 0.010566263, 0.010628362, 0.010242297, 0.010252932, 0.01094015, 0.018527988, 0.010247532, 0.009966825, 0.010258792, 0.010436014, 0.01048502, 0.010581624, 0.010849382, 0.009982874, 0.010705386, 0.009693739, 0.010221954, 0.009661915, 0.009681316, 0.009696741, 0.009709536, 0.010571493, 0.010227129, 0.0098219365, 0.010986579, 0.0102674505, 0.010641061, 0.011832635, 0.010408244, 0.010162752, 0.010586545, 0.010177793, 0.010114642, 0.010643578, 0.010000091, 0.010814248, 0.0105286, 0.010279275, 0.009842299, 0.009855125, 0.010256991, 0.01011254, 0.0101735825, 0.010361381, 0.010126211, 0.010344226, 0.009712222, 0.010820032, 0.010276507, 0.010889734, 0.010655251, 0.012004396, 0.010432665, 0.010760437, 0.010556272, 0.010528017, 0.010577853, 0.010383739, 0.009755603, 0.0100311795, 0.010712864, 0.0100067025, 0.010448041, 0.0101575665, 0.0109426165, 0.010151517, 0.010237302, 0.010501474, 0.010592339, 0.009964002, 0.010853967, 0.010764175, 0.0108254235, 0.010257306, 0.010077737, 0.009731896, 0.010354019]\n",
      "2021-02-18 15:29:21,745 : INFO : merging changes from 2000 documents into a model of 3204 documents\n",
      "2021-02-18 15:29:21,750 : INFO : topic #41 (0.010): 0.271*\"formula\" + 0.127*\"quadratur\" + 0.099*\"d1\" + 0.088*\"(\" + 0.078*\"[\" + 0.062*\"algorithm\" + 0.055*\"valu\" + 0.035*\"'\" + 0.033*\"gaussian\" + 0.031*\"])\"\n"
     ]
    },
    {
     "name": "stderr",
     "output_type": "stream",
     "text": [
      "2021-02-18 15:29:21,751 : INFO : topic #40 (0.010): 0.151*\"block\" + 0.052*\",\" + 0.042*\"adapt\" + 0.041*\"-\" + 0.036*\"comput\" + 0.034*\"simul\" + 0.034*\"transfer\" + 0.028*\"method\" + 0.026*\"simpl\" + 0.024*\"densiti\"\n",
      "2021-02-18 15:29:21,751 : INFO : topic #50 (0.012): 0.199*\"\"\" + 0.050*\",\" + 0.045*\"work\" + 0.040*\"abstract\" + 0.036*\"languag\" + 0.033*\"set\" + 0.032*\"type\" + 0.030*\"model\" + 0.022*\"corrigendum\" + 0.022*\"formal\"\n",
      "2021-02-18 15:29:21,752 : INFO : topic #74 (0.012): 0.196*\"[\" + 0.185*\"algorithm\" + 0.163*\"(\" + 0.138*\"])\" + 0.029*\"-\" + 0.029*\"function\" + 0.025*\"array\" + 0.023*\"linear\" + 0.015*\"a1\" + 0.014*\")\"\n",
      "2021-02-18 15:29:21,753 : INFO : topic #28 (0.019): 0.340*\"(\" + 0.334*\")\" + 0.199*\"algorithm\" + 0.027*\"integr\" + 0.021*\"function\" + 0.013*\"complex\" + 0.013*\"root\" + 0.011*\"surfac\" + 0.008*\"exponenti\" + 0.007*\"real\"\n",
      "2021-02-18 15:29:21,753 : INFO : topic diff=0.603796, rho=0.389191\n",
      "2021-02-18 15:29:22,342 : INFO : -6.667 per-word bound, 101.6 perplexity estimate based on a held-out corpus of 1204 documents with 49783 words\n",
      "2021-02-18 15:29:22,343 : INFO : PROGRESS: pass 4, at document #3204/3204\n",
      "2021-02-18 15:29:22,726 : INFO : optimized alpha [0.009926373, 0.010425064, 0.011330545, 0.010560291, 0.010040484, 0.010876167, 0.011972514, 0.010552649, 0.0107487785, 0.010418585, 0.010321828, 0.011969744, 0.010597242, 0.010943071, 0.010275477, 0.01061576, 0.010699137, 0.010888445, 0.010456544, 0.010646889, 0.00984809, 0.012007199, 0.011304875, 0.010760708, 0.010679286, 0.010402567, 0.0103647625, 0.011138023, 0.02013163, 0.010340741, 0.010053631, 0.01034519, 0.010533634, 0.010609713, 0.010716265, 0.01111969, 0.010155073, 0.010797258, 0.009729901, 0.010360242, 0.009746987, 0.009696565, 0.009730038, 0.009766846, 0.010747553, 0.010340936, 0.009904799, 0.011263102, 0.010392912, 0.010863359, 0.012342768, 0.010582328, 0.010235223, 0.010762499, 0.010318666, 0.010197667, 0.010830636, 0.0100852465, 0.011013411, 0.010623715, 0.010414401, 0.00998103, 0.010026611, 0.010361812, 0.010162216, 0.010291976, 0.010508338, 0.010230252, 0.010454083, 0.009784733, 0.011077385, 0.010437621, 0.011082128, 0.01087678, 0.012243782, 0.010623737, 0.010867866, 0.010740461, 0.010631597, 0.010756479, 0.010566234, 0.009800688, 0.01008262, 0.010906621, 0.010021084, 0.010670502, 0.010267856, 0.011220244, 0.010240412, 0.0103988275, 0.010696812, 0.010789214, 0.010065725, 0.010982858, 0.010962589, 0.011095481, 0.010371289, 0.01013599, 0.009753919, 0.01048341]\n",
      "2021-02-18 15:29:22,732 : INFO : merging changes from 1204 documents into a model of 3204 documents\n",
      "2021-02-18 15:29:22,737 : INFO : topic #38 (0.010): 0.537*\"symbol\" + 0.357*\"express\" + 0.018*\"function\" + 0.012*\"recurs\" + 0.011*\"machin\" + 0.010*\"comput\" + 0.005*\",\" + 0.004*\"part\" + 0.000*\"mathemat\" + 0.000*\"idea\"\n",
      "2021-02-18 15:29:22,738 : INFO : topic #41 (0.010): 0.265*\"formula\" + 0.135*\"quadratur\" + 0.107*\"d1\" + 0.092*\"(\" + 0.082*\"[\" + 0.065*\"valu\" + 0.058*\"algorithm\" + 0.039*\"'\" + 0.035*\"gaussian\" + 0.019*\"solut\"\n",
      "2021-02-18 15:29:22,739 : INFO : topic #74 (0.012): 0.207*\"[\" + 0.194*\"algorithm\" + 0.154*\"(\" + 0.097*\"])\" + 0.033*\"linear\" + 0.028*\"-\" + 0.028*\"array\" + 0.027*\"function\" + 0.017*\"a1\" + 0.016*\")\"\n",
      "2021-02-18 15:29:22,739 : INFO : topic #50 (0.012): 0.208*\"\"\" + 0.051*\",\" + 0.050*\"work\" + 0.044*\"abstract\" + 0.038*\"set\" + 0.037*\"type\" + 0.029*\"model\" + 0.028*\"languag\" + 0.027*\"array\" + 0.025*\"corrigendum\"\n",
      "2021-02-18 15:29:22,740 : INFO : topic #28 (0.020): 0.355*\"(\" + 0.348*\")\" + 0.185*\"algorithm\" + 0.024*\"integr\" + 0.019*\"function\" + 0.014*\"complex\" + 0.010*\"root\" + 0.009*\"surfac\" + 0.008*\"exponenti\" + 0.005*\"integ\"\n",
      "2021-02-18 15:29:22,741 : INFO : topic diff=0.668703, rho=0.389191\n",
      "2021-02-18 15:29:22,748 : INFO : PROGRESS: pass 5, at document #2000/3204\n",
      "2021-02-18 15:29:23,166 : INFO : optimized alpha [0.009887456, 0.010429854, 0.011314164, 0.010609644, 0.010049714, 0.010944164, 0.0120504135, 0.01048732, 0.0108382255, 0.010496168, 0.010348324, 0.012005747, 0.010672114, 0.010941159, 0.010214465, 0.010647474, 0.010882974, 0.011010936, 0.010532848, 0.01064817, 0.00985299, 0.012004044, 0.011351642, 0.010797102, 0.010868674, 0.010413744, 0.010323991, 0.011261261, 0.02187326, 0.010305029, 0.010043814, 0.010453808, 0.010539198, 0.010552965, 0.010681841, 0.011120088, 0.010134709, 0.010995593, 0.009802973, 0.010393997, 0.0097690085, 0.009719144, 0.00974492, 0.009715812, 0.010931687, 0.010328533, 0.009873576, 0.011372982, 0.010407066, 0.01091713, 0.012449555, 0.010587093, 0.010277738, 0.010780638, 0.010441207, 0.010293028, 0.010814867, 0.010075948, 0.011096616, 0.010746373, 0.010464865, 0.010077651, 0.010026316, 0.010438957, 0.010229452, 0.010287806, 0.010531859, 0.010207962, 0.010574682, 0.009751022, 0.01107945, 0.010398745, 0.011157442, 0.01087129, 0.012707382, 0.010618869, 0.010981809, 0.010714228, 0.010770467, 0.0109629845, 0.010604022, 0.0097749205, 0.0100715365, 0.010919275, 0.010066297, 0.010667222, 0.010263676, 0.011263261, 0.010282358, 0.01043783, 0.010628318, 0.010890606, 0.010014017, 0.011110286, 0.011003143, 0.011228276, 0.0103830295, 0.010136923, 0.009747827, 0.010517293]\n",
      "2021-02-18 15:29:23,171 : INFO : merging changes from 2000 documents into a model of 3204 documents\n",
      "2021-02-18 15:29:23,177 : INFO : topic #41 (0.010): 0.290*\"formula\" + 0.131*\"quadratur\" + 0.103*\"d1\" + 0.081*\"(\" + 0.070*\"[\" + 0.067*\"valu\" + 0.055*\"algorithm\" + 0.041*\"'\" + 0.035*\"gaussian\" + 0.022*\"])\"\n",
      "2021-02-18 15:29:23,177 : INFO : topic #43 (0.010): 0.092*\",\" + 0.040*\"rout\" + 0.032*\"higher\" + 0.027*\"conflict\" + 0.027*\"step\" + 0.023*\"recogn\" + 0.023*\"side\" + 0.021*\"-\" + 0.021*\"research\" + 0.018*\"improv\"\n",
      "2021-02-18 15:29:23,178 : INFO : topic #50 (0.012): 0.224*\"\"\" + 0.051*\",\" + 0.046*\"work\" + 0.039*\"abstract\" + 0.035*\"type\" + 0.033*\"set\" + 0.029*\"languag\" + 0.028*\"model\" + 0.023*\"array\" + 0.022*\"corrigendum\"\n",
      "2021-02-18 15:29:23,179 : INFO : topic #74 (0.013): 0.209*\"[\" + 0.193*\"algorithm\" + 0.169*\"(\" + 0.143*\"])\" + 0.029*\"function\" + 0.028*\"-\" + 0.023*\"linear\" + 0.019*\"array\" + 0.017*\"a1\" + 0.010*\"solut\"\n",
      "2021-02-18 15:29:23,179 : INFO : topic #28 (0.022): 0.352*\"(\" + 0.346*\")\" + 0.193*\"algorithm\" + 0.024*\"integr\" + 0.019*\"function\" + 0.013*\"complex\" + 0.011*\"root\" + 0.008*\"exponenti\" + 0.006*\"surfac\" + 0.006*\"real\"\n",
      "2021-02-18 15:29:23,180 : INFO : topic diff=0.613676, rho=0.362690\n",
      "2021-02-18 15:29:23,710 : INFO : -6.624 per-word bound, 98.6 perplexity estimate based on a held-out corpus of 1204 documents with 49783 words\n",
      "2021-02-18 15:29:23,710 : INFO : PROGRESS: pass 5, at document #3204/3204\n",
      "2021-02-18 15:29:24,068 : INFO : optimized alpha [0.009979943, 0.010608224, 0.011523021, 0.010761496, 0.010104403, 0.011098613, 0.0124482885, 0.010620754, 0.01097517, 0.010665779, 0.010500273, 0.0124013815, 0.010868162, 0.011120003, 0.010312323, 0.010824343, 0.01093827, 0.01118924, 0.010649846, 0.010885309, 0.00990528, 0.012410962, 0.01168123, 0.010996823, 0.010908391, 0.010561364, 0.010438714, 0.011454589, 0.023689564, 0.010386526, 0.010128671, 0.010537583, 0.010637363, 0.010673445, 0.010821568, 0.011399807, 0.0103059625, 0.011080734, 0.009854638, 0.010546081, 0.009860841, 0.00973407, 0.009782511, 0.009799842, 0.011107708, 0.01044498, 0.009951875, 0.011618254, 0.010534664, 0.0111370655, 0.012987368, 0.01076392, 0.01035506, 0.010956035, 0.010592612, 0.010376828, 0.010987751, 0.0101714935, 0.011284401, 0.0108383745, 0.010607559, 0.010247735, 0.010194053, 0.010537157, 0.010285167, 0.010421242, 0.010683066, 0.010312147, 0.01069027, 0.009822483, 0.0113058165, 0.010547046, 0.011328467, 0.011086845, 0.0129491575, 0.01080536, 0.0111021865, 0.0108875055, 0.010873626, 0.011158403, 0.010789117, 0.009817831, 0.010120311, 0.011111732, 0.0100771375, 0.010877172, 0.010379812, 0.0115230065, 0.010387519, 0.010596027, 0.010805719, 0.011079663, 0.010118992, 0.011244478, 0.011183203, 0.011515903, 0.01047438, 0.010201258, 0.009790098, 0.010664443]\n",
      "2021-02-18 15:29:24,074 : INFO : merging changes from 1204 documents into a model of 3204 documents\n",
      "2021-02-18 15:29:24,079 : INFO : topic #41 (0.010): 0.279*\"formula\" + 0.138*\"quadratur\" + 0.109*\"d1\" + 0.084*\"(\" + 0.076*\"[\" + 0.075*\"valu\" + 0.052*\"algorithm\" + 0.044*\"'\" + 0.036*\"gaussian\" + 0.015*\"solut\"\n",
      "2021-02-18 15:29:24,079 : INFO : topic #98 (0.010): 0.107*\"question\" + 0.062*\"answer\" + 0.050*\",\" + 0.044*\"heurist\" + 0.040*\"drum\" + 0.031*\"-\" + 0.031*\"program\" + 0.021*\"fact\" + 0.018*\"(\" + 0.018*\"'\"\n"
     ]
    },
    {
     "name": "stderr",
     "output_type": "stream",
     "text": [
      "2021-02-18 15:29:24,080 : INFO : topic #74 (0.013): 0.221*\"[\" + 0.202*\"algorithm\" + 0.159*\"(\" + 0.105*\"])\" + 0.030*\"linear\" + 0.028*\"-\" + 0.027*\"function\" + 0.021*\"array\" + 0.019*\"a1\" + 0.012*\"greatest\"\n",
      "2021-02-18 15:29:24,080 : INFO : topic #50 (0.013): 0.231*\"\"\" + 0.052*\",\" + 0.050*\"work\" + 0.043*\"abstract\" + 0.040*\"type\" + 0.038*\"set\" + 0.029*\"array\" + 0.027*\"model\" + 0.024*\"corrigendum\" + 0.023*\"languag\"\n",
      "2021-02-18 15:29:24,081 : INFO : topic #28 (0.024): 0.364*\"(\" + 0.356*\")\" + 0.180*\"algorithm\" + 0.022*\"integr\" + 0.018*\"function\" + 0.014*\"complex\" + 0.009*\"root\" + 0.007*\"exponenti\" + 0.005*\"surfac\" + 0.004*\"integ\"\n",
      "2021-02-18 15:29:24,082 : INFO : topic diff=0.641747, rho=0.362690\n",
      "2021-02-18 15:29:24,088 : INFO : PROGRESS: pass 6, at document #2000/3204\n",
      "2021-02-18 15:29:24,498 : INFO : optimized alpha [0.009945577, 0.010619401, 0.01151882, 0.010817079, 0.010122315, 0.011162827, 0.012520263, 0.010570443, 0.011073093, 0.010737422, 0.010537585, 0.012432959, 0.010953698, 0.011129185, 0.010260886, 0.0108726, 0.011122854, 0.011315202, 0.010746034, 0.010889073, 0.009907068, 0.012408821, 0.011736043, 0.011034413, 0.0110928845, 0.010571697, 0.010404177, 0.011575583, 0.025607167, 0.01035361, 0.01011982, 0.010639157, 0.010652122, 0.010625868, 0.010798287, 0.011412238, 0.0102967145, 0.011289457, 0.009929168, 0.010585, 0.009885173, 0.009757719, 0.009798834, 0.009752472, 0.011295559, 0.010436975, 0.009929926, 0.011726287, 0.01055711, 0.011210193, 0.013111317, 0.010773386, 0.01040447, 0.010978357, 0.010720098, 0.010476239, 0.010978044, 0.010168162, 0.011367106, 0.010962662, 0.010664203, 0.010355287, 0.010207298, 0.010610371, 0.010350783, 0.010420919, 0.010703222, 0.010302102, 0.010812374, 0.009798124, 0.011308733, 0.010506594, 0.011405426, 0.011092056, 0.013408217, 0.0108057, 0.011225612, 0.010869713, 0.011009592, 0.011380223, 0.010839221, 0.009797879, 0.0101194065, 0.011134584, 0.010123969, 0.0108918585, 0.010381214, 0.0115665505, 0.010432531, 0.010643394, 0.010735232, 0.011175763, 0.010079559, 0.011381528, 0.011230785, 0.011671967, 0.0104875015, 0.010204472, 0.009788452, 0.010703485]\n",
      "2021-02-18 15:29:24,504 : INFO : merging changes from 2000 documents into a model of 3204 documents\n",
      "2021-02-18 15:29:24,509 : INFO : topic #41 (0.010): 0.306*\"formula\" + 0.136*\"quadratur\" + 0.108*\"d1\" + 0.078*\"valu\" + 0.074*\"(\" + 0.063*\"[\" + 0.048*\"algorithm\" + 0.045*\"'\" + 0.037*\"gaussian\" + 0.013*\"])\"\n",
      "2021-02-18 15:29:24,510 : INFO : topic #81 (0.010): 0.225*\",\" + 0.031*\"encod\" + 0.025*\"oper\" + 0.024*\"comput\" + 0.022*\"equival\" + 0.018*\"declar\" + 0.018*\"time\" + 0.015*\"compar\" + 0.015*\"equal\" + 0.015*\"common\"\n",
      "2021-02-18 15:29:24,510 : INFO : topic #50 (0.013): 0.247*\"\"\" + 0.052*\",\" + 0.046*\"work\" + 0.039*\"abstract\" + 0.038*\"type\" + 0.033*\"set\" + 0.026*\"model\" + 0.025*\"array\" + 0.023*\"languag\" + 0.021*\"corrigendum\"\n",
      "2021-02-18 15:29:24,511 : INFO : topic #74 (0.013): 0.219*\"[\" + 0.199*\"algorithm\" + 0.173*\"(\" + 0.147*\"])\" + 0.029*\"function\" + 0.028*\"-\" + 0.022*\"linear\" + 0.018*\"a1\" + 0.015*\"array\" + 0.009*\"f1\"\n",
      "2021-02-18 15:29:24,512 : INFO : topic #28 (0.026): 0.360*\"(\" + 0.352*\")\" + 0.187*\"algorithm\" + 0.022*\"integr\" + 0.018*\"function\" + 0.013*\"complex\" + 0.010*\"root\" + 0.007*\"exponenti\" + 0.006*\"real\" + 0.005*\"ellipt\"\n",
      "2021-02-18 15:29:24,513 : INFO : topic diff=0.571039, rho=0.340958\n",
      "2021-02-18 15:29:25,037 : INFO : -6.588 per-word bound, 96.2 perplexity estimate based on a held-out corpus of 1204 documents with 49783 words\n",
      "2021-02-18 15:29:25,038 : INFO : PROGRESS: pass 6, at document #3204/3204\n",
      "2021-02-18 15:29:25,385 : INFO : optimized alpha [0.010036424, 0.010801116, 0.011727474, 0.010955079, 0.010165646, 0.011303077, 0.012910699, 0.0107031185, 0.01121539, 0.010917265, 0.010693924, 0.0128099155, 0.011146869, 0.011296002, 0.010377456, 0.011056503, 0.011180257, 0.0115007935, 0.010875384, 0.011093316, 0.0099570155, 0.012785522, 0.0120596485, 0.011230921, 0.011138787, 0.01070877, 0.010510085, 0.011756206, 0.027676105, 0.010440132, 0.0102062225, 0.010724206, 0.010748469, 0.010734097, 0.0109371245, 0.011718843, 0.010474116, 0.011365808, 0.009994846, 0.01073854, 0.009980737, 0.009778006, 0.009832039, 0.00985198, 0.011475757, 0.010556347, 0.010015881, 0.011940413, 0.01069037, 0.011436036, 0.013676974, 0.010956775, 0.010477692, 0.011157521, 0.010863937, 0.010567244, 0.011157879, 0.010276396, 0.011539359, 0.011049456, 0.01080885, 0.010546741, 0.010381381, 0.0107214125, 0.010409458, 0.010553535, 0.010840711, 0.010395112, 0.010930995, 0.00986897, 0.011543768, 0.010644343, 0.011570922, 0.011310189, 0.013646188, 0.010986171, 0.0113362195, 0.011049618, 0.0111069055, 0.0115894945, 0.011031202, 0.009850444, 0.010180601, 0.011336773, 0.010146212, 0.011098026, 0.010497353, 0.011817857, 0.01053826, 0.010796675, 0.010900568, 0.011355769, 0.010196642, 0.011515006, 0.011392168, 0.011968504, 0.010574158, 0.010271692, 0.009837384, 0.010864413]\n",
      "2021-02-18 15:29:25,390 : INFO : merging changes from 1204 documents into a model of 3204 documents\n",
      "2021-02-18 15:29:25,396 : INFO : topic #98 (0.010): 0.112*\"question\" + 0.063*\"answer\" + 0.051*\"heurist\" + 0.050*\",\" + 0.041*\"drum\" + 0.032*\"program\" + 0.032*\"-\" + 0.022*\"fact\" + 0.018*\"method\" + 0.018*\"'\"\n",
      "2021-02-18 15:29:25,397 : INFO : topic #41 (0.010): 0.290*\"formula\" + 0.141*\"quadratur\" + 0.112*\"d1\" + 0.085*\"valu\" + 0.077*\"(\" + 0.069*\"[\" + 0.050*\"'\" + 0.048*\"algorithm\" + 0.037*\"gaussian\" + 0.013*\"-\"\n",
      "2021-02-18 15:29:25,397 : INFO : topic #74 (0.014): 0.233*\"[\" + 0.207*\"algorithm\" + 0.164*\"(\" + 0.111*\"])\" + 0.028*\"-\" + 0.027*\"function\" + 0.027*\"linear\" + 0.019*\"a1\" + 0.015*\"array\" + 0.012*\"greatest\"\n",
      "2021-02-18 15:29:25,398 : INFO : topic #50 (0.014): 0.252*\"\"\" + 0.053*\",\" + 0.049*\"work\" + 0.042*\"abstract\" + 0.041*\"type\" + 0.037*\"set\" + 0.031*\"array\" + 0.025*\"model\" + 0.024*\"corrigendum\" + 0.019*\"languag\"\n",
      "2021-02-18 15:29:25,398 : INFO : topic #28 (0.028): 0.371*\"(\" + 0.361*\")\" + 0.176*\"algorithm\" + 0.020*\"integr\" + 0.018*\"function\" + 0.014*\"complex\" + 0.008*\"root\" + 0.007*\"exponenti\" + 0.004*\"real\" + 0.004*\"integ\"\n",
      "2021-02-18 15:29:25,399 : INFO : topic diff=0.580902, rho=0.340958\n",
      "2021-02-18 15:29:25,409 : INFO : PROGRESS: pass 7, at document #2000/3204\n",
      "2021-02-18 15:29:25,802 : INFO : optimized alpha [0.010007523, 0.010823474, 0.011732445, 0.011009707, 0.010181601, 0.011360436, 0.0129817575, 0.010653816, 0.011321709, 0.011008548, 0.010732723, 0.01283744, 0.011237427, 0.011304346, 0.010337496, 0.011109377, 0.011364703, 0.011634397, 0.010986958, 0.0111123435, 0.009959341, 0.012778532, 0.012118575, 0.01127163, 0.011323283, 0.010720189, 0.010482859, 0.011877632, 0.02973418, 0.010412821, 0.010199792, 0.010819698, 0.0107696885, 0.010691194, 0.010915035, 0.011734642, 0.010473335, 0.01158157, 0.010071038, 0.010784033, 0.010007199, 0.009804303, 0.009852958, 0.009812325, 0.011668185, 0.010562548, 0.010005269, 0.0120434975, 0.010716924, 0.011514612, 0.013811651, 0.010965202, 0.010533476, 0.011189182, 0.010988032, 0.01066924, 0.011155356, 0.010276712, 0.011620213, 0.011188314, 0.010874925, 0.010661792, 0.010388498, 0.010789574, 0.010480704, 0.010561826, 0.010872077, 0.010387672, 0.011049868, 0.00984805, 0.011552903, 0.010609427, 0.011632893, 0.011308722, 0.014111139, 0.010989528, 0.011459904, 0.011035782, 0.011235427, 0.011825308, 0.011085902, 0.009832297, 0.010186966, 0.011361551, 0.01019127, 0.01113118, 0.0105073145, 0.011866057, 0.010582879, 0.0108503625, 0.010844262, 0.011451167, 0.01016435, 0.0116539765, 0.011442803, 0.01212852, 0.010592098, 0.010283624, 0.009839563, 0.01090305]\n",
      "2021-02-18 15:29:25,807 : INFO : merging changes from 2000 documents into a model of 3204 documents\n",
      "2021-02-18 15:29:25,812 : INFO : topic #41 (0.010): 0.313*\"formula\" + 0.139*\"quadratur\" + 0.110*\"d1\" + 0.094*\"valu\" + 0.069*\"(\" + 0.057*\"[\" + 0.050*\"'\" + 0.044*\"algorithm\" + 0.038*\"gaussian\" + 0.010*\"-\"\n",
      "2021-02-18 15:29:25,813 : INFO : topic #81 (0.010): 0.235*\",\" + 0.032*\"encod\" + 0.028*\"oper\" + 0.024*\"comput\" + 0.024*\"equival\" + 0.019*\"declar\" + 0.018*\"time\" + 0.018*\"compar\" + 0.017*\"common\" + 0.017*\"equal\"\n",
      "2021-02-18 15:29:25,813 : INFO : topic #50 (0.014): 0.267*\"\"\" + 0.052*\",\" + 0.046*\"work\" + 0.039*\"type\" + 0.039*\"abstract\" + 0.033*\"set\" + 0.027*\"array\" + 0.025*\"model\" + 0.021*\"corrigendum\" + 0.019*\"languag\"\n"
     ]
    },
    {
     "name": "stderr",
     "output_type": "stream",
     "text": [
      "2021-02-18 15:29:25,814 : INFO : topic #74 (0.014): 0.229*\"[\" + 0.203*\"algorithm\" + 0.177*\"(\" + 0.150*\"])\" + 0.028*\"function\" + 0.027*\"-\" + 0.020*\"linear\" + 0.018*\"a1\" + 0.011*\"array\" + 0.009*\"revis\"\n",
      "2021-02-18 15:29:25,814 : INFO : topic #28 (0.030): 0.366*\"(\" + 0.356*\")\" + 0.184*\"algorithm\" + 0.021*\"integr\" + 0.018*\"function\" + 0.014*\"complex\" + 0.008*\"root\" + 0.007*\"exponenti\" + 0.005*\"real\" + 0.005*\"ellipt\"\n",
      "2021-02-18 15:29:25,815 : INFO : topic diff=0.509440, rho=0.322715\n",
      "2021-02-18 15:29:26,328 : INFO : -6.564 per-word bound, 94.6 perplexity estimate based on a held-out corpus of 1204 documents with 49783 words\n",
      "2021-02-18 15:29:26,329 : INFO : PROGRESS: pass 7, at document #3204/3204\n",
      "2021-02-18 15:29:26,674 : INFO : optimized alpha [0.010099947, 0.011000494, 0.011932372, 0.011141481, 0.0102371145, 0.011491267, 0.0133528, 0.010789212, 0.011460607, 0.011201904, 0.01089084, 0.013205044, 0.01142585, 0.011463821, 0.010448966, 0.011312986, 0.011421367, 0.011815271, 0.011122455, 0.011332282, 0.010007357, 0.013155663, 0.012444589, 0.011463023, 0.011365951, 0.010859725, 0.010595483, 0.012050547, 0.03197294, 0.010492771, 0.01028786, 0.01089768, 0.010879243, 0.010803445, 0.011053622, 0.0120306, 0.010646054, 0.01165633, 0.01014171, 0.010942551, 0.010098447, 0.009826713, 0.009895593, 0.00990218, 0.011847112, 0.010690906, 0.010087532, 0.012248783, 0.010829867, 0.011731695, 0.014374707, 0.011134847, 0.010597594, 0.011369875, 0.011128655, 0.010773081, 0.011330336, 0.010380176, 0.011797694, 0.011267658, 0.011013223, 0.010874431, 0.010563642, 0.010898469, 0.01053088, 0.010700026, 0.011018326, 0.010479522, 0.011172055, 0.009931882, 0.011784796, 0.010752605, 0.011794329, 0.011542429, 0.014369259, 0.011171136, 0.011571208, 0.011192986, 0.011324749, 0.0120492885, 0.011279068, 0.009885595, 0.010256655, 0.011549135, 0.010212833, 0.011352972, 0.010618284, 0.012104403, 0.010686653, 0.011005696, 0.011005343, 0.011620463, 0.010284451, 0.011787422, 0.011603205, 0.012438547, 0.010683537, 0.010362052, 0.009897113, 0.011071729]\n",
      "2021-02-18 15:29:26,679 : INFO : merging changes from 1204 documents into a model of 3204 documents\n",
      "2021-02-18 15:29:26,685 : INFO : topic #41 (0.010): 0.296*\"formula\" + 0.143*\"quadratur\" + 0.114*\"d1\" + 0.106*\"valu\" + 0.071*\"(\" + 0.059*\"[\" + 0.052*\"'\" + 0.042*\"algorithm\" + 0.038*\"gaussian\" + 0.012*\"-\"\n",
      "2021-02-18 15:29:26,685 : INFO : topic #81 (0.010): 0.245*\",\" + 0.035*\"encod\" + 0.027*\"oper\" + 0.025*\"equival\" + 0.023*\"comput\" + 0.019*\"time\" + 0.019*\"compar\" + 0.019*\"common\" + 0.017*\"equal\" + 0.016*\"heurist\"\n",
      "2021-02-18 15:29:26,686 : INFO : topic #74 (0.014): 0.245*\"[\" + 0.207*\"algorithm\" + 0.168*\"(\" + 0.116*\"])\" + 0.028*\"-\" + 0.027*\"function\" + 0.024*\"linear\" + 0.020*\"a1\" + 0.011*\"greatest\" + 0.011*\"m1\"\n",
      "2021-02-18 15:29:26,687 : INFO : topic #50 (0.014): 0.270*\"\"\" + 0.053*\",\" + 0.049*\"work\" + 0.042*\"abstract\" + 0.042*\"type\" + 0.037*\"set\" + 0.032*\"array\" + 0.025*\"model\" + 0.023*\"corrigendum\" + 0.017*\"defin\"\n",
      "2021-02-18 15:29:26,687 : INFO : topic #28 (0.032): 0.376*\"(\" + 0.364*\")\" + 0.173*\"algorithm\" + 0.019*\"integr\" + 0.017*\"function\" + 0.015*\"complex\" + 0.007*\"exponenti\" + 0.007*\"root\" + 0.004*\"real\" + 0.004*\"integ\"\n",
      "2021-02-18 15:29:26,688 : INFO : topic diff=0.513109, rho=0.322715\n",
      "2021-02-18 15:29:26,694 : INFO : PROGRESS: pass 8, at document #2000/3204\n",
      "2021-02-18 15:29:27,087 : INFO : optimized alpha [0.010074349, 0.011029847, 0.011943973, 0.011198854, 0.010259093, 0.011564031, 0.013431642, 0.010748906, 0.011559399, 0.0112964455, 0.01092777, 0.01322933, 0.011516269, 0.011471508, 0.010417626, 0.011368565, 0.011602952, 0.011949506, 0.011242076, 0.0113497, 0.010011671, 0.013142094, 0.012499921, 0.011503319, 0.011549345, 0.01087716, 0.010572978, 0.012172873, 0.034146447, 0.010481947, 0.010285186, 0.010991185, 0.010908067, 0.010771187, 0.011042742, 0.012057224, 0.010648075, 0.011867196, 0.010218112, 0.010997591, 0.010125387, 0.00985388, 0.00991755, 0.009869417, 0.0120465, 0.010698476, 0.010079374, 0.0123589365, 0.010863867, 0.011824782, 0.014511817, 0.011147643, 0.010661126, 0.011403393, 0.01125177, 0.010872872, 0.011334484, 0.01038223, 0.011878844, 0.011398059, 0.011078352, 0.011008807, 0.010571617, 0.010965515, 0.01059944, 0.010714477, 0.011058323, 0.010475977, 0.011286652, 0.009915368, 0.011794439, 0.010714117, 0.011848095, 0.011550628, 0.014831171, 0.011178932, 0.011693832, 0.011184672, 0.01145377, 0.012292621, 0.011338319, 0.009873553, 0.010266334, 0.011575965, 0.010254835, 0.011389362, 0.010624586, 0.012151657, 0.010732741, 0.011056974, 0.010954875, 0.011708443, 0.010255268, 0.0119269, 0.011649743, 0.012608716, 0.0107042305, 0.01036579, 0.009901175, 0.011108457]\n",
      "2021-02-18 15:29:27,092 : INFO : merging changes from 2000 documents into a model of 3204 documents\n",
      "2021-02-18 15:29:27,098 : INFO : topic #41 (0.010): 0.317*\"formula\" + 0.141*\"quadratur\" + 0.114*\"valu\" + 0.111*\"d1\" + 0.064*\"(\" + 0.051*\"'\" + 0.049*\"[\" + 0.038*\"algorithm\" + 0.038*\"gaussian\" + 0.010*\"characterist\"\n",
      "2021-02-18 15:29:27,098 : INFO : topic #81 (0.010): 0.243*\",\" + 0.033*\"encod\" + 0.029*\"oper\" + 0.026*\"equival\" + 0.025*\"comput\" + 0.019*\"compar\" + 0.019*\"time\" + 0.018*\"declar\" + 0.018*\"equal\" + 0.018*\"common\"\n",
      "2021-02-18 15:29:27,099 : INFO : topic #50 (0.015): 0.284*\"\"\" + 0.053*\",\" + 0.046*\"work\" + 0.040*\"type\" + 0.039*\"abstract\" + 0.033*\"set\" + 0.028*\"array\" + 0.024*\"model\" + 0.021*\"corrigendum\" + 0.017*\"defin\"\n",
      "2021-02-18 15:29:27,099 : INFO : topic #74 (0.015): 0.237*\"[\" + 0.204*\"algorithm\" + 0.180*\"(\" + 0.151*\"])\" + 0.028*\"function\" + 0.027*\"-\" + 0.018*\"linear\" + 0.018*\"a1\" + 0.010*\"s14\" + 0.010*\"revis\"\n",
      "2021-02-18 15:29:27,099 : INFO : topic #28 (0.034): 0.370*\"(\" + 0.359*\")\" + 0.181*\"algorithm\" + 0.020*\"integr\" + 0.017*\"function\" + 0.014*\"complex\" + 0.007*\"exponenti\" + 0.006*\"root\" + 0.005*\"real\" + 0.004*\"ellipt\"\n",
      "2021-02-18 15:29:27,100 : INFO : topic diff=0.447329, rho=0.307119\n",
      "2021-02-18 15:29:27,613 : INFO : -6.540 per-word bound, 93.1 perplexity estimate based on a held-out corpus of 1204 documents with 49783 words\n",
      "2021-02-18 15:29:27,614 : INFO : PROGRESS: pass 8, at document #3204/3204\n",
      "2021-02-18 15:29:27,955 : INFO : optimized alpha [0.010165831, 0.011197364, 0.012142689, 0.011333971, 0.010312387, 0.011686666, 0.013799292, 0.010884465, 0.01169271, 0.011491884, 0.01107441, 0.013582598, 0.011712571, 0.011624709, 0.0105355615, 0.011568098, 0.01165626, 0.0121266795, 0.011389806, 0.011567666, 0.010060618, 0.013510957, 0.01282647, 0.011684787, 0.011586347, 0.011019637, 0.01068398, 0.01234844, 0.036529377, 0.010569672, 0.010380328, 0.011065743, 0.011013298, 0.010876225, 0.011204569, 0.012359636, 0.01082254, 0.011940871, 0.010301395, 0.011164131, 0.010220722, 0.009885868, 0.009956176, 0.009971049, 0.012228108, 0.01082737, 0.010155897, 0.012566094, 0.010980795, 0.012037326, 0.015077822, 0.011316559, 0.010728072, 0.011586116, 0.011392699, 0.010978059, 0.0115144625, 0.0104950415, 0.012028308, 0.01147378, 0.011228199, 0.0112234065, 0.010748447, 0.011078412, 0.0106502175, 0.010852893, 0.011213245, 0.010569665, 0.011400862, 0.00999093, 0.012024078, 0.010848887, 0.012000276, 0.011779296, 0.015064709, 0.011359481, 0.011812302, 0.011338571, 0.0115389405, 0.0125193065, 0.011536321, 0.0099327285, 0.010336089, 0.0117626125, 0.010283693, 0.01159779, 0.010733881, 0.012381716, 0.010840512, 0.011203576, 0.01112089, 0.011880381, 0.010370599, 0.012057925, 0.011788838, 0.012920245, 0.010797612, 0.010441251, 0.009956703, 0.011276527]\n",
      "2021-02-18 15:29:27,960 : INFO : merging changes from 1204 documents into a model of 3204 documents\n",
      "2021-02-18 15:29:27,966 : INFO : topic #41 (0.010): 0.297*\"formula\" + 0.143*\"quadratur\" + 0.134*\"valu\" + 0.114*\"d1\" + 0.066*\"(\" + 0.052*\"'\" + 0.051*\"[\" + 0.038*\"gaussian\" + 0.037*\"algorithm\" + 0.012*\"-\"\n",
      "2021-02-18 15:29:27,966 : INFO : topic #98 (0.010): 0.126*\"question\" + 0.069*\"answer\" + 0.065*\"heurist\" + 0.045*\",\" + 0.045*\"drum\" + 0.033*\"-\" + 0.033*\"program\" + 0.023*\"fact\" + 0.020*\"method\" + 0.018*\"pack\"\n",
      "2021-02-18 15:29:27,967 : INFO : topic #74 (0.015): 0.254*\"[\" + 0.207*\"algorithm\" + 0.172*\"(\" + 0.120*\"])\" + 0.027*\"-\" + 0.026*\"function\" + 0.022*\"linear\" + 0.020*\"a1\" + 0.012*\"m1\" + 0.011*\"greatest\"\n",
      "2021-02-18 15:29:27,967 : INFO : topic #50 (0.015): 0.284*\"\"\" + 0.054*\",\" + 0.049*\"work\" + 0.043*\"type\" + 0.042*\"abstract\" + 0.036*\"set\" + 0.033*\"array\" + 0.025*\"model\" + 0.023*\"corrigendum\" + 0.017*\"defin\"\n"
     ]
    },
    {
     "name": "stderr",
     "output_type": "stream",
     "text": [
      "2021-02-18 15:29:27,967 : INFO : topic #28 (0.037): 0.380*\"(\" + 0.365*\")\" + 0.172*\"algorithm\" + 0.019*\"integr\" + 0.017*\"function\" + 0.015*\"complex\" + 0.007*\"exponenti\" + 0.006*\"root\" + 0.004*\"real\" + 0.004*\"integ\"\n",
      "2021-02-18 15:29:27,968 : INFO : topic diff=0.450283, rho=0.307119\n",
      "2021-02-18 15:29:27,974 : INFO : PROGRESS: pass 9, at document #2000/3204\n",
      "2021-02-18 15:29:28,360 : INFO : optimized alpha [0.010143123, 0.011231877, 0.012171556, 0.011390786, 0.010336968, 0.011762004, 0.013875972, 0.01084749, 0.011795012, 0.01159165, 0.011113006, 0.013597917, 0.011803059, 0.011631935, 0.010508732, 0.011628135, 0.011835727, 0.012254852, 0.011520792, 0.011592265, 0.010065252, 0.013487348, 0.012884333, 0.011723234, 0.0117675895, 0.01102975, 0.0106657, 0.01247761, 0.03883366, 0.010554931, 0.010377951, 0.011157716, 0.011046106, 0.010844057, 0.01119218, 0.012398484, 0.010825656, 0.01215115, 0.010376717, 0.011220334, 0.010249748, 0.009913865, 0.009980703, 0.009941357, 0.012420731, 0.010839353, 0.010148471, 0.012675985, 0.011016798, 0.01214467, 0.015222244, 0.011328505, 0.010797439, 0.011626603, 0.011506915, 0.011084289, 0.0115196565, 0.010497039, 0.012101256, 0.01160507, 0.011297407, 0.011365513, 0.010757175, 0.011146327, 0.010725962, 0.010869892, 0.011251541, 0.010571272, 0.011516788, 0.009976973, 0.012030605, 0.010815217, 0.012046457, 0.011793332, 0.015521713, 0.011366523, 0.011939532, 0.011338705, 0.01166553, 0.01277813, 0.011605117, 0.009924676, 0.010347288, 0.011801997, 0.010326025, 0.011640862, 0.010736867, 0.012430145, 0.010888117, 0.011259369, 0.011078756, 0.011966879, 0.010356575, 0.01220367, 0.011840445, 0.013093434, 0.010819291, 0.010449782, 0.009962507, 0.011311536]\n",
      "2021-02-18 15:29:28,365 : INFO : merging changes from 2000 documents into a model of 3204 documents\n",
      "2021-02-18 15:29:28,370 : INFO : topic #81 (0.010): 0.249*\",\" + 0.033*\"encod\" + 0.030*\"oper\" + 0.026*\"equival\" + 0.025*\"comput\" + 0.020*\"compar\" + 0.019*\"time\" + 0.019*\"common\" + 0.018*\"equal\" + 0.018*\"declar\"\n",
      "2021-02-18 15:29:28,371 : INFO : topic #41 (0.010): 0.316*\"formula\" + 0.141*\"quadratur\" + 0.138*\"valu\" + 0.111*\"d1\" + 0.059*\"(\" + 0.051*\"'\" + 0.042*\"[\" + 0.038*\"gaussian\" + 0.034*\"algorithm\" + 0.010*\"-\"\n",
      "2021-02-18 15:29:28,372 : INFO : topic #50 (0.015): 0.298*\"\"\" + 0.053*\",\" + 0.046*\"work\" + 0.040*\"type\" + 0.039*\"abstract\" + 0.033*\"set\" + 0.029*\"array\" + 0.024*\"model\" + 0.021*\"corrigendum\" + 0.017*\"defin\"\n",
      "2021-02-18 15:29:28,372 : INFO : topic #74 (0.016): 0.243*\"[\" + 0.205*\"algorithm\" + 0.183*\"(\" + 0.152*\"])\" + 0.027*\"-\" + 0.027*\"function\" + 0.018*\"a1\" + 0.016*\"linear\" + 0.010*\"s14\" + 0.010*\"revis\"\n",
      "2021-02-18 15:29:28,373 : INFO : topic #28 (0.039): 0.374*\"(\" + 0.361*\")\" + 0.179*\"algorithm\" + 0.020*\"integr\" + 0.017*\"function\" + 0.014*\"complex\" + 0.007*\"exponenti\" + 0.005*\"root\" + 0.005*\"real\" + 0.004*\"ellipt\"\n",
      "2021-02-18 15:29:28,373 : INFO : topic diff=0.392410, rho=0.293585\n",
      "2021-02-18 15:29:28,900 : INFO : -6.524 per-word bound, 92.0 perplexity estimate based on a held-out corpus of 1204 documents with 49783 words\n",
      "2021-02-18 15:29:28,901 : INFO : PROGRESS: pass 9, at document #3204/3204\n",
      "2021-02-18 15:29:29,232 : INFO : optimized alpha [0.010238953, 0.011404837, 0.012375841, 0.011523871, 0.010393695, 0.011888875, 0.014238142, 0.010980876, 0.011920592, 0.0117983725, 0.0112546, 0.013935106, 0.012001894, 0.011782735, 0.010614811, 0.011827267, 0.011894678, 0.012426062, 0.011686309, 0.011795028, 0.010115176, 0.0138425445, 0.013218923, 0.011904386, 0.011805109, 0.011167223, 0.010793835, 0.012656335, 0.041302085, 0.010629326, 0.010474866, 0.0112293055, 0.011153118, 0.010953409, 0.011345622, 0.012705346, 0.010997012, 0.01222108, 0.01045946, 0.011384164, 0.010341711, 0.0099594705, 0.010015736, 0.010046732, 0.012599486, 0.01096905, 0.010219908, 0.012879619, 0.011137866, 0.012347866, 0.015792796, 0.011502882, 0.010859298, 0.011809123, 0.011631677, 0.011201862, 0.0116992425, 0.010608562, 0.01224847, 0.011680447, 0.01144491, 0.011599349, 0.010936201, 0.01126324, 0.010787932, 0.011003554, 0.011409488, 0.010661684, 0.011635404, 0.010059714, 0.012244225, 0.0109452475, 0.012193251, 0.012023734, 0.015754405, 0.011532665, 0.012059325, 0.011487294, 0.011741381, 0.013005122, 0.011799905, 0.009974634, 0.010424912, 0.011988305, 0.010356599, 0.011854349, 0.010852845, 0.012659258, 0.011008036, 0.011403579, 0.01123912, 0.012127118, 0.010465326, 0.012338791, 0.011977522, 0.013407589, 0.010906777, 0.01052787, 0.010016204, 0.011490542]\n",
      "2021-02-18 15:29:29,237 : INFO : merging changes from 1204 documents into a model of 3204 documents\n",
      "2021-02-18 15:29:29,242 : INFO : topic #41 (0.010): 0.293*\"formula\" + 0.164*\"valu\" + 0.141*\"quadratur\" + 0.112*\"d1\" + 0.060*\"(\" + 0.054*\"'\" + 0.041*\"[\" + 0.037*\"gaussian\" + 0.034*\"algorithm\" + 0.011*\"-\"\n",
      "2021-02-18 15:29:29,243 : INFO : topic #98 (0.010): 0.131*\"question\" + 0.071*\"answer\" + 0.068*\"heurist\" + 0.046*\"drum\" + 0.043*\",\" + 0.034*\"-\" + 0.033*\"program\" + 0.023*\"fact\" + 0.021*\"method\" + 0.019*\"artifici\"\n",
      "2021-02-18 15:29:29,244 : INFO : topic #74 (0.016): 0.260*\"[\" + 0.207*\"algorithm\" + 0.175*\"(\" + 0.122*\"])\" + 0.027*\"-\" + 0.026*\"function\" + 0.020*\"linear\" + 0.020*\"a1\" + 0.012*\"m1\" + 0.012*\"revis\"\n",
      "2021-02-18 15:29:29,244 : INFO : topic #50 (0.016): 0.298*\"\"\" + 0.054*\",\" + 0.048*\"work\" + 0.043*\"type\" + 0.042*\"abstract\" + 0.035*\"set\" + 0.033*\"array\" + 0.024*\"model\" + 0.023*\"corrigendum\" + 0.016*\"defin\"\n",
      "2021-02-18 15:29:29,245 : INFO : topic #28 (0.041): 0.383*\"(\" + 0.366*\")\" + 0.170*\"algorithm\" + 0.018*\"integr\" + 0.016*\"function\" + 0.015*\"complex\" + 0.007*\"exponenti\" + 0.005*\"root\" + 0.004*\"real\" + 0.004*\"integ\"\n",
      "2021-02-18 15:29:29,245 : INFO : topic diff=0.395879, rho=0.293585\n",
      "2021-02-18 15:29:29,256 : INFO : PROGRESS: pass 10, at document #2000/3204\n",
      "2021-02-18 15:29:29,645 : INFO : optimized alpha [0.010218831, 0.011444272, 0.0124051105, 0.011588417, 0.0104221245, 0.011958466, 0.014318948, 0.010946879, 0.012023088, 0.011910062, 0.011291709, 0.013951966, 0.012092768, 0.011794526, 0.010593779, 0.011893499, 0.012071031, 0.012555643, 0.011820504, 0.011814902, 0.010118701, 0.013813331, 0.013279284, 0.01193778, 0.011983213, 0.011183142, 0.010782378, 0.0127943205, 0.04370652, 0.010626167, 0.010474272, 0.011320109, 0.011189593, 0.010924257, 0.011333421, 0.012739874, 0.011001171, 0.012427936, 0.010532518, 0.011446283, 0.010368378, 0.009988205, 0.010041226, 0.010019762, 0.012798328, 0.010988287, 0.010223345, 0.012982358, 0.011171117, 0.012457144, 0.01592933, 0.011510738, 0.010931241, 0.01184613, 0.011745834, 0.011314473, 0.01170545, 0.010610521, 0.012320859, 0.011811335, 0.011524596, 0.011747929, 0.0109503465, 0.011330543, 0.010864474, 0.011023041, 0.011447858, 0.010671081, 0.011749715, 0.010046587, 0.012249805, 0.010909693, 0.01224466, 0.012043231, 0.01620935, 0.011540757, 0.012191398, 0.011488826, 0.011862599, 0.013271042, 0.011871342, 0.009971662, 0.010437481, 0.012029431, 0.010399319, 0.011900477, 0.01085884, 0.01270894, 0.011057118, 0.011455802, 0.011199943, 0.012208996, 0.010453432, 0.012480602, 0.012025689, 0.013582242, 0.010929451, 0.01053642, 0.010022208, 0.011532083]\n",
      "2021-02-18 15:29:29,650 : INFO : merging changes from 2000 documents into a model of 3204 documents\n",
      "2021-02-18 15:29:29,656 : INFO : topic #81 (0.010): 0.259*\",\" + 0.033*\"encod\" + 0.031*\"oper\" + 0.027*\"equival\" + 0.025*\"comput\" + 0.021*\"compar\" + 0.020*\"equal\" + 0.019*\"common\" + 0.018*\"declar\" + 0.017*\"time\"\n",
      "2021-02-18 15:29:29,656 : INFO : topic #43 (0.010): 0.085*\",\" + 0.045*\"research\" + 0.039*\"rout\" + 0.036*\"higher\" + 0.036*\"step\" + 0.035*\"side\" + 0.033*\"improv\" + 0.031*\"conflict\" + 0.027*\"methodolog\" + 0.025*\"recogn\"\n",
      "2021-02-18 15:29:29,657 : INFO : topic #50 (0.016): 0.311*\"\"\" + 0.053*\",\" + 0.046*\"work\" + 0.040*\"type\" + 0.039*\"abstract\" + 0.033*\"set\" + 0.029*\"array\" + 0.023*\"model\" + 0.021*\"corrigendum\" + 0.017*\"defin\"\n",
      "2021-02-18 15:29:29,658 : INFO : topic #74 (0.016): 0.248*\"[\" + 0.205*\"algorithm\" + 0.185*\"(\" + 0.153*\"])\" + 0.027*\"-\" + 0.026*\"function\" + 0.018*\"a1\" + 0.015*\"linear\" + 0.011*\"s14\" + 0.010*\"revis\"\n",
      "2021-02-18 15:29:29,658 : INFO : topic #28 (0.044): 0.377*\"(\" + 0.361*\")\" + 0.178*\"algorithm\" + 0.020*\"integr\" + 0.016*\"function\" + 0.014*\"complex\" + 0.007*\"exponenti\" + 0.005*\"root\" + 0.005*\"real\" + 0.004*\"ellipt\"\n"
     ]
    },
    {
     "name": "stderr",
     "output_type": "stream",
     "text": [
      "2021-02-18 15:29:29,659 : INFO : topic diff=0.345614, rho=0.281696\n",
      "2021-02-18 15:29:30,176 : INFO : -6.509 per-word bound, 91.1 perplexity estimate based on a held-out corpus of 1204 documents with 49783 words\n",
      "2021-02-18 15:29:30,176 : INFO : PROGRESS: pass 10, at document #3204/3204\n",
      "2021-02-18 15:29:30,508 : INFO : optimized alpha [0.010311738, 0.011612061, 0.012612497, 0.011714528, 0.010477043, 0.012089786, 0.014679918, 0.011078603, 0.012141676, 0.012122835, 0.011431557, 0.014280607, 0.012300394, 0.011934986, 0.010704002, 0.012090098, 0.012127206, 0.012727551, 0.0119869085, 0.012011895, 0.010171966, 0.0141531145, 0.013610061, 0.012122034, 0.012018583, 0.011316365, 0.010901426, 0.012970648, 0.04629423, 0.010705852, 0.010565625, 0.011391757, 0.011306457, 0.011032799, 0.011495448, 0.013063823, 0.011180461, 0.01249163, 0.010614978, 0.011613357, 0.010467087, 0.010037151, 0.0100777205, 0.010126593, 0.012977914, 0.011116583, 0.010292561, 0.013173976, 0.011285759, 0.012660569, 0.016497876, 0.011690814, 0.011001196, 0.012028946, 0.011872023, 0.011436255, 0.011885203, 0.010733537, 0.0124634635, 0.011892242, 0.01167028, 0.011987758, 0.0111320475, 0.0114464015, 0.010929336, 0.011152532, 0.011603744, 0.010758641, 0.011864414, 0.010133839, 0.012454398, 0.011035607, 0.012389635, 0.012284648, 0.016437707, 0.011701813, 0.012327087, 0.011632673, 0.0119355135, 0.013502222, 0.012069336, 0.010025031, 0.010512681, 0.012218839, 0.010436409, 0.012105367, 0.010981483, 0.012928703, 0.011180992, 0.0115929, 0.011352683, 0.012358515, 0.010561226, 0.012617257, 0.012158353, 0.013902961, 0.011019313, 0.0106196385, 0.010076696, 0.011714166]\n",
      "2021-02-18 15:29:30,513 : INFO : merging changes from 1204 documents into a model of 3204 documents\n",
      "2021-02-18 15:29:30,519 : INFO : topic #81 (0.010): 0.271*\",\" + 0.035*\"encod\" + 0.030*\"oper\" + 0.027*\"equival\" + 0.023*\"comput\" + 0.022*\"compar\" + 0.020*\"common\" + 0.020*\"equal\" + 0.017*\"heurist\" + 0.016*\"time\"\n",
      "2021-02-18 15:29:30,520 : INFO : topic #98 (0.010): 0.134*\"question\" + 0.073*\"answer\" + 0.070*\"heurist\" + 0.048*\"drum\" + 0.042*\",\" + 0.036*\"-\" + 0.032*\"program\" + 0.024*\"fact\" + 0.021*\"method\" + 0.020*\"artifici\"\n",
      "2021-02-18 15:29:30,520 : INFO : topic #74 (0.016): 0.265*\"[\" + 0.208*\"algorithm\" + 0.177*\"(\" + 0.124*\"])\" + 0.027*\"-\" + 0.024*\"function\" + 0.020*\"a1\" + 0.018*\"linear\" + 0.012*\"revis\" + 0.012*\"m1\"\n",
      "2021-02-18 15:29:30,521 : INFO : topic #50 (0.016): 0.308*\"\"\" + 0.053*\",\" + 0.048*\"work\" + 0.042*\"abstract\" + 0.042*\"type\" + 0.035*\"set\" + 0.033*\"array\" + 0.023*\"corrigendum\" + 0.023*\"model\" + 0.017*\",\"\"\n",
      "2021-02-18 15:29:30,521 : INFO : topic #28 (0.046): 0.385*\"(\" + 0.365*\")\" + 0.170*\"algorithm\" + 0.018*\"integr\" + 0.016*\"function\" + 0.015*\"complex\" + 0.007*\"exponenti\" + 0.004*\"root\" + 0.004*\"real\" + 0.004*\"integ\"\n",
      "2021-02-18 15:29:30,522 : INFO : topic diff=0.350802, rho=0.281696\n",
      "2021-02-18 15:29:30,528 : INFO : PROGRESS: pass 11, at document #2000/3204\n",
      "2021-02-18 15:29:30,914 : INFO : optimized alpha [0.01029394, 0.011656347, 0.01263848, 0.01178352, 0.010507801, 0.012155669, 0.014760961, 0.0110487975, 0.012244641, 0.012238268, 0.011468929, 0.01429521, 0.01239359, 0.011941386, 0.010685326, 0.012162347, 0.0122993225, 0.012850297, 0.012126185, 0.012033889, 0.010175821, 0.014120681, 0.013671273, 0.012158938, 0.012195653, 0.011331609, 0.010891896, 0.013114011, 0.04879459, 0.010704596, 0.010566681, 0.011476992, 0.011346492, 0.011006387, 0.0114833275, 0.013099543, 0.011187027, 0.012693888, 0.010687444, 0.011684574, 0.01049153, 0.010067983, 0.010112375, 0.010104824, 0.013172832, 0.011138229, 0.010290599, 0.013273696, 0.011324122, 0.012773714, 0.016628869, 0.01169955, 0.0110771395, 0.012067754, 0.011989666, 0.011549105, 0.011895632, 0.010741272, 0.012542281, 0.0120295435, 0.011752387, 0.012143029, 0.011148301, 0.011513296, 0.011006738, 0.011172854, 0.0116423555, 0.010766517, 0.011974065, 0.010122749, 0.012459199, 0.011001334, 0.012442731, 0.012299318, 0.016898006, 0.011707811, 0.0124642225, 0.011638817, 0.012053545, 0.0137758395, 0.012141923, 0.010022644, 0.010528005, 0.012260068, 0.010479504, 0.012157938, 0.010990231, 0.012976313, 0.011228562, 0.011646606, 0.011325543, 0.012443007, 0.010552715, 0.012758988, 0.012209985, 0.0140739195, 0.011042943, 0.010632511, 0.010084238, 0.011750942]\n",
      "2021-02-18 15:29:30,919 : INFO : merging changes from 2000 documents into a model of 3204 documents\n",
      "2021-02-18 15:29:30,924 : INFO : topic #81 (0.010): 0.268*\",\" + 0.033*\"encod\" + 0.031*\"oper\" + 0.028*\"equival\" + 0.025*\"comput\" + 0.022*\"compar\" + 0.020*\"equal\" + 0.019*\"common\" + 0.018*\"declar\" + 0.015*\"need\"\n",
      "2021-02-18 15:29:30,925 : INFO : topic #41 (0.010): 0.311*\"formula\" + 0.189*\"valu\" + 0.138*\"quadratur\" + 0.110*\"d1\" + 0.056*\"'\" + 0.049*\"(\" + 0.036*\"gaussian\" + 0.028*\"algorithm\" + 0.026*\"[\" + 0.009*\"-\"\n",
      "2021-02-18 15:29:30,925 : INFO : topic #50 (0.017): 0.321*\"\"\" + 0.053*\",\" + 0.046*\"work\" + 0.039*\"type\" + 0.039*\"abstract\" + 0.032*\"set\" + 0.030*\"array\" + 0.023*\"model\" + 0.021*\"corrigendum\" + 0.017*\",\"\"\n",
      "2021-02-18 15:29:30,926 : INFO : topic #74 (0.017): 0.252*\"[\" + 0.206*\"algorithm\" + 0.186*\"(\" + 0.152*\"])\" + 0.027*\"-\" + 0.025*\"function\" + 0.018*\"a1\" + 0.014*\"linear\" + 0.012*\"s14\" + 0.010*\"revis\"\n",
      "2021-02-18 15:29:30,926 : INFO : topic #28 (0.049): 0.380*\"(\" + 0.361*\")\" + 0.177*\"algorithm\" + 0.019*\"integr\" + 0.016*\"function\" + 0.014*\"complex\" + 0.007*\"exponenti\" + 0.005*\"real\" + 0.004*\"root\" + 0.004*\"ellipt\"\n",
      "2021-02-18 15:29:30,926 : INFO : topic diff=0.306844, rho=0.271143\n",
      "2021-02-18 15:29:31,429 : INFO : -6.496 per-word bound, 90.3 perplexity estimate based on a held-out corpus of 1204 documents with 49783 words\n",
      "2021-02-18 15:29:31,430 : INFO : PROGRESS: pass 11, at document #3204/3204\n",
      "2021-02-18 15:29:31,759 : INFO : optimized alpha [0.010391241, 0.011830228, 0.012860735, 0.011916528, 0.010561105, 0.01228872, 0.015135026, 0.011179235, 0.01235956, 0.012460219, 0.011610045, 0.014623017, 0.012590732, 0.01206955, 0.010794816, 0.012365277, 0.012352993, 0.013008796, 0.0122911995, 0.012244814, 0.010230004, 0.014452519, 0.014005397, 0.01233553, 0.012231863, 0.011453304, 0.011014933, 0.013285574, 0.051464126, 0.010799076, 0.010657797, 0.011546301, 0.011462621, 0.01110927, 0.011635633, 0.013432243, 0.011366755, 0.01275753, 0.010769771, 0.011844737, 0.010587423, 0.010124544, 0.010157117, 0.010215455, 0.0133536095, 0.011260257, 0.010357965, 0.0134631945, 0.011448489, 0.012969372, 0.017184626, 0.011882794, 0.011147399, 0.012251261, 0.012112128, 0.011680394, 0.012070542, 0.010860829, 0.012692318, 0.012104938, 0.011894065, 0.012383874, 0.011325373, 0.011630915, 0.011072119, 0.011308802, 0.011794016, 0.010851632, 0.012090542, 0.01020524, 0.01264987, 0.0111236945, 0.012586282, 0.012529483, 0.017107198, 0.011869728, 0.012595943, 0.011789065, 0.0121239005, 0.013999157, 0.012337904, 0.010081505, 0.010608248, 0.012438972, 0.010522733, 0.0123495115, 0.011114392, 0.013187536, 0.011354083, 0.011779716, 0.011479092, 0.012585407, 0.010664512, 0.0128885675, 0.012344192, 0.014398993, 0.011135318, 0.010715849, 0.0101349875, 0.011928322]\n",
      "2021-02-18 15:29:31,764 : INFO : merging changes from 1204 documents into a model of 3204 documents\n",
      "2021-02-18 15:29:31,769 : INFO : topic #81 (0.010): 0.279*\",\" + 0.035*\"encod\" + 0.030*\"oper\" + 0.027*\"equival\" + 0.023*\"comput\" + 0.023*\"compar\" + 0.020*\"common\" + 0.020*\"equal\" + 0.017*\"heurist\" + 0.015*\"declar\"\n",
      "2021-02-18 15:29:31,770 : INFO : topic #98 (0.010): 0.137*\"question\" + 0.074*\"answer\" + 0.072*\"heurist\" + 0.048*\"drum\" + 0.041*\",\" + 0.037*\"-\" + 0.032*\"program\" + 0.024*\"fact\" + 0.022*\"method\" + 0.021*\"artifici\"\n",
      "2021-02-18 15:29:31,771 : INFO : topic #74 (0.017): 0.270*\"[\" + 0.208*\"algorithm\" + 0.179*\"(\" + 0.126*\"])\" + 0.027*\"-\" + 0.024*\"function\" + 0.020*\"a1\" + 0.015*\"linear\" + 0.012*\"revis\" + 0.012*\"m1\"\n",
      "2021-02-18 15:29:31,771 : INFO : topic #50 (0.017): 0.318*\"\"\" + 0.053*\",\" + 0.048*\"work\" + 0.043*\"abstract\" + 0.042*\"type\" + 0.034*\"set\" + 0.032*\"array\" + 0.023*\"corrigendum\" + 0.022*\"model\" + 0.018*\",\"\"\n",
      "2021-02-18 15:29:31,772 : INFO : topic #28 (0.051): 0.388*\"(\" + 0.365*\")\" + 0.170*\"algorithm\" + 0.018*\"integr\" + 0.016*\"function\" + 0.015*\"complex\" + 0.006*\"exponenti\" + 0.004*\"root\" + 0.004*\"real\" + 0.004*\"integ\"\n",
      "2021-02-18 15:29:31,773 : INFO : topic diff=0.313207, rho=0.271143\n"
     ]
    },
    {
     "name": "stderr",
     "output_type": "stream",
     "text": [
      "2021-02-18 15:29:31,779 : INFO : PROGRESS: pass 12, at document #2000/3204\n",
      "2021-02-18 15:29:32,187 : INFO : optimized alpha [0.010374143, 0.011873053, 0.012897399, 0.011982099, 0.01059678, 0.01235115, 0.015222483, 0.01115183, 0.012463183, 0.012576265, 0.0116492845, 0.014645077, 0.0126863895, 0.012078902, 0.010773972, 0.012453338, 0.012522968, 0.013121737, 0.012434098, 0.0122737195, 0.010240781, 0.014420887, 0.014067548, 0.012371056, 0.012405104, 0.011466489, 0.0110056205, 0.013427512, 0.05402362, 0.010798053, 0.010658995, 0.01163394, 0.0115046445, 0.011085392, 0.011628313, 0.013474368, 0.011369717, 0.012955707, 0.010843227, 0.011913947, 0.010613956, 0.010161306, 0.010205748, 0.010191703, 0.013548583, 0.011284219, 0.0103605045, 0.013561961, 0.011479709, 0.013086522, 0.017310223, 0.011890751, 0.011220064, 0.012290292, 0.012227022, 0.011790661, 0.012080323, 0.010866902, 0.012769037, 0.012240729, 0.011977164, 0.012539655, 0.011345213, 0.01170062, 0.011151994, 0.011332916, 0.011839186, 0.010852263, 0.01220877, 0.010196102, 0.012640582, 0.011093554, 0.012632783, 0.012547931, 0.0175574, 0.011881504, 0.012736467, 0.011793288, 0.01223751, 0.014277244, 0.012411641, 0.010080909, 0.0106261205, 0.012475448, 0.010566226, 0.0124019915, 0.011130133, 0.013236752, 0.0114047155, 0.01183184, 0.011458642, 0.01266266, 0.010656319, 0.013021993, 0.012397616, 0.014579776, 0.011158398, 0.010731325, 0.010141342, 0.011974669]\n",
      "2021-02-18 15:29:32,193 : INFO : merging changes from 2000 documents into a model of 3204 documents\n",
      "2021-02-18 15:29:32,204 : INFO : topic #81 (0.010): 0.276*\",\" + 0.033*\"encod\" + 0.032*\"oper\" + 0.028*\"equival\" + 0.025*\"comput\" + 0.023*\"compar\" + 0.020*\"equal\" + 0.019*\"common\" + 0.018*\"declar\" + 0.016*\"need\"\n",
      "2021-02-18 15:29:32,205 : INFO : topic #41 (0.010): 0.308*\"formula\" + 0.212*\"valu\" + 0.137*\"quadratur\" + 0.109*\"d1\" + 0.059*\"'\" + 0.043*\"(\" + 0.035*\"gaussian\" + 0.026*\"algorithm\" + 0.019*\"[\" + 0.009*\"-\"\n",
      "2021-02-18 15:29:32,205 : INFO : topic #50 (0.017): 0.330*\"\"\" + 0.052*\",\" + 0.046*\"work\" + 0.040*\"abstract\" + 0.039*\"type\" + 0.031*\"set\" + 0.029*\"array\" + 0.022*\"model\" + 0.022*\"corrigendum\" + 0.017*\",\"\"\n",
      "2021-02-18 15:29:32,206 : INFO : topic #74 (0.018): 0.256*\"[\" + 0.207*\"algorithm\" + 0.188*\"(\" + 0.153*\"])\" + 0.027*\"-\" + 0.024*\"function\" + 0.018*\"a1\" + 0.012*\"s14\" + 0.012*\"linear\" + 0.010*\"revis\"\n",
      "2021-02-18 15:29:32,206 : INFO : topic #28 (0.054): 0.382*\"(\" + 0.361*\")\" + 0.177*\"algorithm\" + 0.019*\"integr\" + 0.016*\"function\" + 0.014*\"complex\" + 0.007*\"exponenti\" + 0.004*\"real\" + 0.004*\"ellipt\" + 0.004*\"root\"\n",
      "2021-02-18 15:29:32,206 : INFO : topic diff=0.275120, rho=0.261694\n",
      "2021-02-18 15:29:32,702 : INFO : -6.485 per-word bound, 89.6 perplexity estimate based on a held-out corpus of 1204 documents with 49783 words\n",
      "2021-02-18 15:29:32,702 : INFO : PROGRESS: pass 12, at document #3204/3204\n",
      "2021-02-18 15:29:33,032 : INFO : optimized alpha [0.0104689235, 0.012048015, 0.013097715, 0.012111631, 0.010660323, 0.012483475, 0.015600434, 0.01128614, 0.012574802, 0.012796753, 0.011786861, 0.014972626, 0.012901353, 0.012206343, 0.010885362, 0.012649271, 0.012579788, 0.013284666, 0.0126007255, 0.012474364, 0.010295875, 0.014758327, 0.014402474, 0.012546128, 0.012444932, 0.011587436, 0.011132736, 0.013600598, 0.056735102, 0.010890072, 0.010752296, 0.011701161, 0.011622824, 0.011185577, 0.011784404, 0.013822594, 0.01154521, 0.013010997, 0.01092559, 0.012072846, 0.010707315, 0.010218601, 0.010260479, 0.010299442, 0.013727993, 0.011410519, 0.010430741, 0.013734919, 0.011605982, 0.013286277, 0.017857024, 0.012072227, 0.011293198, 0.012472264, 0.012343488, 0.0119211925, 0.012253522, 0.010983442, 0.012918126, 0.0123189865, 0.012120433, 0.0127874445, 0.011523055, 0.0118201645, 0.011217921, 0.011467902, 0.011992287, 0.010930427, 0.012322092, 0.010278688, 0.012823715, 0.011202982, 0.012769851, 0.012781372, 0.017759424, 0.01203671, 0.0128784105, 0.011939627, 0.012302891, 0.014508707, 0.012614254, 0.010136143, 0.010708901, 0.012666556, 0.010606072, 0.012591816, 0.01125113, 0.013445823, 0.011539403, 0.011958819, 0.0116131995, 0.012790138, 0.010762832, 0.013150715, 0.012520057, 0.014909606, 0.011245879, 0.010821862, 0.01019752, 0.012150502]\n",
      "2021-02-18 15:29:33,038 : INFO : merging changes from 1204 documents into a model of 3204 documents\n",
      "2021-02-18 15:29:33,043 : INFO : topic #81 (0.010): 0.286*\",\" + 0.035*\"encod\" + 0.030*\"oper\" + 0.027*\"equival\" + 0.024*\"compar\" + 0.023*\"comput\" + 0.021*\"common\" + 0.020*\"equal\" + 0.018*\"heurist\" + 0.015*\"declar\"\n",
      "2021-02-18 15:29:33,044 : INFO : topic #98 (0.010): 0.138*\"question\" + 0.076*\"answer\" + 0.072*\"heurist\" + 0.049*\"drum\" + 0.040*\",\" + 0.039*\"-\" + 0.032*\"program\" + 0.024*\"fact\" + 0.023*\"method\" + 0.021*\"artifici\"\n",
      "2021-02-18 15:29:33,045 : INFO : topic #74 (0.018): 0.272*\"[\" + 0.209*\"algorithm\" + 0.181*\"(\" + 0.127*\"])\" + 0.027*\"-\" + 0.023*\"function\" + 0.020*\"a1\" + 0.013*\"linear\" + 0.012*\"s14\" + 0.012*\"revis\"\n",
      "2021-02-18 15:29:33,045 : INFO : topic #50 (0.018): 0.327*\"\"\" + 0.053*\",\" + 0.048*\"work\" + 0.043*\"abstract\" + 0.042*\"type\" + 0.033*\"set\" + 0.031*\"array\" + 0.024*\"corrigendum\" + 0.021*\"model\" + 0.018*\",\"\"\n",
      "2021-02-18 15:29:33,046 : INFO : topic #28 (0.057): 0.390*\"(\" + 0.364*\")\" + 0.169*\"algorithm\" + 0.018*\"integr\" + 0.015*\"function\" + 0.015*\"complex\" + 0.006*\"exponenti\" + 0.004*\"root\" + 0.004*\"real\" + 0.003*\"integ\"\n",
      "2021-02-18 15:29:33,046 : INFO : topic diff=0.281557, rho=0.261694\n",
      "2021-02-18 15:29:33,058 : INFO : PROGRESS: pass 13, at document #2000/3204\n",
      "2021-02-18 15:29:33,444 : INFO : optimized alpha [0.010453884, 0.012093978, 0.0131397275, 0.01217859, 0.010698003, 0.012549189, 0.01569038, 0.011259454, 0.012676071, 0.01291677, 0.011823475, 0.014986786, 0.012994669, 0.012212258, 0.010867995, 0.012740007, 0.012746409, 0.013394987, 0.012747365, 0.012505231, 0.010304083, 0.014727405, 0.014462089, 0.012578816, 0.012616346, 0.011595806, 0.011126503, 0.013743081, 0.0593263, 0.010894822, 0.010753634, 0.011783845, 0.011668209, 0.011161229, 0.011780035, 0.01387801, 0.011550584, 0.013210537, 0.01099736, 0.012140278, 0.010731878, 0.010255898, 0.01032372, 0.010280394, 0.01391809, 0.011435198, 0.010436128, 0.013827649, 0.011639356, 0.013405879, 0.017991045, 0.012079556, 0.011367047, 0.012505083, 0.012455917, 0.012035163, 0.012270394, 0.010990671, 0.012996242, 0.012456725, 0.012201534, 0.0129439235, 0.011540517, 0.011892646, 0.011298845, 0.0114942305, 0.012030006, 0.010943929, 0.012448789, 0.010268739, 0.012810977, 0.011172497, 0.012818304, 0.0127968695, 0.018206516, 0.01205095, 0.013022682, 0.011949633, 0.012415541, 0.014795443, 0.01268284, 0.010141116, 0.01073056, 0.012709886, 0.010654037, 0.012644222, 0.011267902, 0.013491546, 0.011593041, 0.012008039, 0.011599073, 0.012870287, 0.010752171, 0.013283091, 0.01257373, 0.015092903, 0.011269892, 0.0108411405, 0.010204017, 0.012200082]\n",
      "2021-02-18 15:29:33,449 : INFO : merging changes from 2000 documents into a model of 3204 documents\n",
      "2021-02-18 15:29:33,455 : INFO : topic #81 (0.010): 0.283*\",\" + 0.033*\"encod\" + 0.032*\"oper\" + 0.028*\"equival\" + 0.025*\"comput\" + 0.024*\"compar\" + 0.021*\"equal\" + 0.019*\"common\" + 0.017*\"declar\" + 0.016*\"need\"\n",
      "2021-02-18 15:29:33,455 : INFO : topic #98 (0.010): 0.140*\"question\" + 0.075*\"answer\" + 0.059*\"heurist\" + 0.056*\"drum\" + 0.041*\",\" + 0.038*\"-\" + 0.032*\"program\" + 0.026*\"fact\" + 0.022*\"method\" + 0.020*\"pack\"\n",
      "2021-02-18 15:29:33,456 : INFO : topic #50 (0.018): 0.339*\"\"\" + 0.052*\",\" + 0.046*\"work\" + 0.040*\"abstract\" + 0.040*\"type\" + 0.030*\"set\" + 0.028*\"array\" + 0.022*\"corrigendum\" + 0.021*\"model\" + 0.018*\",\"\"\n",
      "2021-02-18 15:29:33,457 : INFO : topic #74 (0.018): 0.258*\"[\" + 0.208*\"algorithm\" + 0.189*\"(\" + 0.153*\"])\" + 0.027*\"-\" + 0.023*\"function\" + 0.019*\"a1\" + 0.012*\"s14\" + 0.010*\"linear\" + 0.010*\"revis\"\n",
      "2021-02-18 15:29:33,457 : INFO : topic #28 (0.059): 0.384*\"(\" + 0.361*\")\" + 0.176*\"algorithm\" + 0.019*\"integr\" + 0.016*\"function\" + 0.014*\"complex\" + 0.007*\"exponenti\" + 0.004*\"real\" + 0.004*\"ellipt\" + 0.004*\"root\"\n",
      "2021-02-18 15:29:33,458 : INFO : topic diff=0.248685, rho=0.253169\n",
      "2021-02-18 15:29:33,956 : INFO : -6.477 per-word bound, 89.1 perplexity estimate based on a held-out corpus of 1204 documents with 49783 words\n",
      "2021-02-18 15:29:33,956 : INFO : PROGRESS: pass 13, at document #3204/3204\n"
     ]
    },
    {
     "name": "stderr",
     "output_type": "stream",
     "text": [
      "2021-02-18 15:29:34,279 : INFO : optimized alpha [0.010550815, 0.012260096, 0.013341322, 0.012310124, 0.010766799, 0.012681004, 0.016069464, 0.0113976905, 0.012787362, 0.013147037, 0.011957859, 0.015305105, 0.013200133, 0.012333998, 0.01097444, 0.012940278, 0.012798408, 0.013554086, 0.01290787, 0.01270975, 0.010360137, 0.0150615005, 0.014795366, 0.012744615, 0.012654334, 0.011716258, 0.011245874, 0.013917929, 0.062068623, 0.010996155, 0.0108447, 0.011846747, 0.01178866, 0.011266143, 0.011937588, 0.014230711, 0.011722298, 0.013263449, 0.011079918, 0.01230062, 0.010825194, 0.010316078, 0.010394398, 0.010383392, 0.014093501, 0.011560995, 0.010511378, 0.013996533, 0.011762702, 0.013604364, 0.018529417, 0.012262136, 0.011443062, 0.012688216, 0.012574655, 0.012177928, 0.0124345105, 0.011102092, 0.013141858, 0.0125406, 0.012346565, 0.013193605, 0.011717176, 0.012006717, 0.011365372, 0.011631042, 0.012171871, 0.011027191, 0.01256188, 0.010347153, 0.012989943, 0.011284035, 0.01295468, 0.013036714, 0.018401483, 0.012207665, 0.013174888, 0.012095042, 0.012481486, 0.015026013, 0.012884231, 0.010199462, 0.010820436, 0.012899541, 0.01069292, 0.0128353145, 0.011388447, 0.013696132, 0.011734421, 0.01213446, 0.011747599, 0.012997212, 0.010853811, 0.013405469, 0.012703835, 0.015424928, 0.011357569, 0.010929594, 0.010263207, 0.01237474]\n",
      "2021-02-18 15:29:34,284 : INFO : merging changes from 1204 documents into a model of 3204 documents\n",
      "2021-02-18 15:29:34,290 : INFO : topic #81 (0.010): 0.292*\",\" + 0.035*\"encod\" + 0.031*\"oper\" + 0.027*\"equival\" + 0.024*\"compar\" + 0.023*\"comput\" + 0.021*\"equal\" + 0.021*\"common\" + 0.018*\"heurist\" + 0.015*\"need\"\n",
      "2021-02-18 15:29:34,290 : INFO : topic #98 (0.010): 0.139*\"question\" + 0.077*\"answer\" + 0.072*\"heurist\" + 0.049*\"drum\" + 0.040*\"-\" + 0.039*\",\" + 0.031*\"program\" + 0.025*\"fact\" + 0.023*\"method\" + 0.023*\"pack\"\n",
      "2021-02-18 15:29:34,291 : INFO : topic #74 (0.018): 0.275*\"[\" + 0.209*\"algorithm\" + 0.182*\"(\" + 0.128*\"])\" + 0.027*\"-\" + 0.022*\"function\" + 0.020*\"a1\" + 0.012*\"s14\" + 0.012*\"revis\" + 0.012*\"m1\"\n",
      "2021-02-18 15:29:34,292 : INFO : topic #50 (0.019): 0.335*\"\"\" + 0.052*\",\" + 0.048*\"work\" + 0.043*\"abstract\" + 0.042*\"type\" + 0.031*\"set\" + 0.030*\"array\" + 0.024*\"corrigendum\" + 0.020*\"model\" + 0.019*\",\"\"\n",
      "2021-02-18 15:29:34,292 : INFO : topic #28 (0.062): 0.392*\"(\" + 0.364*\")\" + 0.168*\"algorithm\" + 0.018*\"integr\" + 0.015*\"function\" + 0.014*\"complex\" + 0.006*\"exponenti\" + 0.004*\"real\" + 0.004*\"root\" + 0.003*\"ellipt\"\n",
      "2021-02-18 15:29:34,293 : INFO : topic diff=0.255049, rho=0.253169\n",
      "2021-02-18 15:29:34,299 : INFO : PROGRESS: pass 14, at document #2000/3204\n",
      "2021-02-18 15:29:34,678 : INFO : optimized alpha [0.010541515, 0.012304783, 0.013381902, 0.012377033, 0.010806425, 0.01275137, 0.016159968, 0.011368758, 0.012883319, 0.013264823, 0.011993483, 0.015323, 0.013291241, 0.012341286, 0.010960364, 0.013027508, 0.012961992, 0.013667051, 0.013055366, 0.012748927, 0.01036971, 0.015029371, 0.014857943, 0.012776193, 0.012822635, 0.011724399, 0.011244004, 0.014066219, 0.06473186, 0.011000842, 0.010846124, 0.011929174, 0.011832968, 0.011239827, 0.011937494, 0.01429064, 0.011724191, 0.013459581, 0.011151557, 0.012366417, 0.010849197, 0.010352638, 0.010466624, 0.010364937, 0.014282488, 0.011585014, 0.010518119, 0.014090496, 0.011798138, 0.013724904, 0.018651702, 0.012268805, 0.011519676, 0.012721415, 0.012686428, 0.0122882435, 0.012453778, 0.01111334, 0.013229779, 0.0126696015, 0.0124288425, 0.013349356, 0.011735243, 0.012080509, 0.011450246, 0.011656584, 0.012219086, 0.011041882, 0.012687874, 0.01033769, 0.012983548, 0.011254492, 0.0130002545, 0.0130574815, 0.018843383, 0.012215246, 0.013313335, 0.012103147, 0.012591881, 0.015316406, 0.01295111, 0.010203325, 0.010838953, 0.012938253, 0.01073998, 0.012884581, 0.011410399, 0.013740228, 0.011788151, 0.012185444, 0.011738018, 0.013075594, 0.010844867, 0.013536892, 0.012754646, 0.015605275, 0.011381117, 0.010953982, 0.010269822, 0.012427489]\n",
      "2021-02-18 15:29:34,683 : INFO : merging changes from 2000 documents into a model of 3204 documents\n",
      "2021-02-18 15:29:34,688 : INFO : topic #81 (0.010): 0.289*\",\" + 0.033*\"encod\" + 0.032*\"oper\" + 0.028*\"equival\" + 0.025*\"comput\" + 0.024*\"compar\" + 0.021*\"equal\" + 0.019*\"common\" + 0.017*\"declar\" + 0.016*\"need\"\n",
      "2021-02-18 15:29:34,689 : INFO : topic #98 (0.010): 0.141*\"question\" + 0.076*\"answer\" + 0.060*\"heurist\" + 0.056*\"drum\" + 0.040*\",\" + 0.039*\"-\" + 0.032*\"program\" + 0.027*\"fact\" + 0.022*\"method\" + 0.021*\"pack\"\n",
      "2021-02-18 15:29:34,690 : INFO : topic #50 (0.019): 0.346*\"\"\" + 0.051*\",\" + 0.046*\"work\" + 0.041*\"abstract\" + 0.040*\"type\" + 0.029*\"set\" + 0.027*\"array\" + 0.022*\"corrigendum\" + 0.019*\"model\" + 0.019*\",\"\"\n",
      "2021-02-18 15:29:34,690 : INFO : topic #74 (0.019): 0.260*\"[\" + 0.208*\"algorithm\" + 0.190*\"(\" + 0.153*\"])\" + 0.027*\"-\" + 0.023*\"function\" + 0.019*\"a1\" + 0.013*\"s14\" + 0.010*\"revis\" + 0.010*\"m1\"\n",
      "2021-02-18 15:29:34,691 : INFO : topic #28 (0.065): 0.386*\"(\" + 0.360*\")\" + 0.175*\"algorithm\" + 0.019*\"integr\" + 0.016*\"function\" + 0.014*\"complex\" + 0.007*\"exponenti\" + 0.004*\"real\" + 0.004*\"ellipt\" + 0.004*\"root\"\n",
      "2021-02-18 15:29:34,692 : INFO : topic diff=0.226330, rho=0.245426\n",
      "2021-02-18 15:29:35,182 : INFO : -6.467 per-word bound, 88.5 perplexity estimate based on a held-out corpus of 1204 documents with 49783 words\n",
      "2021-02-18 15:29:35,182 : INFO : PROGRESS: pass 14, at document #3204/3204\n",
      "2021-02-18 15:29:35,501 : INFO : optimized alpha [0.010634138, 0.012470066, 0.01358527, 0.012505578, 0.0108826095, 0.012880261, 0.016534047, 0.011504001, 0.012991894, 0.01351068, 0.012124948, 0.015632728, 0.0135038365, 0.012465388, 0.011068898, 0.013221552, 0.013012064, 0.013819846, 0.013212594, 0.012944212, 0.010424566, 0.015363865, 0.01518068, 0.012941069, 0.012859007, 0.011842138, 0.011367703, 0.014243041, 0.0674089, 0.011104527, 0.010935143, 0.01199283, 0.011950651, 0.011342317, 0.012089264, 0.01466286, 0.011897212, 0.0135102775, 0.011238905, 0.012528638, 0.010942646, 0.010413579, 0.010537766, 0.010471987, 0.014457054, 0.011719965, 0.010591715, 0.01425845, 0.011918863, 0.013925209, 0.019177683, 0.0124502005, 0.011596181, 0.012916602, 0.012804919, 0.01243559, 0.012622041, 0.0112292245, 0.013377734, 0.012751184, 0.012575823, 0.013601239, 0.011918047, 0.012194455, 0.011510397, 0.011790591, 0.012365421, 0.011125599, 0.012795616, 0.010418605, 0.013161406, 0.011358911, 0.013133486, 0.01330125, 0.019031636, 0.012366105, 0.013470468, 0.012250352, 0.0126533955, 0.015552585, 0.013148897, 0.010270936, 0.010926819, 0.01312681, 0.010780204, 0.013069327, 0.0115330415, 0.013937911, 0.011933843, 0.012309019, 0.0118833035, 0.013196834, 0.010941944, 0.013653517, 0.012884344, 0.01594629, 0.01145977, 0.0110426415, 0.010327714, 0.012598725]\n",
      "2021-02-18 15:29:35,507 : INFO : merging changes from 1204 documents into a model of 3204 documents\n",
      "2021-02-18 15:29:35,512 : INFO : topic #81 (0.010): 0.297*\",\" + 0.034*\"encod\" + 0.031*\"oper\" + 0.027*\"equival\" + 0.025*\"compar\" + 0.023*\"comput\" + 0.021*\"equal\" + 0.021*\"common\" + 0.018*\"heurist\" + 0.016*\"need\"\n",
      "2021-02-18 15:29:35,513 : INFO : topic #98 (0.010): 0.140*\"question\" + 0.078*\"answer\" + 0.072*\"heurist\" + 0.050*\"drum\" + 0.042*\"-\" + 0.039*\",\" + 0.031*\"program\" + 0.025*\"fact\" + 0.024*\"pack\" + 0.023*\"method\"\n",
      "2021-02-18 15:29:35,514 : INFO : topic #74 (0.019): 0.276*\"[\" + 0.210*\"algorithm\" + 0.183*\"(\" + 0.129*\"])\" + 0.027*\"-\" + 0.021*\"function\" + 0.020*\"a1\" + 0.013*\"s14\" + 0.012*\"revis\" + 0.012*\"greatest\"\n",
      "2021-02-18 15:29:35,515 : INFO : topic #50 (0.019): 0.343*\"\"\" + 0.051*\",\" + 0.048*\"work\" + 0.044*\"abstract\" + 0.042*\"type\" + 0.030*\"set\" + 0.028*\"array\" + 0.024*\"corrigendum\" + 0.020*\",\"\" + 0.019*\"model\"\n",
      "2021-02-18 15:29:35,515 : INFO : topic #28 (0.067): 0.394*\"(\" + 0.363*\")\" + 0.168*\"algorithm\" + 0.018*\"integr\" + 0.015*\"function\" + 0.014*\"complex\" + 0.006*\"exponenti\" + 0.004*\"real\" + 0.004*\"root\" + 0.003*\"ellipt\"\n",
      "2021-02-18 15:29:35,516 : INFO : topic diff=0.232203, rho=0.245426\n",
      "2021-02-18 15:29:35,527 : INFO : PROGRESS: pass 15, at document #2000/3204\n",
      "2021-02-18 15:29:35,933 : INFO : optimized alpha [0.010623892, 0.012515055, 0.013624522, 0.012572522, 0.010921473, 0.012953755, 0.016623309, 0.011485438, 0.013087486, 0.013624818, 0.012166809, 0.01564495, 0.0135929445, 0.01247698, 0.011055258, 0.01331163, 0.01317289, 0.013932217, 0.013351546, 0.01298675, 0.010437905, 0.015334263, 0.015239216, 0.012971666, 0.013021406, 0.011852918, 0.0113698905, 0.014395681, 0.070100196, 0.011111798, 0.010936662, 0.01207221, 0.011998261, 0.011320924, 0.012088925, 0.014727343, 0.011902907, 0.013701796, 0.011311793, 0.012594434, 0.010966169, 0.010451935, 0.010613679, 0.010454028, 0.014643301, 0.011744697, 0.01059974, 0.014350365, 0.011954966, 0.014043426, 0.019297605, 0.012454777, 0.0116741145, 0.012947098, 0.012914639, 0.012554397, 0.012643556, 0.011238802, 0.0134622315, 0.012881002, 0.012651886, 0.013756465, 0.011938103, 0.01226531, 0.011590961, 0.011819678, 0.012411371, 0.011152176, 0.012924078, 0.010408308, 0.013156433, 0.011328971, 0.0131811565, 0.0133223105, 0.019473117, 0.012376272, 0.013614649, 0.012260988, 0.01276171, 0.015852444, 0.013215641, 0.010276188, 0.010946326, 0.0131658735, 0.010828937, 0.013120327, 0.011553091, 0.013985602, 0.011986279, 0.012360309, 0.011869488, 0.013275121, 0.010930707, 0.013782637, 0.012932444, 0.016131451, 0.011480131, 0.011065206, 0.0103356615, 0.012651648]\n"
     ]
    },
    {
     "name": "stderr",
     "output_type": "stream",
     "text": [
      "2021-02-18 15:29:35,938 : INFO : merging changes from 2000 documents into a model of 3204 documents\n",
      "2021-02-18 15:29:35,943 : INFO : topic #81 (0.010): 0.294*\",\" + 0.033*\"encod\" + 0.032*\"oper\" + 0.028*\"equival\" + 0.025*\"compar\" + 0.024*\"comput\" + 0.021*\"equal\" + 0.020*\"common\" + 0.017*\"declar\" + 0.017*\"need\"\n",
      "2021-02-18 15:29:35,944 : INFO : topic #98 (0.010): 0.142*\"question\" + 0.078*\"answer\" + 0.060*\"heurist\" + 0.057*\"drum\" + 0.040*\"-\" + 0.039*\",\" + 0.031*\"program\" + 0.027*\"fact\" + 0.023*\"method\" + 0.022*\"pack\"\n",
      "2021-02-18 15:29:35,944 : INFO : topic #50 (0.019): 0.352*\"\"\" + 0.051*\",\" + 0.046*\"work\" + 0.041*\"abstract\" + 0.040*\"type\" + 0.028*\"set\" + 0.025*\"array\" + 0.022*\"corrigendum\" + 0.019*\",\"\" + 0.019*\"model\"\n",
      "2021-02-18 15:29:35,944 : INFO : topic #74 (0.019): 0.261*\"[\" + 0.209*\"algorithm\" + 0.190*\"(\" + 0.153*\"])\" + 0.027*\"-\" + 0.022*\"function\" + 0.019*\"a1\" + 0.013*\"s14\" + 0.010*\"revis\" + 0.010*\"m1\"\n",
      "2021-02-18 15:29:35,945 : INFO : topic #28 (0.070): 0.388*\"(\" + 0.360*\")\" + 0.175*\"algorithm\" + 0.018*\"integr\" + 0.015*\"function\" + 0.014*\"complex\" + 0.007*\"exponenti\" + 0.004*\"real\" + 0.004*\"ellipt\" + 0.004*\"root\"\n",
      "2021-02-18 15:29:35,945 : INFO : topic diff=0.207109, rho=0.238352\n",
      "2021-02-18 15:29:36,452 : INFO : -6.458 per-word bound, 87.9 perplexity estimate based on a held-out corpus of 1204 documents with 49783 words\n",
      "2021-02-18 15:29:36,453 : INFO : PROGRESS: pass 15, at document #3204/3204\n",
      "2021-02-18 15:29:36,790 : INFO : optimized alpha [0.01071458, 0.012684645, 0.013821503, 0.012700858, 0.011002619, 0.01309029, 0.016996115, 0.011617927, 0.0131987985, 0.013867608, 0.0122956, 0.015946409, 0.013807584, 0.012595984, 0.011163724, 0.013513109, 0.013223765, 0.014087298, 0.013503183, 0.013181248, 0.010491648, 0.015660316, 0.015561057, 0.013133408, 0.013056256, 0.011968242, 0.011495614, 0.014577517, 0.07270959, 0.011217767, 0.011023821, 0.012131945, 0.012113497, 0.011423563, 0.01224255, 0.015102487, 0.01207039, 0.013744971, 0.011397221, 0.0127536785, 0.011057663, 0.010513617, 0.010685337, 0.0105609745, 0.014814352, 0.011874625, 0.010673908, 0.014514936, 0.012080443, 0.014245722, 0.019815197, 0.012637808, 0.011751155, 0.013141437, 0.013033058, 0.012706488, 0.01281105, 0.01135682, 0.013604546, 0.012960463, 0.012798515, 0.01401078, 0.012124901, 0.0123768095, 0.011649658, 0.011958175, 0.012547399, 0.011229674, 0.013029437, 0.010483391, 0.013333432, 0.011428932, 0.013314159, 0.013570245, 0.019654829, 0.012531437, 0.013774046, 0.012400298, 0.012824086, 0.016078686, 0.013415507, 0.010332137, 0.011036702, 0.013343124, 0.010881168, 0.013296401, 0.01168016, 0.014179521, 0.01213631, 0.012481265, 0.012021244, 0.013388278, 0.011027908, 0.013893712, 0.01306458, 0.016485078, 0.011561737, 0.011158692, 0.010394415, 0.012822261]\n",
      "2021-02-18 15:29:36,796 : INFO : merging changes from 1204 documents into a model of 3204 documents\n",
      "2021-02-18 15:29:36,802 : INFO : topic #81 (0.010): 0.302*\",\" + 0.034*\"encod\" + 0.031*\"oper\" + 0.028*\"equival\" + 0.025*\"compar\" + 0.023*\"comput\" + 0.021*\"equal\" + 0.021*\"common\" + 0.018*\"heurist\" + 0.016*\"need\"\n",
      "2021-02-18 15:29:36,802 : INFO : topic #98 (0.010): 0.141*\"question\" + 0.080*\"answer\" + 0.072*\"heurist\" + 0.050*\"drum\" + 0.043*\"-\" + 0.038*\",\" + 0.031*\"program\" + 0.025*\"fact\" + 0.025*\"pack\" + 0.023*\"method\"\n",
      "2021-02-18 15:29:36,803 : INFO : topic #74 (0.020): 0.277*\"[\" + 0.210*\"algorithm\" + 0.183*\"(\" + 0.130*\"])\" + 0.027*\"-\" + 0.021*\"function\" + 0.020*\"a1\" + 0.013*\"s14\" + 0.012*\"revis\" + 0.012*\"greatest\"\n",
      "2021-02-18 15:29:36,803 : INFO : topic #50 (0.020): 0.349*\"\"\" + 0.051*\",\" + 0.047*\"work\" + 0.044*\"abstract\" + 0.042*\"type\" + 0.029*\"set\" + 0.026*\"array\" + 0.024*\"corrigendum\" + 0.020*\",\"\" + 0.018*\"model\"\n",
      "2021-02-18 15:29:36,804 : INFO : topic #28 (0.073): 0.395*\"(\" + 0.363*\")\" + 0.168*\"algorithm\" + 0.017*\"integr\" + 0.015*\"function\" + 0.014*\"complex\" + 0.006*\"exponenti\" + 0.004*\"real\" + 0.003*\"root\" + 0.003*\"ellipt\"\n",
      "2021-02-18 15:29:36,805 : INFO : topic diff=0.212622, rho=0.238352\n",
      "2021-02-18 15:29:36,815 : INFO : PROGRESS: pass 16, at document #2000/3204\n",
      "2021-02-18 15:29:37,204 : INFO : optimized alpha [0.0107084755, 0.012732832, 0.013861085, 0.0127723105, 0.011044596, 0.0131516745, 0.017084222, 0.011598336, 0.013291106, 0.013996001, 0.012336562, 0.015960699, 0.013901212, 0.012610339, 0.011153077, 0.013603047, 0.0133836, 0.014197603, 0.013627486, 0.0132271955, 0.0105110295, 0.015631404, 0.015622689, 0.01316612, 0.01321759, 0.0119815115, 0.011497621, 0.01473126, 0.07539096, 0.011222291, 0.011029218, 0.012211316, 0.012158688, 0.01140546, 0.012247773, 0.015176688, 0.01207705, 0.013936802, 0.011470089, 0.01282248, 0.011081977, 0.010551296, 0.0107648885, 0.010549587, 0.014996541, 0.011901455, 0.010680716, 0.014603269, 0.012118642, 0.014366774, 0.019923763, 0.012644791, 0.011831824, 0.013170759, 0.013142403, 0.012829308, 0.012830283, 0.011372769, 0.013689079, 0.013092801, 0.012876013, 0.014165627, 0.012142674, 0.012444844, 0.011736914, 0.011985125, 0.012590843, 0.011254561, 0.0131544275, 0.0104723275, 0.013328229, 0.011398562, 0.013357613, 0.013593204, 0.020096017, 0.012542558, 0.013922415, 0.01240912, 0.012930524, 0.016375089, 0.0134886345, 0.010341153, 0.0110610025, 0.013382631, 0.0109315505, 0.013349192, 0.011699675, 0.014220919, 0.012190358, 0.012532893, 0.01200892, 0.013460359, 0.011015687, 0.014020681, 0.013119241, 0.016665867, 0.0115790935, 0.011187376, 0.010403635, 0.012873919]\n",
      "2021-02-18 15:29:37,209 : INFO : merging changes from 2000 documents into a model of 3204 documents\n",
      "2021-02-18 15:29:37,215 : INFO : topic #81 (0.010): 0.299*\",\" + 0.033*\"encod\" + 0.032*\"oper\" + 0.028*\"equival\" + 0.025*\"compar\" + 0.024*\"comput\" + 0.021*\"equal\" + 0.019*\"common\" + 0.017*\"need\" + 0.017*\"declar\"\n",
      "2021-02-18 15:29:37,215 : INFO : topic #98 (0.010): 0.142*\"question\" + 0.079*\"answer\" + 0.060*\"heurist\" + 0.057*\"drum\" + 0.042*\"-\" + 0.038*\",\" + 0.031*\"program\" + 0.028*\"fact\" + 0.023*\"pack\" + 0.023*\"method\"\n",
      "2021-02-18 15:29:37,215 : INFO : topic #50 (0.020): 0.358*\"\"\" + 0.050*\",\" + 0.045*\"work\" + 0.042*\"abstract\" + 0.040*\"type\" + 0.027*\"set\" + 0.023*\"array\" + 0.023*\"corrigendum\" + 0.020*\",\"\" + 0.018*\"model\"\n",
      "2021-02-18 15:29:37,216 : INFO : topic #74 (0.020): 0.262*\"[\" + 0.209*\"algorithm\" + 0.191*\"(\" + 0.152*\"])\" + 0.027*\"-\" + 0.022*\"function\" + 0.019*\"a1\" + 0.013*\"s14\" + 0.011*\"revis\" + 0.010*\"m1\"\n",
      "2021-02-18 15:29:37,216 : INFO : topic #28 (0.075): 0.389*\"(\" + 0.360*\")\" + 0.174*\"algorithm\" + 0.018*\"integr\" + 0.015*\"function\" + 0.014*\"complex\" + 0.006*\"exponenti\" + 0.004*\"real\" + 0.004*\"ellipt\" + 0.003*\"root\"\n",
      "2021-02-18 15:29:37,217 : INFO : topic diff=0.190811, rho=0.231857\n",
      "2021-02-18 15:29:37,762 : INFO : -6.453 per-word bound, 87.6 perplexity estimate based on a held-out corpus of 1204 documents with 49783 words\n",
      "2021-02-18 15:29:37,763 : INFO : PROGRESS: pass 16, at document #3204/3204\n",
      "2021-02-18 15:29:38,118 : INFO : optimized alpha [0.010801601, 0.012897109, 0.014065657, 0.012907999, 0.011134843, 0.013283061, 0.017469192, 0.011728221, 0.013397459, 0.014246858, 0.012465271, 0.016266901, 0.014118118, 0.012727, 0.011259485, 0.0137964375, 0.013432768, 0.014346851, 0.013771138, 0.013418472, 0.0105677815, 0.015949553, 0.015943738, 0.013330007, 0.013256132, 0.012092246, 0.011623363, 0.014907025, 0.07793345, 0.011328404, 0.011114678, 0.01226966, 0.012278822, 0.011508371, 0.012400998, 0.015569764, 0.012243981, 0.013980827, 0.011555953, 0.012986234, 0.01117169, 0.010615784, 0.010839197, 0.010662596, 0.015161342, 0.012035895, 0.010755554, 0.01477872, 0.012244163, 0.01456557, 0.020428859, 0.012824714, 0.011907235, 0.013359311, 0.013258383, 0.012983857, 0.012994805, 0.011488604, 0.013836771, 0.013170295, 0.01302245, 0.014428044, 0.012319413, 0.012554115, 0.01179653, 0.012128184, 0.012724293, 0.011332744, 0.013254942, 0.010547981, 0.01350979, 0.011498821, 0.013487956, 0.013843051, 0.020271324, 0.012699745, 0.01408161, 0.012543418, 0.012991333, 0.016604196, 0.013685467, 0.010404165, 0.0111517925, 0.013562042, 0.010982734, 0.013522185, 0.011824425, 0.014414152, 0.012342555, 0.012653867, 0.012157919, 0.0135763185, 0.011111004, 0.014126468, 0.013241172, 0.017022792, 0.011656853, 0.011289999, 0.010461292, 0.013039208]\n",
      "2021-02-18 15:29:38,123 : INFO : merging changes from 1204 documents into a model of 3204 documents\n"
     ]
    },
    {
     "name": "stderr",
     "output_type": "stream",
     "text": [
      "2021-02-18 15:29:38,129 : INFO : topic #81 (0.010): 0.306*\",\" + 0.034*\"encod\" + 0.032*\"oper\" + 0.027*\"equival\" + 0.025*\"compar\" + 0.023*\"comput\" + 0.021*\"equal\" + 0.020*\"common\" + 0.018*\"heurist\" + 0.016*\"need\"\n",
      "2021-02-18 15:29:38,130 : INFO : topic #98 (0.010): 0.141*\"question\" + 0.080*\"answer\" + 0.072*\"heurist\" + 0.051*\"drum\" + 0.045*\"-\" + 0.037*\",\" + 0.030*\"program\" + 0.025*\"fact\" + 0.025*\"pack\" + 0.024*\"artifici\"\n",
      "2021-02-18 15:29:38,130 : INFO : topic #74 (0.020): 0.277*\"[\" + 0.210*\"algorithm\" + 0.184*\"(\" + 0.130*\"])\" + 0.028*\"-\" + 0.021*\"function\" + 0.020*\"a1\" + 0.013*\"s14\" + 0.012*\"revis\" + 0.012*\"greatest\"\n",
      "2021-02-18 15:29:38,131 : INFO : topic #50 (0.020): 0.357*\"\"\" + 0.050*\",\" + 0.047*\"work\" + 0.045*\"abstract\" + 0.042*\"type\" + 0.028*\"set\" + 0.025*\"corrigendum\" + 0.021*\",\"\" + 0.020*\"array\" + 0.018*\"model\"\n",
      "2021-02-18 15:29:38,132 : INFO : topic #28 (0.078): 0.397*\"(\" + 0.362*\")\" + 0.168*\"algorithm\" + 0.017*\"integr\" + 0.015*\"function\" + 0.014*\"complex\" + 0.006*\"exponenti\" + 0.004*\"real\" + 0.003*\"root\" + 0.003*\"ellipt\"\n",
      "2021-02-18 15:29:38,132 : INFO : topic diff=0.195756, rho=0.231857\n",
      "2021-02-18 15:29:38,142 : INFO : PROGRESS: pass 17, at document #2000/3204\n",
      "2021-02-18 15:29:38,559 : INFO : optimized alpha [0.010798171, 0.012945608, 0.014110497, 0.012976636, 0.01117986, 0.013346213, 0.01755433, 0.011711626, 0.0134866135, 0.014378264, 0.012508157, 0.016281297, 0.014214687, 0.012739632, 0.011250371, 0.013879945, 0.013588751, 0.01445197, 0.013884159, 0.013467845, 0.010594081, 0.01591953, 0.016003136, 0.013363327, 0.013413622, 0.012102468, 0.011627841, 0.015060281, 0.08054487, 0.011334105, 0.0111188525, 0.012346306, 0.012325868, 0.011494682, 0.012404442, 0.015643131, 0.012255683, 0.014176377, 0.011627594, 0.013058042, 0.011198085, 0.010654041, 0.010919905, 0.010651395, 0.015346403, 0.012063481, 0.010759886, 0.014870145, 0.0122871725, 0.014682905, 0.020532921, 0.012831061, 0.011987873, 0.013386125, 0.01336748, 0.013110865, 0.013013321, 0.011508085, 0.013919763, 0.013308184, 0.013098432, 0.014587472, 0.012335016, 0.012620894, 0.011885075, 0.012155803, 0.012768256, 0.011357258, 0.013381058, 0.010538545, 0.013507341, 0.011469311, 0.013532009, 0.013867895, 0.020707771, 0.0127118, 0.014226378, 0.012556158, 0.01309602, 0.016902905, 0.01376179, 0.010410813, 0.011178205, 0.013600454, 0.011033522, 0.013576786, 0.011843461, 0.014457513, 0.012395446, 0.012707338, 0.012144202, 0.013645496, 0.011101638, 0.01424982, 0.013296213, 0.017210636, 0.011675323, 0.011315505, 0.010470521, 0.013088197]\n",
      "2021-02-18 15:29:38,564 : INFO : merging changes from 2000 documents into a model of 3204 documents\n",
      "2021-02-18 15:29:38,569 : INFO : topic #81 (0.010): 0.303*\",\" + 0.033*\"oper\" + 0.032*\"encod\" + 0.028*\"equival\" + 0.026*\"compar\" + 0.024*\"comput\" + 0.022*\"equal\" + 0.019*\"common\" + 0.016*\"need\" + 0.016*\"declar\"\n",
      "2021-02-18 15:29:38,570 : INFO : topic #98 (0.010): 0.143*\"question\" + 0.080*\"answer\" + 0.061*\"heurist\" + 0.057*\"drum\" + 0.044*\"-\" + 0.037*\",\" + 0.030*\"program\" + 0.028*\"fact\" + 0.023*\"pack\" + 0.023*\"method\"\n",
      "2021-02-18 15:29:38,571 : INFO : topic #50 (0.021): 0.365*\"\"\" + 0.049*\",\" + 0.045*\"work\" + 0.043*\"abstract\" + 0.040*\"type\" + 0.026*\"set\" + 0.023*\"corrigendum\" + 0.020*\",\"\" + 0.018*\"array\" + 0.018*\"model\"\n",
      "2021-02-18 15:29:38,572 : INFO : topic #74 (0.021): 0.263*\"[\" + 0.209*\"algorithm\" + 0.191*\"(\" + 0.152*\"])\" + 0.027*\"-\" + 0.022*\"function\" + 0.019*\"a1\" + 0.014*\"s14\" + 0.011*\"revis\" + 0.010*\"m1\"\n",
      "2021-02-18 15:29:38,572 : INFO : topic #28 (0.081): 0.391*\"(\" + 0.359*\")\" + 0.174*\"algorithm\" + 0.018*\"integr\" + 0.015*\"function\" + 0.014*\"complex\" + 0.006*\"exponenti\" + 0.004*\"real\" + 0.004*\"ellipt\" + 0.003*\"root\"\n",
      "2021-02-18 15:29:38,573 : INFO : topic diff=0.176444, rho=0.225865\n",
      "2021-02-18 15:29:39,083 : INFO : -6.447 per-word bound, 87.2 perplexity estimate based on a held-out corpus of 1204 documents with 49783 words\n",
      "2021-02-18 15:29:39,084 : INFO : PROGRESS: pass 17, at document #3204/3204\n",
      "2021-02-18 15:29:39,409 : INFO : optimized alpha [0.010899866, 0.013107163, 0.0143228145, 0.013112361, 0.01127278, 0.013477779, 0.017945483, 0.011834743, 0.01359074, 0.014629298, 0.01263221, 0.016586324, 0.014428692, 0.012854134, 0.011352735, 0.014073067, 0.01363631, 0.014601137, 0.014030563, 0.013651177, 0.010651732, 0.016227039, 0.016323593, 0.013521911, 0.013448233, 0.012213435, 0.011755823, 0.015235745, 0.082953274, 0.011434026, 0.011202729, 0.012403368, 0.012439124, 0.01159786, 0.012557452, 0.016054897, 0.0124268485, 0.014215942, 0.011711789, 0.013216849, 0.0112903435, 0.010719266, 0.010990701, 0.010760379, 0.015511044, 0.0121979015, 0.010831305, 0.015039834, 0.012415288, 0.014886956, 0.02104507, 0.013005678, 0.012063986, 0.013579246, 0.013481143, 0.013260582, 0.013179994, 0.01162407, 0.0140781095, 0.013378692, 0.013247211, 0.014855528, 0.012511375, 0.012728095, 0.011947831, 0.012305828, 0.012896883, 0.011436142, 0.013479361, 0.010614796, 0.013678161, 0.01157427, 0.013665083, 0.014119854, 0.0208769, 0.0128687, 0.014382835, 0.012692795, 0.013160258, 0.017131802, 0.013958395, 0.0104727065, 0.011267323, 0.013774393, 0.011087837, 0.013749526, 0.0119660385, 0.014652931, 0.012549888, 0.012823676, 0.012295204, 0.013759128, 0.011195186, 0.014345232, 0.013413294, 0.017574554, 0.011749394, 0.011411965, 0.010527152, 0.013255689]\n",
      "2021-02-18 15:29:39,414 : INFO : merging changes from 1204 documents into a model of 3204 documents\n",
      "2021-02-18 15:29:39,419 : INFO : topic #81 (0.010): 0.310*\",\" + 0.034*\"encod\" + 0.033*\"oper\" + 0.027*\"equival\" + 0.026*\"compar\" + 0.023*\"comput\" + 0.021*\"equal\" + 0.020*\"common\" + 0.018*\"heurist\" + 0.016*\"need\"\n",
      "2021-02-18 15:29:39,420 : INFO : topic #98 (0.011): 0.142*\"question\" + 0.081*\"answer\" + 0.072*\"heurist\" + 0.051*\"drum\" + 0.047*\"-\" + 0.036*\",\" + 0.029*\"program\" + 0.026*\"fact\" + 0.025*\"pack\" + 0.025*\"artifici\"\n",
      "2021-02-18 15:29:39,420 : INFO : topic #74 (0.021): 0.278*\"[\" + 0.210*\"algorithm\" + 0.184*\"(\" + 0.131*\"])\" + 0.028*\"-\" + 0.021*\"function\" + 0.020*\"a1\" + 0.014*\"s14\" + 0.012*\"revis\" + 0.012*\"greatest\"\n",
      "2021-02-18 15:29:39,421 : INFO : topic #50 (0.021): 0.363*\"\"\" + 0.050*\",\" + 0.047*\"work\" + 0.046*\"abstract\" + 0.042*\"type\" + 0.027*\"set\" + 0.025*\"corrigendum\" + 0.021*\",\"\" + 0.017*\".\"\" + 0.017*\"model\"\n",
      "2021-02-18 15:29:39,421 : INFO : topic #28 (0.083): 0.398*\"(\" + 0.362*\")\" + 0.167*\"algorithm\" + 0.017*\"integr\" + 0.015*\"function\" + 0.014*\"complex\" + 0.006*\"exponenti\" + 0.004*\"real\" + 0.003*\"root\" + 0.003*\"ellipt\"\n",
      "2021-02-18 15:29:39,421 : INFO : topic diff=0.181000, rho=0.225865\n",
      "2021-02-18 15:29:39,427 : INFO : PROGRESS: pass 18, at document #2000/3204\n",
      "2021-02-18 15:29:39,799 : INFO : optimized alpha [0.010898916, 0.013156012, 0.014363207, 0.013182629, 0.01131699, 0.013544304, 0.018025637, 0.011817068, 0.0136829745, 0.014758896, 0.012675647, 0.01659908, 0.014523552, 0.012869293, 0.011342623, 0.014161435, 0.013791655, 0.014706112, 0.014141792, 0.013700879, 0.0106788445, 0.016197832, 0.01638275, 0.013552843, 0.013606525, 0.012226178, 0.01176007, 0.015393667, 0.0855543, 0.011442168, 0.011209372, 0.012480163, 0.012488135, 0.011584546, 0.012567646, 0.01612215, 0.012443377, 0.014405947, 0.011783564, 0.013290231, 0.01132, 0.010758104, 0.011073864, 0.010748202, 0.015687099, 0.012224815, 0.010839336, 0.015127942, 0.0124629885, 0.015007374, 0.02114948, 0.0130072, 0.012142073, 0.01360961, 0.013590076, 0.01339616, 0.013206557, 0.011639323, 0.0141660515, 0.013508757, 0.0133247655, 0.015016471, 0.012526308, 0.012796495, 0.012033715, 0.012339624, 0.012942804, 0.011459003, 0.013608235, 0.010606889, 0.013672365, 0.011546781, 0.013705204, 0.014148165, 0.021311011, 0.012878827, 0.014532068, 0.012706568, 0.0132648265, 0.017432753, 0.014036315, 0.010482882, 0.011292033, 0.013821042, 0.01114269, 0.013805888, 0.011988624, 0.014699904, 0.01260309, 0.0128789665, 0.012282852, 0.013828584, 0.011186092, 0.014469947, 0.013467367, 0.017756188, 0.011766351, 0.011438278, 0.010536415, 0.013306513]\n",
      "2021-02-18 15:29:39,804 : INFO : merging changes from 2000 documents into a model of 3204 documents\n",
      "2021-02-18 15:29:39,809 : INFO : topic #81 (0.010): 0.307*\",\" + 0.034*\"oper\" + 0.032*\"encod\" + 0.028*\"equival\" + 0.026*\"compar\" + 0.024*\"comput\" + 0.022*\"equal\" + 0.019*\"common\" + 0.016*\"need\" + 0.016*\"declar\"\n"
     ]
    },
    {
     "name": "stderr",
     "output_type": "stream",
     "text": [
      "2021-02-18 15:29:39,810 : INFO : topic #98 (0.011): 0.143*\"question\" + 0.080*\"answer\" + 0.061*\"heurist\" + 0.057*\"drum\" + 0.046*\"-\" + 0.037*\",\" + 0.030*\"program\" + 0.029*\"fact\" + 0.024*\"pack\" + 0.023*\"artifici\"\n",
      "2021-02-18 15:29:39,810 : INFO : topic #50 (0.021): 0.371*\"\"\" + 0.049*\",\" + 0.045*\"work\" + 0.043*\"abstract\" + 0.041*\"type\" + 0.025*\"set\" + 0.023*\"corrigendum\" + 0.021*\",\"\" + 0.018*\".\"\" + 0.018*\"notat\"\n",
      "2021-02-18 15:29:39,810 : INFO : topic #74 (0.021): 0.263*\"[\" + 0.210*\"algorithm\" + 0.191*\"(\" + 0.152*\"])\" + 0.027*\"-\" + 0.022*\"function\" + 0.019*\"a1\" + 0.014*\"s14\" + 0.011*\"revis\" + 0.010*\"m1\"\n",
      "2021-02-18 15:29:39,811 : INFO : topic #28 (0.086): 0.392*\"(\" + 0.359*\")\" + 0.174*\"algorithm\" + 0.018*\"integr\" + 0.015*\"function\" + 0.014*\"complex\" + 0.006*\"exponenti\" + 0.004*\"real\" + 0.004*\"ellipt\" + 0.003*\"root\"\n",
      "2021-02-18 15:29:39,811 : INFO : topic diff=0.163938, rho=0.220316\n",
      "2021-02-18 15:29:40,313 : INFO : -6.440 per-word bound, 86.8 perplexity estimate based on a held-out corpus of 1204 documents with 49783 words\n",
      "2021-02-18 15:29:40,313 : INFO : PROGRESS: pass 18, at document #3204/3204\n",
      "2021-02-18 15:29:40,630 : INFO : optimized alpha [0.010998922, 0.013315115, 0.014572594, 0.0133185, 0.011408388, 0.013671176, 0.018416433, 0.011944634, 0.013787577, 0.014999418, 0.012799927, 0.016900284, 0.014734745, 0.012984121, 0.011445294, 0.014354644, 0.013837704, 0.01485531, 0.0142858075, 0.013884127, 0.010735513, 0.016504064, 0.016712377, 0.013708931, 0.013639793, 0.012335246, 0.011888189, 0.015569058, 0.08783494, 0.011550974, 0.011291788, 0.012538302, 0.0126133505, 0.011688125, 0.012715904, 0.01654138, 0.012614346, 0.014443866, 0.011868351, 0.013451456, 0.0114106815, 0.010824143, 0.011145337, 0.010861271, 0.015851589, 0.012354833, 0.010909511, 0.0152948145, 0.012595966, 0.015208511, 0.021653328, 0.013186278, 0.012216764, 0.013794952, 0.013706581, 0.013565625, 0.013373081, 0.011753399, 0.014308576, 0.013575095, 0.013478458, 0.015285028, 0.012702403, 0.012901758, 0.012092931, 0.012489709, 0.013074072, 0.011538624, 0.013699463, 0.010683778, 0.013842972, 0.011643497, 0.013840999, 0.014397267, 0.021474065, 0.0130332345, 0.014691248, 0.012845615, 0.013327614, 0.017658332, 0.014227782, 0.010549502, 0.011385954, 0.013997518, 0.011198011, 0.013981098, 0.012111442, 0.014886891, 0.012759795, 0.012990892, 0.012433674, 0.013937545, 0.011282121, 0.014565968, 0.013584845, 0.018120522, 0.011843499, 0.0115373125, 0.010592088, 0.013476363]\n",
      "2021-02-18 15:29:40,635 : INFO : merging changes from 1204 documents into a model of 3204 documents\n",
      "2021-02-18 15:29:40,644 : INFO : topic #81 (0.011): 0.313*\",\" + 0.034*\"encod\" + 0.032*\"oper\" + 0.027*\"equival\" + 0.026*\"compar\" + 0.023*\"comput\" + 0.021*\"equal\" + 0.020*\"common\" + 0.018*\"heurist\" + 0.016*\"need\"\n",
      "2021-02-18 15:29:40,645 : INFO : topic #98 (0.011): 0.142*\"question\" + 0.081*\"answer\" + 0.072*\"heurist\" + 0.051*\"drum\" + 0.049*\"-\" + 0.035*\",\" + 0.029*\"program\" + 0.026*\"fact\" + 0.025*\"pack\" + 0.025*\"artifici\"\n",
      "2021-02-18 15:29:40,645 : INFO : topic #74 (0.021): 0.278*\"[\" + 0.211*\"algorithm\" + 0.185*\"(\" + 0.131*\"])\" + 0.028*\"-\" + 0.021*\"function\" + 0.020*\"a1\" + 0.014*\"s14\" + 0.012*\"revis\" + 0.012*\"greatest\"\n",
      "2021-02-18 15:29:40,646 : INFO : topic #50 (0.022): 0.369*\"\"\" + 0.049*\",\" + 0.047*\"work\" + 0.047*\"abstract\" + 0.043*\"type\" + 0.026*\"set\" + 0.025*\"corrigendum\" + 0.022*\",\"\" + 0.017*\".\"\" + 0.017*\"'\"\n",
      "2021-02-18 15:29:40,646 : INFO : topic #28 (0.088): 0.399*\"(\" + 0.361*\")\" + 0.167*\"algorithm\" + 0.017*\"integr\" + 0.015*\"function\" + 0.014*\"complex\" + 0.006*\"exponenti\" + 0.004*\"real\" + 0.003*\"root\" + 0.003*\"ellipt\"\n",
      "2021-02-18 15:29:40,647 : INFO : topic diff=0.168517, rho=0.220316\n",
      "2021-02-18 15:29:40,657 : INFO : PROGRESS: pass 19, at document #2000/3204\n",
      "2021-02-18 15:29:41,023 : INFO : optimized alpha [0.011001586, 0.013361463, 0.014614945, 0.013387559, 0.0114568425, 0.013735002, 0.018501485, 0.0119259, 0.013878366, 0.0151322195, 0.012842524, 0.016911477, 0.014834306, 0.01300045, 0.011436638, 0.014444641, 0.01399105, 0.014956998, 0.014400158, 0.013932698, 0.010763452, 0.016472062, 0.016772967, 0.01374203, 0.013793111, 0.012343759, 0.01189351, 0.015728388, 0.09038157, 0.011557674, 0.011298387, 0.0126112355, 0.012654595, 0.011676399, 0.012724233, 0.016614858, 0.012624802, 0.014631594, 0.011941588, 0.0135278385, 0.011439851, 0.010862383, 0.011229722, 0.010852746, 0.01602733, 0.0123824775, 0.010918684, 0.015379712, 0.0126470085, 0.015338445, 0.021751026, 0.013190133, 0.01229373, 0.013822886, 0.0138139315, 0.01369835, 0.013394592, 0.011769541, 0.014392032, 0.01370643, 0.013553226, 0.015447604, 0.012722107, 0.012973247, 0.012184077, 0.012524104, 0.013116238, 0.0115637025, 0.013825148, 0.010675004, 0.013839946, 0.011614204, 0.013883249, 0.0144274095, 0.02190821, 0.013042901, 0.0148402415, 0.01286174, 0.013433583, 0.017959954, 0.014302865, 0.010560786, 0.011412719, 0.014047685, 0.011253252, 0.014037754, 0.012137471, 0.014932674, 0.012813341, 0.013045251, 0.012421297, 0.014005824, 0.011273224, 0.014688931, 0.013639461, 0.018307593, 0.011862814, 0.011565649, 0.010601354, 0.013527551]\n",
      "2021-02-18 15:29:41,028 : INFO : merging changes from 2000 documents into a model of 3204 documents\n",
      "2021-02-18 15:29:41,034 : INFO : topic #81 (0.011): 0.310*\",\" + 0.033*\"oper\" + 0.032*\"encod\" + 0.027*\"equival\" + 0.026*\"compar\" + 0.024*\"comput\" + 0.022*\"equal\" + 0.019*\"common\" + 0.016*\"need\" + 0.016*\"declar\"\n",
      "2021-02-18 15:29:41,034 : INFO : topic #98 (0.011): 0.143*\"question\" + 0.080*\"answer\" + 0.061*\"heurist\" + 0.057*\"drum\" + 0.047*\"-\" + 0.036*\",\" + 0.029*\"program\" + 0.029*\"fact\" + 0.024*\"pack\" + 0.023*\"artifici\"\n",
      "2021-02-18 15:29:41,035 : INFO : topic #50 (0.022): 0.376*\"\"\" + 0.048*\",\" + 0.045*\"work\" + 0.044*\"abstract\" + 0.042*\"type\" + 0.024*\"set\" + 0.024*\"corrigendum\" + 0.022*\",\"\" + 0.018*\".\"\" + 0.018*\"'\"\n",
      "2021-02-18 15:29:41,035 : INFO : topic #74 (0.022): 0.264*\"[\" + 0.210*\"algorithm\" + 0.191*\"(\" + 0.152*\"])\" + 0.027*\"-\" + 0.022*\"function\" + 0.019*\"a1\" + 0.014*\"s14\" + 0.011*\"revis\" + 0.010*\"m1\"\n",
      "2021-02-18 15:29:41,036 : INFO : topic #28 (0.090): 0.393*\"(\" + 0.359*\")\" + 0.173*\"algorithm\" + 0.017*\"integr\" + 0.015*\"function\" + 0.014*\"complex\" + 0.006*\"exponenti\" + 0.004*\"real\" + 0.004*\"ellipt\" + 0.003*\"root\"\n",
      "2021-02-18 15:29:41,036 : INFO : topic diff=0.153261, rho=0.215156\n",
      "2021-02-18 15:29:41,519 : INFO : -6.436 per-word bound, 86.6 perplexity estimate based on a held-out corpus of 1204 documents with 49783 words\n",
      "2021-02-18 15:29:41,520 : INFO : PROGRESS: pass 19, at document #3204/3204\n",
      "2021-02-18 15:29:41,832 : INFO : optimized alpha [0.011101997, 0.01352058, 0.014818936, 0.013521255, 0.011548827, 0.013864807, 0.018895522, 0.012045047, 0.013981036, 0.015386675, 0.012967106, 0.017214948, 0.015040278, 0.013115781, 0.011537636, 0.014638104, 0.014035666, 0.015101032, 0.014541921, 0.014105853, 0.010819206, 0.01677439, 0.017102811, 0.013893255, 0.0138251735, 0.012448768, 0.012013165, 0.015901063, 0.09252527, 0.01166676, 0.011379396, 0.012668248, 0.012789395, 0.011780345, 0.012877262, 0.01704475, 0.012797981, 0.014667946, 0.012024904, 0.013691506, 0.01152905, 0.010927311, 0.011303892, 0.010966039, 0.016186036, 0.012514961, 0.010991726, 0.01554382, 0.012773411, 0.0155533, 0.022254547, 0.013371462, 0.012369236, 0.014005581, 0.013930798, 0.013870569, 0.013553904, 0.011888216, 0.014542951, 0.013773717, 0.013704702, 0.015714046, 0.012904958, 0.013081403, 0.012242085, 0.012683508, 0.013243016, 0.01164204, 0.013914468, 0.010754472, 0.014020355, 0.011707237, 0.014016849, 0.014679018, 0.022065295, 0.0131903235, 0.014996987, 0.012996301, 0.0134997675, 0.018178908, 0.014491935, 0.010628238, 0.011507161, 0.014221682, 0.011309566, 0.014205387, 0.01226931, 0.015122303, 0.012965688, 0.013148274, 0.012572014, 0.01411789, 0.011365666, 0.01477764, 0.013764743, 0.018679395, 0.011936557, 0.011661075, 0.010656142, 0.013704712]\n",
      "2021-02-18 15:29:41,838 : INFO : merging changes from 1204 documents into a model of 3204 documents\n",
      "2021-02-18 15:29:41,843 : INFO : topic #81 (0.011): 0.315*\",\" + 0.033*\"encod\" + 0.032*\"oper\" + 0.026*\"equival\" + 0.026*\"compar\" + 0.023*\"comput\" + 0.022*\"equal\" + 0.020*\"common\" + 0.017*\"heurist\" + 0.016*\"need\"\n",
      "2021-02-18 15:29:41,843 : INFO : topic #98 (0.011): 0.142*\"question\" + 0.082*\"answer\" + 0.072*\"heurist\" + 0.051*\"drum\" + 0.050*\"-\" + 0.035*\",\" + 0.028*\"program\" + 0.026*\"fact\" + 0.026*\"pack\" + 0.025*\"artifici\"\n"
     ]
    },
    {
     "name": "stderr",
     "output_type": "stream",
     "text": [
      "2021-02-18 15:29:41,844 : INFO : topic #74 (0.022): 0.278*\"[\" + 0.211*\"algorithm\" + 0.185*\"(\" + 0.131*\"])\" + 0.028*\"-\" + 0.021*\"function\" + 0.020*\"a1\" + 0.014*\"s14\" + 0.012*\"revis\" + 0.011*\"greatest\"\n",
      "2021-02-18 15:29:41,844 : INFO : topic #50 (0.022): 0.374*\"\"\" + 0.048*\",\" + 0.048*\"abstract\" + 0.047*\"work\" + 0.044*\"type\" + 0.026*\"corrigendum\" + 0.025*\"set\" + 0.022*\",\"\" + 0.017*\".\"\" + 0.017*\"'\"\n",
      "2021-02-18 15:29:41,844 : INFO : topic #28 (0.093): 0.399*\"(\" + 0.361*\")\" + 0.167*\"algorithm\" + 0.017*\"integr\" + 0.015*\"function\" + 0.014*\"complex\" + 0.006*\"exponenti\" + 0.004*\"real\" + 0.003*\"root\" + 0.003*\"ellipt\"\n",
      "2021-02-18 15:29:41,845 : INFO : topic diff=0.157521, rho=0.215156\n"
     ]
    },
    {
     "data": {
      "text/plain": [
       "[(0, 0.0045428057),\n",
       " (1, 0.0055324608),\n",
       " (2, 0.006063733),\n",
       " (3, 0.005532737),\n",
       " (4, 0.004725643),\n",
       " (5, 0.0056733144),\n",
       " (6, 0.0077318233),\n",
       " (7, 0.0049286904),\n",
       " (8, 0.005720874),\n",
       " (9, 0.0062960447),\n",
       " (10, 0.005305986),\n",
       " (11, 0.0070441524),\n",
       " (12, 0.0061543034),\n",
       " (13, 0.0053668222),\n",
       " (14, 0.0047210637),\n",
       " (15, 0.0059897383),\n",
       " (16, 0.0057432284),\n",
       " (17, 0.006179163),\n",
       " (18, 0.0059503815),\n",
       " (19, 0.0057719476),\n",
       " (20, 0.0044270908),\n",
       " (21, 0.0068638814),\n",
       " (22, 0.0069982675),\n",
       " (23, 0.005684955),\n",
       " (24, 0.005657097),\n",
       " (25, 0.0050938884),\n",
       " (26, 0.004915645),\n",
       " (27, 0.0065065264),\n",
       " (28, 0.037860245),\n",
       " (29, 0.0047739),\n",
       " (30, 0.0046563135),\n",
       " (31, 0.0051836967),\n",
       " (32, 0.0052332687),\n",
       " (33, 0.0048203776),\n",
       " (34, 0.005269223),\n",
       " (35, 0.006974509),\n",
       " (36, 0.0052367817),\n",
       " (37, 0.0060019493),\n",
       " (38, 0.0049204477),\n",
       " (39, 0.005602402),\n",
       " (40, 0.0047175502),\n",
       " (41, 0.0044713262),\n",
       " (42, 0.0046254187),\n",
       " (43, 0.004487173),\n",
       " (44, 0.006623134),\n",
       " (45, 0.0051209736),\n",
       " (46, 0.004497684),\n",
       " (47, 0.006360347),\n",
       " (48, 0.0052267285),\n",
       " (49, 0.006364226),\n",
       " (50, 0.009106297),\n",
       " (51, 0.0054714438),\n",
       " (52, 0.0050613447),\n",
       " (53, 0.0057309177),\n",
       " (54, 0.005700317),\n",
       " (55, 0.005675672),\n",
       " (56, 0.0055460967),\n",
       " (57, 0.004864517),\n",
       " (58, 0.005950803),\n",
       " (59, 0.0056360415),\n",
       " (60, 0.0056078015),\n",
       " (61, 0.006430001),\n",
       " (62, 0.0052805557),\n",
       " (63, 0.41453978),\n",
       " (64, 0.005009316),\n",
       " (65, 0.005189941),\n",
       " (66, 0.005418885),\n",
       " (67, 0.0047637844),\n",
       " (68, 0.005693635),\n",
       " (69, 0.004400602),\n",
       " (70, 0.005736963),\n",
       " (71, 0.0047904626),\n",
       " (72, 0.005735528),\n",
       " (73, 0.00600648),\n",
       " (74, 0.009028857),\n",
       " (75, 0.005397324),\n",
       " (76, 0.006136589),\n",
       " (77, 0.005317932),\n",
       " (78, 0.0055239447),\n",
       " (79, 0.0074385935),\n",
       " (80, 0.005929928),\n",
       " (81, 0.004348949),\n",
       " (82, 0.0047085937),\n",
       " (83, 0.0058193435),\n",
       " (84, 0.00462774),\n",
       " (85, 0.0058126757),\n",
       " (86, 0.005020456),\n",
       " (87, 0.006187867),\n",
       " (88, 0.0053054057),\n",
       " (89, 0.005380118),\n",
       " (90, 0.005144319),\n",
       " (91, 0.005776873),\n",
       " (92, 0.0046506957),\n",
       " (93, 0.006046835),\n",
       " (94, 0.0056323693),\n",
       " (95, 0.0076433867),\n",
       " (96, 0.0048842975),\n",
       " (97, 0.0047715735),\n",
       " (98, 0.0043603666),\n",
       " (99, 0.005607805)]"
      ]
     },
     "execution_count": 85,
     "metadata": {},
     "output_type": "execute_result"
    }
   ],
   "source": [
    "##### Function check\n",
    "lda = LdaRetrievalModel(doc_repr_2)\n",
    "lda.train_model()\n",
    "\n",
    "# you can now get an LDA vector for a given query in the following way:\n",
    "lda.vectorize_query(\"report\")\n",
    "##### "
   ]
  },
  {
   "cell_type": "markdown",
   "metadata": {
    "deletable": false,
    "editable": false,
    "nbgrader": {
     "cell_type": "markdown",
     "checksum": "32d83b6ea79ca3ddb789a7f8805a1b25",
     "grade": false,
     "grade_id": "cell-0e24b727d5908c0e",
     "locked": true,
     "points": 5,
     "schema_version": 3,
     "solution": false,
     "task": true
    }
   },
   "source": [
    "\\#### Please do not change this. This cell is used for grading."
   ]
  },
  {
   "cell_type": "markdown",
   "metadata": {
    "deletable": false,
    "editable": false,
    "nbgrader": {
     "cell_type": "markdown",
     "checksum": "114a934f0b9ce696e6cf09d3b8da6a3d",
     "grade": false,
     "grade_id": "cell-b1bffcb970b18aeb",
     "locked": true,
     "schema_version": 3,
     "solution": false,
     "task": false
    }
   },
   "source": [
    "---\n",
    "Now we can use the `DenseRetrievalModel` class to obtain an LDA search function.\n",
    "You can test your LDA model in the following cell: Try finding queries which are lexically different to documents, but semantically similar - does LDA work well for these queries?!"
   ]
  },
  {
   "cell_type": "code",
   "execution_count": 86,
   "metadata": {},
   "outputs": [
    {
     "data": {
      "application/vnd.jupyter.widget-view+json": {
       "model_id": "a6bcb4eb65a64695b2ef4acf4a907051",
       "version_major": 2,
       "version_minor": 0
      },
      "text/plain": [
       "Text(value='', description='Search Bar')"
      ]
     },
     "metadata": {},
     "output_type": "display_data"
    }
   ],
   "source": [
    "drm_lda = DenseRetrievalRanker(lda, jenson_shannon_sim)\n",
    "\n",
    "# test your LDA model\n",
    "search_fn = drm_lda.search\n",
    "\n",
    "text = widgets.Text(description=\"Search Bar\", width=200)\n",
    "display(text)\n",
    "\n",
    "\n",
    "text.on_submit(handle_submit_2)"
   ]
  },
  {
   "cell_type": "markdown",
   "metadata": {
    "deletable": false,
    "editable": false,
    "nbgrader": {
     "cell_type": "markdown",
     "checksum": "9d7f15863b655119b45f4d89354e5661",
     "grade": false,
     "grade_id": "cell-190cd0854b2791cc",
     "locked": true,
     "schema_version": 3,
     "solution": false,
     "task": false
    }
   },
   "source": [
    "## Section 8: Word2Vec/Doc2Vec (20 points) <a class=\"anchor\" id=\"2vec\"></a>\n",
    "\n",
    "[Back to Part 2](#part2)\n",
    "\n",
    "We will implement two other methods here, the Word2Vec model and the Doc2Vec model, also using `gensim`. Word2Vec creates representations of words, not documents, so the word level vectors need to be aggregated to obtain a representation for the document. Here, we will simply take the mean of the vectors. \n",
    "\n",
    "\n",
    "A drawback of these models is that they need a lot of training data. Our dataset is tiny, so in addition to using a model trained on the data, we will also use a pre-trained model for Word2Vec (this will be automatically downloaded).     \n",
    "\n",
    "*Note*:\n",
    "1. The code in vectorize_documents / vectorize_query should return gensim-like vectors i.e `[(dim, val), .. (dim, val)]`. \n",
    "2. For Word2Vec: You should also handle the following two cases: (a) A word in the query is not present in the vocabulary of the model and (b) none of the words in the query are present in the model - you can return 0 scores for all documents in this case. For either of these, you can check if a `word` is present in the vocab by using `word in self.model`\n"
   ]
  },
  {
   "cell_type": "code",
   "execution_count": 87,
   "metadata": {
    "deletable": false,
    "nbgrader": {
     "cell_type": "code",
     "checksum": "83ab733608ed14c29c09b36b4e1b6daa",
     "grade": false,
     "grade_id": "cell-2b73759f9baf688f",
     "locked": false,
     "schema_version": 3,
     "solution": true,
     "task": false
    }
   },
   "outputs": [
    {
     "name": "stderr",
     "output_type": "stream",
     "text": [
      "2021-02-18 15:29:43,210 : INFO : adding document #0 to Dictionary(0 unique tokens: [])\n",
      "2021-02-18 15:29:43,303 : INFO : built Dictionary(5937 unique tokens: ['-', 'algebra', 'intern', 'languag', 'preliminari']...) from 3204 documents (total 115969 corpus positions)\n",
      "2021-02-18 15:29:43,308 : INFO : discarding 4740 tokens: [('repeat', 8), ('glossari', 7), ('inspect', 8), ('uncol', 2), ('rung', 9), ('secant', 2), ('.', 1603), ('acceler', 6), ('diverg', 3), ('induc', 9)]...\n",
      "2021-02-18 15:29:43,308 : INFO : keeping 1197 tokens which were in no less than 10 and no more than 1602 (=50.0%) documents\n",
      "2021-02-18 15:29:43,309 : INFO : resulting dictionary: Dictionary(1197 unique tokens: ['-', 'algebra', 'intern', 'languag', 'preliminari']...)\n",
      "2021-02-18 15:29:43,363 : INFO : collecting all words and their counts\n",
      "2021-02-18 15:29:43,363 : INFO : PROGRESS: at sentence #0, processed 0 words, keeping 0 word types\n",
      "2021-02-18 15:29:43,376 : INFO : collected 5937 word types from a corpus of 115969 raw words and 3204 sentences\n",
      "2021-02-18 15:29:43,377 : INFO : Loading a fresh vocabulary\n",
      "2021-02-18 15:29:43,383 : INFO : effective_min_count=1 retains 5937 unique words (100% of original 5937, drops 0)\n",
      "2021-02-18 15:29:43,384 : INFO : effective_min_count=1 leaves 115969 word corpus (100% of original 115969, drops 0)\n",
      "2021-02-18 15:29:43,399 : INFO : deleting the raw counts dictionary of 5937 items\n",
      "2021-02-18 15:29:43,400 : INFO : sample=0.001 downsamples 40 most-common words\n",
      "2021-02-18 15:29:43,400 : INFO : downsampling leaves estimated 92346 word corpus (79.6% of prior 115969)\n",
      "2021-02-18 15:29:43,409 : INFO : estimated required memory for 5937 words and 100 dimensions: 7718100 bytes\n",
      "2021-02-18 15:29:43,409 : INFO : resetting layer weights\n",
      "2021-02-18 15:29:44,252 : INFO : training model with 3 workers on 5937 vocabulary and 100 features, using sg=0 hs=0 sample=0.001 negative=5 window=5\n",
      "2021-02-18 15:29:44,312 : INFO : worker thread finished; awaiting finish of 2 more threads\n",
      "2021-02-18 15:29:44,314 : INFO : worker thread finished; awaiting finish of 1 more threads\n",
      "2021-02-18 15:29:44,316 : INFO : worker thread finished; awaiting finish of 0 more threads\n",
      "2021-02-18 15:29:44,316 : INFO : EPOCH - 1 : training on 115969 raw words (92242 effective words) took 0.1s, 1532268 effective words/s\n",
      "2021-02-18 15:29:44,369 : INFO : worker thread finished; awaiting finish of 2 more threads\n",
      "2021-02-18 15:29:44,371 : INFO : worker thread finished; awaiting finish of 1 more threads\n",
      "2021-02-18 15:29:44,374 : INFO : worker thread finished; awaiting finish of 0 more threads\n",
      "2021-02-18 15:29:44,375 : INFO : EPOCH - 2 : training on 115969 raw words (92242 effective words) took 0.1s, 1666420 effective words/s\n",
      "2021-02-18 15:29:44,429 : INFO : worker thread finished; awaiting finish of 2 more threads\n",
      "2021-02-18 15:29:44,430 : INFO : worker thread finished; awaiting finish of 1 more threads\n",
      "2021-02-18 15:29:44,431 : INFO : worker thread finished; awaiting finish of 0 more threads\n",
      "2021-02-18 15:29:44,431 : INFO : EPOCH - 3 : training on 115969 raw words (92356 effective words) took 0.1s, 1748273 effective words/s\n",
      "2021-02-18 15:29:44,485 : INFO : worker thread finished; awaiting finish of 2 more threads\n",
      "2021-02-18 15:29:44,486 : INFO : worker thread finished; awaiting finish of 1 more threads\n",
      "2021-02-18 15:29:44,486 : INFO : worker thread finished; awaiting finish of 0 more threads\n",
      "2021-02-18 15:29:44,487 : INFO : EPOCH - 4 : training on 115969 raw words (92198 effective words) took 0.1s, 1782934 effective words/s\n",
      "2021-02-18 15:29:44,540 : INFO : worker thread finished; awaiting finish of 2 more threads\n",
      "2021-02-18 15:29:44,541 : INFO : worker thread finished; awaiting finish of 1 more threads\n",
      "2021-02-18 15:29:44,543 : INFO : worker thread finished; awaiting finish of 0 more threads\n",
      "2021-02-18 15:29:44,544 : INFO : EPOCH - 5 : training on 115969 raw words (92336 effective words) took 0.1s, 1706154 effective words/s\n",
      "2021-02-18 15:29:44,544 : INFO : training on a 579845 raw words (461374 effective words) took 0.3s, 1579177 effective words/s\n",
      "/home/kjw/.local/lib/python3.6/site-packages/ipykernel_launcher.py:42: DeprecationWarning: Call to deprecated `__contains__` (Method will be removed in 4.0.0, use self.wv.__contains__() instead).\n"
     ]
    },
    {
     "data": {
      "text/plain": [
       "[(0, -0.042582694),\n",
       " (1, -0.4866898),\n",
       " (2, -0.0006204723),\n",
       " (3, -0.19230491),\n",
       " (4, -0.3405204),\n",
       " (5, -0.20172834),\n",
       " (6, 0.10243348),\n",
       " (7, 0.10715735),\n",
       " (8, -1.0867498),\n",
       " (9, -0.04468947),\n",
       " (10, -0.10775806),\n",
       " (11, -0.24199274),\n",
       " (12, 0.77122474),\n",
       " (13, -0.70291406),\n",
       " (14, -0.91519874),\n",
       " (15, -0.34836963),\n",
       " (16, 0.2508134),\n",
       " (17, -0.0127364965),\n",
       " (18, -0.62231684),\n",
       " (19, -0.060843505),\n",
       " (20, -0.28325486),\n",
       " (21, -0.2023734),\n",
       " (22, 0.6835706),\n",
       " (23, -0.44268194),\n",
       " (24, -0.2662131),\n",
       " (25, -0.038280115),\n",
       " (26, 0.55524707),\n",
       " (27, -0.1346815),\n",
       " (28, -0.5158093),\n",
       " (29, 0.7379125),\n",
       " (30, 0.6632174),\n",
       " (31, 0.5812944),\n",
       " (32, -0.1256162),\n",
       " (33, 1.0091429),\n",
       " (34, 0.18405193),\n",
       " (35, 0.3041941),\n",
       " (36, 0.15201329),\n",
       " (37, -0.62803555),\n",
       " (38, 0.09922975),\n",
       " (39, 0.69574136),\n",
       " (40, 0.32867247),\n",
       " (41, -0.29407623),\n",
       " (42, 0.3224997),\n",
       " (43, -0.11954821),\n",
       " (44, 0.065821625),\n",
       " (45, -0.3280408),\n",
       " (46, 0.24008864),\n",
       " (47, -0.6588428),\n",
       " (48, 0.586198),\n",
       " (49, -0.605219),\n",
       " (50, -0.6288969),\n",
       " (51, -0.5461011),\n",
       " (52, -0.5228582),\n",
       " (53, 0.4153865),\n",
       " (54, -0.200577),\n",
       " (55, -0.28576),\n",
       " (56, 0.023712989),\n",
       " (57, 0.46244353),\n",
       " (58, -0.4944652),\n",
       " (59, -0.31634024),\n",
       " (60, 0.27103403),\n",
       " (61, 0.10554073),\n",
       " (62, 0.2695628),\n",
       " (63, 0.11829908),\n",
       " (64, -0.88028014),\n",
       " (65, -0.14135812),\n",
       " (66, -0.1070917),\n",
       " (67, 0.512589),\n",
       " (68, 0.4361327),\n",
       " (69, -0.21472801),\n",
       " (70, -0.5085338),\n",
       " (71, 0.14680594),\n",
       " (72, 0.21923554),\n",
       " (73, -0.26073313),\n",
       " (74, 0.793154),\n",
       " (75, 0.037458044),\n",
       " (76, 0.43671292),\n",
       " (77, -0.055183396),\n",
       " (78, -1.0001333),\n",
       " (79, -0.18968286),\n",
       " (80, 0.13586843),\n",
       " (81, 1.033545),\n",
       " (82, -0.322911),\n",
       " (83, -0.5753307),\n",
       " (84, 0.4263373),\n",
       " (85, -0.66206455),\n",
       " (86, 0.06867207),\n",
       " (87, 0.25981247),\n",
       " (88, 0.11057139),\n",
       " (89, 0.7974221),\n",
       " (90, -0.08438194),\n",
       " (91, 0.11387149),\n",
       " (92, -0.45542204),\n",
       " (93, 0.31992406),\n",
       " (94, 0.21228977),\n",
       " (95, 0.037906475),\n",
       " (96, -0.26235387),\n",
       " (97, -0.4729115),\n",
       " (98, -0.04014431),\n",
       " (99, 0.40183565)]"
      ]
     },
     "execution_count": 87,
     "metadata": {},
     "output_type": "execute_result"
    }
   ],
   "source": [
    "class W2VRetrievalModel(VectorSpaceRetrievalModel):\n",
    "    def __init__(self, doc_repr):\n",
    "        super().__init__(doc_repr)\n",
    "        \n",
    "        # the dimensionality of the vectors\n",
    "        self.size = 100 \n",
    "        self.min_count = 1\n",
    "    \n",
    "    def train_model(self):\n",
    "        \"\"\"\n",
    "        Trains the W2V model\n",
    "        \"\"\"\n",
    "        # YOUR CODE HERE\n",
    "        self.model = Word2Vec(sentences=self.documents, size=self.size, min_count=self.min_count)\n",
    "        \n",
    "    def vectorize_documents(self):\n",
    "        \"\"\"\n",
    "            Returns a doc_id -> vector dictionary\n",
    "        \"\"\"\n",
    "        # YOUR CODE HERE\n",
    "        doc_vec_dict = {}\n",
    "        for (doc_id, doc) in self.doc_repr:\n",
    "            dw_vecs = [self.model.wv[word] for word in doc if word in self.model]\n",
    "\n",
    "            if len(dw_vecs) == 0:\n",
    "                doc_vec = np.zeros(self.size)\n",
    "            else:\n",
    "                doc_vec = np.mean(np.stack(dw_vecs), axis=0)\n",
    "\n",
    "            doc_vec_dict[doc_id] = list(zip(range(self.size), doc_vec))\n",
    "\n",
    "        return doc_vec_dict\n",
    "        \n",
    "\n",
    "    def vectorize_query(self, query):\n",
    "        \"\"\"\n",
    "        Vectorizes the query using the W2V model\n",
    "        \"\"\"\n",
    "        \n",
    "        query = process_text(query, **config_2)\n",
    "        # YOUR CODE HERE\n",
    "        qw_vecs = [self.model.wv[word] for word in query if word in self.model]\n",
    "        \n",
    "        if len(qw_vecs) == 0:\n",
    "            query_vec = np.zeros(self.size)\n",
    "        else: \n",
    "            query_vec = np.mean(np.stack(qw_vecs), axis=0)\n",
    "        \n",
    "        return list(zip(range(self.size), query_vec))\n",
    "    \n",
    "    \n",
    "class W2VPretrainedRetrievalModel(W2VRetrievalModel):\n",
    "    def __init__(self, doc_repr):\n",
    "        super().__init__(doc_repr)\n",
    "        self.model_name = \"word2vec-google-news-300\"\n",
    "        self.size = 300\n",
    "    \n",
    "    def train_model(self):\n",
    "        \"\"\"\n",
    "        Loads the pretrained model\n",
    "        \"\"\"\n",
    "        self.model = g_downloader.load(self.model_name)\n",
    "\n",
    "w2v = W2VRetrievalModel(doc_repr_2)\n",
    "w2v.train_model()\n",
    "\n",
    "# you can now get a W2V vector for a given query in the following way:\n",
    "w2v.vectorize_query(\"report\")"
   ]
  },
  {
   "cell_type": "code",
   "execution_count": 88,
   "metadata": {
    "deletable": false,
    "editable": false,
    "nbgrader": {
     "cell_type": "code",
     "checksum": "f92b5c5a8c6c4b80652b94223209ab0b",
     "grade": true,
     "grade_id": "cell-b31c0f8d214b8bdf",
     "locked": true,
     "points": 0,
     "schema_version": 3,
     "solution": false,
     "task": false
    }
   },
   "outputs": [
    {
     "name": "stderr",
     "output_type": "stream",
     "text": [
      "/home/kjw/.local/lib/python3.6/site-packages/ipykernel_launcher.py:42: DeprecationWarning: Call to deprecated `__contains__` (Method will be removed in 4.0.0, use self.wv.__contains__() instead).\n"
     ]
    }
   ],
   "source": [
    "assert len(w2v.vectorize_query(\"report\")) == 100\n",
    "assert len(w2v.vectorize_query(\"this is a sentence that is not mellifluous\")) == 100\n"
   ]
  },
  {
   "cell_type": "markdown",
   "metadata": {
    "deletable": false,
    "editable": false,
    "nbgrader": {
     "cell_type": "markdown",
     "checksum": "8dfaabebcb06f308a7ca61fdc5d369e7",
     "grade": false,
     "grade_id": "cell-c2614fa067386384",
     "locked": true,
     "points": 8,
     "schema_version": 3,
     "solution": false,
     "task": true
    }
   },
   "source": [
    "\\#### Please do not change this. This cell is used for grading."
   ]
  },
  {
   "cell_type": "code",
   "execution_count": 89,
   "metadata": {
    "scrolled": true
   },
   "outputs": [
    {
     "name": "stderr",
     "output_type": "stream",
     "text": [
      "2021-02-18 15:29:44,562 : INFO : adding document #0 to Dictionary(0 unique tokens: [])\n",
      "2021-02-18 15:29:44,655 : INFO : built Dictionary(5937 unique tokens: ['-', 'algebra', 'intern', 'languag', 'preliminari']...) from 3204 documents (total 115969 corpus positions)\n",
      "2021-02-18 15:29:44,660 : INFO : discarding 4740 tokens: [('repeat', 8), ('glossari', 7), ('inspect', 8), ('uncol', 2), ('rung', 9), ('secant', 2), ('.', 1603), ('acceler', 6), ('diverg', 3), ('induc', 9)]...\n",
      "2021-02-18 15:29:44,660 : INFO : keeping 1197 tokens which were in no less than 10 and no more than 1602 (=50.0%) documents\n",
      "2021-02-18 15:29:44,663 : INFO : resulting dictionary: Dictionary(1197 unique tokens: ['-', 'algebra', 'intern', 'languag', 'preliminari']...)\n",
      "2021-02-18 15:29:44,872 : INFO : loading projection weights from /home/kjw/gensim-data/word2vec-google-news-300/word2vec-google-news-300.gz\n",
      "2021-02-18 15:30:14,730 : INFO : loaded (3000000, 300) matrix from /home/kjw/gensim-data/word2vec-google-news-300/word2vec-google-news-300.gz\n",
      "/home/kjw/.local/lib/python3.6/site-packages/ipykernel_launcher.py:42: DeprecationWarning: Call to deprecated `wv` (Attribute will be removed in 4.0.0, use self instead).\n"
     ]
    },
    {
     "data": {
      "text/plain": [
       "[(0, -0.14257812),\n",
       " (1, -0.1640625),\n",
       " (2, -0.09033203),\n",
       " (3, -0.11230469),\n",
       " (4, 0.100097656),\n",
       " (5, -0.041259766),\n",
       " (6, 0.048828125),\n",
       " (7, -0.13671875),\n",
       " (8, 0.19628906),\n",
       " (9, -0.13476562),\n",
       " (10, -0.017578125),\n",
       " (11, 0.032226562),\n",
       " (12, 0.095214844),\n",
       " (13, -0.10595703),\n",
       " (14, -0.16992188),\n",
       " (15, 0.041015625),\n",
       " (16, -0.26367188),\n",
       " (17, -0.0063171387),\n",
       " (18, -0.17773438),\n",
       " (19, -0.24023438),\n",
       " (20, 0.3515625),\n",
       " (21, -0.012207031),\n",
       " (22, -0.16210938),\n",
       " (23, -0.12060547),\n",
       " (24, 0.04321289),\n",
       " (25, 0.10986328),\n",
       " (26, 0.052490234),\n",
       " (27, 0.17871094),\n",
       " (28, -0.14550781),\n",
       " (29, 0.13769531),\n",
       " (30, -0.08203125),\n",
       " (31, -0.28320312),\n",
       " (32, -0.10888672),\n",
       " (33, -0.2890625),\n",
       " (34, 0.072265625),\n",
       " (35, -0.04736328),\n",
       " (36, 0.040283203),\n",
       " (37, 0.067871094),\n",
       " (38, 0.11669922),\n",
       " (39, 0.000831604),\n",
       " (40, 0.068359375),\n",
       " (41, 0.12011719),\n",
       " (42, -0.088378906),\n",
       " (43, 0.33789062),\n",
       " (44, -0.044677734),\n",
       " (45, -0.030151367),\n",
       " (46, 0.0076904297),\n",
       " (47, -0.021118164),\n",
       " (48, -0.25390625),\n",
       " (49, 0.14941406),\n",
       " (50, 0.3984375),\n",
       " (51, 0.021606445),\n",
       " (52, -0.02319336),\n",
       " (53, 0.0063476562),\n",
       " (54, 0.008239746),\n",
       " (55, -0.16894531),\n",
       " (56, 0.037353516),\n",
       " (57, -0.06347656),\n",
       " (58, 0.1171875),\n",
       " (59, -0.1484375),\n",
       " (60, -0.07861328),\n",
       " (61, 0.36914062),\n",
       " (62, -0.22460938),\n",
       " (63, 0.17382812),\n",
       " (64, 0.0138549805),\n",
       " (65, 0.1875),\n",
       " (66, -0.10107422),\n",
       " (67, 0.037841797),\n",
       " (68, 0.0021209717),\n",
       " (69, -0.05126953),\n",
       " (70, 0.096191406),\n",
       " (71, -0.057128906),\n",
       " (72, 0.10595703),\n",
       " (73, -0.020996094),\n",
       " (74, 0.16113281),\n",
       " (75, 0.09765625),\n",
       " (76, 0.038330078),\n",
       " (77, 0.21972656),\n",
       " (78, 0.10644531),\n",
       " (79, 0.0859375),\n",
       " (80, 0.1796875),\n",
       " (81, -0.08300781),\n",
       " (82, -0.033203125),\n",
       " (83, 0.041015625),\n",
       " (84, -0.064941406),\n",
       " (85, 0.019897461),\n",
       " (86, 0.13378906),\n",
       " (87, -0.09765625),\n",
       " (88, -0.19335938),\n",
       " (89, -0.23535156),\n",
       " (90, 0.19042969),\n",
       " (91, 0.0024871826),\n",
       " (92, -0.01574707),\n",
       " (93, 0.032226562),\n",
       " (94, -0.21972656),\n",
       " (95, -0.091308594),\n",
       " (96, 0.021240234),\n",
       " (97, 0.15820312),\n",
       " (98, 0.29882812),\n",
       " (99, -0.328125),\n",
       " (100, 0.057373047),\n",
       " (101, -0.04638672),\n",
       " (102, 0.11328125),\n",
       " (103, -0.1015625),\n",
       " (104, 0.18066406),\n",
       " (105, -0.025146484),\n",
       " (106, -0.16601562),\n",
       " (107, -0.096191406),\n",
       " (108, 0.018798828),\n",
       " (109, -0.19433594),\n",
       " (110, 0.14941406),\n",
       " (111, -0.056640625),\n",
       " (112, -0.106933594),\n",
       " (113, -0.15039062),\n",
       " (114, -0.17578125),\n",
       " (115, 0.11279297),\n",
       " (116, 0.049316406),\n",
       " (117, 0.21972656),\n",
       " (118, 0.31835938),\n",
       " (119, 0.15722656),\n",
       " (120, -0.29296875),\n",
       " (121, 0.10498047),\n",
       " (122, -0.296875),\n",
       " (123, -0.013427734),\n",
       " (124, 0.09082031),\n",
       " (125, 0.012573242),\n",
       " (126, -0.051513672),\n",
       " (127, -0.12890625),\n",
       " (128, 0.014465332),\n",
       " (129, 0.12060547),\n",
       " (130, -0.10107422),\n",
       " (131, -0.111328125),\n",
       " (132, 0.063964844),\n",
       " (133, -0.052978516),\n",
       " (134, -0.04321289),\n",
       " (135, -0.012939453),\n",
       " (136, -0.02758789),\n",
       " (137, -0.09716797),\n",
       " (138, -0.20214844),\n",
       " (139, 0.123046875),\n",
       " (140, -0.04248047),\n",
       " (141, 0.17382812),\n",
       " (142, -0.013671875),\n",
       " (143, 0.1015625),\n",
       " (144, -0.0009384155),\n",
       " (145, -0.03564453),\n",
       " (146, 0.30078125),\n",
       " (147, -0.068359375),\n",
       " (148, -0.056152344),\n",
       " (149, 0.037597656),\n",
       " (150, 0.06591797),\n",
       " (151, 0.040283203),\n",
       " (152, 0.0119018555),\n",
       " (153, 0.096191406),\n",
       " (154, 0.3671875),\n",
       " (155, -0.27929688),\n",
       " (156, -0.052001953),\n",
       " (157, -0.106933594),\n",
       " (158, -0.13476562),\n",
       " (159, -0.046142578),\n",
       " (160, 0.25),\n",
       " (161, 0.0056762695),\n",
       " (162, -0.014404297),\n",
       " (163, -0.03100586),\n",
       " (164, -0.060302734),\n",
       " (165, 0.10595703),\n",
       " (166, 0.37890625),\n",
       " (167, 0.05883789),\n",
       " (168, 0.123046875),\n",
       " (169, -0.115234375),\n",
       " (170, 0.14941406),\n",
       " (171, -0.1640625),\n",
       " (172, -0.23339844),\n",
       " (173, -0.07763672),\n",
       " (174, 0.026733398),\n",
       " (175, -0.021118164),\n",
       " (176, 0.19433594),\n",
       " (177, -0.056152344),\n",
       " (178, -0.006439209),\n",
       " (179, -0.16992188),\n",
       " (180, -0.118652344),\n",
       " (181, -0.06738281),\n",
       " (182, -0.068847656),\n",
       " (183, -0.08691406),\n",
       " (184, -0.1015625),\n",
       " (185, 0.014160156),\n",
       " (186, -0.20117188),\n",
       " (187, 0.09814453),\n",
       " (188, -0.010253906),\n",
       " (189, 0.1875),\n",
       " (190, 0.19628906),\n",
       " (191, -0.22070312),\n",
       " (192, -0.19628906),\n",
       " (193, -0.07373047),\n",
       " (194, 0.06640625),\n",
       " (195, -0.13378906),\n",
       " (196, 0.18359375),\n",
       " (197, -0.20019531),\n",
       " (198, 0.19824219),\n",
       " (199, 0.05029297),\n",
       " (200, 0.029907227),\n",
       " (201, 0.017700195),\n",
       " (202, -0.19335938),\n",
       " (203, -0.096191406),\n",
       " (204, -0.10253906),\n",
       " (205, 0.21289062),\n",
       " (206, -0.029907227),\n",
       " (207, 0.14355469),\n",
       " (208, 0.041015625),\n",
       " (209, -0.21191406),\n",
       " (210, 0.20800781),\n",
       " (211, 0.13769531),\n",
       " (212, -0.01965332),\n",
       " (213, 0.014953613),\n",
       " (214, -0.09765625),\n",
       " (215, 0.24316406),\n",
       " (216, 0.080078125),\n",
       " (217, 0.08251953),\n",
       " (218, 0.09863281),\n",
       " (219, 0.056884766),\n",
       " (220, 0.04248047),\n",
       " (221, 0.068847656),\n",
       " (222, -0.03540039),\n",
       " (223, -0.076171875),\n",
       " (224, -0.00016117096),\n",
       " (225, -0.07519531),\n",
       " (226, 0.22460938),\n",
       " (227, 0.15136719),\n",
       " (228, 0.10058594),\n",
       " (229, 0.10986328),\n",
       " (230, 0.023803711),\n",
       " (231, 0.088378906),\n",
       " (232, 0.061767578),\n",
       " (233, -0.107910156),\n",
       " (234, 0.06225586),\n",
       " (235, 0.0034332275),\n",
       " (236, 0.080566406),\n",
       " (237, 0.106933594),\n",
       " (238, 0.08886719),\n",
       " (239, -0.23730469),\n",
       " (240, 0.064941406),\n",
       " (241, 0.010192871),\n",
       " (242, -0.088378906),\n",
       " (243, -0.33203125),\n",
       " (244, 0.0046691895),\n",
       " (245, 0.21289062),\n",
       " (246, 0.0859375),\n",
       " (247, 0.020385742),\n",
       " (248, 0.045654297),\n",
       " (249, 0.1484375),\n",
       " (250, 0.11816406),\n",
       " (251, 0.055664062),\n",
       " (252, -0.17285156),\n",
       " (253, -0.125),\n",
       " (254, -0.025390625),\n",
       " (255, -0.31835938),\n",
       " (256, 0.03112793),\n",
       " (257, 0.0859375),\n",
       " (258, -0.041992188),\n",
       " (259, 0.15625),\n",
       " (260, 0.16113281),\n",
       " (261, 0.19824219),\n",
       " (262, -0.100097656),\n",
       " (263, 0.203125),\n",
       " (264, 0.12890625),\n",
       " (265, 0.23339844),\n",
       " (266, -0.26757812),\n",
       " (267, 0.05517578),\n",
       " (268, 0.048828125),\n",
       " (269, 0.072265625),\n",
       " (270, 0.24414062),\n",
       " (271, 0.24414062),\n",
       " (272, 0.056884766),\n",
       " (273, -0.0546875),\n",
       " (274, -0.033691406),\n",
       " (275, -0.12060547),\n",
       " (276, 0.03491211),\n",
       " (277, -0.14550781),\n",
       " (278, 0.087402344),\n",
       " (279, -0.08300781),\n",
       " (280, 0.017211914),\n",
       " (281, 0.14355469),\n",
       " (282, -0.122558594),\n",
       " (283, 0.1796875),\n",
       " (284, 0.13085938),\n",
       " (285, -0.16503906),\n",
       " (286, 0.012756348),\n",
       " (287, 0.16015625),\n",
       " (288, -0.03112793),\n",
       " (289, 0.08203125),\n",
       " (290, 0.17382812),\n",
       " (291, -0.16796875),\n",
       " (292, 0.13085938),\n",
       " (293, 0.08544922),\n",
       " (294, -0.2109375),\n",
       " (295, -0.13085938),\n",
       " (296, -0.028930664),\n",
       " (297, -0.10546875),\n",
       " (298, 0.084472656),\n",
       " (299, -0.14160156)]"
      ]
     },
     "execution_count": 89,
     "metadata": {},
     "output_type": "execute_result"
    }
   ],
   "source": [
    "w2v_pretrained = W2VPretrainedRetrievalModel(doc_repr_2)\n",
    "w2v_pretrained.train_model()\n",
    "\n",
    "# you can now get an W2V vector for a given query in the following way:\n",
    "w2v_pretrained.vectorize_query(\"report\")"
   ]
  },
  {
   "cell_type": "code",
   "execution_count": 90,
   "metadata": {
    "deletable": false,
    "editable": false,
    "nbgrader": {
     "cell_type": "code",
     "checksum": "0822845afb5eafe5ddb1ffeaa4f4942a",
     "grade": true,
     "grade_id": "cell-1b1466f8ce516f42",
     "locked": true,
     "points": 2,
     "schema_version": 3,
     "solution": false,
     "task": false
    }
   },
   "outputs": [
    {
     "name": "stdout",
     "output_type": "stream",
     "text": [
      "300\n"
     ]
    },
    {
     "name": "stderr",
     "output_type": "stream",
     "text": [
      "/home/kjw/.local/lib/python3.6/site-packages/ipykernel_launcher.py:42: DeprecationWarning: Call to deprecated `wv` (Attribute will be removed in 4.0.0, use self instead).\n"
     ]
    }
   ],
   "source": [
    "##### Function check\n",
    "\n",
    "print(len(w2v_pretrained.vectorize_query(\"report\")))\n",
    "#####"
   ]
  },
  {
   "cell_type": "code",
   "execution_count": 91,
   "metadata": {},
   "outputs": [
    {
     "name": "stderr",
     "output_type": "stream",
     "text": [
      "/home/kjw/.local/lib/python3.6/site-packages/ipykernel_launcher.py:23: DeprecationWarning: Call to deprecated `__contains__` (Method will be removed in 4.0.0, use self.wv.__contains__() instead).\n"
     ]
    },
    {
     "data": {
      "application/vnd.jupyter.widget-view+json": {
       "model_id": "0f182956ee544098a736369f86a3c42f",
       "version_major": 2,
       "version_minor": 0
      },
      "text/plain": [
       "Text(value='', description='Search Bar')"
      ]
     },
     "metadata": {},
     "output_type": "display_data"
    }
   ],
   "source": [
    "drm_w2v = DenseRetrievalRanker(w2v, cosine_sim)\n",
    "\n",
    "# test your LDA model\n",
    "search_fn = drm_w2v.search\n",
    "\n",
    "text = widgets.Text(description=\"Search Bar\", width=200)\n",
    "display(text)\n",
    "\n",
    "\n",
    "text.on_submit(handle_submit_2)"
   ]
  },
  {
   "cell_type": "code",
   "execution_count": 92,
   "metadata": {},
   "outputs": [
    {
     "name": "stderr",
     "output_type": "stream",
     "text": [
      "/home/kjw/.local/lib/python3.6/site-packages/ipykernel_launcher.py:23: DeprecationWarning: Call to deprecated `wv` (Attribute will be removed in 4.0.0, use self instead).\n"
     ]
    },
    {
     "data": {
      "application/vnd.jupyter.widget-view+json": {
       "model_id": "6f3756d38f52482aadff7ff34b1530dd",
       "version_major": 2,
       "version_minor": 0
      },
      "text/plain": [
       "Text(value='', description='Search Bar')"
      ]
     },
     "metadata": {},
     "output_type": "display_data"
    }
   ],
   "source": [
    "drm_w2v_pretrained = DenseRetrievalRanker(w2v_pretrained, cosine_sim)\n",
    "\n",
    "# test your LDA model\n",
    "search_fn = drm_w2v_pretrained.search\n",
    "\n",
    "text = widgets.Text(description=\"Search Bar\", width=200)\n",
    "display(text)\n",
    "\n",
    "\n",
    "text.on_submit(handle_submit_2)"
   ]
  },
  {
   "cell_type": "markdown",
   "metadata": {
    "deletable": false,
    "editable": false,
    "nbgrader": {
     "cell_type": "markdown",
     "checksum": "51b778984fd60757974f51047c61eb15",
     "grade": false,
     "grade_id": "cell-b92f701cbc706108",
     "locked": true,
     "schema_version": 3,
     "solution": false,
     "task": false
    }
   },
   "source": [
    "**Implementation (10 points):**\n",
    "For Doc2Vec, you will need to create a list of `TaggedDocument` instead of using the `self.corpus` or `self.documents` variable. Use the document id as the 'tag'.\n",
    "  "
   ]
  },
  {
   "cell_type": "code",
   "execution_count": 93,
   "metadata": {
    "deletable": false,
    "nbgrader": {
     "cell_type": "code",
     "checksum": "1f60fdeb97febb7f4a6fd5bf109aac20",
     "grade": false,
     "grade_id": "cell-680facdcc98a19ab",
     "locked": false,
     "schema_version": 3,
     "solution": true,
     "task": false
    }
   },
   "outputs": [
    {
     "name": "stderr",
     "output_type": "stream",
     "text": [
      "2021-02-18 15:30:15,742 : INFO : adding document #0 to Dictionary(0 unique tokens: [])\n",
      "2021-02-18 15:30:15,837 : INFO : built Dictionary(5937 unique tokens: ['-', 'algebra', 'intern', 'languag', 'preliminari']...) from 3204 documents (total 115969 corpus positions)\n",
      "2021-02-18 15:30:15,842 : INFO : discarding 4740 tokens: [('repeat', 8), ('glossari', 7), ('inspect', 8), ('uncol', 2), ('rung', 9), ('secant', 2), ('.', 1603), ('acceler', 6), ('diverg', 3), ('induc', 9)]...\n",
      "2021-02-18 15:30:15,842 : INFO : keeping 1197 tokens which were in no less than 10 and no more than 1602 (=50.0%) documents\n",
      "2021-02-18 15:30:15,843 : INFO : resulting dictionary: Dictionary(1197 unique tokens: ['-', 'algebra', 'intern', 'languag', 'preliminari']...)\n",
      "2021-02-18 15:30:15,898 : INFO : collecting all words and their counts\n",
      "2021-02-18 15:30:15,898 : INFO : PROGRESS: at example #0, processed 0 words (0/s), 0 word types, 0 tags\n",
      "2021-02-18 15:30:15,929 : INFO : collected 5937 word types and 10 unique tags from a corpus of 3204 examples and 115969 words\n",
      "2021-02-18 15:30:15,930 : INFO : Loading a fresh vocabulary\n",
      "2021-02-18 15:30:15,937 : INFO : effective_min_count=1 retains 5937 unique words (100% of original 5937, drops 0)\n",
      "2021-02-18 15:30:15,937 : INFO : effective_min_count=1 leaves 115969 word corpus (100% of original 115969, drops 0)\n",
      "2021-02-18 15:30:15,952 : INFO : deleting the raw counts dictionary of 5937 items\n",
      "2021-02-18 15:30:15,952 : INFO : sample=0.001 downsamples 40 most-common words\n",
      "2021-02-18 15:30:15,953 : INFO : downsampling leaves estimated 92346 word corpus (79.6% of prior 115969)\n",
      "2021-02-18 15:30:15,961 : INFO : estimated required memory for 5937 words and 100 dimensions: 7724100 bytes\n",
      "2021-02-18 15:30:15,961 : INFO : resetting layer weights\n",
      "2021-02-18 15:30:16,803 : INFO : training model with 3 workers on 5937 vocabulary and 100 features, using sg=0 hs=0 sample=0.001 negative=5 window=5\n",
      "2021-02-18 15:30:17,018 : INFO : worker thread finished; awaiting finish of 2 more threads\n",
      "2021-02-18 15:30:17,028 : INFO : worker thread finished; awaiting finish of 1 more threads\n",
      "2021-02-18 15:30:17,035 : INFO : worker thread finished; awaiting finish of 0 more threads\n",
      "2021-02-18 15:30:17,035 : INFO : EPOCH - 1 : training on 115969 raw words (104075 effective words) took 0.2s, 457714 effective words/s\n",
      "2021-02-18 15:30:17,250 : INFO : worker thread finished; awaiting finish of 2 more threads\n",
      "2021-02-18 15:30:17,266 : INFO : worker thread finished; awaiting finish of 1 more threads\n",
      "2021-02-18 15:30:17,267 : INFO : worker thread finished; awaiting finish of 0 more threads\n",
      "2021-02-18 15:30:17,267 : INFO : EPOCH - 2 : training on 115969 raw words (104006 effective words) took 0.2s, 459528 effective words/s\n",
      "2021-02-18 15:30:17,482 : INFO : worker thread finished; awaiting finish of 2 more threads\n",
      "2021-02-18 15:30:17,484 : INFO : worker thread finished; awaiting finish of 1 more threads\n",
      "2021-02-18 15:30:17,491 : INFO : worker thread finished; awaiting finish of 0 more threads\n",
      "2021-02-18 15:30:17,492 : INFO : EPOCH - 3 : training on 115969 raw words (104125 effective words) took 0.2s, 474315 effective words/s\n",
      "2021-02-18 15:30:17,703 : INFO : worker thread finished; awaiting finish of 2 more threads\n",
      "2021-02-18 15:30:17,706 : INFO : worker thread finished; awaiting finish of 1 more threads\n",
      "2021-02-18 15:30:17,712 : INFO : worker thread finished; awaiting finish of 0 more threads\n",
      "2021-02-18 15:30:17,712 : INFO : EPOCH - 4 : training on 115969 raw words (104075 effective words) took 0.2s, 482443 effective words/s\n",
      "2021-02-18 15:30:17,922 : INFO : worker thread finished; awaiting finish of 2 more threads\n",
      "2021-02-18 15:30:17,923 : INFO : worker thread finished; awaiting finish of 1 more threads\n",
      "2021-02-18 15:30:17,926 : INFO : worker thread finished; awaiting finish of 0 more threads\n",
      "2021-02-18 15:30:17,926 : INFO : EPOCH - 5 : training on 115969 raw words (104079 effective words) took 0.2s, 496279 effective words/s\n",
      "2021-02-18 15:30:18,148 : INFO : worker thread finished; awaiting finish of 2 more threads\n",
      "2021-02-18 15:30:18,152 : INFO : worker thread finished; awaiting finish of 1 more threads\n",
      "2021-02-18 15:30:18,158 : INFO : worker thread finished; awaiting finish of 0 more threads\n",
      "2021-02-18 15:30:18,158 : INFO : EPOCH - 6 : training on 115969 raw words (104099 effective words) took 0.2s, 458068 effective words/s\n",
      "2021-02-18 15:30:18,370 : INFO : worker thread finished; awaiting finish of 2 more threads\n",
      "2021-02-18 15:30:18,372 : INFO : worker thread finished; awaiting finish of 1 more threads\n",
      "2021-02-18 15:30:18,375 : INFO : worker thread finished; awaiting finish of 0 more threads\n",
      "2021-02-18 15:30:18,376 : INFO : EPOCH - 7 : training on 115969 raw words (103920 effective words) took 0.2s, 487031 effective words/s\n",
      "2021-02-18 15:30:18,590 : INFO : worker thread finished; awaiting finish of 2 more threads\n",
      "2021-02-18 15:30:18,596 : INFO : worker thread finished; awaiting finish of 1 more threads\n",
      "2021-02-18 15:30:18,602 : INFO : worker thread finished; awaiting finish of 0 more threads\n",
      "2021-02-18 15:30:18,603 : INFO : EPOCH - 8 : training on 115969 raw words (103862 effective words) took 0.2s, 463552 effective words/s\n",
      "2021-02-18 15:30:18,804 : INFO : worker thread finished; awaiting finish of 2 more threads\n",
      "2021-02-18 15:30:18,816 : INFO : worker thread finished; awaiting finish of 1 more threads\n",
      "2021-02-18 15:30:18,818 : INFO : worker thread finished; awaiting finish of 0 more threads\n",
      "2021-02-18 15:30:18,819 : INFO : EPOCH - 9 : training on 115969 raw words (104101 effective words) took 0.2s, 493057 effective words/s\n",
      "2021-02-18 15:30:19,036 : INFO : worker thread finished; awaiting finish of 2 more threads\n",
      "2021-02-18 15:30:19,039 : INFO : worker thread finished; awaiting finish of 1 more threads\n",
      "2021-02-18 15:30:19,049 : INFO : worker thread finished; awaiting finish of 0 more threads\n",
      "2021-02-18 15:30:19,050 : INFO : EPOCH - 10 : training on 115969 raw words (104104 effective words) took 0.2s, 456348 effective words/s\n",
      "2021-02-18 15:30:19,268 : INFO : worker thread finished; awaiting finish of 2 more threads\n",
      "2021-02-18 15:30:19,277 : INFO : worker thread finished; awaiting finish of 1 more threads\n",
      "2021-02-18 15:30:19,283 : INFO : worker thread finished; awaiting finish of 0 more threads\n",
      "2021-02-18 15:30:19,283 : INFO : EPOCH - 11 : training on 115969 raw words (103951 effective words) took 0.2s, 454162 effective words/s\n",
      "2021-02-18 15:30:19,498 : INFO : worker thread finished; awaiting finish of 2 more threads\n",
      "2021-02-18 15:30:19,500 : INFO : worker thread finished; awaiting finish of 1 more threads\n",
      "2021-02-18 15:30:19,511 : INFO : worker thread finished; awaiting finish of 0 more threads\n",
      "2021-02-18 15:30:19,512 : INFO : EPOCH - 12 : training on 115969 raw words (103926 effective words) took 0.2s, 464614 effective words/s\n",
      "2021-02-18 15:30:19,710 : INFO : worker thread finished; awaiting finish of 2 more threads\n",
      "2021-02-18 15:30:19,719 : INFO : worker thread finished; awaiting finish of 1 more threads\n",
      "2021-02-18 15:30:19,721 : INFO : worker thread finished; awaiting finish of 0 more threads\n",
      "2021-02-18 15:30:19,721 : INFO : EPOCH - 13 : training on 115969 raw words (104150 effective words) took 0.2s, 509413 effective words/s\n",
      "2021-02-18 15:30:19,944 : INFO : worker thread finished; awaiting finish of 2 more threads\n",
      "2021-02-18 15:30:19,948 : INFO : worker thread finished; awaiting finish of 1 more threads\n",
      "2021-02-18 15:30:19,954 : INFO : worker thread finished; awaiting finish of 0 more threads\n",
      "2021-02-18 15:30:19,955 : INFO : EPOCH - 14 : training on 115969 raw words (104223 effective words) took 0.2s, 452187 effective words/s\n",
      "2021-02-18 15:30:20,173 : INFO : worker thread finished; awaiting finish of 2 more threads\n",
      "2021-02-18 15:30:20,182 : INFO : worker thread finished; awaiting finish of 1 more threads\n",
      "2021-02-18 15:30:20,185 : INFO : worker thread finished; awaiting finish of 0 more threads\n",
      "2021-02-18 15:30:20,185 : INFO : EPOCH - 15 : training on 115969 raw words (104105 effective words) took 0.2s, 459613 effective words/s\n",
      "2021-02-18 15:30:20,393 : INFO : worker thread finished; awaiting finish of 2 more threads\n",
      "2021-02-18 15:30:20,394 : INFO : worker thread finished; awaiting finish of 1 more threads\n"
     ]
    },
    {
     "name": "stderr",
     "output_type": "stream",
     "text": [
      "2021-02-18 15:30:20,402 : INFO : worker thread finished; awaiting finish of 0 more threads\n",
      "2021-02-18 15:30:20,402 : INFO : EPOCH - 16 : training on 115969 raw words (104128 effective words) took 0.2s, 486467 effective words/s\n",
      "2021-02-18 15:30:20,627 : INFO : worker thread finished; awaiting finish of 2 more threads\n",
      "2021-02-18 15:30:20,632 : INFO : worker thread finished; awaiting finish of 1 more threads\n",
      "2021-02-18 15:30:20,632 : INFO : worker thread finished; awaiting finish of 0 more threads\n",
      "2021-02-18 15:30:20,633 : INFO : EPOCH - 17 : training on 115969 raw words (104050 effective words) took 0.2s, 459087 effective words/s\n",
      "2021-02-18 15:30:20,845 : INFO : worker thread finished; awaiting finish of 2 more threads\n",
      "2021-02-18 15:30:20,848 : INFO : worker thread finished; awaiting finish of 1 more threads\n",
      "2021-02-18 15:30:20,853 : INFO : worker thread finished; awaiting finish of 0 more threads\n",
      "2021-02-18 15:30:20,853 : INFO : EPOCH - 18 : training on 115969 raw words (103981 effective words) took 0.2s, 480787 effective words/s\n",
      "2021-02-18 15:30:21,069 : INFO : worker thread finished; awaiting finish of 2 more threads\n",
      "2021-02-18 15:30:21,071 : INFO : worker thread finished; awaiting finish of 1 more threads\n",
      "2021-02-18 15:30:21,079 : INFO : worker thread finished; awaiting finish of 0 more threads\n",
      "2021-02-18 15:30:21,079 : INFO : EPOCH - 19 : training on 115969 raw words (104043 effective words) took 0.2s, 469192 effective words/s\n",
      "2021-02-18 15:30:21,266 : INFO : worker thread finished; awaiting finish of 2 more threads\n",
      "2021-02-18 15:30:21,274 : INFO : worker thread finished; awaiting finish of 1 more threads\n",
      "2021-02-18 15:30:21,280 : INFO : worker thread finished; awaiting finish of 0 more threads\n",
      "2021-02-18 15:30:21,281 : INFO : EPOCH - 20 : training on 115969 raw words (103985 effective words) took 0.2s, 525144 effective words/s\n",
      "2021-02-18 15:30:21,281 : INFO : training on a 2319380 raw words (2080988 effective words) took 4.5s, 464803 effective words/s\n"
     ]
    },
    {
     "data": {
      "text/plain": [
       "[(0, -0.03724589),\n",
       " (1, 0.010254628),\n",
       " (2, 0.024959235),\n",
       " (3, -0.009537926),\n",
       " (4, -0.0039176685),\n",
       " (5, 0.0033746562),\n",
       " (6, 0.027678367),\n",
       " (7, 0.0086049475),\n",
       " (8, -0.028400654),\n",
       " (9, 0.023308184),\n",
       " (10, 0.0030698813),\n",
       " (11, 0.026272174),\n",
       " (12, -0.0047140857),\n",
       " (13, 0.023285694),\n",
       " (14, 0.012939946),\n",
       " (15, -0.03751335),\n",
       " (16, -0.048723087),\n",
       " (17, -0.010871792),\n",
       " (18, -0.04565782),\n",
       " (19, -0.03821932),\n",
       " (20, -0.010587938),\n",
       " (21, -0.010047239),\n",
       " (22, 0.059970696),\n",
       " (23, -0.031373233),\n",
       " (24, 0.031330857),\n",
       " (25, 0.045899067),\n",
       " (26, -0.020142674),\n",
       " (27, -0.011088264),\n",
       " (28, -0.01359098),\n",
       " (29, -0.012779476),\n",
       " (30, -0.0011745525),\n",
       " (31, -0.00944053),\n",
       " (32, -0.022012932),\n",
       " (33, 0.022416174),\n",
       " (34, 0.0064410004),\n",
       " (35, 0.018446647),\n",
       " (36, 0.032586496),\n",
       " (37, 0.027482023),\n",
       " (38, -0.027640821),\n",
       " (39, -0.019509502),\n",
       " (40, 0.062353957),\n",
       " (41, 0.034781564),\n",
       " (42, -0.02905728),\n",
       " (43, -0.014156931),\n",
       " (44, -0.01951651),\n",
       " (45, 0.03828117),\n",
       " (46, 0.023453414),\n",
       " (47, -0.031641133),\n",
       " (48, -0.026845267),\n",
       " (49, -0.018519469),\n",
       " (50, -0.012433775),\n",
       " (51, 0.021999622),\n",
       " (52, 0.028557654),\n",
       " (53, -0.065842584),\n",
       " (54, -0.021689845),\n",
       " (55, 0.046408806),\n",
       " (56, -0.01303247),\n",
       " (57, 0.000545489),\n",
       " (58, 0.007092354),\n",
       " (59, -0.03222834),\n",
       " (60, -0.008938657),\n",
       " (61, -0.027766936),\n",
       " (62, 0.023379575),\n",
       " (63, -0.0138296),\n",
       " (64, 0.0116252545),\n",
       " (65, -0.039593723),\n",
       " (66, 0.0532437),\n",
       " (67, 0.0713764),\n",
       " (68, 0.035795536),\n",
       " (69, -0.054586712),\n",
       " (70, 0.0043290146),\n",
       " (71, 0.042916153),\n",
       " (72, -0.032317635),\n",
       " (73, 0.07642135),\n",
       " (74, -0.0119021395),\n",
       " (75, -0.037635382),\n",
       " (76, -0.06882685),\n",
       " (77, -0.037731476),\n",
       " (78, -0.05674045),\n",
       " (79, 0.12692377),\n",
       " (80, -0.04247058),\n",
       " (81, 0.010674966),\n",
       " (82, -0.004369155),\n",
       " (83, 0.060198866),\n",
       " (84, -0.056312855),\n",
       " (85, -0.030892434),\n",
       " (86, 0.0005052351),\n",
       " (87, -0.019847982),\n",
       " (88, -0.0327793),\n",
       " (89, 0.07493717),\n",
       " (90, -0.031568076),\n",
       " (91, 0.033360943),\n",
       " (92, -0.0061532594),\n",
       " (93, 0.012334512),\n",
       " (94, -0.00045276526),\n",
       " (95, -0.035199106),\n",
       " (96, 0.018995889),\n",
       " (97, -0.047495544),\n",
       " (98, -0.025507974),\n",
       " (99, -0.01879296)]"
      ]
     },
     "execution_count": 93,
     "metadata": {},
     "output_type": "execute_result"
    }
   ],
   "source": [
    "class D2VRetrievalModel(VectorSpaceRetrievalModel):\n",
    "    def __init__(self, doc_repr):\n",
    "        super().__init__(doc_repr)\n",
    "        \n",
    "        self.vector_size= 100\n",
    "        self.min_count = 1\n",
    "        self.epochs = 20\n",
    "        \n",
    "        # YOUR CODE HERE\n",
    "        self.documents = [TaggedDocument(doc, str(doc_id)) for (doc_id, doc) in doc_repr]\n",
    "\n",
    "        \n",
    "    def train_model(self):\n",
    "        # YOUR CODE HERE\n",
    "        self.model = Doc2Vec(documents=self.documents, vector_size=self.vector_size, min_count=self.min_count, epochs=self.epochs)\n",
    "        \n",
    "        \n",
    "    def vectorize_documents(self):\n",
    "        \"\"\"\n",
    "            Returns a doc_id -> vector dictionary\n",
    "        \"\"\"  \n",
    "        # YOUR CODE HERE\n",
    "        doc_vec_dict = {}\n",
    "        for (doc_id, doc) in self.doc_repr:\n",
    "            doc_vec = self.model.infer_vector(doc)\n",
    "            doc_vec_dict[doc_id] = list(zip(range(self.vector_size), doc_vec))\n",
    "\n",
    "        return doc_vec_dict\n",
    "\n",
    "    \n",
    "    def vectorize_query(self, query):\n",
    "        # YOUR CODE HERE\n",
    "        query = process_text(query, **config_2)\n",
    "        query_vec = self.model.infer_vector(query)\n",
    "        \n",
    "        return list(zip(range(self.vector_size), query_vec))\n",
    "\n",
    "        \n",
    "d2v = D2VRetrievalModel(doc_repr_2)\n",
    "d2v.train_model()\n",
    "\n",
    "\n",
    "# # you can now get an LSI vector for a given query in the following way:\n",
    "d2v.vectorize_query(\"report\")"
   ]
  },
  {
   "cell_type": "code",
   "execution_count": 94,
   "metadata": {
    "deletable": false,
    "editable": false,
    "nbgrader": {
     "cell_type": "code",
     "checksum": "e83a363a9d4f136efbdde1426a83925e",
     "grade": true,
     "grade_id": "cell-5e2c5e0c9a2e8cb5",
     "locked": true,
     "points": 0,
     "schema_version": 3,
     "solution": false,
     "task": false
    }
   },
   "outputs": [],
   "source": [
    "#### Please do not change this. This cell is used for grading."
   ]
  },
  {
   "cell_type": "markdown",
   "metadata": {
    "deletable": false,
    "editable": false,
    "nbgrader": {
     "cell_type": "markdown",
     "checksum": "5bb46bf6b9be1e0ca66f0b0bc6260ecb",
     "grade": false,
     "grade_id": "cell-8a49d414f798a595",
     "locked": true,
     "points": 10,
     "schema_version": 3,
     "solution": false,
     "task": true
    }
   },
   "source": [
    "\\#### Please do not change this. This cell is used for grading."
   ]
  },
  {
   "cell_type": "code",
   "execution_count": 95,
   "metadata": {},
   "outputs": [
    {
     "data": {
      "application/vnd.jupyter.widget-view+json": {
       "model_id": "d1d978dd4e2a4405911d8554fddf8256",
       "version_major": 2,
       "version_minor": 0
      },
      "text/plain": [
       "Text(value='', description='Search Bar')"
      ]
     },
     "metadata": {},
     "output_type": "display_data"
    }
   ],
   "source": [
    "drm_d2v = DenseRetrievalRanker(d2v, cosine_sim)\n",
    "\n",
    "# test your LDA model\n",
    "search_fn = drm_d2v.search\n",
    "\n",
    "text = widgets.Text(description=\"Search Bar\", width=200)\n",
    "display(text)\n",
    "\n",
    "\n",
    "text.on_submit(handle_submit_2)"
   ]
  },
  {
   "cell_type": "markdown",
   "metadata": {
    "deletable": false,
    "editable": false,
    "nbgrader": {
     "cell_type": "markdown",
     "checksum": "363ec36c1d03d9f9e1c2045a6e193c14",
     "grade": false,
     "grade_id": "cell-3529ae29eece7b97",
     "locked": true,
     "schema_version": 3,
     "solution": false,
     "task": false
    }
   },
   "source": [
    "---\n",
    "## Section 9: Re-ranking (10 points) <a class=\"anchor\" id=\"reranking\"></a>\n",
    "\n",
    "[Back to Part 2](#part2)\n",
    "\n",
    "To motivate the re-ranking perspective (i.e retrieve with lexical method + rerank with a semantic method), let's search using semantic methods and compare it to BM25's performance, along with their runtime:\n"
   ]
  },
  {
   "cell_type": "code",
   "execution_count": 96,
   "metadata": {
    "deletable": false,
    "editable": false,
    "nbgrader": {
     "cell_type": "code",
     "checksum": "5755f70e3eb28abc65d14d80125338af",
     "grade": false,
     "grade_id": "cell-f8f43bf5ae383128",
     "locked": true,
     "schema_version": 3,
     "solution": false,
     "task": false
    }
   },
   "outputs": [
    {
     "name": "stdout",
     "output_type": "stream",
     "text": [
      "BM25: \n",
      "887 µs ± 1.88 µs per loop (mean ± std. dev. of 7 runs, 1000 loops each)\n",
      "LSI: \n",
      "274 ms ± 6 ms per loop (mean ± std. dev. of 7 runs, 1 loop each)\n",
      "LDA: \n",
      "135 ms ± 1.89 ms per loop (mean ± std. dev. of 7 runs, 10 loops each)\n",
      "W2V: \n"
     ]
    },
    {
     "name": "stderr",
     "output_type": "stream",
     "text": [
      "/home/kjw/.local/lib/python3.6/site-packages/ipykernel_launcher.py:42: DeprecationWarning: Call to deprecated `__contains__` (Method will be removed in 4.0.0, use self.wv.__contains__() instead).\n"
     ]
    },
    {
     "name": "stdout",
     "output_type": "stream",
     "text": [
      "274 ms ± 5.05 ms per loop (mean ± std. dev. of 7 runs, 1 loop each)\n",
      "W2V(Pretrained): \n"
     ]
    },
    {
     "name": "stderr",
     "output_type": "stream",
     "text": [
      "/home/kjw/.local/lib/python3.6/site-packages/ipykernel_launcher.py:42: DeprecationWarning: Call to deprecated `wv` (Attribute will be removed in 4.0.0, use self instead).\n",
      "/home/kjw/.local/lib/python3.6/site-packages/ipykernel_launcher.py:16: RuntimeWarning: invalid value encountered in double_scalars\n",
      "  app.launch_new_instance()\n"
     ]
    },
    {
     "name": "stdout",
     "output_type": "stream",
     "text": [
      "714 ms ± 3.98 ms per loop (mean ± std. dev. of 7 runs, 1 loop each)\n",
      "D2V:\n",
      "261 ms ± 3.82 ms per loop (mean ± std. dev. of 7 runs, 1 loop each)\n"
     ]
    }
   ],
   "source": [
    "query = \"algebraic functions\"\n",
    "print(\"BM25: \")\n",
    "%timeit bm25_search(query, 2)\n",
    "print(\"LSI: \")\n",
    "%timeit drm_lsi.search(query)\n",
    "print(\"LDA: \")\n",
    "%timeit drm_lda.search(query)\n",
    "print(\"W2V: \")\n",
    "%timeit drm_w2v.search(query)\n",
    "print(\"W2V(Pretrained): \")\n",
    "%timeit drm_w2v_pretrained.search(query)\n",
    "print(\"D2V:\")\n",
    "%timeit drm_d2v.search(query)"
   ]
  },
  {
   "cell_type": "markdown",
   "metadata": {
    "deletable": false,
    "editable": false,
    "nbgrader": {
     "cell_type": "markdown",
     "checksum": "ae398da0a8c23c95bcbb0023b7ec6f34",
     "grade": false,
     "grade_id": "cell-db5ff09f97841af7",
     "locked": true,
     "schema_version": 3,
     "solution": false,
     "task": false
    }
   },
   "source": [
    "---\n",
    "\n",
    "**Implementation (10 points):**\n",
    "Re-ranking involves retrieving a small set of documents using simple but fast methods like BM25 and then re-ranking them with the aid of semantic methods such as LDA or LSI. Implement the following class, which takes in an `initial_retrieval_fn` - the initial retrieval function and `vsrm` - an instance of the `VectorSpaceRetrievalModel` class (i.e LSI/LDA) as input. The search function should first retrieve an initial list of K documents, and then these documents are re-ranked using a semantic method. This not only makes retrieval faster, but semantic methods perform poorly when used in isolation, as you will find out."
   ]
  },
  {
   "cell_type": "code",
   "execution_count": 97,
   "metadata": {
    "deletable": false,
    "nbgrader": {
     "cell_type": "code",
     "checksum": "63b6b05a676a2ae3f08d8bed1bc59428",
     "grade": false,
     "grade_id": "cell-5bf47600d1a0c507",
     "locked": false,
     "schema_version": 3,
     "solution": true,
     "task": false
    }
   },
   "outputs": [],
   "source": [
    "class DenseRerankingModel:\n",
    "    def __init__(self, initial_retrieval_fn, vsrm, similarity_fn):\n",
    "        \"\"\"\n",
    "            initial_retrieval_fn: takes in a query and returns a list of [(doc_id, score)] (sorted)\n",
    "            vsrm: instance of `VectorSpaceRetrievalModel`\n",
    "            similarity_fn: function instance that takes in two vectors \n",
    "                            and returns a similarity score e.g cosine_sim defined earlier\n",
    "        \"\"\"\n",
    "        self.ret = initial_retrieval_fn\n",
    "        self.vsrm = vsrm\n",
    "        self.similarity_fn = similarity_fn\n",
    "        self.vectorized_documents = vsrm.vectorize_documents()\n",
    "        \n",
    "        assert len(self.vectorized_documents) == len(doc_repr_2)\n",
    "    \n",
    "    def search(self, query, K=50):\n",
    "        \"\"\"\n",
    "            First, retrieve the top K results using the retrieval function\n",
    "            Then, re-rank the results using the VSRM instance\n",
    "        \"\"\"\n",
    "        top_k = [doc_id for (doc_id, score) in self.ret(query)][:K]\n",
    "        query_vec = self.vsrm.vectorize_query(query)\n",
    "        reranking = []\n",
    "        for doc_id in top_k:\n",
    "            doc_vec = self.vectorized_documents[doc_id]\n",
    "            score = self.similarity_fn(query_vec, doc_vec)\n",
    "            reranking.append((doc_id, score))\n",
    "        \n",
    "        reranking.sort(key=lambda _:-_[1])\n",
    "        return reranking"
   ]
  },
  {
   "cell_type": "code",
   "execution_count": 98,
   "metadata": {
    "deletable": false,
    "editable": false,
    "nbgrader": {
     "cell_type": "code",
     "checksum": "334ab5af96976265cace682ab82a7387",
     "grade": true,
     "grade_id": "cell-52c6d18a4c0b4882",
     "locked": true,
     "points": 0,
     "schema_version": 3,
     "solution": false,
     "task": false
    }
   },
   "outputs": [
    {
     "name": "stderr",
     "output_type": "stream",
     "text": [
      "/home/kjw/.local/lib/python3.6/site-packages/ipykernel_launcher.py:23: DeprecationWarning: Call to deprecated `__contains__` (Method will be removed in 4.0.0, use self.wv.__contains__() instead).\n",
      "/home/kjw/.local/lib/python3.6/site-packages/ipykernel_launcher.py:23: DeprecationWarning: Call to deprecated `wv` (Attribute will be removed in 4.0.0, use self instead).\n"
     ]
    }
   ],
   "source": [
    "##### Function check\n",
    "bm25_search_2 = partial(bm25_search, index_set=2)\n",
    "lsi_rerank = DenseRerankingModel(bm25_search_2, lsi, cosine_sim)\n",
    "lda_rerank = DenseRerankingModel(bm25_search_2, lda, jenson_shannon_sim)\n",
    "w2v_rerank = DenseRerankingModel(bm25_search_2, w2v, cosine_sim)\n",
    "w2v_pretrained_rerank = DenseRerankingModel(bm25_search_2, w2v_pretrained, cosine_sim)\n",
    "d2v_rerank = DenseRerankingModel(bm25_search_2, d2v, cosine_sim)\n",
    "\n",
    "##### "
   ]
  },
  {
   "cell_type": "markdown",
   "metadata": {
    "deletable": false,
    "editable": false,
    "nbgrader": {
     "cell_type": "markdown",
     "checksum": "bd904253f45f84e63bab3a69729058fc",
     "grade": false,
     "grade_id": "cell-93215dfe6bcf7cff",
     "locked": true,
     "points": 10,
     "schema_version": 3,
     "solution": false,
     "task": true
    }
   },
   "source": [
    "\\#### Please do not change this. This cell is used for grading."
   ]
  },
  {
   "cell_type": "markdown",
   "metadata": {
    "deletable": false,
    "editable": false,
    "nbgrader": {
     "cell_type": "markdown",
     "checksum": "b592e60292bfe3d9ef2930a354c4077a",
     "grade": false,
     "grade_id": "cell-aa694ff55fa91e7d",
     "locked": true,
     "schema_version": 3,
     "solution": false,
     "task": false
    }
   },
   "source": [
    "---\n",
    "Now, let us time the new search functions:"
   ]
  },
  {
   "cell_type": "code",
   "execution_count": 99,
   "metadata": {
    "deletable": false,
    "editable": false,
    "nbgrader": {
     "cell_type": "code",
     "checksum": "338c7e3528cba266a865a061287c0e38",
     "grade": false,
     "grade_id": "cell-5edbd481562ad91f",
     "locked": true,
     "schema_version": 3,
     "solution": false,
     "task": false
    }
   },
   "outputs": [
    {
     "name": "stdout",
     "output_type": "stream",
     "text": [
      "BM25: \n",
      "891 µs ± 4.22 µs per loop (mean ± std. dev. of 7 runs, 1000 loops each)\n",
      "LSI: \n",
      "5.47 ms ± 36.9 µs per loop (mean ± std. dev. of 7 runs, 100 loops each)\n",
      "LDA: \n",
      "3.37 ms ± 22.1 µs per loop (mean ± std. dev. of 7 runs, 100 loops each)\n",
      "W2V: \n"
     ]
    },
    {
     "name": "stderr",
     "output_type": "stream",
     "text": [
      "/home/kjw/.local/lib/python3.6/site-packages/ipykernel_launcher.py:42: DeprecationWarning: Call to deprecated `__contains__` (Method will be removed in 4.0.0, use self.wv.__contains__() instead).\n"
     ]
    },
    {
     "name": "stdout",
     "output_type": "stream",
     "text": [
      "5.4 ms ± 27.7 µs per loop (mean ± std. dev. of 7 runs, 100 loops each)\n",
      "W2V(Pretrained): \n"
     ]
    },
    {
     "name": "stderr",
     "output_type": "stream",
     "text": [
      "/home/kjw/.local/lib/python3.6/site-packages/ipykernel_launcher.py:42: DeprecationWarning: Call to deprecated `wv` (Attribute will be removed in 4.0.0, use self instead).\n"
     ]
    },
    {
     "name": "stdout",
     "output_type": "stream",
     "text": [
      "12.7 ms ± 257 µs per loop (mean ± std. dev. of 7 runs, 100 loops each)\n",
      "D2V:\n",
      "5.83 ms ± 40.2 µs per loop (mean ± std. dev. of 7 runs, 100 loops each)\n"
     ]
    }
   ],
   "source": [
    "query = \"algebraic functions\"\n",
    "print(\"BM25: \")\n",
    "%timeit bm25_search(query, 2)\n",
    "print(\"LSI: \")\n",
    "%timeit lsi_rerank.search(query)\n",
    "print(\"LDA: \")\n",
    "%timeit lda_rerank.search(query)\n",
    "print(\"W2V: \")\n",
    "%timeit w2v_rerank.search(query)\n",
    "print(\"W2V(Pretrained): \")\n",
    "%timeit w2v_pretrained_rerank.search(query)\n",
    "print(\"D2V:\")\n",
    "%timeit d2v_rerank.search(query)"
   ]
  },
  {
   "cell_type": "markdown",
   "metadata": {
    "deletable": false,
    "editable": false,
    "nbgrader": {
     "cell_type": "markdown",
     "checksum": "c45c5e3f015b2de89d9d39ae3766368b",
     "grade": false,
     "grade_id": "cell-85c50f2ab9eec301",
     "locked": true,
     "schema_version": 3,
     "solution": false,
     "task": false
    }
   },
   "source": [
    "---\n",
    "As you can see, it is much faster (but BM25 is still orders of magnitude faster)."
   ]
  },
  {
   "cell_type": "markdown",
   "metadata": {
    "deletable": false,
    "editable": false,
    "nbgrader": {
     "cell_type": "markdown",
     "checksum": "1e2f3388e3807659f303fe31a75a010e",
     "grade": false,
     "grade_id": "cell-5071bb99b2af61cb",
     "locked": true,
     "schema_version": 3,
     "solution": false,
     "task": false
    }
   },
   "source": [
    "---\n",
    "## Section 10: Evaluation & Analysis (30 points) <a class=\"anchor\" id=\"reranking_eval\"></a>\n",
    "\n",
    "[Back to Part 2](#part2)\n",
    "\n",
    "[Previously](#evaluation) we have implemented some evaluation metrics and used them for measuring the ranking performance of term-based IR algorithms. In this section, we will do the same for semantic methods, both with and without re-ranking.\n",
    "\n",
    "### Section 10.1: Plot (10 points)\n",
    "\n",
    "First, gather the results. The results should consider the index set, the different search functions and different metrics. Plot the results in bar charts, per metric, with clear labels.\n",
    "\n",
    "Then, gather only the re-ranking models, and plot and compare them with the results obtained in part 1 (only index set 2)."
   ]
  },
  {
   "cell_type": "code",
   "execution_count": 100,
   "metadata": {
    "deletable": false,
    "editable": false,
    "nbgrader": {
     "cell_type": "code",
     "checksum": "4fe81520ac6413a803838913fd64de03",
     "grade": false,
     "grade_id": "cell-b672fe6dfae0b1ce",
     "locked": true,
     "schema_version": 3,
     "solution": false,
     "task": false
    }
   },
   "outputs": [],
   "source": [
    "list_of_sem_search_fns = [\n",
    "    (\"lda\", drm_lda.search),\n",
    "    (\"lsi\", drm_lsi.search),\n",
    "    (\"w2v\", drm_w2v.search),\n",
    "    (\"w2v_pretrained\", drm_w2v_pretrained.search),\n",
    "    (\"d2v\", drm_d2v.search),\n",
    "    (\"lsi_rr\", lsi_rerank.search),\n",
    "    (\"lda_rr\", lda_rerank.search),\n",
    "    (\"w2v_rr\", w2v_rerank.search),\n",
    "    (\"w2v_pretrained_rr\", w2v_pretrained_rerank.search),\n",
    "    (\"d2v_rr\", d2v_rerank.search),\n",
    "    \n",
    "]"
   ]
  },
  {
   "cell_type": "code",
   "execution_count": 101,
   "metadata": {
    "deletable": false,
    "nbgrader": {
     "cell_type": "code",
     "checksum": "54707c4afac084299aeefa047259b4a9",
     "grade": true,
     "grade_id": "cell-7dd8273b0f5a3c22",
     "locked": false,
     "points": 10,
     "schema_version": 3,
     "solution": true,
     "task": false
    }
   },
   "outputs": [
    {
     "name": "stderr",
     "output_type": "stream",
     "text": [
      "/home/kjw/.local/lib/python3.6/site-packages/ipykernel_launcher.py:42: DeprecationWarning: Call to deprecated `wv` (Attribute will be removed in 4.0.0, use self instead).\n",
      "/home/kjw/.local/lib/python3.6/site-packages/ipykernel_launcher.py:16: RuntimeWarning: invalid value encountered in double_scalars\n",
      "  app.launch_new_instance()\n",
      "/home/kjw/.local/lib/python3.6/site-packages/ipykernel_launcher.py:42: DeprecationWarning: Call to deprecated `__contains__` (Method will be removed in 4.0.0, use self.wv.__contains__() instead).\n"
     ]
    },
    {
     "data": {
      "image/png": "[encoded data removed]",
      "text/plain": [
       "<Figure size 1080x576 with 1 Axes>"
      ]
     },
     "metadata": {
      "needs_background": "light"
     },
     "output_type": "display_data"
    },
    {
     "data": {
      "image/png": "[encoded data removed]",
      "text/plain": [
       "<Figure size 1080x576 with 1 Axes>"
      ]
     },
     "metadata": {
      "needs_background": "light"
     },
     "output_type": "display_data"
    },
    {
     "data": {
      "image/png": "[encoded data removed]",
      "text/plain": [
       "<Figure size 1080x576 with 1 Axes>"
      ]
     },
     "metadata": {
      "needs_background": "light"
     },
     "output_type": "display_data"
    }
   ],
   "source": [
    "list_rr_and_lex_search_fns = [\n",
    "\n",
    "    (\"lsi_rr\", lsi_rerank.search),\n",
    "    (\"lda_rr\", lda_rerank.search),\n",
    "    (\"w2v_rr\", w2v_rerank.search),\n",
    "    (\"w2v_pretrained_rr\", w2v_pretrained_rerank.search),\n",
    "    (\"d2v_rr\", d2v_rerank.search),\n",
    "    (\"BOW\", bow_search),\n",
    "    (\"TF-IDF\", tfidf_search),\n",
    "    (\"NaiveQL\", naive_ql_search),\n",
    "    (\"QL\", ql_search),\n",
    "    (\"BM25\", bm25_search)\n",
    "]\n",
    "\n",
    "evaluate_search_fn(w2v_pretrained_rerank.search, list_of_metrics)\n",
    "def get_results(search_fns, metrics):\n",
    "    results = {}\n",
    "    for (method_name, search_fn) in search_fns:\n",
    "        res = evaluate_search_fn(search_fn, metrics)\n",
    "        results[method_name] = res\n",
    "    return results\n",
    "\n",
    "\n",
    "def plot_results(res, title):\n",
    "    num_metrics = len(res[list(res.keys())[0]])\n",
    "    num_methods = len(res)\n",
    "    fig, subplts = plt.subplots(figsize=(15,8))\n",
    "    colors = ['#1f77b4', '#ff7f0e', '#2ca02c', '#d62728', '#9467bd', '#8c564b', '#e377c2', '#7f7f7f', '#bcbd22', '#17becf']\n",
    "    for i, method_res in enumerate(res.keys()):\n",
    "        labels = list(res[method_res].keys())\n",
    "        scores = list(res[method_res].values())\n",
    "        x_ticks = np.array([j for j in range(len(labels))])\n",
    "        num_methods = len(res.keys())\n",
    "        width = 0.8/num_methods\n",
    "        if i == int(num_methods/2):\n",
    "            subplts.bar(x_ticks - (i*width), height=scores, tick_label=labels, label=method_res, width=width)\n",
    "        else:\n",
    "            subplts.bar(x_ticks - (i*width), height=scores, label=method_res, width=width)\n",
    "            \n",
    "    plt.ylabel(\"Score\")\n",
    "    plt.title(title)\n",
    "    subplts.legend()\n",
    "    plt.show()\n",
    "\n",
    "res = get_results(list_of_sem_search_fns, list_of_metrics)\n",
    "plot_results(res, \"Semantic Search Functions\")\n",
    "\n",
    "# other plot\n",
    "res_rr_lex = {}\n",
    "search_list = [search_fn[0] for search_fn in list_rr_and_lex_search_fns]\n",
    "for search_fn in res:\n",
    "    if search_fn in search_list:     \n",
    "        res_rr_lex[search_fn] = res[search_fn]\n",
    "for search_fn in evaluations_2:\n",
    "    if search_fn in search_list:\n",
    "        res_rr_lex[search_fn] = evaluations_2[search_fn]\n",
    "\n",
    "plot_results(res_rr_lex, \"Reranked Semantic- and Lexical Search Functions\")\n",
    "\n",
    "# Plot all non-reranked semantic methods\n",
    "non_rr_res = {key: val for key, val in res.items() if 'rr' not in key}\n",
    "plot_results(non_rr_res, \"Semantic Search Functions, no reranking\")"
   ]
  },
  {
   "cell_type": "markdown",
   "metadata": {
    "deletable": false,
    "editable": false,
    "nbgrader": {
     "cell_type": "markdown",
     "checksum": "a8a3b6189bdde66704c694d85e38d049",
     "grade": false,
     "grade_id": "cell-deb2ef3daa306e82",
     "locked": true,
     "schema_version": 3,
     "solution": false,
     "task": false
    }
   },
   "source": [
    "### Section 10.2: Summary (20 points)\n",
    "\n",
    "Your summary should compare methods from Part 1 and Part 2 (only for index set 2). State what you expected to see in the results, followed by either supporting evidence *or* justify why the results did not support your expectations. Consider the availability of data, scalability, domain/type of data, etc."
   ]
  },
  {
   "cell_type": "markdown",
   "metadata": {
    "deletable": false,
    "nbgrader": {
     "cell_type": "markdown",
     "checksum": "ff97c43837d10bff6aaffa75e1492887",
     "grade": true,
     "grade_id": "cell-ec5dd7d9cf59dd86",
     "locked": false,
     "points": 20,
     "schema_version": 3,
     "solution": true,
     "task": false
    }
   },
   "source": [
    "For the semantic search functions, we expected the re-ranking models to outperform the original model. In the first plot, showing the scores of the semantic models and their re-ranked version, we can observe that with re-ranking the performance of the semantic models increases significantly. This is likely due to the fact that the re-ranking models receive as input a ranking produced by BM25, which as we have seen in part 1 outperforms all other term-based search functions.\n",
    "\n",
    "Furthermore, we expected the semantic search functions to outperform the term-based search functions, simply because the semantic models represent documents with richer embeddings than the simple count/occurence based lexical methods. In the second plot, showing the scores of the re-ranked semantic models and the lexical models, we can observe that the semantic models outperform term-based models such as BoW, TF-IDF and NaiveQL. However, QL and BM25 seem to outperform the semantic models on all metrics. We suspect this is due to semantic models requiring a larger collection in order to do well. The two best semantic models, Word2Vec Pretrained Reranked and Doc2Vec Reranked, benefit from the performance of the initial ranking of BM25, and then only have to look at the top K results. Furthermore, the Word2Vec model also shows that it benefits greatly from both pretraining and reranking, which again, indicates that the collection size is important for semantic models to perform well.\n",
    "\n",
    "In the third plot, we show all semantic models' performance on the evaluation metrics, excluding models that depend on reranking. Our expectations were that Doc2Vec would outperform Word2Vec, because Doc2Vec's document embeddings are based on an average of both context word-vectors and the full document’s doc-vector. The Word2Vec based document embeddings, on the other hand, are obtained by taking the mean of all individual word embeddings to get a document embedding. Especially for longer documents the average of many word vectors may muddle the representation, simply taking the mean of the embeddings may not always result in rich document embeddings. From the results, we do see that this is the case, even for the Word2Vec pretrained model.\n",
    "\n",
    "In the third plot, Word2Vec with pretraining did not improve the MAP and Recall@10 performance compared to regular Word2Vec. The domain of the dataset is CACM which are papers related to computer science, and the pretrained Word2Vec model was trained on Google news articles. These two domains are very different from eachother, and so perhaps these word embeddings may not have translated well across these domains. The discrepency between the W2V and W2V pretrained recall@k results are likely the cause of the lower MAP score as this depends on the recall and precision. When looking at the difference between their precisions@k, the gap between the pretrained model and the normal model decreases, which means it could be that precision@k>10 and recall@k>10 are consistently better for the regular W2V model as opposed to the pretrained W2V model.\n",
    "\n",
    "Moreover, we expected LSI to outperform LDA, because LDA is supposed to learn a topic distribution instead of a vector. Due to the very limited dataset size, we did not expect LDA to be able to learn very good topic distributions to correctly rank documents based off of a Jensen-Shannon divergence similarity score.\n",
    "\n",
    "Lastly, we now look specifically at the trends between the recall@k and precision@k. As recall@k increases k, each of the methods can only increase its recall, and this can be seen from all the plots. With precision@k with increasing k, precision decreases, as it's more likely for the models to return some irrelevant documents at lower rankings rather than at the top rankings."
   ]
  }
 ],
 "metadata": {
  "kernelspec": {
   "display_name": "Python 3",
   "language": "python",
   "name": "python3"
  },
  "language_info": {
   "codemirror_mode": {
    "name": "ipython",
    "version": 3
   },
   "file_extension": ".py",
   "mimetype": "text/x-python",
   "name": "python",
   "nbconvert_exporter": "python",
   "pygments_lexer": "ipython3",
   "version": "3.8.3"
  }
 },
 "nbformat": 4,
 "nbformat_minor": 4
}
