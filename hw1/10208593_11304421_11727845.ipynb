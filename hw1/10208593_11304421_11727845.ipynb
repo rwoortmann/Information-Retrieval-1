{
 "cells": [
  {
   "cell_type": "markdown",
   "metadata": {
    "deletable": false,
    "editable": false,
    "nbgrader": {
     "cell_type": "markdown",
     "checksum": "758d05f39ab671358f17858c55f7161c",
     "grade": false,
     "grade_id": "cell-c9cd9e550239e812",
     "locked": true,
     "schema_version": 3,
     "solution": false,
     "task": false
    }
   },
   "source": [
    "# Homework 1 (Total Points: 260) <a class=\"anchor\" id=\"top\"></a>\n",
    "\n",
    "\n",
    "**Submission instructions**:\n",
    "- Only the code `TODO: Implement this!` denotes that these sections are graded.\n",
    "- For Part 1: You can use the `nltk`, `numpy` and `matplotlib` libraries here. Other libraries, e.g., `gensim` or `scikit-learn`, may not be used. For Part 2: `gensim` is allowed in addition to the imported libraries in the next code cell\n",
    "- The notebook you submit has to have the student ids, separated by underscores (E.g., `12341234_12341234_12341234.ipynb`). \n",
    "- This will be parsed by a regexp, so please double check your filename.\n",
    "- Only one member of each group has to submit the file to canvas.\n",
    "- Make sure to check that your notebook runs before submission. A quick way to do this is to restart the kernel and run all the cells.  \n",
    "- Please do not delete/add new cells. Removing cells can lead to grade deduction.\n",
    "- Note, that you are not allowed to use Google Colab.\n",
    "\n",
    "\n",
    "**Learning Goals**:\n",
    "- [Part 1, Term-based matching](#part1) (175 points):\n",
    "    - Learn how to load a dataset and process it.\n",
    "    - Learn how to implement several standard IR methods (TF-IDF, BM25, QL) and understand their weaknesses & strengths.\n",
    "    - Learn how to evaluate IR methods.\n",
    "- [Part 2, Semantic-based matching](#part2) (85 points):\n",
    "    - Learn how to implement vector-space retrieval methods (LSI, LDA).\n",
    "    - Learn how to use LSI and LDA for re-ranking\n",
    "\n",
    "    \n",
    "**Resources**: \n",
    "- **Part 1**: Sections 2.3, 4.1, 4.2, 4.3, 5.3, 5.6, 5.7, 6.2, 7, 8 of [Search Engines: Information Retrieval in Practice](https://ciir.cs.umass.edu/downloads/SEIRiP.pdf)\n",
    "- **Part 2**: [LSI - Chapter 18](https://nlp.stanford.edu/IR-book/pdf/18lsi.pdf) from [Introduction to Information Retrieval](https://nlp.stanford.edu/IR-book/) book and the [original LDA paper](https://jmlr.org/papers/volume3/blei03a/blei03a.pdf)"
   ]
  },
  {
   "cell_type": "code",
   "execution_count": 1,
   "metadata": {
    "deletable": false,
    "editable": false,
    "nbgrader": {
     "cell_type": "code",
     "checksum": "c55bfe94ff1f564dd595547e516c4c6e",
     "grade": false,
     "grade_id": "cell-f5357fabdb9660e3",
     "locked": true,
     "schema_version": 3,
     "solution": false,
     "task": false
    }
   },
   "outputs": [],
   "source": [
    "# imports \n",
    "# TODO: Ensure that no additional library is imported in the notebook. \n",
    "# TODO: Only the standard library and the following libraries are allowed:\n",
    "# TODO: You can also use unlisted classes from these libraries or standard libraries (such as defaultdict, Counter, ...).\n",
    "\n",
    "import os\n",
    "import zipfile\n",
    "from functools import partial\n",
    "\n",
    "import nltk\n",
    "import requests\n",
    "import numpy as np\n",
    "from tqdm import tqdm\n",
    "\n",
    "import matplotlib.pyplot as plt\n",
    "from matplotlib.pyplot import cm\n",
    "\n",
    "from ipywidgets import widgets\n",
    "from IPython.display import display, HTML\n",
    "#from IPython.html import widgets\n",
    "from collections import namedtuple\n",
    "\n",
    "%matplotlib inline"
   ]
  },
  {
   "cell_type": "markdown",
   "metadata": {
    "deletable": false,
    "editable": false,
    "nbgrader": {
     "cell_type": "markdown",
     "checksum": "4ef0139c6fbc22b41520721a9275c1e1",
     "grade": false,
     "grade_id": "cell-7428e12ed184408b",
     "locked": true,
     "schema_version": 3,
     "solution": false,
     "task": false
    }
   },
   "source": [
    "\n",
    "# Part 1: Term-based Matching (175 points) <a class=\"anchor\" id=\"part1\"></a>\n",
    "\n",
    "[Back to top](#top)\n",
    "\n",
    "In the first part, we will learn the basics of IR from loading and preprocessing the material, to implementing some well known search algorithms, to evaluating the ranking performance of the implemented algorithms. We will be using the CACM dataset throughout the assignment. The CACM dataset is a collection of titles and abstracts from the journal CACM (Communication of the ACM).\n",
    "\n",
    "Table of contents:\n",
    "- [Section 1: Text Processing](#text_processing) (15 points)\n",
    "- [Section 2: Indexing](#indexing) (10 points)\n",
    "- [Section 3: Ranking](#ranking) (80 points)\n",
    "- [Section 4: Evaluation](#evaluation) (40 points)\n",
    "- [Section 5: Analysis](#analysis) (30 points)\n"
   ]
  },
  {
   "cell_type": "markdown",
   "metadata": {
    "deletable": false,
    "editable": false,
    "nbgrader": {
     "cell_type": "markdown",
     "checksum": "a9050c97b011a926b9e4cf6831eff5bd",
     "grade": false,
     "grade_id": "cell-4b24825cf4ae55ec",
     "locked": true,
     "schema_version": 3,
     "solution": false,
     "task": false
    }
   },
   "source": [
    "---\n",
    "## Section 1: Text Processing (15 points)<a class=\"anchor\" id=\"text_processing\"></a>\n",
    "\n",
    "[Back to Part 1](#part1)\n",
    "\n",
    "In this section, we will load the dataset and learn how to clean up the data to make it usable for an IR system. \n",
    "The points of this section are earned for the following implementations:\n",
    "- `read_cacm_docs` (4 points): Reads in the CACM documents.\n",
    "- `read_queries` (3 points): Reads in the CACM queries.\n",
    "- `load_stopwords` (1 point): Loads the stopwords.\n",
    "- `tokenize` (4 points): Tokenizes the input text.\n",
    "- `stem_token` (3 points): Stems the given token. \n",
    "\n",
    "We are using the [CACM dataset](http://ir.dcs.gla.ac.uk/resources/test_collections/cacm/), which is a small, classic IR dataset, composed of a collection of titles and abstracts from the journal CACM. It comes with relevance judgements for queries, so we can evaluate our IR system. \n"
   ]
  },
  {
   "cell_type": "markdown",
   "metadata": {
    "deletable": false,
    "editable": false,
    "nbgrader": {
     "cell_type": "markdown",
     "checksum": "1de1b97f9ee233ad2348359f0c158eb7",
     "grade": false,
     "grade_id": "cell-45651364e7af6d5a",
     "locked": true,
     "schema_version": 3,
     "solution": false,
     "task": false
    }
   },
   "source": [
    "---\n",
    "### 1.1 Read the CACM documents (4 points)\n",
    "\n",
    "\n",
    "The following cell downloads the dataset and unzips it to a local directory."
   ]
  },
  {
   "cell_type": "code",
   "execution_count": 2,
   "metadata": {
    "deletable": false,
    "editable": false,
    "nbgrader": {
     "cell_type": "code",
     "checksum": "4d43c9ad6e77cc01ce4cef0c34824930",
     "grade": false,
     "grade_id": "cell-bbc3030bb3fe7e02",
     "locked": true,
     "schema_version": 3,
     "solution": false,
     "task": false
    }
   },
   "outputs": [],
   "source": [
    "def download_dataset():\n",
    "    folder_path = os.environ.get(\"IR1_DATA_PATH\")\n",
    "    if not folder_path:\n",
    "        folder_path = \"./datasets/\"\n",
    "    os.makedirs(folder_path, exist_ok=True)\n",
    "    \n",
    "    file_location = os.path.join(folder_path, \"cacm.zip\")\n",
    "    \n",
    "    # download file if it doesn't exist\n",
    "    if not os.path.exists(file_location):\n",
    "        \n",
    "        url = \"https://surfdrive.surf.nl/files/index.php/s/M0FGJpX2p8wDwxR/download\"\n",
    "\n",
    "        with open(file_location, \"wb\") as handle:\n",
    "            print(f\"Downloading file from {url} to {file_location}\")\n",
    "            response = requests.get(url, stream=True)\n",
    "            for data in tqdm(response.iter_content()):\n",
    "                handle.write(data)\n",
    "            print(\"Finished downloading file\")\n",
    "    \n",
    "    if not os.path.exists(os.path.join(folder_path, \"train.txt\")):\n",
    "        \n",
    "        # unzip file\n",
    "        with zipfile.ZipFile(file_location, 'r') as zip_ref:\n",
    "            zip_ref.extractall(folder_path)\n",
    "        \n",
    "download_dataset()"
   ]
  },
  {
   "cell_type": "markdown",
   "metadata": {
    "deletable": false,
    "editable": false,
    "nbgrader": {
     "cell_type": "markdown",
     "checksum": "31609b0d61d0c74cbd69bc43e47c23be",
     "grade": false,
     "grade_id": "cell-a7dd9a9bf98ede05",
     "locked": true,
     "schema_version": 3,
     "solution": false,
     "task": false
    }
   },
   "source": [
    "---\n",
    "\n",
    "You can see a brief description of each file in the dataset by looking at the README file:"
   ]
  },
  {
   "cell_type": "code",
   "execution_count": 3,
   "metadata": {
    "deletable": false,
    "editable": false,
    "nbgrader": {
     "cell_type": "code",
     "checksum": "1783f9999c7d06955e8da815de62ba5f",
     "grade": false,
     "grade_id": "cell-9b6ff1a17124711f",
     "locked": true,
     "schema_version": 3,
     "solution": false,
     "task": false
    }
   },
   "outputs": [
    {
     "name": "stdout",
     "output_type": "stream",
     "text": [
      "Files in this directory with sizes:\r\n",
      "          0 Jun 19 21:01 README\r\n",
      "\r\n",
      "    2187734 Jun 19 20:55 cacm.all              text of documents\r\n",
      "        626 Jun 19 20:58 cite.info             key to citation info\r\n",
      "                                                (the X sections in cacm.all)\r\n",
      "       2668 Jun 19 20:55 common_words           stop words used by smart\r\n",
      "       2194 Jun 19 20:55 make_coll*             shell script to make collection\r\n",
      "       1557 Jun 19 20:55 make_coll_term*        ditto (both useless without\r\n",
      "                                                smart system)\r\n",
      "       9948 Jun 19 20:55 qrels.text             relation giving\r\n",
      "                                                    qid did 0 0\r\n",
      "                                                to indicate dument did is\r\n",
      "                                                relevant to query qid\r\n",
      "      13689 Jun 19 20:55 query.text             Original text of the query\r\n"
     ]
    }
   ],
   "source": [
    "##### Read the README file \n",
    "!cat ./datasets/README\n",
    "#####"
   ]
  },
  {
   "cell_type": "markdown",
   "metadata": {
    "deletable": false,
    "editable": false,
    "nbgrader": {
     "cell_type": "markdown",
     "checksum": "d6a5333ae8e7f69d81900e714cc43852",
     "grade": false,
     "grade_id": "cell-73351431869fda76",
     "locked": true,
     "schema_version": 3,
     "solution": false,
     "task": false
    }
   },
   "source": [
    "---\n",
    "We are interested in 4 files:\n",
    "- `cacm.all` : Contains the text for all documents. Note that some documents do not have abstracts available. \n",
    "- `query.text` : The text of all queries\n",
    "- `qrels.text` : The relevance judgements\n",
    "- `common_words` : A list of common words. This may be used as a collection of stopwords"
   ]
  },
  {
   "cell_type": "code",
   "execution_count": 4,
   "metadata": {
    "deletable": false,
    "editable": false,
    "nbgrader": {
     "cell_type": "code",
     "checksum": "c78e4256a08889ce3d0d985ea799b0a9",
     "grade": false,
     "grade_id": "cell-b44dd14079f278ca",
     "locked": true,
     "schema_version": 3,
     "solution": false,
     "task": false
    }
   },
   "outputs": [
    {
     "name": "stdout",
     "output_type": "stream",
     "text": [
      ".I 1\r\n",
      ".T\r\n",
      "Preliminary Report-International Algebraic Language\r\n",
      ".B\r\n",
      "CACM December, 1958\r\n",
      ".A\r\n",
      "Perlis, A. J.\r\n",
      "Samelson,K.\r\n",
      ".N\r\n",
      "CA581203 JB March 22, 1978  8:28 PM\r\n",
      ".X\r\n",
      "100\t5\t1\r\n",
      "123\t5\t1\r\n",
      "164\t5\t1\r\n",
      "1\t5\t1\r\n",
      "1\t5\t1\r\n",
      "1\t5\t1\r\n",
      "205\t5\t1\r\n",
      "210\t5\t1\r\n",
      "214\t5\t1\r\n",
      "1982\t5\t1\r\n",
      "398\t5\t1\r\n",
      "642\t5\t1\r\n",
      "669\t5\t1\r\n",
      "1\t6\t1\r\n",
      "1\t6\t1\r\n",
      "1\t6\t1\r\n",
      "1\t6\t1\r\n",
      "1\t6\t1\r\n",
      "1\t6\t1\r\n",
      "1\t6\t1\r\n",
      "1\t6\t1\r\n",
      "1\t6\t1\r\n",
      "1\t6\t1\r\n",
      "165\t6\t1\r\n",
      "196\t6\t1\r\n",
      "196\t6\t1\r\n",
      "1273\t6\t1\r\n",
      "1883\t6\t1\r\n",
      "324\t6\t1\r\n",
      "43\t6\t1\r\n",
      "53\t6\t1\r\n",
      "91\t6\t1\r\n",
      "410\t6\t1\r\n",
      "3184\t6\t1\r\n"
     ]
    }
   ],
   "source": [
    "##### The first 45 lines of the CACM dataset forms the first record\n",
    "# We are interested only in 3 fields. \n",
    "# 1. the '.I' field, which is the document id\n",
    "# 2. the '.T' field (the title) and\n",
    "# 3. the '.W' field (the abstract, which may be absent)\n",
    "!head -45 ./datasets/cacm.all\n",
    "#####"
   ]
  },
  {
   "cell_type": "markdown",
   "metadata": {
    "deletable": false,
    "editable": false,
    "nbgrader": {
     "cell_type": "markdown",
     "checksum": "aff7cbe5a15a0e3329dc223e3e31abf3",
     "grade": false,
     "grade_id": "cell-c4bf2e263ec553d8",
     "locked": true,
     "schema_version": 3,
     "solution": false,
     "task": false
    }
   },
   "source": [
    "---\n",
    "\n",
    "**Implementation (4 points):**\n",
    "Write a function to read the `cacm.all` file. Note that each document has a variable number of lines. The `.I` field denotes a new document:"
   ]
  },
  {
   "cell_type": "code",
   "execution_count": 5,
   "metadata": {
    "deletable": false,
    "nbgrader": {
     "cell_type": "code",
     "checksum": "45fef5d5b543ee439176d7fd0a9d20be",
     "grade": false,
     "grade_id": "cell-b736116eb419c624",
     "locked": false,
     "schema_version": 3,
     "solution": true,
     "task": false
    }
   },
   "outputs": [],
   "source": [
    "def read_cacm_docs(root_folder = \"./datasets/\"):\n",
    "    \"\"\"\n",
    "        Reads in the CACM documents. The dataset is assumed to be in the folder \"./datasets/\" by default\n",
    "        Returns: A list of 2-tuples: (doc_id, document), where 'document' is a single string created by \n",
    "            appending the title and abstract (separated by a \"\\n\"). \n",
    "            In case the record doesn't have an abstract, the document is composed only by the title\n",
    "    \"\"\"\n",
    "    # YOUR CODE HERE\n",
    "    docs = []\n",
    "    \n",
    "    with open(root_folder + \"cacm.all\", \"r\") as f:\n",
    "\n",
    "        while True:\n",
    "            line = f.readline()\n",
    "            \n",
    "            if line[:2] == \".I\":\n",
    "                if \"doc_id\" in locals():\n",
    "                      docs.append((doc_id, document[:-1]))\n",
    "                doc_id = int(line[3:-1])\n",
    "                \n",
    "            if line[:2] == \".T\":\n",
    "                document = \"\"\n",
    "                line = f.readline()\n",
    "                while not (line[0] == \".\" and line[1].isupper()):   \n",
    "                    document += line[:-1] + \" \"\n",
    "                    line = f.readline()\n",
    "                    \n",
    "            if line[:2] == \".W\":\n",
    "                line = f.readline()\n",
    "                document = document[:-1] + \" \\n \"\n",
    "                while not (line[0] == \".\" and line[1].isupper()):                   \n",
    "                    document += line[:-1] + \" \"\n",
    "                    line = f.readline()  \n",
    "                    \n",
    "            if not line:\n",
    "                docs.append((int(doc_id), document[:-1]))\n",
    "                break\n",
    "    \n",
    "    return docs"
   ]
  },
  {
   "cell_type": "code",
   "execution_count": 6,
   "metadata": {
    "deletable": false,
    "editable": false,
    "nbgrader": {
     "cell_type": "code",
     "checksum": "70472b5c277bb7c417de8da24e4e5261",
     "grade": true,
     "grade_id": "cell-a1c43818e0d3fd79",
     "locked": true,
     "points": 4,
     "schema_version": 3,
     "solution": false,
     "task": false
    }
   },
   "outputs": [],
   "source": [
    "##### Function check\n",
    "docs = read_cacm_docs()\n",
    "\n",
    "assert isinstance(docs, list)\n",
    "assert len(docs) == 3204, \"There should be exactly 3024 documents\"\n",
    "##### "
   ]
  },
  {
   "cell_type": "markdown",
   "metadata": {
    "deletable": false,
    "editable": false,
    "nbgrader": {
     "cell_type": "markdown",
     "checksum": "6fd095d2204cce3935444ca37c7c42da",
     "grade": false,
     "grade_id": "cell-5ed2ddc91f73c60e",
     "locked": true,
     "schema_version": 3,
     "solution": false,
     "task": false
    }
   },
   "source": [
    "---\n",
    "### 1.2 Read the CACM queries (3 points)\n",
    "\n",
    "Next, let us read the queries. They are formatted similarly:"
   ]
  },
  {
   "cell_type": "code",
   "execution_count": 7,
   "metadata": {
    "deletable": false,
    "editable": false,
    "nbgrader": {
     "cell_type": "code",
     "checksum": "5d26c0908e758acb9968b84056b1060a",
     "grade": false,
     "grade_id": "cell-5c7e8e7c4fc2757f",
     "locked": true,
     "schema_version": 3,
     "solution": false,
     "task": false
    }
   },
   "outputs": [
    {
     "name": "stdout",
     "output_type": "stream",
     "text": [
      ".I 1\r\n",
      ".W\r\n",
      " What articles exist which deal with TSS (Time Sharing System), an\r\n",
      "operating system for IBM computers?\r\n",
      ".N\r\n",
      " 1. Richard Alexander, Comp Serv, Langmuir Lab (TSS)\r\n",
      " \r\n",
      ".I 2\r\n",
      ".W\r\n",
      " I am interested in articles written either by Prieve or Udo Pooch\r\n",
      ".A\r\n",
      "Prieve, B.\r\n",
      "Pooch, U.\r\n",
      ".N\r\n",
      " 2. Richard Alexander, Comp Serv, Langmuir Lab (author = Pooch or Prieve)\r\n"
     ]
    }
   ],
   "source": [
    "##### The first 15 lines of 'query.text' has 2 queries\n",
    "# We are interested only in 2 fields. \n",
    "# 1. the '.I' - the query id\n",
    "# 2. the '.W' - the query\n",
    "!head -15 ./datasets/query.text\n",
    "#####"
   ]
  },
  {
   "cell_type": "markdown",
   "metadata": {
    "deletable": false,
    "editable": false,
    "nbgrader": {
     "cell_type": "markdown",
     "checksum": "da34d95924026ea55bf0a9b2070ec237",
     "grade": false,
     "grade_id": "cell-88e293507d2dcef6",
     "locked": true,
     "schema_version": 3,
     "solution": false,
     "task": false
    }
   },
   "source": [
    "---\n",
    "\n",
    "**Implementation (3 points):**\n",
    "Write a function to read the `query.text` file:"
   ]
  },
  {
   "cell_type": "code",
   "execution_count": 8,
   "metadata": {
    "deletable": false,
    "nbgrader": {
     "cell_type": "code",
     "checksum": "f98ac81b2ccb44fe3441e202e980c847",
     "grade": false,
     "grade_id": "cell-433e3ad5d0e2572a",
     "locked": false,
     "schema_version": 3,
     "solution": true,
     "task": false
    }
   },
   "outputs": [],
   "source": [
    "def read_queries(root_folder = \"./datasets/\"):\n",
    "    \"\"\"\n",
    "        Reads in the CACM queries. The dataset is assumed to be in the folder \"./datasets/\" by default\n",
    "        Returns: A list of 2-tuples: (query_id, query)\n",
    "    \"\"\"\n",
    "    # YOUR CODE HERE\n",
    "    queries = []\n",
    "    \n",
    "    with open(root_folder + \"query.text\", \"r\") as f:\n",
    "\n",
    "        while True:  \n",
    "            line = f.readline()\n",
    "            \n",
    "            if line[:2] == \".I\":\n",
    "                if \"query_id\" in locals():\n",
    "                      queries.append((query_id, query[:-1]))\n",
    "                query_id = int(line[3:-1])\n",
    "                \n",
    "            if line[:2] == \".W\":\n",
    "                query = \"\"\n",
    "                line = f.readline()\n",
    "                while not (line[0] == \".\" and line[1].isupper()):\n",
    "                    query += line[:-1] + \" \"\n",
    "                    line = f.readline()\n",
    "            \n",
    "            if not line:\n",
    "                queries.append((int(query_id), query[:-1]))\n",
    "                break\n",
    "    \n",
    "    return queries"
   ]
  },
  {
   "cell_type": "code",
   "execution_count": 9,
   "metadata": {
    "deletable": false,
    "editable": false,
    "nbgrader": {
     "cell_type": "code",
     "checksum": "c0e7a9868bd4b92692c33732af640b8b",
     "grade": true,
     "grade_id": "cell-6ec540abce66c598",
     "locked": true,
     "points": 3,
     "schema_version": 3,
     "solution": false,
     "task": false
    }
   },
   "outputs": [],
   "source": [
    "##### Function check\n",
    "queries = read_queries()\n",
    "\n",
    "assert isinstance(queries, list)\n",
    "assert len(queries) == 64 and all([q[1] is not None for q in queries]), \"There should be exactly 64 queries\"\n",
    "##### "
   ]
  },
  {
   "cell_type": "markdown",
   "metadata": {
    "deletable": false,
    "editable": false,
    "nbgrader": {
     "cell_type": "markdown",
     "checksum": "652f9159caea63888e06b54103bd7f32",
     "grade": false,
     "grade_id": "cell-1c31569491d7b782",
     "locked": true,
     "schema_version": 3,
     "solution": false,
     "task": false
    }
   },
   "source": [
    "---\n",
    "### 1.3 Read the stop words (1 point)\n",
    "\n",
    "We use the common words stored in `common_words`:"
   ]
  },
  {
   "cell_type": "code",
   "execution_count": 10,
   "metadata": {
    "deletable": false,
    "editable": false,
    "nbgrader": {
     "cell_type": "code",
     "checksum": "1ad6f5bae6a792504c1c8513ae5751ad",
     "grade": false,
     "grade_id": "cell-34bdb63461418a96",
     "locked": true,
     "schema_version": 3,
     "solution": false,
     "task": false
    }
   },
   "outputs": [
    {
     "name": "stdout",
     "output_type": "stream",
     "text": [
      "a\r\n",
      "about\r\n",
      "above\r\n",
      "accordingly\r\n",
      "across\r\n",
      "after\r\n",
      "afterwards\r\n",
      "again\r\n",
      "against\r\n",
      "all\r\n"
     ]
    }
   ],
   "source": [
    "##### Read the stop words file \n",
    "!head ./datasets/common_words\n",
    "##### Read the README file "
   ]
  },
  {
   "cell_type": "markdown",
   "metadata": {
    "deletable": false,
    "editable": false,
    "nbgrader": {
     "cell_type": "markdown",
     "checksum": "f720edbacd79170351156a443e0018ff",
     "grade": false,
     "grade_id": "cell-4744bde0338895d8",
     "locked": true,
     "schema_version": 3,
     "solution": false,
     "task": false
    }
   },
   "source": [
    "---\n",
    "**Implementation (1 point):**\n",
    "Write a function to read the `common_words` file (For better coverage, try to keep them in lowercase):"
   ]
  },
  {
   "cell_type": "code",
   "execution_count": 11,
   "metadata": {
    "deletable": false,
    "nbgrader": {
     "cell_type": "code",
     "checksum": "e6a9e9bb3ad0f8dc2ec3c497a3149092",
     "grade": false,
     "grade_id": "cell-7357aa40f64e5bcb",
     "locked": false,
     "schema_version": 3,
     "solution": true,
     "task": false
    }
   },
   "outputs": [],
   "source": [
    "def load_stopwords(root_folder = \"./datasets/\"):\n",
    "    \"\"\"\n",
    "        Loads the stopwords. The dataset is assumed to be in the folder \"./datasets/\" by default\n",
    "        Output: A set of stopwords\n",
    "    \"\"\"\n",
    "    # YOUR CODE HERE\n",
    "    with open(root_folder + \"/common_words\", \"r\") as f:       \n",
    "        return set([word[:-1] for word in f])"
   ]
  },
  {
   "cell_type": "code",
   "execution_count": 12,
   "metadata": {
    "deletable": false,
    "editable": false,
    "nbgrader": {
     "cell_type": "code",
     "checksum": "9211b9735b828d89d1a51d8743c448b4",
     "grade": true,
     "grade_id": "cell-2ca3ac162004de97",
     "locked": true,
     "points": 1,
     "schema_version": 3,
     "solution": false,
     "task": false
    }
   },
   "outputs": [],
   "source": [
    "##### Function check\n",
    "stopwords = load_stopwords()\n",
    "\n",
    "assert isinstance(stopwords, set)\n",
    "assert len(stopwords) == 428, \"There should be exactly 428 stop words\"\n",
    "##### "
   ]
  },
  {
   "cell_type": "markdown",
   "metadata": {
    "deletable": false,
    "editable": false,
    "nbgrader": {
     "cell_type": "markdown",
     "checksum": "fc7e419f35dfd3f507d8a7555ce2cde9",
     "grade": false,
     "grade_id": "cell-134b72872f4300cb",
     "locked": true,
     "schema_version": 3,
     "solution": false,
     "task": false
    }
   },
   "source": [
    "---\n",
    "### 1.4 Tokenization (4 points)\n",
    "\n",
    "We can now write some basic text processing functions. \n",
    "A first step is to tokenize the text. \n",
    "\n",
    "**Note**: Use the  `WordPunctTokenizer` available in the `nltk` library:"
   ]
  },
  {
   "cell_type": "code",
   "execution_count": 13,
   "metadata": {
    "deletable": false,
    "nbgrader": {
     "cell_type": "code",
     "checksum": "3f5564d3c75bf22fbf832b3a9b938f37",
     "grade": false,
     "grade_id": "cell-322be4c9499bdc4b",
     "locked": false,
     "schema_version": 3,
     "solution": true,
     "task": false
    }
   },
   "outputs": [],
   "source": [
    "from nltk.tokenize import WordPunctTokenizer\n",
    "\n",
    "def tokenize(text):\n",
    "    \"\"\"\n",
    "        Tokenizes the input text. Use the WordPunctTokenizer\n",
    "        Input: text - a string\n",
    "        Output: a list of tokens\n",
    "    \"\"\"\n",
    "    # YOUR CODE HERE\n",
    "    return WordPunctTokenizer().tokenize(text)"
   ]
  },
  {
   "cell_type": "code",
   "execution_count": 14,
   "metadata": {
    "deletable": false,
    "editable": false,
    "nbgrader": {
     "cell_type": "code",
     "checksum": "f60b93aa03bf9eced64940252eb33fe3",
     "grade": true,
     "grade_id": "cell-7fbf48bf7541a622",
     "locked": true,
     "points": 4,
     "schema_version": 3,
     "solution": false,
     "task": false
    }
   },
   "outputs": [
    {
     "name": "stdout",
     "output_type": "stream",
     "text": [
      "['the', 'quick', 'brown', 'fox', 'jumps', 'over', 'the', 'lazy', 'dog']\n"
     ]
    }
   ],
   "source": [
    "##### Function check\n",
    "text = \"the quick brown fox jumps over the lazy dog\"\n",
    "tokens = tokenize(text)\n",
    "\n",
    "assert isinstance(tokens, list)\n",
    "assert len(tokens) == 9\n",
    "\n",
    "print(tokens)\n",
    "# output: ['the', 'quick', 'brown', 'fox', 'jumps', 'over', 'the', 'lazy', 'dog']\n",
    "#####"
   ]
  },
  {
   "cell_type": "markdown",
   "metadata": {
    "deletable": false,
    "editable": false,
    "nbgrader": {
     "cell_type": "markdown",
     "checksum": "1b1cc868db22735e5e193bc64ff67877",
     "grade": false,
     "grade_id": "cell-fd1b98ae61b697ca",
     "locked": true,
     "schema_version": 3,
     "solution": false,
     "task": false
    }
   },
   "source": [
    "---\n",
    "### 1.5 Stemming (3 points)\n",
    "\n",
    "Write a function to stem tokens. \n",
    "Again, you can use the nltk library for this:"
   ]
  },
  {
   "cell_type": "code",
   "execution_count": 15,
   "metadata": {
    "deletable": false,
    "nbgrader": {
     "cell_type": "code",
     "checksum": "1c4a6aa979d66158c7b6b992af43293a",
     "grade": false,
     "grade_id": "cell-e3f6c8e3f874b28d",
     "locked": false,
     "schema_version": 3,
     "solution": true,
     "task": false
    }
   },
   "outputs": [],
   "source": [
    "from nltk.stem import PorterStemmer\n",
    "\n",
    "def stem_token(token):\n",
    "    \"\"\"\n",
    "        Stems the given token using the PorterStemmer from the nltk library\n",
    "        Input: a single token\n",
    "        Output: the stem of the token\n",
    "    \"\"\"\n",
    "    # YOUR CODE HERE\n",
    "    return PorterStemmer().stem(token)"
   ]
  },
  {
   "cell_type": "code",
   "execution_count": 16,
   "metadata": {
    "deletable": false,
    "editable": false,
    "nbgrader": {
     "cell_type": "code",
     "checksum": "cd2611a46e7c2e92af438d7166cf2616",
     "grade": true,
     "grade_id": "cell-cd6863e6ee6ed205",
     "locked": true,
     "points": 3,
     "schema_version": 3,
     "solution": false,
     "task": false
    }
   },
   "outputs": [],
   "source": [
    "##### Function check\n",
    "\n",
    "assert stem_token('owned') == 'own'\n",
    "assert stem_token('itemization') == 'item'\n",
    "#####"
   ]
  },
  {
   "cell_type": "markdown",
   "metadata": {
    "deletable": false,
    "editable": false,
    "nbgrader": {
     "cell_type": "markdown",
     "checksum": "5fcc93f08a6abcaffd5bd9475e4768e5",
     "grade": false,
     "grade_id": "cell-47c9f90498699110",
     "locked": true,
     "schema_version": 3,
     "solution": false,
     "task": false
    }
   },
   "source": [
    "---\n",
    "### 1.6 Summary\n",
    "\n",
    "The following function puts it all together. Given a string, it tokenizes it and processes it according to the flags that you set."
   ]
  },
  {
   "cell_type": "code",
   "execution_count": 17,
   "metadata": {
    "deletable": false,
    "editable": false,
    "nbgrader": {
     "cell_type": "code",
     "checksum": "2ff2d215ee8e0039c5a91fd3de12e6bd",
     "grade": false,
     "grade_id": "cell-dd0d3f46b30801da",
     "locked": true,
     "schema_version": 3,
     "solution": false,
     "task": false
    }
   },
   "outputs": [],
   "source": [
    "#### Putting it all together\n",
    "def process_text(text, stem=False, remove_stopwords=False, lowercase_text=False):\n",
    "    \n",
    "    tokens = []\n",
    "    for token in tokenize(text):\n",
    "        if remove_stopwords and token.lower() in stopwords:\n",
    "            continue\n",
    "        if stem:\n",
    "            token = stem_token(token)\n",
    "        if lowercase_text:\n",
    "            token = token.lower()\n",
    "        tokens.append(token)\n",
    "\n",
    "    return tokens\n",
    "#### "
   ]
  },
  {
   "cell_type": "markdown",
   "metadata": {
    "deletable": false,
    "editable": false,
    "nbgrader": {
     "cell_type": "markdown",
     "checksum": "02d433b18eb43654fa4306a7bf55b190",
     "grade": false,
     "grade_id": "cell-8d885bfd2edd43ae",
     "locked": true,
     "schema_version": 3,
     "solution": false,
     "task": false
    }
   },
   "source": [
    "---\n",
    "\n",
    "Let's create two sets of preprocessed documents.\n",
    "We can process the documents and queries according to these two configurations:"
   ]
  },
  {
   "cell_type": "code",
   "execution_count": 18,
   "metadata": {
    "deletable": false,
    "editable": false,
    "nbgrader": {
     "cell_type": "code",
     "checksum": "dbe4ca667be6842fdcf512fbcad50c7f",
     "grade": false,
     "grade_id": "cell-d427365ee0fb21d8",
     "locked": true,
     "schema_version": 3,
     "solution": false,
     "task": false
    }
   },
   "outputs": [],
   "source": [
    "# In this configuration:\n",
    "# Don't preprocess the text, except to tokenize \n",
    "config_1 = {\n",
    "  \"stem\": False,\n",
    "  \"remove_stopwords\" : False,\n",
    "  \"lowercase_text\": True\n",
    "} \n",
    "\n",
    "\n",
    "# In this configuration:\n",
    "# Preprocess the text, stem and remove stopwords\n",
    "config_2 = {\n",
    "  \"stem\": True,\n",
    "  \"remove_stopwords\" : True,\n",
    "  \"lowercase_text\": True, \n",
    "} \n",
    "\n",
    "####\n",
    "doc_repr_1 = []\n",
    "doc_repr_2 = []\n",
    "for (doc_id, document) in docs:\n",
    "    doc_repr_1.append((doc_id, process_text(document, **config_1)))\n",
    "    doc_repr_2.append((doc_id, process_text(document, **config_2)))\n",
    "\n",
    "####"
   ]
  },
  {
   "cell_type": "markdown",
   "metadata": {
    "deletable": false,
    "editable": false,
    "nbgrader": {
     "cell_type": "markdown",
     "checksum": "b60589aac19e80941d860d9b3f1e9a16",
     "grade": false,
     "grade_id": "cell-b1c102db61ae7495",
     "locked": true,
     "schema_version": 3,
     "solution": false,
     "task": false
    }
   },
   "source": [
    "--- \n",
    "\n",
    "## Section 2: Indexing (10 points)<a class=\"anchor\" id=\"indexing\"></a>\n",
    "\n",
    "[Back to Part 1](#part1)\n",
    "\n",
    "\n",
    "\n",
    "A retrieval function usually takes in a query document pair, and scores a query against a document.  Our document set is quite small - just a few thousand documents. However, consider a web-scale dataset with a few million documents. In such a scenario, it would become infeasible to score every query and document pair. In such a case, we can build an inverted index. From Wikipedia:\n",
    "\n",
    "> ... , an inverted index (also referred to as a postings file or inverted file) is a database index storing a mapping from content, such as words or numbers, to its locations in a table, .... The purpose of an inverted index is to allow fast full-text searches, at a cost of increased processing when a document is added to the database. ...\n",
    "\n",
    "\n",
    "Consider a simple inverted index, which maps from word to document. This can improve the performance of a retrieval system significantly. In this assignment, we consider a *simple* inverted index, which maps a word to a set of documents. In practice, however, more complex indices might be used.  \n"
   ]
  },
  {
   "cell_type": "markdown",
   "metadata": {
    "deletable": false,
    "editable": false,
    "nbgrader": {
     "cell_type": "markdown",
     "checksum": "710fd943f45523ac36fcb887cc0d4d39",
     "grade": false,
     "grade_id": "cell-fa373192c1b7bb95",
     "locked": true,
     "schema_version": 3,
     "solution": false,
     "task": false
    }
   },
   "source": [
    "### 2.1 Term Frequency-index (10 points)\n",
    "In this assignment, we will be using an index created in memory since our dataset is tiny. To get started, build a simple index that maps each `token` to a list of `(doc_id, count)` where `count` is the count of the `token` in `doc_id`.\n",
    "For consistency, build this index using a python dictionary.\n",
    "    \n",
    "Now, implement a function to build an index:"
   ]
  },
  {
   "cell_type": "code",
   "execution_count": 19,
   "metadata": {
    "deletable": false,
    "nbgrader": {
     "cell_type": "code",
     "checksum": "c281c45196493b87e45e1b3fb4ddd6c9",
     "grade": false,
     "grade_id": "cell-077599b87e953209",
     "locked": false,
     "schema_version": 3,
     "solution": true,
     "task": false
    }
   },
   "outputs": [],
   "source": [
    "from collections import defaultdict\n",
    "\n",
    "def build_tf_index(documents):\n",
    "    \"\"\"\n",
    "        Build an inverted index (with counts). The output is a dictionary which takes in a token\n",
    "        and returns a list of (doc_id, count) where 'count' is the count of the 'token' in 'doc_id'\n",
    "        Input: a list of documents - (doc_id, tokens) \n",
    "        Output: An inverted index. [token] -> [(doc_id, token_count)]\n",
    "    \"\"\"\n",
    "    # YOUR CODE HERE\n",
    "    index = defaultdict(list)\n",
    "    \n",
    "    for (doc_id, doc) in documents:\n",
    "        doc_counts = defaultdict(int)\n",
    "        \n",
    "        for term in doc:\n",
    "            doc_counts[term] += 1\n",
    "            \n",
    "        for term in doc_counts:\n",
    "            index[term].append((doc_id, doc_counts[term]))\n",
    "            \n",
    "    return index"
   ]
  },
  {
   "cell_type": "markdown",
   "metadata": {
    "deletable": false,
    "editable": false,
    "nbgrader": {
     "cell_type": "markdown",
     "checksum": "15e7041b4323d2a290322de538ff7670",
     "grade": false,
     "grade_id": "cell-093aebfa504f96f2",
     "locked": true,
     "schema_version": 3,
     "solution": false,
     "task": false
    }
   },
   "source": [
    "---\n",
    "Now we can build indexed documents and preprocess the queries based on the two configurations:"
   ]
  },
  {
   "cell_type": "code",
   "execution_count": 20,
   "metadata": {
    "deletable": false,
    "editable": false,
    "nbgrader": {
     "cell_type": "code",
     "checksum": "e27540c1d8d77a3779a05f557f3f40c6",
     "grade": false,
     "grade_id": "cell-b2ff1676348b90a8",
     "locked": true,
     "schema_version": 3,
     "solution": false,
     "task": false
    }
   },
   "outputs": [],
   "source": [
    "#### Indexed documents based on the two configs\n",
    "\n",
    "# Create the 2 indices\n",
    "tf_index_1 = build_tf_index(doc_repr_1)\n",
    "tf_index_2 = build_tf_index(doc_repr_2)\n",
    "\n",
    "# This function returns the tf_index of the corresponding config\n",
    "def get_index(index_set):\n",
    "    assert index_set in {1, 2}\n",
    "    return {\n",
    "        1: tf_index_1,\n",
    "        2: tf_index_2\n",
    "    }[index_set]\n",
    "\n",
    "####\n",
    "#### Preprocessed query based on the two configs\n",
    "\n",
    "# This function preprocesses the text given the index set, according to the specified config\n",
    "def preprocess_query(text, index_set):\n",
    "    assert index_set in {1, 2}\n",
    "    if index_set == 1:\n",
    "        return process_text(text, **config_1)\n",
    "    elif index_set == 2:\n",
    "        return process_text(text, **config_2)\n",
    "\n",
    "#### "
   ]
  },
  {
   "cell_type": "code",
   "execution_count": 21,
   "metadata": {
    "deletable": false,
    "editable": false,
    "nbgrader": {
     "cell_type": "code",
     "checksum": "2c50e4b4c68261ff1184277bcf3c38d8",
     "grade": true,
     "grade_id": "cell-fc7c7232d5d2ee46",
     "locked": true,
     "points": 5,
     "schema_version": 3,
     "solution": false,
     "task": false
    }
   },
   "outputs": [
    {
     "name": "stdout",
     "output_type": "stream",
     "text": [
      "[(4, 1), (7, 1), (10, 1), (13, 1), (19, 1), (22, 1), (23, 1), (37, 1), (40, 3), (41, 1)]\n"
     ]
    }
   ],
   "source": [
    "##### Function check\n",
    "\n",
    "print(tf_index_1['computer'][:10])\n",
    "#### "
   ]
  },
  {
   "cell_type": "code",
   "execution_count": 22,
   "metadata": {
    "deletable": false,
    "editable": false,
    "nbgrader": {
     "cell_type": "code",
     "checksum": "02de27463e2a393f46278d6fe3160481",
     "grade": true,
     "grade_id": "cell-ff06bd11204db250",
     "locked": true,
     "points": 5,
     "schema_version": 3,
     "solution": false,
     "task": false
    }
   },
   "outputs": [
    {
     "name": "stdout",
     "output_type": "stream",
     "text": [
      "[(670, 1), (675, 1), (1621, 3), (1681, 1), (2145, 1), (2339, 1), (2572, 1), (2583, 1), (2739, 1), (3012, 1)]\n"
     ]
    }
   ],
   "source": [
    "##### Function check\n",
    "\n",
    "print(tf_index_2['computer'][:10])\n",
    "#### "
   ]
  },
  {
   "cell_type": "markdown",
   "metadata": {
    "deletable": false,
    "editable": false,
    "nbgrader": {
     "cell_type": "markdown",
     "checksum": "982112dca3f9a75e871bea74fe1adab4",
     "grade": false,
     "grade_id": "cell-89eba71f04310291",
     "locked": true,
     "schema_version": 3,
     "solution": false,
     "task": false
    }
   },
   "source": [
    "\n",
    "---\n",
    "## Section 3: Ranking  (80 points) <a class=\"anchor\" id=\"ranking\"></a>\n",
    "\n",
    "[Back to Part 1](#part1)\n",
    "\n",
    "Now that we have cleaned and processed our dataset, we can start building simple IR systems. \n",
    "\n",
    "For now, we consider *simple* IR systems, which involve computing scores from the tokens present in the document/query. More advanced methods are covered in later assignments.\n",
    "\n",
    "We will implement the following methods in this section:\n",
    "- [Section 3.1: Bag of Words](#bow) (10 points)\n",
    "- [Section 3.2: TF-IDF](#tfidf) (15 points)\n",
    "- [Section 3.3: Query Likelihood Model](#qlm) (35 points)\n",
    "- [Section 3.4: BM25](#bm25) (20 points)\n",
    "\n",
    "**Scoring policy:**\n",
    "Your implementations in this section are scored based on the expected performance of your ranking functions.\n",
    "You will get a full mark if your implementation meets the expected performance (measured by some evaluation metric).\n",
    "Otherwise, you may get partial credit.\n",
    "For example, if your *Bag of words* ranking function has 60% of expected performance, you will get 4 out of 10."
   ]
  },
  {
   "cell_type": "markdown",
   "metadata": {
    "deletable": false,
    "editable": false,
    "nbgrader": {
     "cell_type": "markdown",
     "checksum": "97c13d2e2cad60df4a70dcb61ea7c30e",
     "grade": false,
     "grade_id": "cell-3daf70a60e393adf",
     "locked": true,
     "schema_version": 3,
     "solution": false,
     "task": false
    }
   },
   "source": [
    "--- \n",
    "\n",
    "### Section 3.1: Bag of Words (10 points)<a class=\"anchor\" id=\"bow\"></a>\n",
    "\n",
    "Probably the simplest IR model is the Bag of Words (BOW) model.\n",
    "Implement a function that scores and ranks all the documents against a query using this model.   \n",
    "\n",
    "Note that you can use either the count of the token or 'binarize' it i.e set the value equal to 1 if the token appears.   \n"
   ]
  },
  {
   "cell_type": "code",
   "execution_count": 23,
   "metadata": {
    "deletable": false,
    "nbgrader": {
     "cell_type": "code",
     "checksum": "1178c8a8908b0e4dc07add7aa49b7fde",
     "grade": false,
     "grade_id": "cell-de9cf0459c4b9324",
     "locked": false,
     "schema_version": 3,
     "solution": true,
     "task": false
    }
   },
   "outputs": [],
   "source": [
    "def bow_search(query, index_set):\n",
    "    \"\"\"\n",
    "        Perform a search over all documents with the given query. \n",
    "        Note: You have to use the `get_index` function created in the previous cells\n",
    "        Input: \n",
    "            query - a (unprocessed) query\n",
    "            index_set - the index to use\n",
    "        Output: a list of (document_id, score), sorted in descending relevance to the given query \n",
    "    \"\"\"\n",
    "    \n",
    "    index = get_index(index_set)\n",
    "    processed_query = preprocess_query(query, index_set)\n",
    "    \n",
    "    # YOUR CODE HERE\n",
    "    results = defaultdict(float)\n",
    "    \n",
    "    for term in processed_query:\n",
    "        if term in index:\n",
    "            for (doc_id, tf) in index[term]:\n",
    "                results[doc_id] += tf\n",
    "    \n",
    "    return sorted(results.items(), key=lambda item: item[1], reverse=True)"
   ]
  },
  {
   "cell_type": "code",
   "execution_count": 24,
   "metadata": {
    "deletable": false,
    "editable": false,
    "nbgrader": {
     "cell_type": "code",
     "checksum": "644d6d33cf5075c6d9878d4fe24c6213",
     "grade": true,
     "grade_id": "cell-9f6aceae6dd9125f",
     "locked": true,
     "points": 2,
     "schema_version": 3,
     "solution": false,
     "task": false
    }
   },
   "outputs": [
    {
     "name": "stdout",
     "output_type": "stream",
     "text": [
      "BOW Results:\n",
      "Rank 0(6.0): An Information Algebra - Phase I Report-Language S...\n",
      "Rank 1(6.0): Rejuvenating Experimental Computer Science \\n This...\n",
      "Rank 2(3.0): ALGOL 60 Confidential \\n The ALGOL 60 Report,* whe...\n",
      "Rank 3(2.0): Automatic Abstracting and Indexing Survey and Reco...\n",
      "Rank 4(2.0): A String Language for Symbol Manipulation Based on...\n"
     ]
    }
   ],
   "source": [
    "#### Function check\n",
    "\n",
    "docs_by_id = dict(docs)\n",
    "def print_results(docs, len_limit=50):    \n",
    "    for i, (doc_id, score) in enumerate(docs):\n",
    "        doc_content = docs_by_id[doc_id].strip().replace(\"\\n\", \"\\\\n\")[:len_limit] + \"...\"\n",
    "        print(f\"Rank {i}({score:.2}): {doc_content}\")\n",
    "\n",
    "test_bow = bow_search(\"report\", index_set=1)[:5]\n",
    "print(f\"BOW Results:\")\n",
    "print_results(test_bow)\n",
    "#### "
   ]
  },
  {
   "cell_type": "code",
   "execution_count": 25,
   "metadata": {
    "deletable": false,
    "editable": false,
    "nbgrader": {
     "cell_type": "code",
     "checksum": "8d54c91b913d7a54b25f3358c969fa45",
     "grade": true,
     "grade_id": "cell-4eed3abf233d9b58",
     "locked": true,
     "points": 2,
     "schema_version": 3,
     "solution": false,
     "task": false
    }
   },
   "outputs": [],
   "source": [
    "#### Please do not change this. This cell is used for grading."
   ]
  },
  {
   "cell_type": "code",
   "execution_count": 26,
   "metadata": {
    "deletable": false,
    "editable": false,
    "nbgrader": {
     "cell_type": "code",
     "checksum": "58bcc16d36dc079b7f41f9572423c62b",
     "grade": true,
     "grade_id": "cell-4d65a2d7090c466c",
     "locked": true,
     "points": 3,
     "schema_version": 3,
     "solution": false,
     "task": false
    }
   },
   "outputs": [],
   "source": [
    "#### Please do not change this. This cell is used for grading."
   ]
  },
  {
   "cell_type": "code",
   "execution_count": 27,
   "metadata": {
    "deletable": false,
    "editable": false,
    "nbgrader": {
     "cell_type": "code",
     "checksum": "65e4561970c4eba3e5ce43b142f858af",
     "grade": true,
     "grade_id": "cell-dedf36ab5853ce20",
     "locked": true,
     "points": 3,
     "schema_version": 3,
     "solution": false,
     "task": false
    }
   },
   "outputs": [],
   "source": [
    "#### Please do not change this. This cell is used for grading."
   ]
  },
  {
   "cell_type": "markdown",
   "metadata": {
    "deletable": false,
    "editable": false,
    "nbgrader": {
     "cell_type": "markdown",
     "checksum": "a5c2318004c5ce534b67c7a36bbc7c31",
     "grade": false,
     "grade_id": "cell-a5c09c79ac1f2871",
     "locked": true,
     "schema_version": 3,
     "solution": false,
     "task": false
    }
   },
   "source": [
    "\n",
    "---\n",
    "\n",
    "### Section 3.2: TF-IDF (15 points) <a class=\"anchor\" id=\"tfidf\"></a>\n",
    "\n",
    "Before we implement the tf-idf scoring functions, let's first write a function to compute the document frequencies of all words.  \n",
    "\n",
    "#### 3.2.1 Document frequency (5 points)\n",
    "Compute the document frequencies of all tokens in the collection.  "
   ]
  },
  {
   "cell_type": "code",
   "execution_count": 28,
   "metadata": {
    "deletable": false,
    "nbgrader": {
     "cell_type": "code",
     "checksum": "11cdde77378ded394d7922fe36bbc5d1",
     "grade": false,
     "grade_id": "cell-9a2369f32e864b8a",
     "locked": false,
     "schema_version": 3,
     "solution": true,
     "task": false
    }
   },
   "outputs": [],
   "source": [
    "def compute_df(documents):\n",
    "    \"\"\"\n",
    "        Compute the document frequency of all terms in the vocabulary\n",
    "        Input: A list of documents\n",
    "        Output: A dictionary with {token: document frequency)\n",
    "    \"\"\"\n",
    "    # YOUR CODE HERE\n",
    "    df = defaultdict(int)\n",
    "    for doc in documents:\n",
    "        # set removes duplicate terms in the document\n",
    "        for term in set(doc):\n",
    "            df[term] += 1\n",
    "    \n",
    "    return df"
   ]
  },
  {
   "cell_type": "code",
   "execution_count": 29,
   "metadata": {
    "deletable": false,
    "editable": false,
    "nbgrader": {
     "cell_type": "code",
     "checksum": "154985511d7925c5793a1f97dea81880",
     "grade": false,
     "grade_id": "cell-4c3bddd0b73ac90e",
     "locked": true,
     "schema_version": 3,
     "solution": false,
     "task": false
    }
   },
   "outputs": [],
   "source": [
    "#### Compute df based on the two configs\n",
    "\n",
    "# get the document frequencies of each document\n",
    "df_1 = compute_df([d[1] for d in doc_repr_1])\n",
    "df_2 = compute_df([d[1] for d in doc_repr_2])\n",
    "\n",
    "def get_df(index_set):\n",
    "    assert index_set in {1, 2}\n",
    "    return {\n",
    "        1: df_1,\n",
    "        2: df_2\n",
    "    }[index_set]\n",
    "####"
   ]
  },
  {
   "cell_type": "code",
   "execution_count": 30,
   "metadata": {
    "deletable": false,
    "editable": false,
    "nbgrader": {
     "cell_type": "code",
     "checksum": "110cc180068cf3f77c682ee3de2a117c",
     "grade": true,
     "grade_id": "cell-79e8a6db1e5fc46f",
     "locked": true,
     "points": 5,
     "schema_version": 3,
     "solution": false,
     "task": false
    }
   },
   "outputs": [
    {
     "name": "stdout",
     "output_type": "stream",
     "text": [
      "597\n",
      "11\n"
     ]
    }
   ],
   "source": [
    "#### Function check\n",
    "\n",
    "print(df_1['computer'])\n",
    "print(df_2['computer'])\n",
    "####"
   ]
  },
  {
   "cell_type": "markdown",
   "metadata": {
    "deletable": false,
    "editable": false,
    "nbgrader": {
     "cell_type": "markdown",
     "checksum": "6646996a2d016ef86e7cedd2f79a29d1",
     "grade": false,
     "grade_id": "cell-52f6acc487e1b96d",
     "locked": true,
     "schema_version": 3,
     "solution": false,
     "task": false
    }
   },
   "source": [
    "---\n",
    "#### 3.2.2 TF-IDF search (10 points)\n",
    "Next, implement a function that computes a tf-idf score given a query.      "
   ]
  },
  {
   "cell_type": "code",
   "execution_count": 31,
   "metadata": {
    "deletable": false,
    "nbgrader": {
     "cell_type": "code",
     "checksum": "b33c859693d1b383bcb53acea340027f",
     "grade": false,
     "grade_id": "cell-2fb5ba34b2994cd9",
     "locked": false,
     "schema_version": 3,
     "solution": true,
     "task": false
    }
   },
   "outputs": [],
   "source": [
    "def tfidf_search(query, index_set):\n",
    "    \"\"\"\n",
    "        Perform a search over all documents with the given query using tf-idf. \n",
    "        Note #1: You have to use the `get_index` (and the `get_df`) function created in the previous cells\n",
    "        Input: \n",
    "            query - a (unprocessed) query\n",
    "            index_set - the index to use\n",
    "        Output: a list of (document_id, score), sorted in descending relevance to the given query \n",
    "    \"\"\"\n",
    "    \n",
    "    index = get_index(index_set)\n",
    "    df = get_df(index_set)\n",
    "    processed_query = preprocess_query(query, index_set)\n",
    "    \n",
    "    # YOUR CODE HERE\n",
    "    results = defaultdict(float)\n",
    "    N = len(docs)\n",
    "    \n",
    "    for term in processed_query:\n",
    "        if df[term] == 0:\n",
    "            continue\n",
    "            \n",
    "        idf = np.log(N / df[term])\n",
    "        for (doc_id, tf) in index[term]:\n",
    "            results[doc_id] += tf * idf       \n",
    "                  \n",
    "    return sorted(results.items(), key=lambda item: item[1], reverse=True)\n",
    "        "
   ]
  },
  {
   "cell_type": "code",
   "execution_count": 32,
   "metadata": {
    "deletable": false,
    "editable": false,
    "nbgrader": {
     "cell_type": "code",
     "checksum": "10b9fd39f3c9a9f3ca274c020ad79323",
     "grade": true,
     "grade_id": "cell-bc68aeeacf42beb3",
     "locked": true,
     "points": 2,
     "schema_version": 3,
     "solution": false,
     "task": false
    }
   },
   "outputs": [
    {
     "name": "stdout",
     "output_type": "stream",
     "text": [
      "TFIDF Results:\n",
      "Rank 0(2.3e+01): An Information Algebra - Phase I Report-Language S...\n",
      "Rank 1(2.3e+01): Rejuvenating Experimental Computer Science \\n This...\n",
      "Rank 2(1.2e+01): ALGOL 60 Confidential \\n The ALGOL 60 Report,* whe...\n",
      "Rank 3(7.8): Automatic Abstracting and Indexing Survey and Reco...\n",
      "Rank 4(7.8): A String Language for Symbol Manipulation Based on...\n"
     ]
    }
   ],
   "source": [
    "#### Function check\n",
    "test_tfidf = tfidf_search(\"report\", index_set=1)[:5]\n",
    "print(f\"TFIDF Results:\")\n",
    "print_results(test_tfidf)\n",
    "####"
   ]
  },
  {
   "cell_type": "code",
   "execution_count": 33,
   "metadata": {
    "deletable": false,
    "editable": false,
    "nbgrader": {
     "cell_type": "code",
     "checksum": "03441f97df9db4996d0f260fcc974e9d",
     "grade": true,
     "grade_id": "cell-c7702fa8179fadb9",
     "locked": true,
     "points": 2,
     "schema_version": 3,
     "solution": false,
     "task": false
    }
   },
   "outputs": [],
   "source": [
    "#### Please do not change this. This cell is used for grading."
   ]
  },
  {
   "cell_type": "code",
   "execution_count": 34,
   "metadata": {
    "deletable": false,
    "editable": false,
    "nbgrader": {
     "cell_type": "code",
     "checksum": "7272cfcbb457a74d23bfec1f85d22d5f",
     "grade": true,
     "grade_id": "cell-3284f50ac29abbaa",
     "locked": true,
     "points": 3,
     "schema_version": 3,
     "solution": false,
     "task": false
    }
   },
   "outputs": [],
   "source": [
    "#### Please do not change this. This cell is used for grading."
   ]
  },
  {
   "cell_type": "code",
   "execution_count": 35,
   "metadata": {
    "deletable": false,
    "editable": false,
    "nbgrader": {
     "cell_type": "code",
     "checksum": "fcbcc867713612b90395d653db8fd5e3",
     "grade": true,
     "grade_id": "cell-d908c80a3155354b",
     "locked": true,
     "points": 3,
     "schema_version": 3,
     "solution": false,
     "task": false
    }
   },
   "outputs": [],
   "source": [
    "#### Please do not change this. This cell is used for grading."
   ]
  },
  {
   "cell_type": "markdown",
   "metadata": {
    "deletable": false,
    "editable": false,
    "nbgrader": {
     "cell_type": "markdown",
     "checksum": "cdffc83f0eaea937cf64a212e7e9af8d",
     "grade": false,
     "grade_id": "cell-f5d923459ba21733",
     "locked": true,
     "schema_version": 3,
     "solution": false,
     "task": false
    }
   },
   "source": [
    "--- \n",
    "\n",
    "### Section 3.3: Query Likelihood Model (35 points) <a class=\"anchor\" id=\"qlm\"></a>\n",
    "\n",
    "In this section, you will implement a simple query likelihood model. \n",
    "\n",
    "\n",
    "#### 3.3.1 Naive QL (15 points)\n",
    "\n",
    "First, let us implement a naive version of a QL model, assuming a multinomial unigram language model (with a uniform prior over the documents). \n",
    "\n"
   ]
  },
  {
   "cell_type": "code",
   "execution_count": 36,
   "metadata": {
    "deletable": false,
    "editable": false,
    "nbgrader": {
     "cell_type": "code",
     "checksum": "b7ae2b7d818b428b4638c1c9206d2aca",
     "grade": false,
     "grade_id": "cell-98505778f7b68e7f",
     "locked": true,
     "schema_version": 3,
     "solution": false,
     "task": false
    }
   },
   "outputs": [],
   "source": [
    "#### Document length for normalization\n",
    "\n",
    "def doc_lengths(documents):\n",
    "    doc_lengths = {doc_id:len(doc) for (doc_id, doc) in documents}\n",
    "    return doc_lengths\n",
    "\n",
    "doc_lengths_1 = doc_lengths(doc_repr_1)\n",
    "doc_lengths_2 = doc_lengths(doc_repr_2)\n",
    "\n",
    "def get_doc_lengths(index_set):\n",
    "    assert index_set in {1, 2}\n",
    "    return {\n",
    "        1: doc_lengths_1,\n",
    "        2: doc_lengths_2\n",
    "    }[index_set]\n",
    "####"
   ]
  },
  {
   "cell_type": "code",
   "execution_count": 37,
   "metadata": {
    "deletable": false,
    "nbgrader": {
     "cell_type": "code",
     "checksum": "cedd08303a914243fefdb6b876977ca1",
     "grade": false,
     "grade_id": "cell-8bcf2b804d636c2e",
     "locked": false,
     "schema_version": 3,
     "solution": true,
     "task": false
    }
   },
   "outputs": [],
   "source": [
    "def naive_ql_search(query, index_set):\n",
    "    \"\"\"\n",
    "        Perform a search over all documents with the given query using a naive QL model. \n",
    "        Note #1: You have to use the `get_index` (and get_doc_lengths) function created in the previous cells\n",
    "        Input: \n",
    "            query - a (unprocessed) query\n",
    "            index_set - the index to use\n",
    "        Output: a list of (document_id, score), sorted in descending relevance to the given query \n",
    "    \"\"\"\n",
    "    \n",
    "    index = get_index(index_set)\n",
    "    doc_lengths = get_doc_lengths(index_set)\n",
    "    processed_query = preprocess_query(query, index_set) \n",
    "    \n",
    "    # YOUR CODE HERE\n",
    "    results = {doc: 1.0 for doc in doc_lengths}\n",
    "    \n",
    "    for term in processed_query:\n",
    "        term_scores = {doc_id: 0 for doc_id in doc_lengths}\n",
    "        for (doc_id, tf) in index[term]:\n",
    "            term_scores[doc_id] = tf / doc_lengths[doc_id]\n",
    "\n",
    "        results = {doc_id: results[doc_id] * term_scores[doc_id] for doc_id in results}\n",
    "            \n",
    "    return sorted(results.items(), key=lambda item: item[1], reverse=True)\n",
    "    "
   ]
  },
  {
   "cell_type": "code",
   "execution_count": 38,
   "metadata": {
    "deletable": false,
    "editable": false,
    "nbgrader": {
     "cell_type": "code",
     "checksum": "b550d15bdad28354c336020a00c33d56",
     "grade": true,
     "grade_id": "cell-5a83ac12ecde8578",
     "locked": true,
     "points": 3,
     "schema_version": 3,
     "solution": false,
     "task": false
    }
   },
   "outputs": [
    {
     "name": "stdout",
     "output_type": "stream",
     "text": [
      "Naive QL Results:\n",
      "Rank 0(0.2): A Report Writer For COBOL...\n",
      "Rank 1(0.2): A CRT Report Generating System...\n",
      "Rank 2(0.17): Preliminary Report-International Algebraic Languag...\n",
      "Rank 3(0.17): Supplement to the ALGOL 60 Report...\n",
      "Rank 4(0.14): ALGOL Sub-Committee Report - Extensions...\n"
     ]
    }
   ],
   "source": [
    "#### Function check\n",
    "test_naiveql = naive_ql_search(\"report\", index_set=1)[:5]\n",
    "print(f\"Naive QL Results:\")\n",
    "print_results(test_naiveql)\n",
    "####"
   ]
  },
  {
   "cell_type": "code",
   "execution_count": 39,
   "metadata": {
    "deletable": false,
    "editable": false,
    "nbgrader": {
     "cell_type": "code",
     "checksum": "799df1d81c63fe90edbb6c218fc707fb",
     "grade": true,
     "grade_id": "cell-80f4bf2137f997bb",
     "locked": true,
     "points": 2,
     "schema_version": 3,
     "solution": false,
     "task": false
    }
   },
   "outputs": [],
   "source": [
    "#### Please do not change this. This cell is used for grading."
   ]
  },
  {
   "cell_type": "code",
   "execution_count": 40,
   "metadata": {
    "deletable": false,
    "editable": false,
    "nbgrader": {
     "cell_type": "code",
     "checksum": "875a4a517d27e20625d41783cebec118",
     "grade": true,
     "grade_id": "cell-5ce2993458a8ce51",
     "locked": true,
     "points": 3,
     "schema_version": 3,
     "solution": false,
     "task": false
    }
   },
   "outputs": [],
   "source": [
    "#### Please do not change this. This cell is used for grading."
   ]
  },
  {
   "cell_type": "code",
   "execution_count": 41,
   "metadata": {
    "deletable": false,
    "editable": false,
    "nbgrader": {
     "cell_type": "code",
     "checksum": "d5c4e1c3852e71a46f32825b122f1b71",
     "grade": true,
     "grade_id": "cell-7753bdb54e292f3d",
     "locked": true,
     "points": 3,
     "schema_version": 3,
     "solution": false,
     "task": false
    }
   },
   "outputs": [],
   "source": [
    "#### Please do not change this. This cell is used for grading."
   ]
  },
  {
   "cell_type": "code",
   "execution_count": 42,
   "metadata": {
    "deletable": false,
    "editable": false,
    "nbgrader": {
     "cell_type": "code",
     "checksum": "c4d4332d4356e89ce0240f6b80e1899a",
     "grade": true,
     "grade_id": "cell-54e476e2f96e64bb",
     "locked": true,
     "points": 4,
     "schema_version": 3,
     "solution": false,
     "task": false
    }
   },
   "outputs": [],
   "source": [
    "#### Please do not change this. This cell is used for grading."
   ]
  },
  {
   "cell_type": "markdown",
   "metadata": {
    "deletable": false,
    "editable": false,
    "nbgrader": {
     "cell_type": "markdown",
     "checksum": "8d739dc91a22bd48897f603885f95a74",
     "grade": false,
     "grade_id": "cell-5414dfd69dab8b94",
     "locked": true,
     "schema_version": 3,
     "solution": false,
     "task": false
    }
   },
   "source": [
    "---\n",
    "#### 3.3.2 QL (20 points)\n",
    "Now, let's implement a QL model that handles the issues with the naive version. In particular, you will implement a QL model with Jelinek-Mercer Smoothing. That means an interpolated score is computed per word - one term is the same as the previous naive version, and the second term comes from a unigram language model. In addition, you should accumulate the scores by summing the **log** (smoothed) probability which leads to better numerical stability."
   ]
  },
  {
   "cell_type": "code",
   "execution_count": 43,
   "metadata": {
    "deletable": false,
    "nbgrader": {
     "cell_type": "code",
     "checksum": "b8c6abf937ad333e628f1db891f2e29e",
     "grade": false,
     "grade_id": "cell-bb1f506409771257",
     "locked": false,
     "schema_version": 3,
     "solution": true,
     "task": false
    }
   },
   "outputs": [],
   "source": [
    "def ql_search(query, index_set):\n",
    "    \"\"\"\n",
    "        Perform a search over all documents with the given query using a QL model \n",
    "        with Jelinek-Mercer Smoothing (set smoothing=0.1). \n",
    "        \n",
    "        \n",
    "        Note #1: You have to use the `get_index` (and get_doc_lengths) function created in the previous cells\n",
    "        Note #2: You might have to create some variables beforehand and use them in this function\n",
    "        \n",
    "        \n",
    "        Input: \n",
    "            query - a (unprocessed) query\n",
    "            index_set - the index to use\n",
    "        Output: a list of (document_id, score), sorted in descending relevance to the given query \n",
    "    \"\"\"\n",
    "    \n",
    "    index = get_index(index_set)\n",
    "    doc_lengths = get_doc_lengths(index_set)\n",
    "    processed_query = preprocess_query(query, index_set)\n",
    "    \n",
    "    # YOUR CODE HERE\n",
    "    smoothing = 0.1\n",
    "    collection_length = sum(doc_lengths.values())\n",
    "    results = defaultdict(float)\n",
    "    \n",
    "    for term in processed_query:\n",
    "        tc_frequency = sum([tf for (doc_id, tf) in index[term]])\n",
    "        if tc_frequency == 0:\n",
    "            continue\n",
    "        \n",
    "        JM_smoothing = (1 - smoothing) * (tc_frequency / collection_length)\n",
    "        term_scores = {doc_id: np.log(JM_smoothing) for doc_id in doc_lengths}\n",
    "        \n",
    "        for (doc_id, tf) in index[term]:\n",
    "            term_scores[doc_id] = np.log(smoothing * (tf / doc_lengths[doc_id]) + JM_smoothing)\n",
    "\n",
    "        results = {doc_id: results[doc_id] + term_scores[doc_id] for doc_id in term_scores}\n",
    "    \n",
    "    return sorted(results.items(), key=lambda item: item[1], reverse=True)"
   ]
  },
  {
   "cell_type": "code",
   "execution_count": 44,
   "metadata": {
    "deletable": false,
    "editable": false,
    "nbgrader": {
     "cell_type": "code",
     "checksum": "0b12a7f3355193a257fd9f5f69a66562",
     "grade": true,
     "grade_id": "cell-850e9d6369bcec32",
     "locked": true,
     "points": 4,
     "schema_version": 3,
     "solution": false,
     "task": false
    }
   },
   "outputs": [
    {
     "name": "stdout",
     "output_type": "stream",
     "text": [
      "Rank 0(-3.9): A Report Writer For COBOL...\n",
      "Rank 1(-3.9): A CRT Report Generating System...\n",
      "Rank 2(-4.1): Preliminary Report-International Algebraic Languag...\n",
      "Rank 3(-4.1): Supplement to the ALGOL 60 Report...\n",
      "Rank 4(-4.2): ALGOL Sub-Committee Report - Extensions...\n",
      "\n",
      "Rank 0(-3.9e+01): A Report Writer For COBOL...\n",
      "Rank 1(-3.9e+01): A CRT Report Generating System...\n",
      "Rank 2(-4.1e+01): Preliminary Report-International Algebraic Languag...\n",
      "Rank 3(-4.1e+01): Supplement to the ALGOL 60 Report...\n",
      "Rank 4(-4.2e+01): ALGOL Sub-Committee Report - Extensions...\n"
     ]
    }
   ],
   "source": [
    "#### Function check\n",
    "test_ql_results = ql_search(\"report\", index_set=1)[:5]\n",
    "print_results(test_ql_results)\n",
    "print()\n",
    "test_ql_results_long = ql_search(\"report \" * 10, index_set=1)[:5]\n",
    "print_results(test_ql_results_long)\n",
    "####"
   ]
  },
  {
   "cell_type": "code",
   "execution_count": 45,
   "metadata": {
    "deletable": false,
    "editable": false,
    "nbgrader": {
     "cell_type": "code",
     "checksum": "e40be645140389c115849856145f5b59",
     "grade": true,
     "grade_id": "cell-958cdcf6fd6899b7",
     "locked": true,
     "points": 3,
     "schema_version": 3,
     "solution": false,
     "task": false
    }
   },
   "outputs": [],
   "source": [
    "#### Please do not change this. This cell is used for grading."
   ]
  },
  {
   "cell_type": "code",
   "execution_count": 46,
   "metadata": {
    "deletable": false,
    "editable": false,
    "nbgrader": {
     "cell_type": "code",
     "checksum": "41d4aff001df17e7963ba79b45810b30",
     "grade": true,
     "grade_id": "cell-384dc23a0c251f6e",
     "locked": true,
     "points": 4,
     "schema_version": 3,
     "solution": false,
     "task": false
    }
   },
   "outputs": [],
   "source": [
    "#### Please do not change this. This cell is used for grading."
   ]
  },
  {
   "cell_type": "code",
   "execution_count": 47,
   "metadata": {
    "deletable": false,
    "editable": false,
    "nbgrader": {
     "cell_type": "code",
     "checksum": "893e8c5a073abc8ebb763d267b91bc02",
     "grade": true,
     "grade_id": "cell-7218966cba5097cc",
     "locked": true,
     "points": 4,
     "schema_version": 3,
     "solution": false,
     "task": false
    }
   },
   "outputs": [],
   "source": [
    "#### Please do not change this. This cell is used for grading."
   ]
  },
  {
   "cell_type": "code",
   "execution_count": 48,
   "metadata": {
    "deletable": false,
    "editable": false,
    "nbgrader": {
     "cell_type": "code",
     "checksum": "f99cb6f8b1f5830aaed8f06712ff846e",
     "grade": true,
     "grade_id": "cell-481ab073259ae53f",
     "locked": true,
     "points": 5,
     "schema_version": 3,
     "solution": false,
     "task": false
    }
   },
   "outputs": [],
   "source": [
    "#### Please do not change this. This cell is used for grading."
   ]
  },
  {
   "cell_type": "markdown",
   "metadata": {
    "deletable": false,
    "editable": false,
    "nbgrader": {
     "cell_type": "markdown",
     "checksum": "c02f14705d679579b1aa9f78f54779d5",
     "grade": false,
     "grade_id": "cell-f44088bfdac1dc90",
     "locked": true,
     "schema_version": 3,
     "solution": false,
     "task": false
    }
   },
   "source": [
    "--- \n",
    "\n",
    "### Section 3.4: BM25 (20 points) <a class=\"anchor\" id=\"bm25\"></a>\n",
    "\n",
    "In this section, we will implement the BM25 scoring function. \n"
   ]
  },
  {
   "cell_type": "code",
   "execution_count": 49,
   "metadata": {
    "deletable": false,
    "nbgrader": {
     "cell_type": "code",
     "checksum": "e57efe06ea92af1c83784a42eb3d86e0",
     "grade": false,
     "grade_id": "cell-15640fc9b5d00a3c",
     "locked": false,
     "schema_version": 3,
     "solution": true,
     "task": false
    }
   },
   "outputs": [],
   "source": [
    "def bm25_search(query, index_set):\n",
    "    \"\"\"\n",
    "        Perform a search over all documents with the given query using BM25. Use k_1 = 1.5 and b = 0.75\n",
    "        Note #1: You have to use the `get_index` (and `get_doc_lengths`) function created in the previous cells\n",
    "        Note #2: You might have to create some variables beforehand and use them in this function\n",
    "        \n",
    "        Input: \n",
    "            query - a (unprocessed) query\n",
    "            index_set - the index to use\n",
    "        Output: a list of (document_id, score), sorted in descending relevance to the given query \n",
    "    \"\"\"\n",
    "    \n",
    "    index = get_index(index_set)\n",
    "    df = get_df(index_set)\n",
    "    doc_lengths = get_doc_lengths(index_set)\n",
    "    processed_query = preprocess_query(query, index_set)\n",
    "    \n",
    "    # YOUR CODE HERE\n",
    "    k_1, b = 1.5, 0.75\n",
    "    N = len(doc_lengths)\n",
    "    average_dl = np.mean(list(doc_lengths.values()))\n",
    "    results = defaultdict(float)\n",
    "    \n",
    "    for term in processed_query:\n",
    "        if df[term] == 0:\n",
    "            continue\n",
    "            \n",
    "        idf = np.log(N / df[term])\n",
    "        for (doc_id, tf) in index[term]:\n",
    "            num = (k_1 + 1) * tf\n",
    "            denom = k_1 * ((1 - b) + b * (doc_lengths[doc_id] / average_dl)) + tf\n",
    "            results[doc_id] += idf * (num / denom)\n",
    "            \n",
    "    return sorted(results.items(), key=lambda item: item[1], reverse=True)"
   ]
  },
  {
   "cell_type": "code",
   "execution_count": 50,
   "metadata": {
    "deletable": false,
    "editable": false,
    "nbgrader": {
     "cell_type": "code",
     "checksum": "4be9de5d4e94637960d83725422bea6c",
     "grade": true,
     "grade_id": "cell-d10536bca72c74b1",
     "locked": true,
     "points": 3,
     "schema_version": 3,
     "solution": false,
     "task": false
    }
   },
   "outputs": [
    {
     "name": "stdout",
     "output_type": "stream",
     "text": [
      "Rank 0(6.7): A Report Writer For COBOL...\n",
      "Rank 1(6.7): A CRT Report Generating System...\n",
      "Rank 2(6.6): Preliminary Report-International Algebraic Languag...\n",
      "Rank 3(6.6): Supplement to the ALGOL 60 Report...\n",
      "Rank 4(6.5): ALGOL Sub-Committee Report - Extensions...\n"
     ]
    }
   ],
   "source": [
    "#### Function check\n",
    "test_bm25_results = bm25_search(\"report\", index_set=1)[:5]\n",
    "print_results(test_bm25_results)\n",
    "####"
   ]
  },
  {
   "cell_type": "code",
   "execution_count": 51,
   "metadata": {
    "deletable": false,
    "editable": false,
    "nbgrader": {
     "cell_type": "code",
     "checksum": "31b550d6a46ae4f8ede88788799ac2b9",
     "grade": true,
     "grade_id": "cell-60f6ec5052712d79",
     "locked": true,
     "points": 5,
     "schema_version": 3,
     "solution": false,
     "task": false
    }
   },
   "outputs": [],
   "source": [
    "#### Please do not change this. This cell is used for grading."
   ]
  },
  {
   "cell_type": "code",
   "execution_count": 52,
   "metadata": {
    "deletable": false,
    "editable": false,
    "nbgrader": {
     "cell_type": "code",
     "checksum": "3da2ec16bfe781916e71755d65aa2983",
     "grade": true,
     "grade_id": "cell-5d17524043a5abcc",
     "locked": true,
     "points": 5,
     "schema_version": 3,
     "solution": false,
     "task": false
    }
   },
   "outputs": [],
   "source": [
    "#### Please do not change this. This cell is used for grading."
   ]
  },
  {
   "cell_type": "code",
   "execution_count": 53,
   "metadata": {
    "deletable": false,
    "editable": false,
    "nbgrader": {
     "cell_type": "code",
     "checksum": "e7b563d54fa84c20909c0ae107010541",
     "grade": true,
     "grade_id": "cell-ff8e704eda1184e3",
     "locked": true,
     "points": 3,
     "schema_version": 3,
     "solution": false,
     "task": false
    }
   },
   "outputs": [],
   "source": [
    "#### Please do not change this. This cell is used for grading."
   ]
  },
  {
   "cell_type": "code",
   "execution_count": 54,
   "metadata": {
    "deletable": false,
    "editable": false,
    "nbgrader": {
     "cell_type": "code",
     "checksum": "b013f90974b396630a8831d6f1d7e5f7",
     "grade": true,
     "grade_id": "cell-a52310500a2543cb",
     "locked": true,
     "points": 4,
     "schema_version": 3,
     "solution": false,
     "task": false
    }
   },
   "outputs": [],
   "source": [
    "#### Please do not change this. This cell is used for grading."
   ]
  },
  {
   "cell_type": "markdown",
   "metadata": {
    "deletable": false,
    "editable": false,
    "nbgrader": {
     "cell_type": "markdown",
     "checksum": "8fcf67cb7d5e8b26cb9bf1f0aa42c847",
     "grade": false,
     "grade_id": "cell-8b2b412c81d62f2d",
     "locked": true,
     "schema_version": 3,
     "solution": false,
     "task": false
    }
   },
   "source": [
    "\n",
    "---\n",
    "\n",
    "### 3.5. Test Your Functions\n",
    "\n",
    "The widget below allows you to play with the search functions you've written so far. Use this to test your search functions and ensure that they work as expected."
   ]
  },
  {
   "cell_type": "code",
   "execution_count": 55,
   "metadata": {
    "deletable": false,
    "editable": false,
    "nbgrader": {
     "cell_type": "code",
     "checksum": "dfeb204b390acc0794dbdcac92b0cf2c",
     "grade": false,
     "grade_id": "cell-c9c2bb76354e8d97",
     "locked": true,
     "schema_version": 3,
     "solution": false,
     "task": false
    }
   },
   "outputs": [],
   "source": [
    "#### Highlighter function\n",
    "# class for results\n",
    "ResultRow = namedtuple(\"ResultRow\", [\"doc_id\", \"snippet\", \"score\"])\n",
    "# doc_id -> doc\n",
    "docs_by_id = dict((d[0], d[1]) for d in docs)\n",
    "\n",
    "def highlight_text(document, query, tol=17):\n",
    "    import re\n",
    "    tokens = tokenize(query)\n",
    "    regex = \"|\".join(f\"(\\\\b{t}\\\\b)\" for t in tokens)\n",
    "    regex = re.compile(regex, flags=re.IGNORECASE)\n",
    "    output = \"\"\n",
    "    i = 0\n",
    "    for m in regex.finditer(document):\n",
    "        start_idx = max(0, m.start() - tol)\n",
    "        end_idx = min(len(document), m.end() + tol)\n",
    "        output += \"\".join([\"...\",\n",
    "                        document[start_idx:m.start()],\n",
    "                        \"<strong>\",\n",
    "                        document[m.start():m.end()],\n",
    "                        \"</strong>\",\n",
    "                        document[m.end():end_idx],\n",
    "                        \"...\"])\n",
    "    return output.replace(\"\\n\", \" \")\n",
    "\n",
    "\n",
    "def make_results(query, search_fn, index_set):\n",
    "    results = []\n",
    "    for doc_id, score in search_fn(query, index_set):\n",
    "        highlight = highlight_text(docs_by_id[doc_id], query)\n",
    "        if len(highlight.strip()) == 0:\n",
    "            highlight = docs_by_id[doc_id]\n",
    "        results.append(ResultRow(doc_id, highlight, score))\n",
    "    return results\n",
    "####"
   ]
  },
  {
   "cell_type": "code",
   "execution_count": 56,
   "metadata": {},
   "outputs": [
    {
     "data": {
      "application/vnd.jupyter.widget-view+json": {
       "model_id": "9f3eeb75c812475a9cf80d42b27d36bf",
       "version_major": 2,
       "version_minor": 0
      },
      "text/plain": [
       "Text(value='', description='Search Bar')"
      ]
     },
     "metadata": {},
     "output_type": "display_data"
    }
   ],
   "source": [
    "# TODO: Set this to the function you want to test!\n",
    "# this function should take in a query (string)\n",
    "# and return a sorted list of (doc_id, score) \n",
    "# with the most relevant document in the first position\n",
    "search_fn = bm25_search\n",
    "index_set = 1\n",
    "\n",
    "text = widgets.Text(description=\"Search Bar\", width=200)\n",
    "display(text)\n",
    "\n",
    "def handle_submit(sender):\n",
    "    print(f\"Searching for: '{sender.value}'\")\n",
    "    \n",
    "    results = make_results(sender.value, search_fn, index_set)\n",
    "    \n",
    "    # display only the top 5\n",
    "    results = results[:5]\n",
    "    \n",
    "    body = \"\"\n",
    "    for idx, r in enumerate(results):\n",
    "        body += f\"<li>Document #{r.doc_id}({r.score}): {r.snippet}</li>\"\n",
    "    display(HTML(f\"<ul>{body}</ul>\"))\n",
    "    \n",
    "\n",
    "text.on_submit(handle_submit)"
   ]
  },
  {
   "cell_type": "markdown",
   "metadata": {
    "deletable": false,
    "editable": false,
    "nbgrader": {
     "cell_type": "markdown",
     "checksum": "b315c280048a50e8bad7d6250f6f39d1",
     "grade": false,
     "grade_id": "cell-8d46fe8e4f3d8cdb",
     "locked": true,
     "schema_version": 3,
     "solution": false,
     "task": false
    }
   },
   "source": [
    "---\n",
    "\n",
    "## Section 4: Evaluation (40 points) <a class=\"anchor\" id=\"evaluation\"></a>\n",
    "\n",
    "[Back to Part 1](#part1)\n",
    "\n",
    "Before we jump in and implement an algorithm for retrieval, we first have to learn how to evaluate such a system. In particular, we will work with offline evaluation metrics. These metrics are computed on a dataset with known relevance judgements.\n",
    "\n",
    "Implement the following evaluation metrics. \n",
    "\n",
    "1. Precision (7 points)\n",
    "2. Recall (7 points)\n",
    "3. Mean Average Precision (12 points)\n",
    "4. Expected Reciprocal Rank (12 points)"
   ]
  },
  {
   "cell_type": "markdown",
   "metadata": {
    "deletable": false,
    "editable": false,
    "nbgrader": {
     "cell_type": "markdown",
     "checksum": "82e90076c51893e31fec5c40c49d1828",
     "grade": false,
     "grade_id": "cell-3419fd3bc663d7cc",
     "locked": true,
     "schema_version": 3,
     "solution": false,
     "task": false
    }
   },
   "source": [
    "---\n",
    "### 4.1 Read relevance labels (2 points)\n",
    "\n",
    "Let's take a look at the `qrels.text` file, which contains the ground truth relevance scores. The relevance labels for CACM are binary - either 0 or 1. \n"
   ]
  },
  {
   "cell_type": "code",
   "execution_count": 57,
   "metadata": {
    "deletable": false,
    "editable": false,
    "nbgrader": {
     "cell_type": "code",
     "checksum": "6c11025f5a222796f2882c73c1634799",
     "grade": false,
     "grade_id": "cell-6b738366059dde9e",
     "locked": true,
     "schema_version": 3,
     "solution": false,
     "task": false
    }
   },
   "outputs": [
    {
     "name": "stdout",
     "output_type": "stream",
     "text": [
      "01 1410  0 0\r\n",
      "01 1572  0 0\r\n",
      "01 1605  0 0\r\n",
      "01 2020  0 0\r\n",
      "01 2358  0 0\r\n",
      "02 2434  0 0\r\n",
      "02 2863  0 0\r\n",
      "02 3078  0 0\r\n",
      "03 1134  0 0\r\n",
      "03 1613  0 0\r\n"
     ]
    }
   ],
   "source": [
    "!head ./datasets/qrels.text"
   ]
  },
  {
   "cell_type": "markdown",
   "metadata": {
    "deletable": false,
    "editable": false,
    "nbgrader": {
     "cell_type": "markdown",
     "checksum": "e77d7cc6aae69fdbadb5ac9f78f8a560",
     "grade": false,
     "grade_id": "cell-10e16bff2753ffbb",
     "locked": true,
     "schema_version": 3,
     "solution": false,
     "task": false
    }
   },
   "source": [
    "---\n",
    "**Implementation (2 points):**\n",
    "The first column is the query_id and the second column is the document_id. You can safely ignore the 3rd and 4th columns. Write a function to read in the file:"
   ]
  },
  {
   "cell_type": "code",
   "execution_count": 58,
   "metadata": {
    "deletable": false,
    "nbgrader": {
     "cell_type": "code",
     "checksum": "ef347565a0990ddbd049835105753d59",
     "grade": false,
     "grade_id": "cell-ee5253a4ef602fce",
     "locked": false,
     "schema_version": 3,
     "solution": true,
     "task": false
    }
   },
   "outputs": [],
   "source": [
    "def read_qrels(root_folder = \"./datasets/\"):\n",
    "    \"\"\"\n",
    "        Reads the qrels.text file. \n",
    "        Output: A dictionary: query_id -> [list of relevant documents]\n",
    "    \"\"\"\n",
    "    # YOUR CODE HERE\n",
    "    qrels = defaultdict(list)\n",
    "    with open(root_folder + \"qrels.text\", \"r\") as f:\n",
    "        for line in f:\n",
    "            ids = tokenize(line)[0:2]\n",
    "            query_id = ids[0].lstrip('0')\n",
    "            document_id = ids[1].lstrip('0')\n",
    "            qrels[int(query_id)].append(int(document_id))\n",
    "    \n",
    "    return qrels"
   ]
  },
  {
   "cell_type": "code",
   "execution_count": 59,
   "metadata": {
    "deletable": false,
    "editable": false,
    "nbgrader": {
     "cell_type": "code",
     "checksum": "6a258a834392cc8cbf8af5d4ccdee81f",
     "grade": true,
     "grade_id": "cell-72215605fbe24f65",
     "locked": true,
     "points": 2,
     "schema_version": 3,
     "solution": false,
     "task": false
    }
   },
   "outputs": [],
   "source": [
    "#### Function check\n",
    "qrels = read_qrels()\n",
    "\n",
    "assert len(qrels) == 52, \"There should be 52 queries with relevance judgements\"\n",
    "assert sum(len(j) for j in qrels.values()) == 796, \"There should be a total of 796 Relevance Judgements\"\n",
    "####"
   ]
  },
  {
   "cell_type": "markdown",
   "metadata": {
    "deletable": false,
    "editable": false,
    "nbgrader": {
     "cell_type": "markdown",
     "checksum": "6c9e7428a52e291a2cdf92a379730d4c",
     "grade": false,
     "grade_id": "cell-176a6fb2939d0420",
     "locked": true,
     "schema_version": 3,
     "solution": false,
     "task": false
    }
   },
   "source": [
    "---\n",
    "**Note:** For a given query `query_id`, you can assume that documents *not* in `qrels[query_id]` are not relevant to `query_id`. \n"
   ]
  },
  {
   "cell_type": "markdown",
   "metadata": {
    "deletable": false,
    "editable": false,
    "nbgrader": {
     "cell_type": "markdown",
     "checksum": "b26a818c7b4f7ad490e00b35ea0edd69",
     "grade": false,
     "grade_id": "cell-bd8341b72cdd89bb",
     "locked": true,
     "schema_version": 3,
     "solution": false,
     "task": false
    }
   },
   "source": [
    "---\n",
    "### 4.2 Precision (7 points)\n",
    "Implement the `precision@k` metric:"
   ]
  },
  {
   "cell_type": "code",
   "execution_count": 60,
   "metadata": {
    "deletable": false,
    "nbgrader": {
     "cell_type": "code",
     "checksum": "ad3cc3234a361d269ecb6b59cc447e9f",
     "grade": false,
     "grade_id": "cell-494bd0cce108ed67",
     "locked": false,
     "schema_version": 3,
     "solution": true,
     "task": false
    }
   },
   "outputs": [],
   "source": [
    "def precision_k(results, relevant_docs, k):\n",
    "    \"\"\"\n",
    "        Compute Precision@K\n",
    "        Input: \n",
    "            results: A sorted list of 2-tuples (document_id, score), \n",
    "                    with the most relevant document in the first position\n",
    "            relevant_docs: A set of relevant documents. \n",
    "            k: the cut-off\n",
    "        Output: Precision@K\n",
    "    \"\"\"\n",
    "    # YOUR CODE HERE\n",
    "    k_results = set(doc[0] for doc in results[:k])\n",
    "    tp = len(k_results & set(relevant_docs))\n",
    "   \n",
    "    return tp / k "
   ]
  },
  {
   "cell_type": "code",
   "execution_count": 61,
   "metadata": {
    "deletable": false,
    "editable": false,
    "nbgrader": {
     "cell_type": "code",
     "checksum": "964b214dbfff8fc53cada864019ee863",
     "grade": true,
     "grade_id": "cell-e7ff0d91c319ca64",
     "locked": true,
     "points": 7,
     "schema_version": 3,
     "solution": false,
     "task": false
    }
   },
   "outputs": [
    {
     "name": "stdout",
     "output_type": "stream",
     "text": [
      "query: What articles exist which deal with TSS (Time Sharing System), an operating system for IBM computers?\n",
      "precision@10 = 0.2\n"
     ]
    }
   ],
   "source": [
    "#### Function check\n",
    "qid = queries[0][0]\n",
    "qtext = queries[0][1]\n",
    "print(f'query:{qtext}')\n",
    "results = bm25_search(qtext, 2)\n",
    "precision = precision_k(results, qrels[qid], 10)\n",
    "print(f'precision@10 = {precision}')\n",
    "####"
   ]
  },
  {
   "cell_type": "markdown",
   "metadata": {
    "deletable": false,
    "editable": false,
    "nbgrader": {
     "cell_type": "markdown",
     "checksum": "8fd3b3998197c7097a40348500affb68",
     "grade": false,
     "grade_id": "cell-afd95f865bc7191e",
     "locked": true,
     "schema_version": 3,
     "solution": false,
     "task": false
    }
   },
   "source": [
    "---\n",
    "### 4.3 Recall (7 points)\n",
    "Implement the `recall@k` metric:"
   ]
  },
  {
   "cell_type": "code",
   "execution_count": 62,
   "metadata": {
    "deletable": false,
    "nbgrader": {
     "cell_type": "code",
     "checksum": "b2020e5741ae03b3fe35817ed8f4ccaa",
     "grade": false,
     "grade_id": "cell-c323fc8c3f8a7cf8",
     "locked": false,
     "schema_version": 3,
     "solution": true,
     "task": false
    }
   },
   "outputs": [],
   "source": [
    "def recall_k(results, relevant_docs, k):\n",
    "    \"\"\"\n",
    "        Compute Recall@K\n",
    "        Input: \n",
    "            results: A sorted list of 2-tuples (document_id, score), with the most relevant document in the first position\n",
    "            relevant_docs: A set of relevant documents. \n",
    "            k: the cut-off\n",
    "        Output: Recall@K\n",
    "    \"\"\"\n",
    "    # YOUR CODE HERE\n",
    "    k_results = set(doc[0] for doc in results[:k])\n",
    "    tp = len(k_results & set(relevant_docs))\n",
    "    fn = len(relevant_docs) - tp\n",
    "\n",
    "    return tp / (tp + fn)"
   ]
  },
  {
   "cell_type": "code",
   "execution_count": 63,
   "metadata": {
    "deletable": false,
    "editable": false,
    "nbgrader": {
     "cell_type": "code",
     "checksum": "56b6e0b8522f8b2dffbfb3206b2efa84",
     "grade": true,
     "grade_id": "cell-b25172161aef165c",
     "locked": true,
     "points": 7,
     "schema_version": 3,
     "solution": false,
     "task": false
    }
   },
   "outputs": [
    {
     "name": "stdout",
     "output_type": "stream",
     "text": [
      "query: SETL, Very High Level Languages\n",
      "recall@10 = 0.3157894736842105\n"
     ]
    }
   ],
   "source": [
    "#### Function check\n",
    "qid = queries[10][0]\n",
    "qtext = queries[10][1]\n",
    "print(f'query:{qtext}')\n",
    "results = bm25_search(qtext, 2)\n",
    "recall = recall_k(results, qrels[qid], 10)\n",
    "print(f'recall@10 = {recall}')\n",
    "####"
   ]
  },
  {
   "cell_type": "markdown",
   "metadata": {
    "deletable": false,
    "editable": false,
    "nbgrader": {
     "cell_type": "markdown",
     "checksum": "d43c63fa38f333e0b52d41639b2655f7",
     "grade": false,
     "grade_id": "cell-77fd2e7a39a74739",
     "locked": true,
     "schema_version": 3,
     "solution": false,
     "task": false
    }
   },
   "source": [
    "---\n",
    "### 4.4 Mean Average Precision (12 points)\n",
    "Implement the `map` metric:"
   ]
  },
  {
   "cell_type": "code",
   "execution_count": 64,
   "metadata": {
    "deletable": false,
    "nbgrader": {
     "cell_type": "code",
     "checksum": "aae2c62f2ffd76f5b6c004e9519b9f14",
     "grade": false,
     "grade_id": "cell-e50925fa9093a30d",
     "locked": false,
     "schema_version": 3,
     "solution": true,
     "task": false
    }
   },
   "outputs": [],
   "source": [
    "def average_precision(results, relevant_docs):\n",
    "    \"\"\"\n",
    "        Compute Average Precision (for a single query - the results are \n",
    "        averaged across queries to get MAP in the next few cells)\n",
    "        Hint: You can use the recall_k and precision_k functions here!\n",
    "        Input: \n",
    "            results: A sorted list of 2-tuples (document_id, score), with the most \n",
    "                    relevant document in the first position\n",
    "            relevant_docs: A set of relevant documents. \n",
    "        Output: Average Precision\n",
    "    \"\"\"\n",
    "    # YOUR CODE HERE\n",
    "    tp, ap = 0, 0\n",
    "    \n",
    "    for i, (doc_id, _) in enumerate(results):\n",
    "        if doc_id in relevant_docs:\n",
    "            tp += 1\n",
    "            ap += tp / (i+1)\n",
    "    \n",
    "    return(ap / len(relevant_docs))\n"
   ]
  },
  {
   "cell_type": "code",
   "execution_count": 65,
   "metadata": {
    "deletable": false,
    "editable": false,
    "nbgrader": {
     "cell_type": "code",
     "checksum": "5db8cb2dfd3a77554f4147b409f47f38",
     "grade": true,
     "grade_id": "cell-8a1f7ec98571e58b",
     "locked": true,
     "points": 12,
     "schema_version": 3,
     "solution": false,
     "task": false
    }
   },
   "outputs": [
    {
     "name": "stdout",
     "output_type": "stream",
     "text": [
      "query: computational complexity, intractability, class-complete reductions, algorithms and efficiency\n",
      "MAP = 0.17240404110559454\n"
     ]
    }
   ],
   "source": [
    "#### Function check\n",
    "qid = queries[20][0]\n",
    "qtext = queries[20][1]\n",
    "print(f'query:{qtext}')\n",
    "results = bm25_search(qtext, 2)\n",
    "mean_ap = average_precision(results, qrels[qid])\n",
    "print(f'MAP = {mean_ap}')\n",
    "####"
   ]
  },
  {
   "cell_type": "markdown",
   "metadata": {
    "deletable": false,
    "editable": false,
    "nbgrader": {
     "cell_type": "markdown",
     "checksum": "cb645b79d04cc3eed33ca060a5e7bf0f",
     "grade": false,
     "grade_id": "cell-1da18f0fe6f6d7be",
     "locked": true,
     "schema_version": 3,
     "solution": false,
     "task": false
    }
   },
   "source": [
    "---\n",
    "### 4.5 Expected Reciprocal Rank (12 points)\n",
    "Implement the `err` metric:"
   ]
  },
  {
   "cell_type": "code",
   "execution_count": 66,
   "metadata": {
    "deletable": false,
    "nbgrader": {
     "cell_type": "code",
     "checksum": "9ac94db728e23ea1f5dc0d509473c6fb",
     "grade": false,
     "grade_id": "cell-64262889f9b267ea",
     "locked": false,
     "schema_version": 3,
     "solution": true,
     "task": false
    }
   },
   "outputs": [],
   "source": [
    "def err(results, relevant_docs):\n",
    "    \"\"\"\n",
    "        Compute the expected reciprocal rank.\n",
    "        Hint: https://dl.acm.org/doi/pdf/10.1145/1645953.1646033?download=true\n",
    "        Input: \n",
    "            results: A sorted list of 2-tuples (document_id, score), with the most \n",
    "                    relevant document in the first position\n",
    "            relevant_docs: A set of relevant documents. \n",
    "        Output: ERR\n",
    "        \n",
    "    \"\"\"\n",
    "    # YOUR CODE HERE\n",
    "    grade, max_grade = 1, 1\n",
    "    p, ERR = 1, 0\n",
    "    \n",
    "    for i, (doc_id, _) in enumerate(results):\n",
    "        if doc_id in relevant_docs:\n",
    "            R = (2**grade - 1) / 2**max_grade\n",
    "            ERR += p * R / (i+1)\n",
    "            p *= (1 - R)\n",
    "    \n",
    "    return ERR         "
   ]
  },
  {
   "cell_type": "code",
   "execution_count": 67,
   "metadata": {
    "deletable": false,
    "editable": false,
    "nbgrader": {
     "cell_type": "code",
     "checksum": "eb97e6d89a0b992b642e4e0ff36ff9f5",
     "grade": true,
     "grade_id": "cell-071e3970ff1afae4",
     "locked": true,
     "points": 12,
     "schema_version": 3,
     "solution": false,
     "task": false
    }
   },
   "outputs": [
    {
     "name": "stdout",
     "output_type": "stream",
     "text": [
      "query: I'd like to find articles describing the use of singular value decomposition in digital image processing.  Applications include finding approximations to the original image and restoring images that are subject to noise. An article on the subject is H.C. Andrews and C.L. Patterson \"Outer product expansions and their uses in digital image processing\", American Mathematical Monthly, vol. 82.\n",
      "ERR = 0.625\n"
     ]
    }
   ],
   "source": [
    "#### Function check\n",
    "qid = queries[30][0]\n",
    "qtext = queries[30][1]\n",
    "print(f'query:{qtext}')\n",
    "results = bm25_search(qtext, 2)\n",
    "ERR = err(results, qrels[qid])\n",
    "print(f'ERR = {ERR}')\n",
    "####"
   ]
  },
  {
   "cell_type": "markdown",
   "metadata": {
    "deletable": false,
    "editable": false,
    "nbgrader": {
     "cell_type": "markdown",
     "checksum": "5bd94caf77cfa5f34675df758d91002d",
     "grade": false,
     "grade_id": "cell-43709a765f353946",
     "locked": true,
     "schema_version": 3,
     "solution": false,
     "task": false
    }
   },
   "source": [
    "---\n",
    "### 4.6 Evaluate Search Functions\n",
    "\n",
    "Let's define some metrics@k using [partial functions](https://docs.python.org/3/library/functools.html#functools.partial)"
   ]
  },
  {
   "cell_type": "code",
   "execution_count": 68,
   "metadata": {
    "deletable": false,
    "editable": false,
    "nbgrader": {
     "cell_type": "code",
     "checksum": "49ccc158e5fb7340ace55e90eeb9d62a",
     "grade": false,
     "grade_id": "cell-dab560e18e340da8",
     "locked": true,
     "schema_version": 3,
     "solution": false,
     "task": false
    }
   },
   "outputs": [],
   "source": [
    "#### metrics@k functions\n",
    "\n",
    "recall_at_1 = partial(recall_k, k=1)\n",
    "recall_at_5 = partial(recall_k, k=5)\n",
    "recall_at_10 = partial(recall_k, k=10)\n",
    "precision_at_1 = partial(precision_k, k=1)\n",
    "precision_at_5 = partial(precision_k, k=5)\n",
    "precision_at_10 = partial(precision_k, k=10)\n",
    "\n",
    "\n",
    "list_of_metrics = [\n",
    "    (\"ERR\", err),\n",
    "    (\"MAP\", average_precision),\n",
    "    (\"Recall@1\",recall_at_1),\n",
    "    (\"Recall@5\", recall_at_5),\n",
    "    (\"Recall@10\", recall_at_10),\n",
    "    (\"Precision@1\", precision_at_1),\n",
    "    (\"Precision@5\", precision_at_5),\n",
    "    (\"Precision@10\", precision_at_10)]\n",
    "####"
   ]
  },
  {
   "cell_type": "markdown",
   "metadata": {
    "deletable": false,
    "editable": false,
    "nbgrader": {
     "cell_type": "markdown",
     "checksum": "fb541002c03221b453b8936290020ea5",
     "grade": false,
     "grade_id": "cell-580a2bdc66d03b47",
     "locked": true,
     "schema_version": 3,
     "solution": false,
     "task": false
    }
   },
   "source": [
    "---\n",
    "\n",
    "The following function evaluates a `search_fn` using the `metric_fn`. Note that the final number is averaged over all the queries"
   ]
  },
  {
   "cell_type": "code",
   "execution_count": 69,
   "metadata": {},
   "outputs": [],
   "source": [
    "#### Evaluate a search function\n",
    "\n",
    "list_of_search_fns = [\n",
    "    (\"BOW\", bow_search),\n",
    "    (\"TF-IDF\", tfidf_search),\n",
    "    (\"NaiveQL\", naive_ql_search),\n",
    "    (\"QL\", ql_search),\n",
    "    (\"BM25\", bm25_search)\n",
    "]\n",
    "\n",
    "def evaluate_search_fn(search_fn, metric_fns, index_set=None):\n",
    "    # build a dict query_id -> query \n",
    "    queries_by_id = dict((q[0], q[1]) for q in queries)\n",
    "    \n",
    "    metrics = {}\n",
    "    for metric, metric_fn in metric_fns:\n",
    "        metrics[metric] = np.zeros(len(qrels), dtype=np.float32)\n",
    "    \n",
    "    for i, (query_id, relevant_docs) in enumerate(qrels.items()):\n",
    "        query = queries_by_id[query_id]\n",
    "        if index_set:\n",
    "            results = search_fn(query, index_set)\n",
    "        else:\n",
    "            results = search_fn(query)\n",
    "        \n",
    "        for metric, metric_fn in metric_fns:\n",
    "            metrics[metric][i] = metric_fn(results, relevant_docs)\n",
    "\n",
    "    final_dict = {}\n",
    "    for metric, metric_vals in metrics.items():\n",
    "        final_dict[metric] = metric_vals.mean()\n",
    "    \n",
    "    return final_dict\n",
    "####"
   ]
  },
  {
   "cell_type": "markdown",
   "metadata": {
    "deletable": false,
    "editable": false,
    "nbgrader": {
     "cell_type": "markdown",
     "checksum": "6ea67534f74a8f81e1f504794f641709",
     "grade": false,
     "grade_id": "cell-b156d83a0649cbb4",
     "locked": true,
     "schema_version": 3,
     "solution": false,
     "task": false
    }
   },
   "source": [
    "## Section 5: Analysis (30 points) <a class=\"anchor\" id=\"analysis\"></a>\n",
    "\n",
    "[Back to Part 1](#part1)\n",
    "\n",
    "In the final section of Part1, we will compare the different term-based IR algorithms and different preprocessing configurations and analyze their advantages and disadvantages.\n",
    "\n",
    "### Section 5.1: Plot (20 points)\n",
    "\n",
    "First, gather the results. The results should consider the index set, the different search functions and different metrics. Plot the results in bar charts, per metric, with clear labels.\n",
    "\n",
    "**Rubric:**\n",
    "- Each Metric is plotted: 7 points\n",
    "- Each Method is plotted: 7 points\n",
    "- Clear titles, x label, y labels and legends (if applicable): 6 points"
   ]
  },
  {
   "cell_type": "code",
   "execution_count": 70,
   "metadata": {
    "deletable": false,
    "nbgrader": {
     "cell_type": "code",
     "checksum": "7e2588a925d13ddf588abe8311dc9cfc",
     "grade": true,
     "grade_id": "cell-46fda42a25863a04",
     "locked": false,
     "points": 20,
     "schema_version": 3,
     "solution": true,
     "task": false
    },
    "scrolled": false
   },
   "outputs": [
    {
     "data": {
      "image/png": "[encoded data removed]",
      "text/plain": [
       "<Figure size 432x288 with 1 Axes>"
      ]
     },
     "metadata": {
      "needs_background": "light"
     },
     "output_type": "display_data"
    },
    {
     "data": {
      "image/png": "[encoded data removed]",
      "text/plain": [
       "<Figure size 432x288 with 1 Axes>"
      ]
     },
     "metadata": {
      "needs_background": "light"
     },
     "output_type": "display_data"
    },
    {
     "data": {
      "image/png": "[encoded data removed]",
      "text/plain": [
       "<Figure size 432x288 with 1 Axes>"
      ]
     },
     "metadata": {
      "needs_background": "light"
     },
     "output_type": "display_data"
    },
    {
     "data": {
      "image/png": "[encoded data removed]",
      "text/plain": [
       "<Figure size 432x288 with 1 Axes>"
      ]
     },
     "metadata": {
      "needs_background": "light"
     },
     "output_type": "display_data"
    },
    {
     "data": {
      "image/png": "[encoded data removed]",
      "text/plain": [
       "<Figure size 432x288 with 1 Axes>"
      ]
     },
     "metadata": {
      "needs_background": "light"
     },
     "output_type": "display_data"
    },
    {
     "data": {
      "image/png": "[encoded data removed]",
      "text/plain": [
       "<Figure size 432x288 with 1 Axes>"
      ]
     },
     "metadata": {
      "needs_background": "light"
     },
     "output_type": "display_data"
    },
    {
     "data": {
      "image/png": "[encoded data removed]",
      "text/plain": [
       "<Figure size 432x288 with 1 Axes>"
      ]
     },
     "metadata": {
      "needs_background": "light"
     },
     "output_type": "display_data"
    },
    {
     "data": {
      "image/png": "[encoded data removed]",
      "text/plain": [
       "<Figure size 432x288 with 1 Axes>"
      ]
     },
     "metadata": {
      "needs_background": "light"
     },
     "output_type": "display_data"
    }
   ],
   "source": [
    "# YOUR CODE HERE\n",
    "evaluations_1 = {}\n",
    "for search_fn in list_of_search_fns:\n",
    "    evaluations_1[search_fn[0]] = evaluate_search_fn(search_fn[1], list_of_metrics, index_set=1)\n",
    "\n",
    "evaluations_2 = {}\n",
    "for search_fn in list_of_search_fns:\n",
    "    evaluations_2[search_fn[0]] = evaluate_search_fn(search_fn[1], list_of_metrics, index_set=2)\n",
    "\n",
    "width = 0.35\n",
    "x_index_1 = np.arange(len(list_of_search_fns))\n",
    "x_index_2 = [x + width for x in x_index_1]\n",
    "\n",
    "for metric in list_of_metrics:\n",
    "    eval_1 = [evaluations_1[search_fn[0]][metric[0]] for search_fn in list_of_search_fns]\n",
    "    eval_2 = [evaluations_2[search_fn[0]][metric[0]] for search_fn in list_of_search_fns]\n",
    "        \n",
    "    plt.bar(x_index_1, eval_1, width, color='#1f77b4')\n",
    "    plt.bar(x_index_2, eval_2, width, color='#ff7f0e') \n",
    "    plt.xticks([x + width/2 for x in range(len(list_of_search_fns))], [search_fn[0] for search_fn in list_of_search_fns])\n",
    "    \n",
    "    plt.title(metric[0])\n",
    "    plt.ylabel(\"Score\")\n",
    "    plt.legend([\"Index 1\", \"Index 2\"])\n",
    "    plt.show()\n",
    "\n",
    "plt.show()"
   ]
  },
  {
   "cell_type": "markdown",
   "metadata": {
    "deletable": false,
    "editable": false,
    "nbgrader": {
     "cell_type": "markdown",
     "checksum": "e88c444a0acf4e398c65e289169b75f7",
     "grade": false,
     "grade_id": "cell-8aabe3bcf265deb0",
     "locked": true,
     "points": 10,
     "schema_version": 3,
     "solution": false,
     "task": true
    }
   },
   "source": [
    "---\n",
    "### Section 5.2: Summary (10 points)\n",
    "Write a summary of what you observe in the results.\n",
    "Your summary should compare results across the 2 indices and the methods being used. State what you expected to see in the results, followed by either supporting evidence *or* justify why the results did not support your expectations.      "
   ]
  },
  {
   "cell_type": "markdown",
   "metadata": {},
   "source": [
    "We expected index 2 to perform better overall, the main reason would be due to the use of stemming. As stemming removes suffixes, words that may have the same meaning but are of a different form can now be matched more easily, this should be especially noticable in recall. However we notice that in all measures the impact of stemming and stop-word removal is similarly benificial. Stop-word removal would be especially useful for all the methods that use the relative frequence of a term in order to establish its representative power. \n",
    "\n",
    "We expected the language modelling methods to allow for better representations of documents and queries, resulting in improved matching. While it was obvious that QL needs smoothing, once applied if perform well even against BM25 which beats all methods on all metrics.\n",
    "\n",
    "For the Bag-of-Words model, we used the term frequency based approach, rather than the binary approach. This makes it more comparable to TF-IDF, because the main difference between BoW and TF-IDF is IDF, which increases the importance of the word based on how often it occurs in the collection. The intuition is that rare words are more representative, and we can see that the TF-IDF model performs substantially better than the term frequency based BoW model, likely because common words that aren't indicative are given a higher score to documents irrelevant to the user query."
   ]
  },
  {
   "cell_type": "markdown",
   "metadata": {
    "deletable": false,
    "editable": false,
    "nbgrader": {
     "cell_type": "markdown",
     "checksum": "b3eb77be74eecca205fc7b47316d1627",
     "grade": false,
     "grade_id": "cell-bb60dd5c092d0f2e",
     "locked": true,
     "schema_version": 3,
     "solution": false,
     "task": false
    }
   },
   "source": [
    "---\n",
    "---\n",
    "# Part 2: Semantic-based Matching (85 points) <a class=\"anchor\" id=\"part2\"></a>\n",
    "\n",
    "[Back to top](#top)\n",
    "\n",
    "We will now experiment with methods that go beyond lexical methods like TF-IDF, which operate at the word level and are high dimensional and sparse, and look at methods which constructs low dimensional dense representations of queries and documents. \n",
    "\n",
    "Since these low-dimensional methods have a higher time complexity, they are typically used in conjunction with methods like BM-25. That is, instead of searching through potentially million documents to find matches using low dimensional vectors, a list of K documents are retrieved using BM25, and then **re-ranked** using the other method. This is the method that is going to be applied in the following exercises. \n",
    "\n",
    "LSI/LDA takes documents that are similar on a semantic level - for instance, if they are describing the same topic - and projects them into nearby vectors, despite having low lexical overlap.\n",
    "\n",
    "In this assignment, you will use `gensim` to create LSI/LDA models and use them in re-ranking. \n",
    "\n",
    "**Note**: The following exercises only uses `doc_repr_2` and `config_2`\n",
    "\n",
    "Table of contents:\n",
    "- [Section 6: LSI](#lsi) (15 points)\n",
    "- [Section 7: LDA](#lda) (10 points)\n",
    "- [Section 8: Word2Vec/Doc2Vec](#2vec) (20 points)\n",
    "- [Section 8: Re-ranking](#reranking) (10 points)\n",
    "- [Section 9: Re-ranking Evaluation](#reranking_eval) (30 points)"
   ]
  },
  {
   "cell_type": "markdown",
   "metadata": {
    "deletable": false,
    "editable": false,
    "nbgrader": {
     "cell_type": "markdown",
     "checksum": "f7c7b2cab82f576ed0acf836ca57171c",
     "grade": false,
     "grade_id": "cell-6b2c81e7a8abd180",
     "locked": true,
     "schema_version": 3,
     "solution": false,
     "task": false
    }
   },
   "source": [
    "---\n",
    "## Section 6: Latent Semantic Indexing (LSI) (15 points) <a class=\"anchor\" id=\"lsi\"></a>\n",
    "\n",
    "[Back to Part 2](#part2)\n",
    "\n",
    "LSI is one of the methods to embed the queries and documents into vectors. It is based on a method similar to Principal Component Analysis (PCA) for obtaining a dense concept matrix out of the sparse term-document matrix.\n",
    "\n",
    "See [wikipedia](https://en.wikipedia.org/wiki/Latent_semantic_analysis), particularly [#Mathematics_of_LSI](https://en.wikipedia.org/wiki/Latent_semantic_analysis#Mathematics_of_LSI)."
   ]
  },
  {
   "cell_type": "code",
   "execution_count": 71,
   "metadata": {
    "deletable": false,
    "editable": false,
    "nbgrader": {
     "cell_type": "code",
     "checksum": "c17ee75319cb517e2bf48ec3d9efc329",
     "grade": false,
     "grade_id": "cell-59913daee47f680d",
     "locked": true,
     "schema_version": 3,
     "solution": false,
     "task": false
    }
   },
   "outputs": [],
   "source": [
    "from gensim.corpora import Dictionary\n",
    "from gensim.models import LdaModel, LsiModel, Word2Vec\n",
    "from gensim.models.doc2vec import Doc2Vec, TaggedDocument\n",
    "from gensim import downloader as g_downloader\n",
    "# gensim uses logging, so set it up \n",
    "import logging\n",
    "logging.basicConfig(format='%(asctime)s : %(levelname)s : %(message)s', level=logging.INFO)"
   ]
  },
  {
   "cell_type": "markdown",
   "metadata": {
    "deletable": false,
    "editable": false,
    "nbgrader": {
     "cell_type": "markdown",
     "checksum": "5fce140c546759b54a9fc060901ae77c",
     "grade": false,
     "grade_id": "cell-3644faff4976598a",
     "locked": true,
     "schema_version": 3,
     "solution": false,
     "task": false
    }
   },
   "source": [
    "---\n",
    "### Section 6.1: Cosine Similarity (5 points)<a class=\"anchor\" id=\"cosing_sim\"></a>\n",
    "Before we begin, let us first define our method of similarity for the LSI model, the cosine similarity:\n",
    "\n",
    "$$\\text{similarity} = \\cos(\\theta) = {\\mathbf{A} \\cdot \\mathbf{B} \\over \\|\\mathbf{A}\\| \\|\\mathbf{B}\\|} = \\frac{ \\sum\\limits_{i=1}^{n}{A_i  B_i} }{ \\sqrt{\\sum\\limits_{i=1}^{n}{A_i^2}}  \\sqrt{\\sum\\limits_{i=1}^{n}{B_i^2}} }$$\n",
    "\n",
    "Since we are using gensim, the types of vectors returned by their classes are of the form defined below (they are not just simple vectors):"
   ]
  },
  {
   "cell_type": "code",
   "execution_count": 72,
   "metadata": {
    "deletable": false,
    "editable": false,
    "nbgrader": {
     "cell_type": "code",
     "checksum": "4e340e1a1d546f430c018fd0760e707a",
     "grade": false,
     "grade_id": "cell-3995a50f951314d5",
     "locked": true,
     "schema_version": 3,
     "solution": false,
     "task": false
    }
   },
   "outputs": [],
   "source": [
    "# 1, 2, 3 are either latent dimensions (LSI), or topics (LDA)\n",
    "# The second value in each tuple is a number (LSI) or a probability (LDA)  \n",
    "example_vec_1 = [(1, 0.2), (2, 0.3), (3, 0.4)]\n",
    "example_vec_2 = [(1, 0.2), (2, 0.7), (3, 0.4)]"
   ]
  },
  {
   "cell_type": "markdown",
   "metadata": {
    "deletable": false,
    "editable": false,
    "nbgrader": {
     "cell_type": "markdown",
     "checksum": "20832fd4f579f49ae204b0efee02edd1",
     "grade": false,
     "grade_id": "cell-5e54d581858dc8f7",
     "locked": true,
     "schema_version": 3,
     "solution": false,
     "task": false
    }
   },
   "source": [
    "---\n",
    "**Implementation (2+3 points):**\n",
    "Now, implement the `dot product` operation on these types of vectors and using this operator, implement the `cosine similarity` (don't forget: two functions to implement!):"
   ]
  },
  {
   "cell_type": "code",
   "execution_count": 73,
   "metadata": {
    "deletable": false,
    "nbgrader": {
     "cell_type": "code",
     "checksum": "06a712ee75fc213a21c5f0067fd8fe28",
     "grade": false,
     "grade_id": "cell-0e8189f5f93de33f",
     "locked": false,
     "schema_version": 3,
     "solution": true,
     "task": false
    }
   },
   "outputs": [],
   "source": [
    "def dot(vec_1,vec_2): \n",
    "    \"\"\"\n",
    "        vec_1 and vec_2 are of the form: [(int, float), (int, float), ...]\n",
    "        Return the dot product of two such vectors, computed only on the floats\n",
    "        You can assume that the lengths of the vectors are the same, and the dimensions are aligned \n",
    "            i.e you won't get: vec_1 = [(1, 0.2)] ; vec_2 = [(2, 0.3)] \n",
    "                                (dimensions are unaligned and lengths are different)\n",
    "    \"\"\"\n",
    "    # YOUR CODE HERE\n",
    "    return np.dot(list(zip(*vec_1))[1], list(zip(*vec_2))[1])\n",
    "\n",
    "def cosine_sim(vec_1, vec_2):\n",
    "    # YOUR CODE HERE\n",
    "    num = dot(vec_1, vec_2)\n",
    "    denom = np.sqrt(dot(vec_1, vec_1)) * np.sqrt(dot(vec_2, vec_2))\n",
    "    return num/denom"
   ]
  },
  {
   "cell_type": "code",
   "execution_count": 74,
   "metadata": {
    "deletable": false,
    "editable": false,
    "nbgrader": {
     "cell_type": "code",
     "checksum": "d22a4a7325ba7815a808390388f534a1",
     "grade": true,
     "grade_id": "cell-b25d04ed6b79fd35",
     "locked": true,
     "points": 2,
     "schema_version": 3,
     "solution": false,
     "task": false
    }
   },
   "outputs": [
    {
     "name": "stdout",
     "output_type": "stream",
     "text": [
      "vectors: ([(1, 0.2), (2, 0.3), (3, 0.4)], [(1, 0.2), (2, 0.7), (3, 0.4)])\n",
      "dot product = 0.41000000000000003\n",
      "cosine similarity = 0.9165587597202866\n"
     ]
    }
   ],
   "source": [
    "##### Function check\n",
    "print(f'vectors: {(example_vec_1,example_vec_2)}')\n",
    "print(f'dot product = {dot(example_vec_1,example_vec_2)}')\n",
    "print(f'cosine similarity = {cosine_sim(example_vec_1,example_vec_2)}')\n",
    "##### "
   ]
  },
  {
   "cell_type": "code",
   "execution_count": 75,
   "metadata": {
    "deletable": false,
    "editable": false,
    "nbgrader": {
     "cell_type": "code",
     "checksum": "0744131724ce76b1b3f163b4bae5f700",
     "grade": true,
     "grade_id": "cell-ae3c4466866ace77",
     "locked": true,
     "points": 3,
     "schema_version": 3,
     "solution": false,
     "task": false
    }
   },
   "outputs": [],
   "source": [
    "#### Please do not change this. This cell is used for grading."
   ]
  },
  {
   "cell_type": "markdown",
   "metadata": {
    "deletable": false,
    "editable": false,
    "nbgrader": {
     "cell_type": "markdown",
     "checksum": "9b123f599f9ea372d14676e23f1c6a52",
     "grade": false,
     "grade_id": "cell-4b2534067c44fcdf",
     "locked": true,
     "schema_version": 3,
     "solution": false,
     "task": false
    }
   },
   "source": [
    "---\n",
    "### Section 6.2: LSI Retrieval (10 points)<a class=\"anchor\" id=\"lsi_retrieval\"></a>\n",
    "LSI retrieval is simply ranking the documents based on their cosine similarity to the query vector.\n",
    "First, let's write a parent class for vector-based retrieval models:"
   ]
  },
  {
   "cell_type": "code",
   "execution_count": 76,
   "metadata": {
    "deletable": false,
    "editable": false,
    "nbgrader": {
     "cell_type": "code",
     "checksum": "ecc111d58182570e2252b8ef5d6b02af",
     "grade": false,
     "grade_id": "cell-937936cea18711ee",
     "locked": true,
     "schema_version": 3,
     "solution": false,
     "task": false
    }
   },
   "outputs": [],
   "source": [
    "class VectorSpaceRetrievalModel:\n",
    "    \"\"\"\n",
    "        Parent class for Dense Vector Retrieval models\n",
    "    \"\"\"\n",
    "    def __init__(self, doc_repr):\n",
    "        \"\"\"\n",
    "            document_collection: \n",
    "                [\n",
    "                    (doc_id_1, [token 1, token 2, ...]), \n",
    "                    (doc_id_2, [token 1, token 2, ....]) \n",
    "                    ...\n",
    "                ]\n",
    "\n",
    "        \"\"\"\n",
    "        self.doc_repr = doc_repr\n",
    "        self.documents = [_[1] for _ in self.doc_repr]\n",
    "        \n",
    "        # construct a dictionary\n",
    "        self.dictionary = Dictionary(self.documents)\n",
    "        # Filter out words that occur less than 20 documents, or more than 50% of the documents.\n",
    "        self.dictionary.filter_extremes(no_below=10)\n",
    "        self.corpus = [self.dictionary.doc2bow(doc) for doc in self.documents]\n",
    "    \n",
    "        # Make a index to word dictionary.\n",
    "        temp = self.dictionary[0]  # This is only to \"load\" the dictionary.\n",
    "        self.id2word = self.dictionary.id2token\n",
    "        \n",
    "        # this is set by the train_model function\n",
    "        self.model = None\n",
    "        \n",
    "        \n",
    "    def vectorize_documents(self):\n",
    "        \"\"\"\n",
    "            Returns a doc_id -> vector dictionary\n",
    "        \"\"\"\n",
    "        vectors = {}\n",
    "        for (doc_id, _), cc in zip(self.doc_repr, self.corpus):\n",
    "            vectors[doc_id] = self.model[cc]\n",
    "        return vectors\n",
    "\n",
    "    def vectorize_query(self, query):\n",
    "        # Note the use of config_2 here!\n",
    "        query = process_text(query, **config_2)\n",
    "        query_vector = self.dictionary.doc2bow(query)\n",
    "        return self.model[query_vector]\n",
    "    \n",
    "    def train_model(self):\n",
    "        \"\"\"\n",
    "            Trains a model and sets the 'self.model' variable. \n",
    "            Make sure to use the variables created in the __init__ method.\n",
    "            e.g the variables which may be useful: {corpus, dictionary, id2word}\n",
    "        \"\"\"\n",
    "        raise NotImplementedError()"
   ]
  },
  {
   "cell_type": "markdown",
   "metadata": {
    "deletable": false,
    "editable": false,
    "nbgrader": {
     "cell_type": "markdown",
     "checksum": "ff161eefd9b81b768cd6361bc1a502b0",
     "grade": false,
     "grade_id": "cell-704a18c2f80cd60c",
     "locked": true,
     "schema_version": 3,
     "solution": false,
     "task": false
    }
   },
   "source": [
    "---\n",
    "**Implementation (5 points):**\n",
    "Implement the `train_model` method in the following class (note that this is only one line of code in `gensim`!). Ensure that the parameters defined in the `__init__` method are not changed, and are *used in the `train_method` function*. Normally, the hyperaparameter space will be searched using grid search / other methods - in this assignment we have provided the hyperparameters for you.\n",
    "\n",
    "The last two lines of code train an LSI model on the list of documents which have been stemmed, lower-cased and have stopwords removed. "
   ]
  },
  {
   "cell_type": "code",
   "execution_count": 77,
   "metadata": {
    "deletable": false,
    "nbgrader": {
     "cell_type": "code",
     "checksum": "0e90eedc27c248bc1ae050518a46a46c",
     "grade": false,
     "grade_id": "cell-307682c9089f15d6",
     "locked": false,
     "schema_version": 3,
     "solution": true,
     "task": false
    }
   },
   "outputs": [],
   "source": [
    "class LsiRetrievalModel(VectorSpaceRetrievalModel):\n",
    "    def __init__(self, doc_repr):\n",
    "        super().__init__(doc_repr)\n",
    "        \n",
    "        self.num_topics = 100\n",
    "        self.chunksize = 2000\n",
    "    \n",
    "    def train_model(self):\n",
    "        # YOUR CODE HERE\n",
    "        self.model = LsiModel(self.corpus, \n",
    "                              id2word = self.id2word, \n",
    "                              num_topics = self.num_topics, \n",
    "                              chunksize = self.chunksize)"
   ]
  },
  {
   "cell_type": "code",
   "execution_count": 78,
   "metadata": {
    "deletable": false,
    "editable": false,
    "nbgrader": {
     "cell_type": "code",
     "checksum": "00399cfe13d60cb4beed1271e36004b0",
     "grade": true,
     "grade_id": "cell-5ce512650c1b2dfb",
     "locked": true,
     "points": 0,
     "schema_version": 3,
     "solution": false,
     "task": false
    }
   },
   "outputs": [
    {
     "name": "stderr",
     "output_type": "stream",
     "text": [
      "2021-02-19 13:11:25,298 : INFO : adding document #0 to Dictionary(0 unique tokens: [])\n",
      "2021-02-19 13:11:25,412 : INFO : built Dictionary(5937 unique tokens: ['-', 'algebra', 'intern', 'languag', 'preliminari']...) from 3204 documents (total 115969 corpus positions)\n",
      "2021-02-19 13:11:25,418 : INFO : discarding 4740 tokens: [('repeat', 8), ('glossari', 7), ('inspect', 8), ('uncol', 2), ('rung', 9), ('secant', 2), ('.', 1603), ('acceler', 6), ('diverg', 3), ('induc', 9)]...\n",
      "2021-02-19 13:11:25,419 : INFO : keeping 1197 tokens which were in no less than 10 and no more than 1602 (=50.0%) documents\n",
      "2021-02-19 13:11:25,422 : INFO : resulting dictionary: Dictionary(1197 unique tokens: ['-', 'algebra', 'intern', 'languag', 'preliminari']...)\n",
      "2021-02-19 13:11:25,549 : INFO : using serial LSI version on this node\n",
      "2021-02-19 13:11:25,549 : INFO : updating model with new documents\n",
      "2021-02-19 13:11:25,550 : INFO : preparing a new chunk of documents\n",
      "2021-02-19 13:11:25,567 : INFO : using 100 extra samples and 2 power iterations\n",
      "2021-02-19 13:11:25,568 : INFO : 1st phase: constructing (1197, 200) action matrix\n",
      "2021-02-19 13:11:25,587 : INFO : orthonormalizing (1197, 200) action matrix\n",
      "2021-02-19 13:11:25,642 : INFO : 2nd phase: running dense svd on (200, 2000) matrix\n",
      "2021-02-19 13:11:25,679 : INFO : computing the final decomposition\n",
      "2021-02-19 13:11:25,680 : INFO : keeping 100 factors (discarding 13.426% of energy spectrum)\n",
      "2021-02-19 13:11:25,683 : INFO : processed documents up to #2000\n",
      "2021-02-19 13:11:25,688 : INFO : topic #0(152.127): -0.741*\",\" + -0.342*\"-\" + -0.211*\"system\" + -0.204*\"program\" + -0.192*\"comput\" + -0.146*\"(\" + -0.127*\"languag\" + -0.108*\")\" + -0.084*\"gener\" + -0.083*\"data\"\n",
      "2021-02-19 13:11:25,690 : INFO : topic #1(60.600): -0.607*\"(\" + -0.434*\")\" + -0.366*\"algorithm\" + -0.300*\"-\" + 0.237*\",\" + 0.213*\"system\" + 0.132*\"comput\" + -0.096*\"[\" + 0.093*\"program\" + -0.084*\"])\"\n",
      "2021-02-19 13:11:25,691 : INFO : topic #2(57.438): 0.744*\"-\" + -0.452*\",\" + 0.263*\"system\" + -0.214*\"(\" + -0.166*\")\" + 0.107*\"time\" + 0.105*\"program\" + -0.094*\"algorithm\" + 0.068*\"comput\" + 0.067*\"share\"\n",
      "2021-02-19 13:11:25,692 : INFO : topic #3(48.370): -0.483*\"system\" + -0.375*\"program\" + -0.367*\"comput\" + 0.363*\"-\" + 0.308*\",\" + -0.212*\"(\" + -0.168*\")\" + -0.147*\"algorithm\" + 0.144*\"languag\" + -0.119*\"time\"\n",
      "2021-02-19 13:11:25,693 : INFO : topic #4(45.710): -0.489*\"comput\" + 0.475*\"languag\" + 0.428*\"program\" + -0.238*\"method\" + -0.141*\"problem\" + 0.121*\"system\" + 0.109*\")\" + -0.107*\"equat\" + -0.100*\"algorithm\" + 0.099*\"(\"\n",
      "2021-02-19 13:11:25,693 : INFO : preparing a new chunk of documents\n",
      "2021-02-19 13:11:25,704 : INFO : using 100 extra samples and 2 power iterations\n",
      "2021-02-19 13:11:25,706 : INFO : 1st phase: constructing (1197, 200) action matrix\n",
      "2021-02-19 13:11:25,721 : INFO : orthonormalizing (1197, 200) action matrix\n",
      "2021-02-19 13:11:25,763 : INFO : 2nd phase: running dense svd on (200, 1204) matrix\n",
      "2021-02-19 13:11:25,787 : INFO : computing the final decomposition\n",
      "2021-02-19 13:11:25,788 : INFO : keeping 100 factors (discarding 14.016% of energy spectrum)\n",
      "2021-02-19 13:11:25,791 : INFO : merging projections: (1197, 100) + (1197, 100)\n",
      "2021-02-19 13:11:25,801 : INFO : keeping 100 factors (discarding 8.164% of energy spectrum)\n",
      "2021-02-19 13:11:25,804 : INFO : processed documents up to #3204\n",
      "2021-02-19 13:11:25,806 : INFO : topic #0(225.136): 0.759*\",\" + 0.337*\"-\" + 0.196*\"system\" + 0.186*\"program\" + 0.166*\"comput\" + 0.139*\"(\" + 0.103*\")\" + 0.103*\"algorithm\" + 0.099*\"languag\" + 0.087*\"time\"\n",
      "2021-02-19 13:11:25,807 : INFO : topic #1(87.805): 0.613*\"-\" + -0.399*\",\" + 0.399*\"(\" + 0.326*\"algorithm\" + 0.293*\")\" + -0.129*\"system\" + -0.107*\"program\" + 0.085*\"method\" + 0.077*\"time\" + 0.062*\"1\"\n",
      "2021-02-19 13:11:25,808 : INFO : topic #2(81.909): 0.550*\"-\" + -0.434*\"(\" + 0.355*\"system\" + -0.321*\")\" + -0.291*\",\" + -0.266*\"algorithm\" + 0.146*\"program\" + 0.123*\"comput\" + 0.078*\"time\" + -0.064*\"[\"\n",
      "2021-02-19 13:11:25,809 : INFO : topic #3(72.433): -0.693*\"program\" + 0.339*\",\" + 0.279*\"-\" + -0.251*\"(\" + -0.221*\"system\" + -0.214*\"languag\" + -0.204*\")\" + -0.160*\"comput\" + -0.099*\"data\" + -0.056*\"execut\"\n",
      "2021-02-19 13:11:25,811 : INFO : topic #4(68.523): -0.673*\"system\" + 0.453*\"program\" + 0.254*\"languag\" + 0.212*\"-\" + -0.179*\"comput\" + -0.165*\"(\" + -0.121*\")\" + -0.115*\"model\" + 0.101*\",\" + -0.098*\"algorithm\"\n"
     ]
    },
    {
     "data": {
      "text/plain": [
       "[(0, 0.015213253690211004),\n",
       " (1, -0.016251043358187427),\n",
       " (2, -0.0001761241708614237),\n",
       " (3, -0.0017823456596378657),\n",
       " (4, -0.00940202476192211),\n",
       " (5, -0.0046695420652112345),\n",
       " (6, 0.027052659294344833),\n",
       " (7, 0.016716661304159598),\n",
       " (8, -0.0318875217507543),\n",
       " (9, -0.0007125739575076576),\n",
       " (10, 0.0022406244864421315),\n",
       " (11, -0.017553291462460936),\n",
       " (12, 0.0003530279269726381),\n",
       " (13, 0.001433638775935029),\n",
       " (14, 0.004618412981566648),\n",
       " (15, 0.005607392632336439),\n",
       " (16, 0.005774830140347378),\n",
       " (17, 0.0024785884569524935),\n",
       " (18, -0.016090176220816405),\n",
       " (19, 0.021040789132087356),\n",
       " (20, -0.007975460272913404),\n",
       " (21, -0.013842049009653055),\n",
       " (22, 0.047948500063462324),\n",
       " (23, 0.025843840893418627),\n",
       " (24, -0.008441488785496507),\n",
       " (25, -0.01153396753286745),\n",
       " (26, 0.005938553020806958),\n",
       " (27, 0.07618244342873177),\n",
       " (28, -0.06255528416947352),\n",
       " (29, 0.030629808791264385),\n",
       " (30, 0.04282762429028654),\n",
       " (31, 0.045652444582526056),\n",
       " (32, -0.07191696016006739),\n",
       " (33, 0.0547789101861948),\n",
       " (34, -0.025625804700700007),\n",
       " (35, 0.06234559764152643),\n",
       " (36, 0.043683194517940734),\n",
       " (37, -0.012049457472774859),\n",
       " (38, -0.05852716443307025),\n",
       " (39, 0.022245851877277567),\n",
       " (40, -0.045029014213455676),\n",
       " (41, -0.0343763934699122),\n",
       " (42, 0.02399140398641258),\n",
       " (43, 0.014126118855743702),\n",
       " (44, 0.019411206938611477),\n",
       " (45, -0.05765425575625402),\n",
       " (46, -0.01815012664447217),\n",
       " (47, 0.007309040448639897),\n",
       " (48, 0.02081928535575693),\n",
       " (49, 0.029384360471269112),\n",
       " (50, 0.02019264613667509),\n",
       " (51, 0.051012649117925524),\n",
       " (52, -0.008692908457326483),\n",
       " (53, 0.004414286177687281),\n",
       " (54, 0.03469334075812704),\n",
       " (55, 0.02768606551851821),\n",
       " (56, 0.0029077308800658265),\n",
       " (57, -0.01946808669975203),\n",
       " (58, -0.006673719092776047),\n",
       " (59, 0.048635564784313155),\n",
       " (60, -0.00290855098702604),\n",
       " (61, -0.04727522528412801),\n",
       " (62, 0.018697641463077706),\n",
       " (63, 0.01461897167261067),\n",
       " (64, 0.05854567139165685),\n",
       " (65, 0.04419332222399094),\n",
       " (66, 0.014231217620888689),\n",
       " (67, -0.0578191938528073),\n",
       " (68, 0.012759952747473829),\n",
       " (69, -0.0412794231601506),\n",
       " (70, -0.04485925675891243),\n",
       " (71, -0.012708086451954075),\n",
       " (72, 0.06205594885930148),\n",
       " (73, -0.0774618491176371),\n",
       " (74, -0.020515343842280164),\n",
       " (75, 0.005729360500658594),\n",
       " (76, 0.058923480809697004),\n",
       " (77, 0.025090436060445104),\n",
       " (78, 0.04453661084927276),\n",
       " (79, -0.01863813693227085),\n",
       " (80, -0.027485207124931552),\n",
       " (81, 0.006716729317936092),\n",
       " (82, 0.04577567274787088),\n",
       " (83, -0.06094784447276297),\n",
       " (84, -0.014371276158825174),\n",
       " (85, 0.012210514553329383),\n",
       " (86, -0.023745415357883763),\n",
       " (87, -0.05940722901301489),\n",
       " (88, 0.03750823973429904),\n",
       " (89, -0.08883711104690889),\n",
       " (90, -0.01267810791049186),\n",
       " (91, 0.06170042677394959),\n",
       " (92, -0.00643336460701192),\n",
       " (93, -0.0018942391899842842),\n",
       " (94, -0.042065334402946436),\n",
       " (95, -0.027751033210930053),\n",
       " (96, -0.008117592109343551),\n",
       " (97, 0.012882197935723455),\n",
       " (98, 0.006376290776459166),\n",
       " (99, 0.010066826034838985)]"
      ]
     },
     "execution_count": 78,
     "metadata": {},
     "output_type": "execute_result"
    }
   ],
   "source": [
    "##### Function check\n",
    "lsi = LsiRetrievalModel(doc_repr_2)\n",
    "lsi.train_model()\n",
    "\n",
    "# you can now get an LSI vector for a given query in the following way:\n",
    "lsi.vectorize_query(\"report\")\n",
    "##### "
   ]
  },
  {
   "cell_type": "markdown",
   "metadata": {
    "deletable": false,
    "editable": false,
    "nbgrader": {
     "cell_type": "markdown",
     "checksum": "7116bb9f576c5bb04934e1d59c51d729",
     "grade": false,
     "grade_id": "cell-4c5eeb557b4fca2f",
     "locked": true,
     "points": 5,
     "schema_version": 3,
     "solution": false,
     "task": true
    }
   },
   "source": [
    "\\#### Please do not change this. This cell is used for grading."
   ]
  },
  {
   "cell_type": "markdown",
   "metadata": {
    "deletable": false,
    "editable": false,
    "nbgrader": {
     "cell_type": "markdown",
     "checksum": "1068a108600b8c1539117d543e720354",
     "grade": false,
     "grade_id": "cell-c4e50296cd17a555",
     "locked": true,
     "schema_version": 3,
     "solution": false,
     "task": false
    }
   },
   "source": [
    "---\n",
    "Next, implement a basic ranking class for vector space retrieval (used for all semantic methods): "
   ]
  },
  {
   "cell_type": "code",
   "execution_count": 79,
   "metadata": {
    "deletable": false,
    "nbgrader": {
     "cell_type": "code",
     "checksum": "1a8389d2f0635c3405e2b0b27ed9f327",
     "grade": false,
     "grade_id": "cell-250515d288e80cdc",
     "locked": false,
     "schema_version": 3,
     "solution": true,
     "task": false
    }
   },
   "outputs": [],
   "source": [
    "class DenseRetrievalRanker:\n",
    "    def __init__(self, vsrm, similarity_fn):\n",
    "        \"\"\"\n",
    "            vsrm: instance of `VectorSpaceRetrievalModel`\n",
    "            similarity_fn: function instance that takes in two vectors \n",
    "                            and returns a similarity score e.g cosine_sim defined earlier\n",
    "        \"\"\"\n",
    "        self.vsrm = vsrm \n",
    "        self.vectorized_documents = self.vsrm.vectorize_documents()\n",
    "        self.similarity_fn = similarity_fn\n",
    "    \n",
    "    def _compute_sim(self, query_vector):\n",
    "        \"\"\"\n",
    "            Compute the similarity of `query_vector` to documents in \n",
    "            `self.vectorized_documents` using `self.similarity_fn`\n",
    "            Returns a list of (doc_id, score) tuples\n",
    "        \"\"\"\n",
    "        # YOUR CODE HERE\n",
    "        scores = [(doc_id, self.similarity_fn(query_vector, doc_vec)) for (doc_id, doc_vec) in self.vectorized_documents.items()\n",
    "                 if len(doc_vec) == len(query_vector)]        \n",
    "        return scores\n",
    "        \n",
    "    def search(self, query):\n",
    "        scores = self._compute_sim(self.vsrm.vectorize_query(query))\n",
    "        scores.sort(key=lambda _:-_[1])\n",
    "        return scores "
   ]
  },
  {
   "cell_type": "code",
   "execution_count": 80,
   "metadata": {
    "deletable": false,
    "editable": false,
    "nbgrader": {
     "cell_type": "code",
     "checksum": "f237dd1ef6c1783c06797f4b514421f5",
     "grade": true,
     "grade_id": "cell-b73068b3e77a8e31",
     "locked": true,
     "points": 0,
     "schema_version": 3,
     "solution": false,
     "task": false
    }
   },
   "outputs": [
    {
     "data": {
      "text/plain": [
       "[(599, 0.8017469895336663),\n",
       " (947, 0.5806917005573528),\n",
       " (53, 0.48889081765242726),\n",
       " (1339, 0.4601766286640665),\n",
       " (3160, 0.4380487103484376)]"
      ]
     },
     "execution_count": 80,
     "metadata": {},
     "output_type": "execute_result"
    }
   ],
   "source": [
    "##### Function check\n",
    "drm_lsi = DenseRetrievalRanker(lsi, cosine_sim)\n",
    "drm_lsi.search(\"report\")[:5]\n",
    "##### "
   ]
  },
  {
   "cell_type": "markdown",
   "metadata": {
    "deletable": false,
    "editable": false,
    "nbgrader": {
     "cell_type": "markdown",
     "checksum": "5b3f19fdcaa585d263706d5a26038799",
     "grade": false,
     "grade_id": "cell-034c755a6502b868",
     "locked": true,
     "points": 5,
     "schema_version": 3,
     "solution": false,
     "task": true
    }
   },
   "source": [
    "\\#### Please do not change this. This cell is used for grading."
   ]
  },
  {
   "cell_type": "markdown",
   "metadata": {
    "deletable": false,
    "editable": false,
    "nbgrader": {
     "cell_type": "markdown",
     "checksum": "dcafef6e037033c46304b914f7c78bdf",
     "grade": false,
     "grade_id": "cell-d1df23f497d5ed6b",
     "locked": true,
     "schema_version": 3,
     "solution": false,
     "task": false
    }
   },
   "source": [
    "---\n",
    "Now, you can test your LSI model in the following cell: try finding queries which are lexically different to documents, but semantically similar - does LSI work well for these queries?!"
   ]
  },
  {
   "cell_type": "code",
   "execution_count": 81,
   "metadata": {
    "deletable": false,
    "editable": false,
    "nbgrader": {
     "cell_type": "code",
     "checksum": "11734bc7674377b340ad51297a8e8bb5",
     "grade": false,
     "grade_id": "cell-efd1d08dfc04ec3e",
     "locked": true,
     "schema_version": 3,
     "solution": false,
     "task": false
    }
   },
   "outputs": [
    {
     "data": {
      "application/vnd.jupyter.widget-view+json": {
       "model_id": "7ea3d8c3247f424cb796d837a934f19d",
       "version_major": 2,
       "version_minor": 0
      },
      "text/plain": [
       "Text(value='', description='Search Bar')"
      ]
     },
     "metadata": {},
     "output_type": "display_data"
    }
   ],
   "source": [
    "# test your LSI model\n",
    "search_fn = drm_lsi.search\n",
    "\n",
    "text = widgets.Text(description=\"Search Bar\", width=200)\n",
    "display(text)\n",
    "\n",
    "def make_results_2(query, search_fn):\n",
    "    results = []\n",
    "    for doc_id, score in search_fn(query):\n",
    "        highlight = highlight_text(docs_by_id[doc_id], query)\n",
    "        if len(highlight.strip()) == 0:\n",
    "            highlight = docs_by_id[doc_id]\n",
    "        results.append(ResultRow(doc_id, highlight, score))\n",
    "    return results\n",
    "\n",
    "def handle_submit_2(sender):\n",
    "    print(f\"Searching for: '{sender.value}' (SEARCH FN: {search_fn})\")\n",
    "    \n",
    "    results = make_results_2(sender.value, search_fn)\n",
    "    \n",
    "    # display only the top 5\n",
    "    results = results[:5]\n",
    "    \n",
    "    body = \"\"\n",
    "    for idx, r in enumerate(results):\n",
    "        body += f\"<li>Document #{r.doc_id}({r.score}): {r.snippet}</li>\"\n",
    "    display(HTML(f\"<ul>{body}</ul>\"))\n",
    "    \n",
    "\n",
    "text.on_submit(handle_submit_2)"
   ]
  },
  {
   "cell_type": "markdown",
   "metadata": {
    "deletable": false,
    "editable": false,
    "nbgrader": {
     "cell_type": "markdown",
     "checksum": "d074ce1ca48384cdda78742741c938be",
     "grade": false,
     "grade_id": "cell-3a86cef264d8f6cf",
     "locked": true,
     "schema_version": 3,
     "solution": false,
     "task": false
    }
   },
   "source": [
    "---\n",
    "## Section 7: Latent Dirichlet Allocation (LDA) (10 points) <a class=\"anchor\" id=\"lda\"></a>\n",
    "\n",
    "[Back to Part 2](#part2)\n",
    "\n",
    "The specifics of LDA is out of the scope of this assignment, but we will use the `gensim` implementation to perform search using LDA over our small document collection. The key thing to remember is that LDA, unlike LSI, outputs a topic **distribution**, not a vector. With that in mind, let's first define a similarity measure.\n"
   ]
  },
  {
   "cell_type": "markdown",
   "metadata": {
    "deletable": false,
    "editable": false,
    "nbgrader": {
     "cell_type": "markdown",
     "checksum": "db01092373b18f0c9dfed1bb17db4ad9",
     "grade": false,
     "grade_id": "cell-6b78ad22c2d60ba7",
     "locked": true,
     "schema_version": 3,
     "solution": false,
     "task": false
    }
   },
   "source": [
    "---\n",
    "### Section 7.1: Jenson-Shannon divergence (5 points) <a class=\"anchor\" id=\"js_sim\"></a>\n",
    "\n",
    "The Jenson-Shannon divergence is a symmetric and finite measure on two probability distributions (unlike the KL, which is neither). For identical distributions, the JSD is equal to 0, and since our code uses 0 as irrelevant and higher scores as relevant, we use `(1 - JSD)` as the score or 'similarity' in our setup\n",
    "\n",
    "**Note**: the JSD is bounded to \\[0,1\\] only if we use log base 2. So please ensure that you're using `np.log2` instead of `np.log`"
   ]
  },
  {
   "cell_type": "code",
   "execution_count": 82,
   "metadata": {
    "deletable": false,
    "nbgrader": {
     "cell_type": "code",
     "checksum": "a579e6cd7a24a3516bc9a84528b392d3",
     "grade": false,
     "grade_id": "cell-d2376a85a4841e98",
     "locked": false,
     "schema_version": 3,
     "solution": true,
     "task": false
    }
   },
   "outputs": [],
   "source": [
    "def calc_entropy(distribution):\n",
    "    return -np.sum(distribution * np.log2(distribution))\n",
    "\n",
    "\n",
    "def jenson_shannon_divergence(vec_1, vec_2, assert_prob=False):\n",
    "    \"\"\"\n",
    "        Computes the Jensen-Shannon divergence between two probability distributions. \n",
    "        NOTE: DO NOT RETURN 1 - JSD here, that is handled by the next function which is already implemented! \n",
    "        The inputs are *gensim* vectors - same as the vectors for the cosine_sim function\n",
    "        assert_prob is a flag that checks if the inputs are proper probability distributions \n",
    "            i.e they sum to 1 and are positive - use this to check your inputs if needed. \n",
    "                (This is optional to implement, but recommended - \n",
    "                you can the default to False to save a few ms off the runtime)\n",
    "    \"\"\"\n",
    "    # YOUR CODE HERE    \n",
    "    values_1 = np.array(list(zip(*vec_1))[1])\n",
    "    values_2 = np.array(list(zip(*vec_2))[1])\n",
    "    \n",
    "    if assert_prob:\n",
    "        if np.sum(values_1) != 1:\n",
    "            raise ValueError('vec_1 should sum to 1')\n",
    "        if np.sum(values_2) != 1:\n",
    "            raise ValueError('vec_2 should sum to 1')\n",
    "    \n",
    "    ent_sum = calc_entropy((values_1 + values_2)/2)\n",
    "    ent_1 = calc_entropy(values_1)\n",
    "    ent_2 = calc_entropy(values_2)\n",
    "    \n",
    "    return ent_sum - (ent_1 + ent_2)/2\n",
    "\n",
    "\n",
    "def jenson_shannon_sim(vec_1, vec_2, assert_prob=False):\n",
    "    return 1 - jenson_shannon_divergence(vec_1, vec_2, assert_prob)\n"
   ]
  },
  {
   "cell_type": "code",
   "execution_count": 83,
   "metadata": {
    "deletable": false,
    "editable": false,
    "nbgrader": {
     "cell_type": "code",
     "checksum": "ab340aa941c9fb5c89b3fd0a9139e246",
     "grade": true,
     "grade_id": "cell-487c6d2933f38053",
     "locked": true,
     "points": 5,
     "schema_version": 3,
     "solution": false,
     "task": false
    }
   },
   "outputs": [
    {
     "data": {
      "text/plain": [
       "0.9251064410358458"
      ]
     },
     "execution_count": 83,
     "metadata": {},
     "output_type": "execute_result"
    }
   ],
   "source": [
    "##### Function check\n",
    "vec_1 = [(1, 0.3), (2, 0.4), (3, 0.3)]\n",
    "vec_2 = [(1, 0.1), (2, 0.7), (3, 0.2)]\n",
    "jenson_shannon_sim(vec_1, vec_2, assert_prob=True)\n",
    "##### "
   ]
  },
  {
   "cell_type": "markdown",
   "metadata": {
    "deletable": false,
    "editable": false,
    "nbgrader": {
     "cell_type": "markdown",
     "checksum": "0a1583a5f23e3390038331cce67f5d8e",
     "grade": false,
     "grade_id": "cell-4535cc67a50b80fa",
     "locked": true,
     "schema_version": 3,
     "solution": false,
     "task": false
    }
   },
   "source": [
    "---\n",
    "### Section 7.2: LDA retrieval (5 points) <a class=\"anchor\" id=\"lda_ret\"></a>\n",
    "\n",
    "Implement the `train_model` method in the following class (note that this is only one line of code in `gensim`!). Ensure that the parameters defined in the `__init__` method are not changed, and are *used in the `train_method` function*. You do not need to set this. Normally, the hyperaparameter space will be searched using grid search / other methods. Note that training the LDA model might take some time\n",
    "\n",
    "The last two lines of code train an LDA model on the list of documents which have been stemmed, lower-cased and have stopwords removed. "
   ]
  },
  {
   "cell_type": "code",
   "execution_count": 84,
   "metadata": {
    "deletable": false,
    "nbgrader": {
     "cell_type": "code",
     "checksum": "27de8e4fa85536bb396b73bfc51b3f50",
     "grade": false,
     "grade_id": "cell-021a48dff4a8bb91",
     "locked": false,
     "schema_version": 3,
     "solution": true,
     "task": false
    }
   },
   "outputs": [],
   "source": [
    "class LdaRetrievalModel(VectorSpaceRetrievalModel):\n",
    "    def __init__(self, doc_repr):\n",
    "        super().__init__(doc_repr)\n",
    "        \n",
    "        # use these parameters in the train_model method\n",
    "        self.num_topics = 100\n",
    "        self.chunksize = 2000\n",
    "        self.passes = 20\n",
    "        self.iterations = 400\n",
    "        self.eval_every = 10\n",
    "        # this is need to get full vectors\n",
    "        self.minimum_probability=0.0\n",
    "        self.alpha='auto'\n",
    "        self.eta='auto'\n",
    "    \n",
    "    \n",
    "    def train_model(self):\n",
    "        # YOUR CODE HERE\n",
    "        self.model = LdaModel(self.corpus,\n",
    "                              id2word = self.id2word,\n",
    "                              num_topics = self.num_topics, \n",
    "                              chunksize = self.chunksize, \n",
    "                              passes = self.passes, \n",
    "                              iterations = self.iterations, \n",
    "                              eval_every = self.eval_every, \n",
    "                              minimum_probability = self.minimum_probability, \n",
    "                              alpha = self.alpha, \n",
    "                              eta = self.eta)"
   ]
  },
  {
   "cell_type": "code",
   "execution_count": 85,
   "metadata": {
    "deletable": false,
    "editable": false,
    "nbgrader": {
     "cell_type": "code",
     "checksum": "be70fcb8098d0b6ce64cd2a10e6a05b7",
     "grade": true,
     "grade_id": "cell-86750b715f0345fd",
     "locked": true,
     "points": 0,
     "schema_version": 3,
     "solution": false,
     "task": false
    }
   },
   "outputs": [
    {
     "name": "stderr",
     "output_type": "stream",
     "text": [
      "2021-02-19 13:11:26,813 : INFO : adding document #0 to Dictionary(0 unique tokens: [])\n",
      "2021-02-19 13:11:26,933 : INFO : built Dictionary(5937 unique tokens: ['-', 'algebra', 'intern', 'languag', 'preliminari']...) from 3204 documents (total 115969 corpus positions)\n",
      "2021-02-19 13:11:26,938 : INFO : discarding 4740 tokens: [('repeat', 8), ('glossari', 7), ('inspect', 8), ('uncol', 2), ('rung', 9), ('secant', 2), ('.', 1603), ('acceler', 6), ('diverg', 3), ('induc', 9)]...\n",
      "2021-02-19 13:11:26,939 : INFO : keeping 1197 tokens which were in no less than 10 and no more than 1602 (=50.0%) documents\n",
      "2021-02-19 13:11:26,941 : INFO : resulting dictionary: Dictionary(1197 unique tokens: ['-', 'algebra', 'intern', 'languag', 'preliminari']...)\n",
      "2021-02-19 13:11:27,013 : INFO : using autotuned alpha, starting with [0.01, 0.01, 0.01, 0.01, 0.01, 0.01, 0.01, 0.01, 0.01, 0.01, 0.01, 0.01, 0.01, 0.01, 0.01, 0.01, 0.01, 0.01, 0.01, 0.01, 0.01, 0.01, 0.01, 0.01, 0.01, 0.01, 0.01, 0.01, 0.01, 0.01, 0.01, 0.01, 0.01, 0.01, 0.01, 0.01, 0.01, 0.01, 0.01, 0.01, 0.01, 0.01, 0.01, 0.01, 0.01, 0.01, 0.01, 0.01, 0.01, 0.01, 0.01, 0.01, 0.01, 0.01, 0.01, 0.01, 0.01, 0.01, 0.01, 0.01, 0.01, 0.01, 0.01, 0.01, 0.01, 0.01, 0.01, 0.01, 0.01, 0.01, 0.01, 0.01, 0.01, 0.01, 0.01, 0.01, 0.01, 0.01, 0.01, 0.01, 0.01, 0.01, 0.01, 0.01, 0.01, 0.01, 0.01, 0.01, 0.01, 0.01, 0.01, 0.01, 0.01, 0.01, 0.01, 0.01, 0.01, 0.01, 0.01, 0.01]\n",
      "2021-02-19 13:11:27,014 : INFO : using serial LDA version on this node\n",
      "2021-02-19 13:11:27,024 : INFO : running online (multi-pass) LDA training, 100 topics, 20 passes over the supplied corpus of 3204 documents, updating model once every 2000 documents, evaluating perplexity every 3204 documents, iterating 400x with a convergence threshold of 0.001000\n",
      "2021-02-19 13:11:27,025 : INFO : PROGRESS: pass 0, at document #2000/3204\n",
      "2021-02-19 13:11:28,503 : INFO : optimized alpha [0.0097884415, 0.009788685, 0.009783437, 0.009788474, 0.009845846, 0.009783216, 0.009803986, 0.009871455, 0.009798708, 0.009844951, 0.009798648, 0.009855876, 0.009777957, 0.009876042, 0.009845342, 0.009851252, 0.009902904, 0.009783298, 0.009861211, 0.009871637, 0.009844797, 0.009876475, 0.009829652, 0.009798901, 0.009877201, 0.009860656, 0.009850143, 0.009778212, 0.009855787, 0.009850627, 0.009814777, 0.009793461, 0.009871549, 0.009819549, 0.009856098, 0.009803918, 0.009793564, 0.00978838, 0.009866434, 0.009923663, 0.009798626, 0.009770873, 0.009788707, 0.009799119, 0.009778212, 0.009772842, 0.00977823, 0.009819694, 0.009834609, 0.0098141, 0.0098559735, 0.009840799, 0.009803865, 0.00989208, 0.009850188, 0.009809087, 0.009830041, 0.009866039, 0.009808906, 0.009829997, 0.009918807, 0.009923952, 0.009778201, 0.009829443, 0.009913893, 0.009897012, 0.009866291, 0.009856518, 0.009788511, 0.009840185, 0.009809339, 0.009840362, 0.0097781755, 0.009783302, 0.009845338, 0.009778036, 0.00990255, 0.009814271, 0.009804326, 0.009809144, 0.009798871, 0.009824776, 0.009824132, 0.009834836, 0.009824736, 0.009809004, 0.009809104, 0.009798041, 0.009793608, 0.00979391, 0.010043348, 0.00981412, 0.009819699, 0.009762656, 0.00990278, 0.009798804, 0.009855784, 0.009808997, 0.009767846, 0.009892615]\n",
      "2021-02-19 13:11:28,508 : INFO : merging changes from 2000 documents into a model of 3204 documents\n",
      "2021-02-19 13:11:28,514 : INFO : topic #44 (0.010): 0.047*\"-\" + 0.040*\"gener\" + 0.040*\",\" + 0.034*\"number\" + 0.027*\"subroutin\" + 0.027*\"random\" + 0.027*\"bit\" + 0.027*\"languag\" + 0.020*\"syntax\" + 0.020*\"string\"\n",
      "2021-02-19 13:11:28,515 : INFO : topic #93 (0.010): 0.151*\"\"\" + 0.076*\"american\" + 0.076*\"/\" + 0.076*\"process\" + 0.076*\"inform\" + 0.076*\"compar\" + 0.076*\"standard\" + 0.038*\"propos\" + 0.038*\"analyz\" + 0.038*\"term\"\n",
      "2021-02-19 13:11:28,515 : INFO : topic #60 (0.010): 0.077*\",\" + 0.020*\"program\" + 0.020*\"comput\" + 0.015*\"languag\" + 0.012*\"system\" + 0.011*\"number\" + 0.010*\"inform\" + 0.010*\"gener\" + 0.010*\"data\" + 0.009*\"present\"\n",
      "2021-02-19 13:11:28,516 : INFO : topic #64 (0.010): 0.085*\",\" + 0.039*\"system\" + 0.036*\"program\" + 0.035*\"-\" + 0.024*\"comput\" + 0.020*\"oper\" + 0.015*\"input\" + 0.014*\"time\" + 0.011*\"languag\" + 0.010*\"compil\"\n",
      "2021-02-19 13:11:28,517 : INFO : topic #90 (0.010): 0.086*\",\" + 0.027*\"-\" + 0.027*\"program\" + 0.023*\"(\" + 0.022*\"languag\" + 0.018*\")\" + 0.014*\"comput\" + 0.013*\"data\" + 0.010*\"process\" + 0.009*\"algorithm\"\n",
      "2021-02-19 13:11:28,518 : INFO : topic diff=82.602020, rho=1.000000\n",
      "2021-02-19 13:11:29,494 : INFO : -7.300 per-word bound, 157.6 perplexity estimate based on a held-out corpus of 1204 documents with 49783 words\n",
      "2021-02-19 13:11:29,495 : INFO : PROGRESS: pass 0, at document #3204/3204\n",
      "2021-02-19 13:11:30,299 : INFO : optimized alpha [0.0097241765, 0.009901179, 0.009713991, 0.009917522, 0.01020642, 0.009712435, 0.009962482, 0.010014576, 0.009798995, 0.010199146, 0.009728291, 0.010016616, 0.009579693, 0.009922259, 0.010027838, 0.009933376, 0.0100634, 0.010080074, 0.010347729, 0.010085606, 0.009832568, 0.010189988, 0.009963403, 0.009910601, 0.010132768, 0.009883678, 0.009925432, 0.010374596, 0.0098498, 0.009855323, 0.009944531, 0.00982742, 0.009883917, 0.009872253, 0.009778322, 0.009992225, 0.009967952, 0.009911188, 0.010361678, 0.010102574, 0.009908332, 0.009659951, 0.01015216, 0.010106093, 0.00982566, 0.009621146, 0.009843166, 0.010043672, 0.009863074, 0.009730896, 0.010177048, 0.010221115, 0.009879656, 0.010092282, 0.009849568, 0.009926404, 0.010037394, 0.010054801, 0.009965792, 0.010041099, 0.010146178, 0.0104218125, 0.009697176, 0.009881905, 0.010225848, 0.010032177, 0.01000913, 0.0100068925, 0.009811207, 0.009880921, 0.009857268, 0.009947311, 0.009883779, 0.009793256, 0.010098399, 0.00971929, 0.010211872, 0.009836722, 0.010016286, 0.009768162, 0.010075516, 0.009954293, 0.009846335, 0.010009496, 0.009955827, 0.009808902, 0.010037022, 0.009957161, 0.009863973, 0.009882984, 0.0103020705, 0.009948198, 0.009967269, 0.009791376, 0.010081981, 0.009898317, 0.009890883, 0.009961328, 0.009902933, 0.010041956]\n",
      "2021-02-19 13:11:30,306 : INFO : merging changes from 1204 documents into a model of 3204 documents\n",
      "2021-02-19 13:11:30,312 : INFO : topic #45 (0.010): 0.375*\"match\" + 0.071*\"-\" + 0.068*\"1\" + 0.061*\"d1\" + 0.052*\"algorithm\" + 0.041*\"(\" + 0.035*\"[\" + 0.032*\"program\" + 0.030*\"f2\" + 0.030*\"symmetr\"\n",
      "2021-02-19 13:11:30,312 : INFO : topic #12 (0.010): 0.153*\")\" + 0.152*\"(\" + 0.077*\"algorithm\" + 0.059*\"propos\" + 0.053*\"fact\" + 0.047*\"part\" + 0.045*\"integr\" + 0.041*\"interchang\" + 0.034*\"d1\" + 0.030*\"inform\"\n",
      "2021-02-19 13:11:30,313 : INFO : topic #18 (0.010): 0.082*\",\" + 0.070*\"comput\" + 0.050*\"program\" + 0.039*\"scienc\" + 0.023*\"cours\" + 0.018*\"develop\" + 0.015*\"present\" + 0.014*\"discuss\" + 0.013*\"languag\" + 0.013*\":\"\n",
      "2021-02-19 13:11:30,313 : INFO : topic #27 (0.010): 0.148*\"]\" + 0.060*\",\" + 0.042*\"distribut\" + 0.039*\"correct\" + 0.037*\"term\" + 0.034*\"retriev\" + 0.028*\":\" + 0.028*\"expect\" + 0.026*\")\" + 0.025*\"subsequ\"\n",
      "2021-02-19 13:11:30,314 : INFO : topic #61 (0.010): 0.079*\",\" + 0.060*\"program\" + 0.032*\"languag\" + 0.022*\"structur\" + 0.020*\"-\" + 0.013*\"text\" + 0.012*\"comput\" + 0.011*\"problem\" + 0.009*\"implement\" + 0.009*\"(\"\n",
      "2021-02-19 13:11:30,315 : INFO : topic diff=0.731118, rho=0.707107\n",
      "2021-02-19 13:11:30,322 : INFO : PROGRESS: pass 1, at document #2000/3204\n",
      "2021-02-19 13:11:31,302 : INFO : optimized alpha [0.009791379, 0.009941063, 0.009694199, 0.00997144, 0.010131802, 0.009676211, 0.009911507, 0.009904422, 0.009751338, 0.010308163, 0.009697757, 0.009960022, 0.010091069, 0.009840774, 0.009954428, 0.009851775, 0.009997992, 0.010023632, 0.010378715, 0.0100358445, 0.009889538, 0.01011044, 0.00999271, 0.0098369345, 0.01004954, 0.009795241, 0.0098199835, 0.010294816, 0.009767759, 0.009925207, 0.009868024, 0.0098025035, 0.009814545, 0.009836878, 0.009728954, 0.009956664, 0.009979635, 0.009969362, 0.010303675, 0.010047287, 0.0098397285, 0.009701612, 0.01016786, 0.010095858, 0.009921723, 0.009599979, 0.009781657, 0.0100236535, 0.009977681, 0.009918851, 0.010150152, 0.010124648, 0.00987548, 0.009993415, 0.009801515, 0.009857591, 0.010028476, 0.009986536, 0.009971038, 0.009961965, 0.010085103, 0.010407371, 0.009641389, 0.009957063, 0.0102516515, 0.00995644, 0.00991504, 0.009932315, 0.009760257, 0.009876833, 0.009837585, 0.009873256, 0.009863307, 0.009752965, 0.010026035, 0.009763671, 0.010115314, 0.009764799, 0.009945882, 0.009715922, 0.009976393, 0.009933109, 0.010103956, 0.009944111, 0.009911098, 0.009714119, 0.010019778, 0.009866685, 0.009804377, 0.009839443, 0.010293713, 0.009932538, 0.009911476, 0.0099572195, 0.010008038, 0.009964067, 0.00992098, 0.010061965, 0.009916323, 0.009953201]\n"
     ]
    },
    {
     "name": "stderr",
     "output_type": "stream",
     "text": [
      "2021-02-19 13:11:31,308 : INFO : merging changes from 2000 documents into a model of 3204 documents\n",
      "2021-02-19 13:11:31,315 : INFO : topic #45 (0.010): 0.161*\"match\" + 0.076*\"[\" + 0.071*\"1\" + 0.068*\"algorithm\" + 0.059*\"(\" + 0.058*\"d1\" + 0.046*\"symmetr\" + 0.044*\"])\" + 0.043*\"-\" + 0.042*\"f2\"\n",
      "2021-02-19 13:11:31,316 : INFO : topic #62 (0.010): 0.098*\"alloc\" + 0.091*\"storag\" + 0.080*\"model\" + 0.052*\"memori\" + 0.037*\"statist\" + 0.029*\"-\" + 0.027*\"consid\" + 0.025*\"program\" + 0.024*\",\" + 0.023*\"'\"\n",
      "2021-02-19 13:11:31,317 : INFO : topic #9 (0.010): 0.147*\"algorithm\" + 0.109*\"(\" + 0.072*\")\" + 0.042*\"[\" + 0.029*\"order\" + 0.025*\"-\" + 0.023*\"complex\" + 0.023*\"real\" + 0.021*\"]\" + 0.021*\"tree\"\n",
      "2021-02-19 13:11:31,318 : INFO : topic #61 (0.010): 0.078*\",\" + 0.061*\"program\" + 0.039*\"languag\" + 0.020*\"-\" + 0.019*\"structur\" + 0.014*\"text\" + 0.012*\"comput\" + 0.010*\"problem\" + 0.008*\"(\" + 0.008*\"algol\"\n",
      "2021-02-19 13:11:31,318 : INFO : topic #18 (0.010): 0.084*\"comput\" + 0.082*\",\" + 0.054*\"program\" + 0.039*\"scienc\" + 0.021*\"cours\" + 0.018*\"develop\" + 0.016*\"discuss\" + 0.015*\"languag\" + 0.014*\"present\" + 0.013*\"recommend\"\n",
      "2021-02-19 13:11:31,319 : INFO : topic diff=0.309133, rho=0.526900\n",
      "2021-02-19 13:11:32,351 : INFO : -6.904 per-word bound, 119.8 perplexity estimate based on a held-out corpus of 1204 documents with 49783 words\n",
      "2021-02-19 13:11:32,351 : INFO : PROGRESS: pass 1, at document #3204/3204\n",
      "2021-02-19 13:11:33,281 : INFO : optimized alpha [0.009844367, 0.010161323, 0.00975776, 0.010138145, 0.010313443, 0.009704464, 0.010087263, 0.009958871, 0.0098877195, 0.010433181, 0.00978232, 0.010093085, 0.010493852, 0.009880644, 0.010103932, 0.009992723, 0.0100731775, 0.010255921, 0.010727731, 0.010204216, 0.009880717, 0.010313731, 0.01010997, 0.010030035, 0.010200427, 0.00983197, 0.009877649, 0.010825023, 0.009783384, 0.009954619, 0.009921072, 0.009958789, 0.009865408, 0.009877306, 0.009713988, 0.010141267, 0.0102149295, 0.010135402, 0.010653769, 0.010180569, 0.009952784, 0.009750967, 0.010564907, 0.010304395, 0.01000891, 0.009595804, 0.009870158, 0.01020458, 0.01010826, 0.009956366, 0.010469774, 0.010398481, 0.009967052, 0.0101293195, 0.009833934, 0.009980447, 0.010142591, 0.010158571, 0.010123405, 0.01015515, 0.010155937, 0.010666755, 0.009766183, 0.010106082, 0.010366728, 0.010009713, 0.010044384, 0.010062526, 0.0098346425, 0.009959677, 0.009913267, 0.010054841, 0.010025589, 0.009891518, 0.010210669, 0.009890023, 0.010338348, 0.009818403, 0.010086495, 0.009744864, 0.010338813, 0.010012187, 0.010175119, 0.010105344, 0.010142085, 0.009760503, 0.010207606, 0.010051679, 0.009949019, 0.009989317, 0.010390274, 0.01007215, 0.01004828, 0.010236683, 0.010097327, 0.010156846, 0.010022392, 0.010267938, 0.010144281, 0.010020344]\n",
      "2021-02-19 13:11:33,287 : INFO : merging changes from 1204 documents into a model of 3204 documents\n",
      "2021-02-19 13:11:33,292 : INFO : topic #45 (0.010): 0.231*\"match\" + 0.090*\"1\" + 0.074*\"eigenvalu\" + 0.072*\"[\" + 0.071*\"algorithm\" + 0.062*\"symmetr\" + 0.050*\"d1\" + 0.049*\"matrix\" + 0.045*\"(\" + 0.036*\"-\"\n",
      "2021-02-19 13:11:33,293 : INFO : topic #34 (0.010): 0.042*\"comput\" + 0.039*\",\" + 0.035*\"deviat\" + 0.034*\"algorithm\" + 0.029*\"pattern\" + 0.029*\"usual\" + 0.028*\"data\" + 0.027*\"statist\" + 0.026*\"(\" + 0.025*\"recognit\"\n",
      "2021-02-19 13:11:33,294 : INFO : topic #38 (0.011): 0.077*\"system\" + 0.054*\",\" + 0.037*\"data\" + 0.036*\"-\" + 0.029*\"perform\" + 0.022*\"time\" + 0.018*\"model\" + 0.016*\"program\" + 0.016*\"process\" + 0.014*\"cpu\"\n",
      "2021-02-19 13:11:33,294 : INFO : topic #18 (0.011): 0.092*\"comput\" + 0.089*\",\" + 0.057*\"program\" + 0.049*\"scienc\" + 0.026*\"cours\" + 0.019*\"develop\" + 0.018*\"discuss\" + 0.017*\"present\" + 0.015*\"educ\" + 0.015*\":\"\n",
      "2021-02-19 13:11:33,295 : INFO : topic #27 (0.011): 0.182*\"]\" + 0.058*\",\" + 0.045*\"retriev\" + 0.040*\"distribut\" + 0.036*\"term\" + 0.033*\"correct\" + 0.033*\"subsequ\" + 0.031*\"expect\" + 0.028*\":\" + 0.027*\"altern\"\n",
      "2021-02-19 13:11:33,296 : INFO : topic diff=0.413708, rho=0.526900\n",
      "2021-02-19 13:11:33,302 : INFO : PROGRESS: pass 2, at document #2000/3204\n",
      "2021-02-19 13:11:34,164 : INFO : optimized alpha [0.0099480525, 0.0102573605, 0.009764156, 0.010183308, 0.01023933, 0.00973517, 0.010062526, 0.009899456, 0.009882336, 0.010462357, 0.009757699, 0.010059636, 0.01158838, 0.009829013, 0.010048212, 0.00992306, 0.010009341, 0.0102038905, 0.010784924, 0.010180909, 0.009958873, 0.01024207, 0.010206609, 0.0099898, 0.010141193, 0.009786189, 0.009800773, 0.010763721, 0.0097296545, 0.010058201, 0.0098668635, 0.009963799, 0.0098265875, 0.009893815, 0.009693009, 0.010115645, 0.010261666, 0.010209782, 0.010600619, 0.010150861, 0.009927539, 0.00985456, 0.010607243, 0.010286356, 0.010153237, 0.009636993, 0.009842201, 0.010212233, 0.010261448, 0.010161515, 0.010484894, 0.010332514, 0.009984286, 0.010044612, 0.009799809, 0.009919783, 0.01014891, 0.010138151, 0.010143386, 0.010124671, 0.010119731, 0.010669446, 0.009767544, 0.0101762945, 0.01042164, 0.009944481, 0.009966387, 0.010006376, 0.009829815, 0.009984242, 0.009950082, 0.010009874, 0.010077175, 0.009922806, 0.010138349, 0.010035857, 0.010280814, 0.009784123, 0.01004314, 0.009716483, 0.010260974, 0.009996231, 0.010686821, 0.010070533, 0.01017012, 0.009729566, 0.010229446, 0.009977996, 0.009975396, 0.009997143, 0.01039267, 0.010061804, 0.010017612, 0.01048878, 0.010047063, 0.010266761, 0.010077313, 0.010409569, 0.010185448, 0.009953027]\n",
      "2021-02-19 13:11:34,170 : INFO : merging changes from 2000 documents into a model of 3204 documents\n",
      "2021-02-19 13:11:34,177 : INFO : topic #34 (0.010): 0.052*\"comput\" + 0.039*\",\" + 0.032*\"statist\" + 0.031*\"digit\" + 0.029*\"usual\" + 0.029*\"deviat\" + 0.026*\"algorithm\" + 0.026*\"data\" + 0.023*\"recognit\" + 0.023*\"adapt\"\n",
      "2021-02-19 13:11:34,178 : INFO : topic #45 (0.010): 0.149*\"match\" + 0.082*\"1\" + 0.077*\"eigenvalu\" + 0.073*\"symmetr\" + 0.070*\"[\" + 0.066*\"algorithm\" + 0.057*\"matrix\" + 0.057*\"d1\" + 0.053*\"real\" + 0.046*\"(\"\n",
      "2021-02-19 13:11:34,178 : INFO : topic #27 (0.011): 0.147*\"]\" + 0.062*\",\" + 0.054*\"retriev\" + 0.035*\"distribut\" + 0.034*\"expect\" + 0.032*\"inform\" + 0.032*\"term\" + 0.028*\":\" + 0.028*\"correct\" + 0.027*\"subsequ\"\n",
      "2021-02-19 13:11:34,179 : INFO : topic #18 (0.011): 0.102*\"comput\" + 0.090*\",\" + 0.060*\"program\" + 0.047*\"scienc\" + 0.024*\"cours\" + 0.020*\"discuss\" + 0.019*\"develop\" + 0.017*\"present\" + 0.016*\"recommend\" + 0.015*\"educ\"\n",
      "2021-02-19 13:11:34,180 : INFO : topic #12 (0.012): 0.328*\")\" + 0.326*\"(\" + 0.194*\"algorithm\" + 0.041*\"integr\" + 0.016*\"tape\" + 0.016*\"interchang\" + 0.015*\"propos\" + 0.008*\"part\" + 0.008*\"magnet\" + 0.007*\"standard\"\n",
      "2021-02-19 13:11:34,180 : INFO : topic diff=0.390964, rho=0.466151\n",
      "2021-02-19 13:11:35,058 : INFO : -6.783 per-word bound, 110.1 perplexity estimate based on a held-out corpus of 1204 documents with 49783 words\n",
      "2021-02-19 13:11:35,058 : INFO : PROGRESS: pass 2, at document #3204/3204\n",
      "2021-02-19 13:11:35,777 : INFO : optimized alpha [0.010021524, 0.010474403, 0.009867185, 0.010323746, 0.010401343, 0.009810022, 0.01021928, 0.009972395, 0.010019118, 0.010535964, 0.009886766, 0.010173987, 0.012475272, 0.009877113, 0.010185164, 0.010095518, 0.010077038, 0.010415437, 0.0110745, 0.010350973, 0.009989883, 0.010422953, 0.010362311, 0.010185765, 0.010287793, 0.009843079, 0.009880204, 0.0112422295, 0.009768425, 0.0101265805, 0.0099188695, 0.010168996, 0.009915519, 0.009953553, 0.009731055, 0.010315731, 0.010448365, 0.010385173, 0.010873629, 0.010253615, 0.010040276, 0.009947933, 0.010930408, 0.0104355095, 0.010265194, 0.009660372, 0.009952255, 0.010389494, 0.010420121, 0.010196197, 0.010822607, 0.010666637, 0.0101012, 0.010169805, 0.009841959, 0.010072027, 0.010234205, 0.010323228, 0.010286637, 0.010336516, 0.01019544, 0.010863446, 0.009974519, 0.010360221, 0.010515338, 0.010036236, 0.010113102, 0.010142167, 0.00992683, 0.01009289, 0.010017136, 0.010215446, 0.010276799, 0.010096395, 0.0103028985, 0.010214372, 0.010491818, 0.0098328395, 0.010172356, 0.009766333, 0.010639796, 0.010070766, 0.010814593, 0.010218228, 0.010397064, 0.009794866, 0.010424845, 0.010150849, 0.010111731, 0.010204801, 0.010486796, 0.010205603, 0.010170849, 0.010856247, 0.0101664895, 0.010470614, 0.010190978, 0.010613856, 0.010417294, 0.0100057805]\n",
      "2021-02-19 13:11:35,783 : INFO : merging changes from 1204 documents into a model of 3204 documents\n"
     ]
    },
    {
     "name": "stderr",
     "output_type": "stream",
     "text": [
      "2021-02-19 13:11:35,788 : INFO : topic #45 (0.010): 0.202*\"match\" + 0.088*\"eigenvalu\" + 0.081*\"symmetr\" + 0.080*\"1\" + 0.067*\"algorithm\" + 0.066*\"real\" + 0.065*\"[\" + 0.058*\"d1\" + 0.058*\"matrix\" + 0.034*\"(\"\n",
      "2021-02-19 13:11:35,789 : INFO : topic #28 (0.010): 0.054*\"-\" + 0.049*\",\" + 0.041*\"paramet\" + 0.037*\"length\" + 0.022*\"comput\" + 0.022*\"method\" + 0.021*\"word\" + 0.019*\"item\" + 0.018*\"valu\" + 0.018*\"basic\"\n",
      "2021-02-19 13:11:35,790 : INFO : topic #18 (0.011): 0.104*\"comput\" + 0.096*\",\" + 0.057*\"program\" + 0.054*\"scienc\" + 0.028*\"cours\" + 0.019*\"discuss\" + 0.018*\"educ\" + 0.018*\"present\" + 0.017*\"develop\" + 0.016*\"curriculum\"\n",
      "2021-02-19 13:11:35,791 : INFO : topic #27 (0.011): 0.214*\"]\" + 0.056*\"retriev\" + 0.054*\",\" + 0.037*\"subsequ\" + 0.037*\"expect\" + 0.036*\"altern\" + 0.036*\"term\" + 0.030*\"inform\" + 0.027*\":\" + 0.027*\"distribut\"\n",
      "2021-02-19 13:11:35,792 : INFO : topic #12 (0.012): 0.363*\")\" + 0.353*\"(\" + 0.185*\"algorithm\" + 0.032*\"integr\" + 0.010*\"propos\" + 0.010*\"interchang\" + 0.008*\"tape\" + 0.006*\"part\" + 0.004*\"magnet\" + 0.004*\"standard\"\n",
      "2021-02-19 13:11:35,793 : INFO : topic diff=0.517666, rho=0.466151\n",
      "2021-02-19 13:11:35,803 : INFO : PROGRESS: pass 3, at document #2000/3204\n",
      "2021-02-19 13:11:36,625 : INFO : optimized alpha [0.010141798, 0.010568164, 0.009883633, 0.010386591, 0.010336223, 0.009867444, 0.010215889, 0.009932528, 0.010039373, 0.010564884, 0.009870563, 0.0101590585, 0.013826766, 0.009846419, 0.010149695, 0.010046862, 0.010024681, 0.010375745, 0.0111344205, 0.010346802, 0.010078153, 0.0103551075, 0.0104702385, 0.010169944, 0.010256059, 0.009815365, 0.009813958, 0.011199351, 0.009725498, 0.010255393, 0.009873311, 0.0102024665, 0.009915013, 0.010000733, 0.009760797, 0.010313045, 0.010510165, 0.010458948, 0.01082792, 0.010235803, 0.010051622, 0.01008922, 0.011001673, 0.0104209455, 0.010406263, 0.009698458, 0.0099377595, 0.010411313, 0.010582543, 0.010395265, 0.010870811, 0.010616735, 0.010125333, 0.010093596, 0.009835443, 0.010021089, 0.0102532795, 0.010319121, 0.010323779, 0.010327269, 0.010169982, 0.010890765, 0.010008751, 0.010440957, 0.010587946, 0.009999306, 0.010081153, 0.0101087, 0.009939538, 0.010121522, 0.010078773, 0.010199519, 0.010392589, 0.0101584885, 0.010237037, 0.010395844, 0.010449552, 0.009823959, 0.010146117, 0.009749973, 0.010575947, 0.010065453, 0.011317541, 0.010192856, 0.010481542, 0.009780321, 0.010481503, 0.010081405, 0.010208652, 0.010247583, 0.010500459, 0.010204326, 0.0101575935, 0.011122075, 0.010140592, 0.010604108, 0.010262657, 0.01078178, 0.010462351, 0.009948634]\n",
      "2021-02-19 13:11:36,631 : INFO : merging changes from 2000 documents into a model of 3204 documents\n",
      "2021-02-19 13:11:36,639 : INFO : topic #28 (0.010): 0.060*\"-\" + 0.046*\",\" + 0.037*\"paramet\" + 0.035*\"length\" + 0.026*\"word\" + 0.026*\"method\" + 0.024*\"comput\" + 0.019*\"item\" + 0.018*\"basic\" + 0.017*\"valu\"\n",
      "2021-02-19 13:11:36,640 : INFO : topic #45 (0.010): 0.152*\"match\" + 0.089*\"eigenvalu\" + 0.088*\"symmetr\" + 0.079*\"1\" + 0.078*\"real\" + 0.064*\"d1\" + 0.063*\"matrix\" + 0.060*\"[\" + 0.060*\"algorithm\" + 0.042*\"eigenvector\"\n",
      "2021-02-19 13:11:36,641 : INFO : topic #27 (0.011): 0.175*\"]\" + 0.067*\"retriev\" + 0.058*\",\" + 0.040*\"expect\" + 0.036*\"inform\" + 0.033*\"altern\" + 0.032*\"term\" + 0.032*\"subsequ\" + 0.029*\"gain\" + 0.028*\":\"\n",
      "2021-02-19 13:11:36,642 : INFO : topic #82 (0.011): 0.224*\"[\" + 0.193*\"algorithm\" + 0.173*\"])\" + 0.173*\"(\" + 0.047*\"function\" + 0.020*\"-\" + 0.017*\"copi\" + 0.016*\"s14\" + 0.011*\"e4\" + 0.009*\"legendr\"\n",
      "2021-02-19 13:11:36,643 : INFO : topic #12 (0.014): 0.358*\")\" + 0.353*\"(\" + 0.193*\"algorithm\" + 0.032*\"integr\" + 0.011*\"interchang\" + 0.009*\"tape\" + 0.008*\"propos\" + 0.006*\"magnet\" + 0.005*\"usa\" + 0.005*\"part\"\n",
      "2021-02-19 13:11:36,644 : INFO : topic diff=0.529327, rho=0.422502\n",
      "2021-02-19 13:11:37,867 : INFO : -6.700 per-word bound, 104.0 perplexity estimate based on a held-out corpus of 1204 documents with 49783 words\n",
      "2021-02-19 13:11:37,867 : INFO : PROGRESS: pass 3, at document #3204/3204\n",
      "2021-02-19 13:11:38,878 : INFO : optimized alpha [0.010233038, 0.010774698, 0.009995272, 0.010503409, 0.010510045, 0.009939202, 0.010369963, 0.010014099, 0.010181736, 0.010662273, 0.009992227, 0.010270594, 0.015048958, 0.009912044, 0.010282149, 0.010225921, 0.010091036, 0.010562143, 0.011381452, 0.010505977, 0.01014524, 0.010520347, 0.01061618, 0.010342205, 0.010390092, 0.009874974, 0.009900838, 0.011644148, 0.009779406, 0.010338391, 0.009935623, 0.010412298, 0.010024762, 0.010055138, 0.00980277, 0.010514193, 0.010681028, 0.010604262, 0.011090032, 0.010326267, 0.010165278, 0.010223784, 0.011335658, 0.01053481, 0.010500224, 0.00973716, 0.010059684, 0.010569894, 0.010745578, 0.010439686, 0.011199276, 0.010913406, 0.01027154, 0.010229599, 0.009912714, 0.010167362, 0.010342085, 0.010510357, 0.010476181, 0.010547142, 0.010257479, 0.011068282, 0.010227237, 0.010668409, 0.010669202, 0.010126217, 0.010229648, 0.010243582, 0.01005268, 0.010234867, 0.010168225, 0.010409535, 0.010612017, 0.010363739, 0.010380369, 0.010595867, 0.010631619, 0.009879595, 0.010264193, 0.009816868, 0.010952811, 0.010133833, 0.011474731, 0.01032428, 0.010701539, 0.009868245, 0.010671711, 0.0102501, 0.010357955, 0.010452311, 0.010609005, 0.010346178, 0.010323085, 0.011505736, 0.010278618, 0.010798395, 0.01039534, 0.011011011, 0.010667801, 0.009987141]\n",
      "2021-02-19 13:11:38,884 : INFO : merging changes from 1204 documents into a model of 3204 documents\n",
      "2021-02-19 13:11:38,891 : INFO : topic #45 (0.010): 0.201*\"match\" + 0.096*\"symmetr\" + 0.094*\"eigenvalu\" + 0.086*\"real\" + 0.074*\"1\" + 0.063*\"d1\" + 0.061*\"matrix\" + 0.060*\"algorithm\" + 0.054*\"[\" + 0.032*\"eigenvector\"\n",
      "2021-02-19 13:11:38,892 : INFO : topic #28 (0.010): 0.057*\"-\" + 0.050*\",\" + 0.047*\"paramet\" + 0.035*\"length\" + 0.024*\"word\" + 0.024*\"method\" + 0.022*\"item\" + 0.022*\"comput\" + 0.020*\"valu\" + 0.018*\"basic\"\n",
      "2021-02-19 13:11:38,893 : INFO : topic #93 (0.012): 0.563*\"\"\" + 0.129*\"inform\" + 0.107*\"standard\" + 0.060*\"process\" + 0.052*\"propos\" + 0.039*\"american\" + 0.014*\"compar\" + 0.014*\"/\" + 0.006*\"analyz\" + 0.004*\"term\"\n",
      "2021-02-19 13:11:38,894 : INFO : topic #27 (0.012): 0.233*\"]\" + 0.069*\"retriev\" + 0.051*\",\" + 0.044*\"altern\" + 0.041*\"expect\" + 0.041*\"subsequ\" + 0.036*\"term\" + 0.035*\"inform\" + 0.027*\"gain\" + 0.026*\"verifi\"\n",
      "2021-02-19 13:11:38,895 : INFO : topic #12 (0.015): 0.380*\")\" + 0.369*\"(\" + 0.183*\"algorithm\" + 0.026*\"integr\" + 0.008*\"interchang\" + 0.006*\"propos\" + 0.005*\"tape\" + 0.004*\"part\" + 0.003*\"magnet\" + 0.003*\"usa\"\n",
      "2021-02-19 13:11:38,896 : INFO : topic diff=0.644871, rho=0.422502\n",
      "2021-02-19 13:11:38,905 : INFO : PROGRESS: pass 4, at document #2000/3204\n",
      "2021-02-19 13:11:39,695 : INFO : optimized alpha [0.010357133, 0.010871908, 0.01002215, 0.010582218, 0.010457845, 0.010017959, 0.010376616, 0.009999728, 0.010198202, 0.010718183, 0.0099811535, 0.010267129, 0.016582837, 0.0098885065, 0.01025349, 0.010194404, 0.010041928, 0.01053706, 0.011440372, 0.010505615, 0.0102451, 0.010457458, 0.010749532, 0.01033519, 0.010373057, 0.009861876, 0.009846487, 0.011613334, 0.009750498, 0.010492824, 0.0098927, 0.010462815, 0.010044215, 0.010105127, 0.009861601, 0.010516817, 0.01074418, 0.010674446, 0.011063437, 0.010318405, 0.010171904, 0.010381815, 0.011406826, 0.010531826, 0.010635829, 0.009786115, 0.010062041, 0.010589652, 0.010903624, 0.010627761, 0.011266603, 0.010875578, 0.010329619, 0.010173649, 0.00993443, 0.0101361275, 0.010368052, 0.010513841, 0.010524255, 0.010549832, 0.010248641, 0.011108314, 0.010284133, 0.010773841, 0.010755775, 0.010106101, 0.01022188, 0.010218645, 0.010076123, 0.010263215, 0.010255252, 0.010416219, 0.010761064, 0.010424791, 0.010317609, 0.010780781, 0.010593887, 0.009879927, 0.010236072, 0.00982547, 0.010909238, 0.010129577, 0.011955427, 0.010310887, 0.010817478, 0.009868796, 0.0107488, 0.010197747, 0.010492493, 0.010511663, 0.010632291, 0.010350768, 0.010316445, 0.011778817, 0.010266731, 0.010946051, 0.010477972, 0.011183202, 0.010712994, 0.009943985]\n",
      "2021-02-19 13:11:39,701 : INFO : merging changes from 2000 documents into a model of 3204 documents\n",
      "2021-02-19 13:11:39,707 : INFO : topic #28 (0.010): 0.063*\"-\" + 0.047*\",\" + 0.043*\"paramet\" + 0.034*\"length\" + 0.030*\"word\" + 0.027*\"method\" + 0.024*\"item\" + 0.023*\"comput\" + 0.019*\"basic\" + 0.019*\"valu\"\n"
     ]
    },
    {
     "name": "stderr",
     "output_type": "stream",
     "text": [
      "2021-02-19 13:11:39,708 : INFO : topic #45 (0.010): 0.159*\"match\" + 0.103*\"real\" + 0.102*\"symmetr\" + 0.095*\"eigenvalu\" + 0.076*\"1\" + 0.067*\"d1\" + 0.066*\"matrix\" + 0.052*\"algorithm\" + 0.047*\"[\" + 0.043*\"eigenvector\"\n",
      "2021-02-19 13:11:39,709 : INFO : topic #93 (0.012): 0.515*\"\"\" + 0.130*\"inform\" + 0.129*\"standard\" + 0.065*\"propos\" + 0.065*\"process\" + 0.050*\"american\" + 0.012*\"compar\" + 0.011*\"/\" + 0.005*\"analyz\" + 0.004*\"term\"\n",
      "2021-02-19 13:11:39,709 : INFO : topic #82 (0.012): 0.246*\"[\" + 0.196*\"algorithm\" + 0.181*\"(\" + 0.176*\"])\" + 0.043*\"function\" + 0.020*\"-\" + 0.017*\"copi\" + 0.016*\"s14\" + 0.011*\"s15\" + 0.010*\"e4\"\n",
      "2021-02-19 13:11:39,710 : INFO : topic #12 (0.017): 0.373*\")\" + 0.366*\"(\" + 0.189*\"algorithm\" + 0.026*\"integr\" + 0.010*\"interchang\" + 0.006*\"magnet\" + 0.006*\"tape\" + 0.004*\"propos\" + 0.004*\"usa\" + 0.003*\"part\"\n",
      "2021-02-19 13:11:39,711 : INFO : topic diff=0.626396, rho=0.389191\n",
      "2021-02-19 13:11:40,570 : INFO : -6.640 per-word bound, 99.7 perplexity estimate based on a held-out corpus of 1204 documents with 49783 words\n",
      "2021-02-19 13:11:40,571 : INFO : PROGRESS: pass 4, at document #3204/3204\n",
      "2021-02-19 13:11:41,281 : INFO : optimized alpha [0.010444655, 0.011078826, 0.010161864, 0.0107011115, 0.010640056, 0.010110532, 0.010526461, 0.01008551, 0.010336993, 0.010868043, 0.010100711, 0.010350558, 0.018018631, 0.009962894, 0.010366688, 0.010370984, 0.010117459, 0.010731101, 0.0116559295, 0.010657058, 0.010316956, 0.010614396, 0.01089529, 0.01050219, 0.01050794, 0.0099371765, 0.009940466, 0.0120479595, 0.009817212, 0.010589391, 0.009957693, 0.010689132, 0.01017263, 0.010158949, 0.009926428, 0.010734853, 0.010892487, 0.010791834, 0.011286096, 0.010409662, 0.010307249, 0.010554001, 0.011739831, 0.010633995, 0.01070488, 0.009834826, 0.0101720905, 0.0107301725, 0.01106547, 0.010670959, 0.011590788, 0.011192124, 0.010489138, 0.010306853, 0.010055178, 0.010288523, 0.010457177, 0.010719389, 0.0106829535, 0.01076527, 0.0103333155, 0.01126977, 0.010488402, 0.01103217, 0.010838034, 0.010247268, 0.010379963, 0.010337249, 0.01019438, 0.010378422, 0.010361411, 0.010642533, 0.010997802, 0.010623152, 0.010433817, 0.010988478, 0.0107701095, 0.009935311, 0.010345776, 0.009887711, 0.011303088, 0.010193263, 0.012118842, 0.010436295, 0.011058861, 0.009970024, 0.010911968, 0.010368169, 0.0106275985, 0.01071303, 0.010747225, 0.010519384, 0.010473808, 0.012159593, 0.010415339, 0.01114465, 0.01060106, 0.011405197, 0.0109079825, 0.010006909]\n",
      "2021-02-19 13:11:41,288 : INFO : merging changes from 1204 documents into a model of 3204 documents\n",
      "2021-02-19 13:11:41,296 : INFO : topic #45 (0.010): 0.203*\"match\" + 0.114*\"real\" + 0.111*\"symmetr\" + 0.097*\"eigenvalu\" + 0.064*\"matrix\" + 0.064*\"d1\" + 0.063*\"1\" + 0.052*\"algorithm\" + 0.040*\"[\" + 0.033*\"eigenvector\"\n",
      "2021-02-19 13:11:41,296 : INFO : topic #28 (0.010): 0.060*\"-\" + 0.055*\"paramet\" + 0.051*\",\" + 0.033*\"length\" + 0.027*\"item\" + 0.026*\"word\" + 0.024*\"method\" + 0.021*\"comput\" + 0.021*\"valu\" + 0.019*\"amount\"\n",
      "2021-02-19 13:11:41,297 : INFO : topic #82 (0.012): 0.282*\"[\" + 0.198*\"algorithm\" + 0.169*\"(\" + 0.135*\"])\" + 0.043*\"function\" + 0.029*\"copi\" + 0.021*\"-\" + 0.017*\"s14\" + 0.011*\"e4\" + 0.010*\"legendr\"\n",
      "2021-02-19 13:11:41,298 : INFO : topic #93 (0.012): 0.585*\"\"\" + 0.124*\"inform\" + 0.104*\"standard\" + 0.058*\"process\" + 0.054*\"propos\" + 0.038*\"american\" + 0.010*\"compar\" + 0.009*\"/\" + 0.005*\"analyz\" + 0.003*\"term\"\n",
      "2021-02-19 13:11:41,299 : INFO : topic #12 (0.018): 0.390*\")\" + 0.379*\"(\" + 0.178*\"algorithm\" + 0.021*\"integr\" + 0.007*\"interchang\" + 0.004*\"tape\" + 0.003*\"magnet\" + 0.003*\"propos\" + 0.003*\"part\" + 0.003*\"usa\"\n",
      "2021-02-19 13:11:41,300 : INFO : topic diff=0.693727, rho=0.389191\n",
      "2021-02-19 13:11:41,307 : INFO : PROGRESS: pass 5, at document #2000/3204\n",
      "2021-02-19 13:11:42,092 : INFO : optimized alpha [0.010569238, 0.011176017, 0.010199884, 0.01076745, 0.010590667, 0.010206853, 0.010545715, 0.010085395, 0.010363426, 0.010941922, 0.0100995125, 0.010342112, 0.01973078, 0.0099470485, 0.010351558, 0.010350347, 0.010074399, 0.01071279, 0.011729703, 0.010656437, 0.010429668, 0.010557509, 0.011037095, 0.010512388, 0.010503658, 0.009931001, 0.009893943, 0.012025954, 0.009808884, 0.01076624, 0.009918567, 0.010753207, 0.010203847, 0.010215468, 0.010001856, 0.010736145, 0.010959435, 0.010863573, 0.011249687, 0.010402697, 0.01034154, 0.010751853, 0.011822287, 0.010627518, 0.010846243, 0.009879245, 0.010191083, 0.010760198, 0.011236818, 0.01085838, 0.011680382, 0.011166467, 0.010585258, 0.010262305, 0.010092033, 0.010264638, 0.010477815, 0.010737578, 0.0107375, 0.010782484, 0.010340643, 0.01130687, 0.010558514, 0.011134889, 0.01094561, 0.010237749, 0.0103819, 0.010329299, 0.0102256285, 0.010408766, 0.010450947, 0.010669256, 0.011170817, 0.010687683, 0.010379523, 0.0111799985, 0.010740123, 0.00993628, 0.010319722, 0.009907001, 0.011264749, 0.0101842405, 0.012581573, 0.010435151, 0.011196468, 0.009978026, 0.011004089, 0.010326455, 0.010781766, 0.010775986, 0.010771089, 0.0105328215, 0.010463428, 0.012422203, 0.01041166, 0.011312543, 0.01068071, 0.011572526, 0.010947922, 0.009976844]\n",
      "2021-02-19 13:11:42,098 : INFO : merging changes from 2000 documents into a model of 3204 documents\n",
      "2021-02-19 13:11:42,104 : INFO : topic #28 (0.010): 0.065*\"-\" + 0.051*\"paramet\" + 0.048*\",\" + 0.034*\"word\" + 0.032*\"length\" + 0.031*\"item\" + 0.026*\"method\" + 0.022*\"comput\" + 0.020*\"basic\" + 0.019*\"valu\"\n",
      "2021-02-19 13:11:42,105 : INFO : topic #25 (0.010): 0.177*\"parallel\" + 0.072*\"process\" + 0.051*\"-\" + 0.043*\"disciplin\" + 0.042*\"comput\" + 0.031*\"serial\" + 0.026*\"techniqu\" + 0.024*\",\" + 0.023*\"stage\" + 0.022*\"procedur\"\n",
      "2021-02-19 13:11:42,107 : INFO : topic #93 (0.012): 0.539*\"\"\" + 0.124*\"inform\" + 0.123*\"standard\" + 0.066*\"propos\" + 0.062*\"process\" + 0.049*\"american\" + 0.009*\"compar\" + 0.008*\"/\" + 0.005*\"analyz\" + 0.003*\"term\"\n",
      "2021-02-19 13:11:42,107 : INFO : topic #82 (0.013): 0.260*\"[\" + 0.197*\"algorithm\" + 0.186*\"(\" + 0.177*\"])\" + 0.037*\"function\" + 0.020*\"-\" + 0.017*\"copi\" + 0.016*\"s14\" + 0.012*\"s15\" + 0.010*\"e4\"\n",
      "2021-02-19 13:11:42,108 : INFO : topic #12 (0.020): 0.383*\")\" + 0.376*\"(\" + 0.184*\"algorithm\" + 0.021*\"integr\" + 0.008*\"interchang\" + 0.005*\"magnet\" + 0.005*\"tape\" + 0.004*\"usa\" + 0.003*\"part\" + 0.003*\"propos\"\n",
      "2021-02-19 13:11:42,109 : INFO : topic diff=0.634211, rho=0.362690\n",
      "2021-02-19 13:11:43,031 : INFO : -6.598 per-word bound, 96.9 perplexity estimate based on a held-out corpus of 1204 documents with 49783 words\n",
      "2021-02-19 13:11:43,032 : INFO : PROGRESS: pass 5, at document #3204/3204\n",
      "2021-02-19 13:11:43,951 : INFO : optimized alpha [0.010657291, 0.011391551, 0.010337642, 0.010915045, 0.010765605, 0.0103215175, 0.010683426, 0.010166137, 0.010497104, 0.011132719, 0.010211992, 0.010420732, 0.021338034, 0.010026351, 0.010467558, 0.010532436, 0.010136662, 0.010921459, 0.011921974, 0.01080218, 0.01050618, 0.010721248, 0.011170616, 0.010688701, 0.010643621, 0.010014207, 0.0099975355, 0.012458758, 0.009877847, 0.0108822305, 0.009974172, 0.010980455, 0.010343418, 0.0102690775, 0.010074735, 0.010958112, 0.0111054825, 0.010970357, 0.01146986, 0.01049199, 0.010478301, 0.010956996, 0.012149896, 0.010723503, 0.010933132, 0.009925024, 0.010300688, 0.010908654, 0.011395564, 0.010897603, 0.012014427, 0.011470078, 0.010777239, 0.010393909, 0.010233314, 0.010420549, 0.01056475, 0.0109281475, 0.010896466, 0.011008753, 0.010451839, 0.011462158, 0.010761256, 0.011434225, 0.011029075, 0.010401933, 0.010536857, 0.010456542, 0.010336816, 0.010513771, 0.010559855, 0.010896152, 0.011408814, 0.01087492, 0.01047624, 0.0113763735, 0.01090586, 0.010000733, 0.010429246, 0.009950677, 0.011640405, 0.010259946, 0.012744961, 0.010543623, 0.011442826, 0.010082396, 0.011160805, 0.0104901325, 0.010924686, 0.0109756915, 0.01087571, 0.010713874, 0.010611529, 0.012787956, 0.010548381, 0.011493148, 0.010799472, 0.011803464, 0.011144982, 0.010039613]\n",
      "2021-02-19 13:11:43,957 : INFO : merging changes from 1204 documents into a model of 3204 documents\n",
      "2021-02-19 13:11:43,963 : INFO : topic #45 (0.010): 0.208*\"match\" + 0.136*\"real\" + 0.122*\"symmetr\" + 0.101*\"eigenvalu\" + 0.069*\"d1\" + 0.068*\"matrix\" + 0.046*\"algorithm\" + 0.043*\"1\" + 0.035*\"eigenvector\" + 0.028*\"[\"\n",
      "2021-02-19 13:11:43,964 : INFO : topic #28 (0.010): 0.062*\"-\" + 0.061*\"paramet\" + 0.052*\",\" + 0.032*\"length\" + 0.031*\"item\" + 0.029*\"word\" + 0.023*\"method\" + 0.022*\"amount\" + 0.021*\"valu\" + 0.021*\"comput\"\n"
     ]
    },
    {
     "name": "stderr",
     "output_type": "stream",
     "text": [
      "2021-02-19 13:11:43,965 : INFO : topic #82 (0.013): 0.294*\"[\" + 0.199*\"algorithm\" + 0.174*\"(\" + 0.139*\"])\" + 0.037*\"function\" + 0.028*\"copi\" + 0.021*\"-\" + 0.017*\"s14\" + 0.011*\"e4\" + 0.010*\"s15\"\n",
      "2021-02-19 13:11:43,966 : INFO : topic #93 (0.013): 0.605*\"\"\" + 0.113*\"inform\" + 0.101*\"standard\" + 0.056*\"propos\" + 0.056*\"process\" + 0.038*\"american\" + 0.007*\"compar\" + 0.006*\"/\" + 0.004*\"analyz\" + 0.002*\"term\"\n",
      "2021-02-19 13:11:43,966 : INFO : topic #12 (0.021): 0.396*\")\" + 0.385*\"(\" + 0.174*\"algorithm\" + 0.018*\"integr\" + 0.006*\"interchang\" + 0.003*\"magnet\" + 0.003*\"tape\" + 0.003*\"part\" + 0.002*\"usa\" + 0.002*\"propos\"\n",
      "2021-02-19 13:11:43,967 : INFO : topic diff=0.661689, rho=0.362690\n",
      "2021-02-19 13:11:43,977 : INFO : PROGRESS: pass 6, at document #2000/3204\n",
      "2021-02-19 13:11:44,815 : INFO : optimized alpha [0.010792251, 0.0114873275, 0.010382317, 0.010996621, 0.010724173, 0.010430867, 0.01070145, 0.010169904, 0.010530866, 0.011198504, 0.010209246, 0.010420441, 0.023188427, 0.010017028, 0.010455216, 0.010508719, 0.010102368, 0.010901361, 0.011995432, 0.010801401, 0.010624202, 0.010669225, 0.011311442, 0.010714385, 0.010639464, 0.010015598, 0.009962761, 0.012440461, 0.00986545, 0.011068075, 0.009946859, 0.011050027, 0.010374678, 0.010326361, 0.0101620415, 0.010963812, 0.011172532, 0.011040206, 0.0114365835, 0.010489439, 0.010521402, 0.011186647, 0.01223945, 0.0107251145, 0.011082731, 0.009974058, 0.010329212, 0.010942437, 0.0115669295, 0.011082024, 0.012119298, 0.011451649, 0.010888628, 0.010355601, 0.010282075, 0.010406635, 0.010599113, 0.010954107, 0.010949625, 0.011031638, 0.010476824, 0.011489163, 0.010827446, 0.011539166, 0.011137169, 0.010401479, 0.010541974, 0.010448943, 0.010366347, 0.010547867, 0.010653892, 0.010929887, 0.011599808, 0.010948693, 0.010429319, 0.011544186, 0.010879097, 0.010003829, 0.010405006, 0.00997969, 0.011614931, 0.010257179, 0.013207827, 0.0105536375, 0.011609749, 0.01009179, 0.011257642, 0.010472268, 0.011082969, 0.011034937, 0.010890774, 0.010729725, 0.010605147, 0.013048247, 0.010544754, 0.011661472, 0.010884388, 0.01195721, 0.011178397, 0.010024252]\n",
      "2021-02-19 13:11:44,821 : INFO : merging changes from 2000 documents into a model of 3204 documents\n",
      "2021-02-19 13:11:44,827 : INFO : topic #28 (0.010): 0.066*\"-\" + 0.056*\"paramet\" + 0.051*\",\" + 0.039*\"word\" + 0.035*\"item\" + 0.030*\"length\" + 0.023*\"method\" + 0.021*\"comput\" + 0.021*\"basic\" + 0.020*\"full\"\n",
      "2021-02-19 13:11:44,828 : INFO : topic #30 (0.010): 0.069*\",\" + 0.046*\"-\" + 0.046*\"comput\" + 0.045*\"termin\" + 0.037*\"point\" + 0.033*\"detect\" + 0.030*\"rectangular\" + 0.028*\"6\" + 0.026*\"intersect\" + 0.024*\"arrang\"\n",
      "2021-02-19 13:11:44,829 : INFO : topic #93 (0.013): 0.558*\"\"\" + 0.119*\"standard\" + 0.116*\"inform\" + 0.069*\"propos\" + 0.060*\"process\" + 0.048*\"american\" + 0.007*\"compar\" + 0.005*\"/\" + 0.004*\"analyz\" + 0.002*\"term\"\n",
      "2021-02-19 13:11:44,829 : INFO : topic #82 (0.013): 0.267*\"[\" + 0.198*\"algorithm\" + 0.190*\"(\" + 0.175*\"])\" + 0.034*\"function\" + 0.020*\"-\" + 0.017*\"copi\" + 0.016*\"s14\" + 0.012*\"s15\" + 0.010*\"e4\"\n",
      "2021-02-19 13:11:44,830 : INFO : topic #12 (0.023): 0.389*\")\" + 0.381*\"(\" + 0.180*\"algorithm\" + 0.018*\"integr\" + 0.008*\"interchang\" + 0.005*\"magnet\" + 0.004*\"tape\" + 0.004*\"usa\" + 0.002*\"part\" + 0.002*\"200\"\n",
      "2021-02-19 13:11:44,831 : INFO : topic diff=0.586249, rho=0.340958\n",
      "2021-02-19 13:11:45,676 : INFO : -6.565 per-word bound, 94.7 perplexity estimate based on a held-out corpus of 1204 documents with 49783 words\n",
      "2021-02-19 13:11:45,677 : INFO : PROGRESS: pass 6, at document #3204/3204\n",
      "2021-02-19 13:11:46,388 : INFO : optimized alpha [0.010881264, 0.0116863465, 0.010519031, 0.011158931, 0.01089651, 0.010560372, 0.010838082, 0.010249417, 0.010666624, 0.011396204, 0.010324753, 0.010504089, 0.024994545, 0.010106715, 0.010574289, 0.010690758, 0.010167729, 0.011099884, 0.012171151, 0.010945923, 0.010711371, 0.0108246, 0.011450758, 0.010881954, 0.010766238, 0.010103384, 0.01006119, 0.01288499, 0.009959349, 0.011212164, 0.010000143, 0.011279615, 0.010536977, 0.010380063, 0.010236752, 0.01119085, 0.011320576, 0.011147226, 0.011639508, 0.010592453, 0.010660141, 0.011421237, 0.012564527, 0.010819327, 0.011164316, 0.010020354, 0.0104390895, 0.011073966, 0.0117271915, 0.011114829, 0.012451264, 0.01176812, 0.011096605, 0.0104951635, 0.010433948, 0.010548909, 0.010687608, 0.011147991, 0.011113071, 0.011256836, 0.010579197, 0.011649834, 0.011023888, 0.011830072, 0.011215868, 0.010566579, 0.010701137, 0.010566694, 0.010486428, 0.010656352, 0.010763131, 0.011152608, 0.011847484, 0.011142474, 0.010518343, 0.011727804, 0.011055199, 0.010065131, 0.010514986, 0.010027018, 0.011982497, 0.01033221, 0.013379718, 0.010671569, 0.0118626, 0.010193759, 0.011409503, 0.010642784, 0.0112151615, 0.011228276, 0.010993074, 0.010914035, 0.010758026, 0.01340163, 0.010671607, 0.011843059, 0.011000105, 0.012181268, 0.011372272, 0.010095602]\n",
      "2021-02-19 13:11:46,394 : INFO : merging changes from 1204 documents into a model of 3204 documents\n",
      "2021-02-19 13:11:46,400 : INFO : topic #28 (0.010): 0.065*\"paramet\" + 0.063*\"-\" + 0.054*\",\" + 0.033*\"item\" + 0.032*\"word\" + 0.031*\"length\" + 0.025*\"amount\" + 0.022*\"type\" + 0.021*\"valu\" + 0.021*\"full\"\n",
      "2021-02-19 13:11:46,401 : INFO : topic #30 (0.010): 0.073*\",\" + 0.048*\"termin\" + 0.046*\"comput\" + 0.044*\"-\" + 0.038*\"point\" + 0.037*\"rectangular\" + 0.036*\"detect\" + 0.028*\"intersect\" + 0.028*\"arrang\" + 0.027*\"6\"\n",
      "2021-02-19 13:11:46,402 : INFO : topic #82 (0.013): 0.301*\"[\" + 0.200*\"algorithm\" + 0.178*\"(\" + 0.141*\"])\" + 0.033*\"function\" + 0.027*\"copi\" + 0.021*\"-\" + 0.017*\"s14\" + 0.010*\"s15\" + 0.010*\"e4\"\n",
      "2021-02-19 13:11:46,403 : INFO : topic #93 (0.013): 0.617*\"\"\" + 0.106*\"inform\" + 0.100*\"standard\" + 0.058*\"propos\" + 0.054*\"process\" + 0.038*\"american\" + 0.006*\"compar\" + 0.004*\"analyz\" + 0.004*\"/\" + 0.001*\"term\"\n",
      "2021-02-19 13:11:46,404 : INFO : topic #12 (0.025): 0.400*\")\" + 0.389*\"(\" + 0.171*\"algorithm\" + 0.016*\"integr\" + 0.006*\"interchang\" + 0.003*\"magnet\" + 0.003*\"tape\" + 0.002*\"usa\" + 0.002*\"part\" + 0.001*\"200\"\n",
      "2021-02-19 13:11:46,405 : INFO : topic diff=0.596078, rho=0.340958\n",
      "2021-02-19 13:11:46,414 : INFO : PROGRESS: pass 7, at document #2000/3204\n",
      "2021-02-19 13:11:47,183 : INFO : optimized alpha [0.011017751, 0.011783279, 0.01056837, 0.011253094, 0.010856858, 0.010687451, 0.010870844, 0.010258358, 0.010707273, 0.011489986, 0.010322237, 0.010507625, 0.027007706, 0.01010146, 0.010567896, 0.010674532, 0.01013928, 0.011081753, 0.012247045, 0.010948547, 0.010831322, 0.01078207, 0.011593347, 0.010918411, 0.010767644, 0.010109972, 0.010035056, 0.0128700165, 0.009952681, 0.01142031, 0.009978292, 0.011351032, 0.010573287, 0.010439953, 0.010338639, 0.011195202, 0.011388043, 0.011210318, 0.011609004, 0.010591966, 0.0107131945, 0.011672148, 0.012651172, 0.010817677, 0.011329323, 0.010070685, 0.0104747815, 0.011107939, 0.011895825, 0.01129012, 0.012563151, 0.011754206, 0.011215789, 0.010463849, 0.01048706, 0.010540625, 0.010730974, 0.011177579, 0.011165325, 0.011288695, 0.010606568, 0.011673363, 0.011088521, 0.011945238, 0.011330484, 0.010579567, 0.010710869, 0.010562958, 0.010512826, 0.010694105, 0.0108635845, 0.011191264, 0.012034015, 0.011216189, 0.010474571, 0.011883484, 0.011031102, 0.010066974, 0.010495621, 0.010064786, 0.011959281, 0.010330015, 0.013832126, 0.010679453, 0.012031211, 0.010209448, 0.01150209, 0.01062718, 0.0113745285, 0.011287972, 0.011011155, 0.010935658, 0.010756907, 0.0136586325, 0.0106751155, 0.012001079, 0.011084773, 0.012324851, 0.011405376, 0.0100783035]\n",
      "2021-02-19 13:11:47,189 : INFO : merging changes from 2000 documents into a model of 3204 documents\n",
      "2021-02-19 13:11:47,196 : INFO : topic #30 (0.010): 0.069*\",\" + 0.047*\"comput\" + 0.046*\"-\" + 0.046*\"termin\" + 0.038*\"point\" + 0.033*\"detect\" + 0.032*\"rectangular\" + 0.028*\"6\" + 0.026*\"intersect\" + 0.026*\"arrang\"\n",
      "2021-02-19 13:11:47,197 : INFO : topic #28 (0.010): 0.067*\"-\" + 0.061*\"paramet\" + 0.052*\",\" + 0.043*\"word\" + 0.037*\"item\" + 0.030*\"length\" + 0.022*\"type\" + 0.021*\"full\" + 0.021*\"amount\" + 0.020*\"basic\"\n",
      "2021-02-19 13:11:47,198 : INFO : topic #93 (0.014): 0.570*\"\"\" + 0.118*\"standard\" + 0.109*\"inform\" + 0.071*\"propos\" + 0.059*\"process\" + 0.047*\"american\" + 0.006*\"compar\" + 0.004*\"analyz\" + 0.003*\"/\" + 0.002*\"term\"\n"
     ]
    },
    {
     "name": "stderr",
     "output_type": "stream",
     "text": [
      "2021-02-19 13:11:47,198 : INFO : topic #82 (0.014): 0.273*\"[\" + 0.198*\"algorithm\" + 0.192*\"(\" + 0.174*\"])\" + 0.031*\"function\" + 0.020*\"-\" + 0.017*\"copi\" + 0.016*\"s14\" + 0.013*\"s15\" + 0.010*\"e4\"\n",
      "2021-02-19 13:11:47,199 : INFO : topic #12 (0.027): 0.393*\")\" + 0.385*\"(\" + 0.177*\"algorithm\" + 0.016*\"integr\" + 0.007*\"interchang\" + 0.005*\"magnet\" + 0.004*\"usa\" + 0.004*\"tape\" + 0.002*\"part\" + 0.002*\"200\"\n",
      "2021-02-19 13:11:47,199 : INFO : topic diff=0.521729, rho=0.322715\n",
      "2021-02-19 13:11:48,054 : INFO : -6.541 per-word bound, 93.1 perplexity estimate based on a held-out corpus of 1204 documents with 49783 words\n",
      "2021-02-19 13:11:48,054 : INFO : PROGRESS: pass 7, at document #3204/3204\n",
      "2021-02-19 13:11:48,763 : INFO : optimized alpha [0.011099274, 0.011983541, 0.010713333, 0.011429795, 0.011030537, 0.010839914, 0.011013131, 0.010331683, 0.010834109, 0.011729463, 0.010438207, 0.010581927, 0.029024733, 0.010198121, 0.010690316, 0.010851717, 0.010207555, 0.011268781, 0.012414997, 0.011089642, 0.010920057, 0.010942169, 0.011738754, 0.011084775, 0.010915218, 0.01019673, 0.010145413, 0.013321518, 0.010055886, 0.011573285, 0.010026832, 0.011574893, 0.0107346745, 0.010491209, 0.01040974, 0.011422026, 0.011529456, 0.011309413, 0.011793732, 0.01069053, 0.01085747, 0.011930581, 0.012968569, 0.010910595, 0.011421584, 0.010120338, 0.010590909, 0.011233641, 0.012061561, 0.011326511, 0.012912031, 0.012071884, 0.011440026, 0.010594287, 0.010638229, 0.01068796, 0.0108241765, 0.0113633545, 0.011324676, 0.01151711, 0.010704308, 0.011830256, 0.011288909, 0.012248782, 0.0114022, 0.0107435025, 0.010865989, 0.010681185, 0.010636025, 0.010803563, 0.010973603, 0.0114112515, 0.01229224, 0.011399059, 0.010562668, 0.012062441, 0.011208686, 0.010125794, 0.0106065115, 0.01012096, 0.012314674, 0.010407439, 0.014006036, 0.010795039, 0.01230167, 0.010306943, 0.011634755, 0.0107961865, 0.011488221, 0.0114764, 0.01111482, 0.011120916, 0.010897269, 0.014005111, 0.010804979, 0.01218792, 0.011204161, 0.012560161, 0.011600361, 0.010163214]\n",
      "2021-02-19 13:11:48,770 : INFO : merging changes from 1204 documents into a model of 3204 documents\n",
      "2021-02-19 13:11:48,777 : INFO : topic #30 (0.010): 0.073*\",\" + 0.050*\"termin\" + 0.047*\"comput\" + 0.044*\"-\" + 0.039*\"point\" + 0.038*\"rectangular\" + 0.036*\"detect\" + 0.030*\"arrang\" + 0.029*\"intersect\" + 0.027*\"6\"\n",
      "2021-02-19 13:11:48,777 : INFO : topic #28 (0.010): 0.069*\"paramet\" + 0.065*\"-\" + 0.055*\",\" + 0.037*\"word\" + 0.036*\"item\" + 0.030*\"length\" + 0.029*\"amount\" + 0.024*\"type\" + 0.022*\"full\" + 0.021*\"valu\"\n",
      "2021-02-19 13:11:48,778 : INFO : topic #93 (0.014): 0.624*\"\"\" + 0.101*\"standard\" + 0.099*\"inform\" + 0.061*\"propos\" + 0.054*\"process\" + 0.039*\"american\" + 0.005*\"compar\" + 0.004*\"analyz\" + 0.002*\"/\" + 0.001*\"term\"\n",
      "2021-02-19 13:11:48,779 : INFO : topic #82 (0.014): 0.305*\"[\" + 0.200*\"algorithm\" + 0.181*\"(\" + 0.141*\"])\" + 0.030*\"function\" + 0.027*\"copi\" + 0.021*\"-\" + 0.017*\"s14\" + 0.011*\"s15\" + 0.010*\"e4\"\n",
      "2021-02-19 13:11:48,779 : INFO : topic #12 (0.029): 0.403*\")\" + 0.393*\"(\" + 0.168*\"algorithm\" + 0.014*\"integr\" + 0.006*\"interchang\" + 0.003*\"magnet\" + 0.003*\"tape\" + 0.002*\"usa\" + 0.002*\"part\" + 0.001*\"200\"\n",
      "2021-02-19 13:11:48,780 : INFO : topic diff=0.524896, rho=0.322715\n",
      "2021-02-19 13:11:48,788 : INFO : PROGRESS: pass 8, at document #2000/3204\n",
      "2021-02-19 13:11:49,564 : INFO : optimized alpha [0.011237748, 0.0120765185, 0.010765445, 0.011543244, 0.0109973755, 0.010972651, 0.0110477945, 0.010340667, 0.010873049, 0.011819316, 0.010437454, 0.010592273, 0.031178415, 0.010202699, 0.010684193, 0.010837362, 0.010189033, 0.0112508945, 0.012485568, 0.011098966, 0.011040746, 0.010897964, 0.011879919, 0.011119403, 0.010930098, 0.010208106, 0.010119099, 0.013315792, 0.010055883, 0.0117933005, 0.010006765, 0.01164836, 0.010775927, 0.010550521, 0.010514437, 0.011432288, 0.01159403, 0.011369929, 0.011767747, 0.0106986305, 0.010916694, 0.012191073, 0.013052786, 0.010910986, 0.011589917, 0.010173541, 0.010633309, 0.011266152, 0.012228199, 0.011495715, 0.013035296, 0.012052859, 0.01156389, 0.010567738, 0.010687396, 0.010693029, 0.010877584, 0.011394845, 0.011379837, 0.011546754, 0.010729019, 0.011865437, 0.011355884, 0.012368707, 0.011516183, 0.010760621, 0.010880034, 0.010685908, 0.010664525, 0.010841492, 0.011068604, 0.011447691, 0.012486449, 0.011476641, 0.010521549, 0.012195875, 0.011195665, 0.010131171, 0.010591502, 0.010163731, 0.012295656, 0.010408956, 0.014451646, 0.010815898, 0.012495673, 0.0103205405, 0.011737973, 0.01078588, 0.011649238, 0.011535153, 0.011137515, 0.01115313, 0.01089603, 0.014253294, 0.010804929, 0.0123404795, 0.011292529, 0.01270627, 0.011633337, 0.01015184]\n",
      "2021-02-19 13:11:49,570 : INFO : merging changes from 2000 documents into a model of 3204 documents\n",
      "2021-02-19 13:11:49,577 : INFO : topic #30 (0.010): 0.069*\",\" + 0.048*\"termin\" + 0.046*\"comput\" + 0.046*\"-\" + 0.039*\"point\" + 0.034*\"rectangular\" + 0.032*\"detect\" + 0.029*\"6\" + 0.028*\"arrang\" + 0.027*\"intersect\"\n",
      "2021-02-19 13:11:49,578 : INFO : topic #28 (0.010): 0.069*\"-\" + 0.065*\"paramet\" + 0.053*\",\" + 0.048*\"word\" + 0.039*\"item\" + 0.029*\"length\" + 0.024*\"type\" + 0.024*\"amount\" + 0.022*\"full\" + 0.020*\"basic\"\n",
      "2021-02-19 13:11:49,579 : INFO : topic #93 (0.014): 0.579*\"\"\" + 0.117*\"standard\" + 0.104*\"inform\" + 0.072*\"propos\" + 0.058*\"process\" + 0.047*\"american\" + 0.005*\"compar\" + 0.004*\"analyz\" + 0.002*\"/\" + 0.001*\"term\"\n",
      "2021-02-19 13:11:49,579 : INFO : topic #82 (0.014): 0.276*\"[\" + 0.199*\"algorithm\" + 0.193*\"(\" + 0.172*\"])\" + 0.029*\"function\" + 0.020*\"-\" + 0.017*\"copi\" + 0.016*\"s14\" + 0.013*\"s15\" + 0.010*\"e4\"\n",
      "2021-02-19 13:11:49,580 : INFO : topic #12 (0.031): 0.396*\")\" + 0.389*\"(\" + 0.174*\"algorithm\" + 0.015*\"integr\" + 0.007*\"interchang\" + 0.005*\"magnet\" + 0.003*\"usa\" + 0.003*\"tape\" + 0.002*\"part\" + 0.002*\"200\"\n",
      "2021-02-19 13:11:49,581 : INFO : topic diff=0.457127, rho=0.307119\n",
      "2021-02-19 13:11:50,412 : INFO : -6.521 per-word bound, 91.8 perplexity estimate based on a held-out corpus of 1204 documents with 49783 words\n",
      "2021-02-19 13:11:50,412 : INFO : PROGRESS: pass 8, at document #3204/3204\n",
      "2021-02-19 13:11:51,107 : INFO : optimized alpha [0.011324034, 0.012272575, 0.010913113, 0.011776212, 0.011167266, 0.01112789, 0.011173195, 0.010419088, 0.011000237, 0.012084728, 0.010548911, 0.010666392, 0.03328599, 0.0103035215, 0.010807393, 0.011010611, 0.010257449, 0.01142223, 0.012653445, 0.011237335, 0.011128435, 0.011063063, 0.012034991, 0.011290853, 0.011072027, 0.010294144, 0.0102278255, 0.01377254, 0.0101706125, 0.0119584855, 0.010053971, 0.011876446, 0.010925818, 0.010613067, 0.010585187, 0.011648159, 0.0117268935, 0.011461923, 0.011942266, 0.010801686, 0.011055487, 0.012483527, 0.0133542055, 0.010997385, 0.011683846, 0.010223808, 0.010753051, 0.011392671, 0.012390443, 0.011535672, 0.013392521, 0.012370024, 0.011783975, 0.010693047, 0.0108411955, 0.010834702, 0.010969833, 0.011582595, 0.011535913, 0.011779165, 0.010820181, 0.0120224105, 0.011549316, 0.012682822, 0.011587674, 0.010926835, 0.011026456, 0.010807772, 0.01078836, 0.010952191, 0.011168377, 0.011663052, 0.012743423, 0.01165279, 0.010611717, 0.012327028, 0.011366502, 0.010182666, 0.010709071, 0.010225453, 0.012662685, 0.01048884, 0.014628182, 0.010932438, 0.012781213, 0.0104194265, 0.011865139, 0.010951316, 0.0117519265, 0.011710778, 0.011231319, 0.011340105, 0.011042106, 0.014590345, 0.010932549, 0.012523515, 0.011409998, 0.012930389, 0.011818235, 0.01023872]\n",
      "2021-02-19 13:11:51,113 : INFO : merging changes from 1204 documents into a model of 3204 documents\n",
      "2021-02-19 13:11:51,120 : INFO : topic #30 (0.010): 0.072*\",\" + 0.051*\"termin\" + 0.045*\"comput\" + 0.044*\"-\" + 0.040*\"point\" + 0.039*\"rectangular\" + 0.034*\"detect\" + 0.031*\"arrang\" + 0.030*\"intersect\" + 0.027*\"space\"\n",
      "2021-02-19 13:11:51,120 : INFO : topic #77 (0.010): 0.066*\"divis\" + 0.058*\"?\" + 0.038*\"difficult\" + 0.034*\"result\" + 0.034*\"regular\" + 0.032*\"-\" + 0.032*\"method\" + 0.030*\"criterion\" + 0.030*\"request\" + 0.029*\"elimin\"\n",
      "2021-02-19 13:11:51,121 : INFO : topic #93 (0.015): 0.630*\"\"\" + 0.101*\"standard\" + 0.094*\"inform\" + 0.062*\"propos\" + 0.052*\"process\" + 0.039*\"american\" + 0.004*\"compar\" + 0.003*\"analyz\" + 0.001*\"/\" + 0.001*\"term\"\n",
      "2021-02-19 13:11:51,122 : INFO : topic #82 (0.015): 0.308*\"[\" + 0.200*\"algorithm\" + 0.182*\"(\" + 0.141*\"])\" + 0.028*\"function\" + 0.026*\"copi\" + 0.021*\"-\" + 0.017*\"s14\" + 0.011*\"s15\" + 0.010*\"e4\"\n"
     ]
    },
    {
     "name": "stderr",
     "output_type": "stream",
     "text": [
      "2021-02-19 13:11:51,123 : INFO : topic #12 (0.033): 0.405*\")\" + 0.396*\"(\" + 0.165*\"algorithm\" + 0.013*\"integr\" + 0.005*\"interchang\" + 0.003*\"magnet\" + 0.002*\"usa\" + 0.002*\"tape\" + 0.002*\"part\" + 0.001*\"200\"\n",
      "2021-02-19 13:11:51,123 : INFO : topic diff=0.459056, rho=0.307119\n",
      "2021-02-19 13:11:51,132 : INFO : PROGRESS: pass 9, at document #2000/3204\n",
      "2021-02-19 13:11:51,916 : INFO : optimized alpha [0.011454878, 0.012365736, 0.01096487, 0.011903463, 0.011144976, 0.011266624, 0.011204903, 0.010432563, 0.011036038, 0.012187133, 0.010549802, 0.010675219, 0.03555569, 0.0103096, 0.010804761, 0.011001285, 0.010240278, 0.011407988, 0.012732519, 0.011249501, 0.011251849, 0.011026937, 0.012184313, 0.011333904, 0.01109278, 0.01032046, 0.010202697, 0.013777805, 0.010175126, 0.012189269, 0.010035491, 0.011948626, 0.010967055, 0.010679735, 0.010692785, 0.011658985, 0.011790787, 0.011518599, 0.0119259115, 0.01080967, 0.011125556, 0.0127491355, 0.013430622, 0.0109964935, 0.011869433, 0.010279793, 0.0107954275, 0.011423877, 0.012553971, 0.011702997, 0.013517443, 0.012362332, 0.011907429, 0.010667634, 0.010896452, 0.010845814, 0.011024729, 0.011619337, 0.011593941, 0.011805164, 0.010845755, 0.012054403, 0.011622089, 0.01279487, 0.011705095, 0.010949396, 0.011039843, 0.010825196, 0.010817339, 0.010988742, 0.01126508, 0.011711291, 0.012925292, 0.011730822, 0.010574429, 0.012436034, 0.011356959, 0.010189813, 0.010699488, 0.010275926, 0.012643704, 0.010487545, 0.015070258, 0.010955839, 0.012982323, 0.010432611, 0.011961442, 0.010945952, 0.011906376, 0.011768862, 0.0112567, 0.011370691, 0.011040812, 0.014828276, 0.010935662, 0.0126787815, 0.011498679, 0.013071859, 0.011858218, 0.010229654]\n",
      "2021-02-19 13:11:51,922 : INFO : merging changes from 2000 documents into a model of 3204 documents\n",
      "2021-02-19 13:11:51,929 : INFO : topic #30 (0.010): 0.069*\",\" + 0.049*\"termin\" + 0.046*\"comput\" + 0.046*\"-\" + 0.040*\"point\" + 0.035*\"rectangular\" + 0.030*\"detect\" + 0.029*\"arrang\" + 0.029*\"6\" + 0.028*\"intersect\"\n",
      "2021-02-19 13:11:51,930 : INFO : topic #28 (0.010): 0.070*\"paramet\" + 0.070*\"-\" + 0.054*\",\" + 0.053*\"word\" + 0.041*\"item\" + 0.030*\"length\" + 0.025*\"type\" + 0.024*\"amount\" + 0.022*\"full\" + 0.021*\"valu\"\n",
      "2021-02-19 13:11:51,930 : INFO : topic #93 (0.015): 0.588*\"\"\" + 0.117*\"standard\" + 0.097*\"inform\" + 0.073*\"propos\" + 0.056*\"process\" + 0.047*\"american\" + 0.005*\"compar\" + 0.003*\"analyz\" + 0.001*\"term\" + 0.001*\"/\"\n",
      "2021-02-19 13:11:51,931 : INFO : topic #82 (0.015): 0.279*\"[\" + 0.199*\"algorithm\" + 0.194*\"(\" + 0.170*\"])\" + 0.028*\"function\" + 0.020*\"-\" + 0.017*\"copi\" + 0.016*\"s14\" + 0.013*\"s15\" + 0.010*\"integr\"\n",
      "2021-02-19 13:11:51,932 : INFO : topic #12 (0.036): 0.398*\")\" + 0.391*\"(\" + 0.172*\"algorithm\" + 0.014*\"integr\" + 0.007*\"interchang\" + 0.005*\"magnet\" + 0.003*\"usa\" + 0.002*\"tape\" + 0.002*\"part\" + 0.002*\"200\"\n",
      "2021-02-19 13:11:51,933 : INFO : topic diff=0.399369, rho=0.293585\n",
      "2021-02-19 13:11:52,758 : INFO : -6.503 per-word bound, 90.7 perplexity estimate based on a held-out corpus of 1204 documents with 49783 words\n",
      "2021-02-19 13:11:52,759 : INFO : PROGRESS: pass 9, at document #3204/3204\n",
      "2021-02-19 13:11:53,455 : INFO : optimized alpha [0.011540417, 0.012561473, 0.011115606, 0.012141989, 0.011325613, 0.011433389, 0.01133136, 0.010513429, 0.01116413, 0.012463654, 0.010659948, 0.0107415365, 0.037739065, 0.010411899, 0.0109263575, 0.011160602, 0.010316497, 0.011579064, 0.012888346, 0.011385826, 0.011341519, 0.011191636, 0.012339926, 0.011494113, 0.011232625, 0.010413642, 0.010305105, 0.014238458, 0.010283324, 0.012366712, 0.010083861, 0.012178741, 0.01112007, 0.0107477205, 0.010771238, 0.011870886, 0.011927509, 0.011607093, 0.012106362, 0.010917173, 0.011265061, 0.0130702285, 0.013720376, 0.01107448, 0.011965109, 0.010330724, 0.01092152, 0.011543078, 0.012710469, 0.011740639, 0.01387035, 0.012664972, 0.012133001, 0.010796481, 0.011050587, 0.010985218, 0.011119036, 0.011806791, 0.011753168, 0.012033559, 0.010930975, 0.012212014, 0.011815225, 0.0131047005, 0.011773686, 0.011118329, 0.011173094, 0.010950804, 0.010942143, 0.011087477, 0.0113720875, 0.011922993, 0.013178556, 0.011906799, 0.010656341, 0.012559159, 0.011533288, 0.010244678, 0.010815635, 0.010343073, 0.0130018005, 0.010567323, 0.015242613, 0.011068287, 0.013261408, 0.010528022, 0.012081031, 0.011111309, 0.012007744, 0.011944409, 0.011347282, 0.011551611, 0.01118722, 0.015145999, 0.011066979, 0.012861873, 0.011611814, 0.013285865, 0.012045825, 0.010323707]\n",
      "2021-02-19 13:11:53,461 : INFO : merging changes from 1204 documents into a model of 3204 documents\n",
      "2021-02-19 13:11:53,468 : INFO : topic #30 (0.010): 0.072*\",\" + 0.052*\"termin\" + 0.045*\"comput\" + 0.044*\"-\" + 0.041*\"point\" + 0.040*\"rectangular\" + 0.032*\"arrang\" + 0.031*\"detect\" + 0.030*\"intersect\" + 0.027*\"mode\"\n",
      "2021-02-19 13:11:53,469 : INFO : topic #77 (0.010): 0.067*\"divis\" + 0.060*\"?\" + 0.039*\"difficult\" + 0.035*\"result\" + 0.034*\"regular\" + 0.032*\"request\" + 0.032*\"-\" + 0.031*\"criterion\" + 0.030*\"elimin\" + 0.030*\"method\"\n",
      "2021-02-19 13:11:53,469 : INFO : topic #93 (0.015): 0.638*\"\"\" + 0.102*\"standard\" + 0.087*\"inform\" + 0.063*\"propos\" + 0.050*\"process\" + 0.039*\"american\" + 0.004*\"compar\" + 0.003*\"analyz\" + 0.001*\"term\" + 0.001*\"/\"\n",
      "2021-02-19 13:11:53,470 : INFO : topic #82 (0.015): 0.309*\"[\" + 0.201*\"algorithm\" + 0.184*\"(\" + 0.141*\"])\" + 0.027*\"function\" + 0.026*\"copi\" + 0.021*\"-\" + 0.016*\"s14\" + 0.011*\"s15\" + 0.010*\"e4\"\n",
      "2021-02-19 13:11:53,471 : INFO : topic #12 (0.038): 0.407*\")\" + 0.398*\"(\" + 0.163*\"algorithm\" + 0.013*\"integr\" + 0.005*\"interchang\" + 0.003*\"magnet\" + 0.002*\"usa\" + 0.002*\"part\" + 0.002*\"tape\" + 0.001*\"200\"\n",
      "2021-02-19 13:11:53,471 : INFO : topic diff=0.401979, rho=0.293585\n",
      "2021-02-19 13:11:53,480 : INFO : PROGRESS: pass 10, at document #2000/3204\n",
      "2021-02-19 13:11:54,378 : INFO : optimized alpha [0.011677345, 0.012649757, 0.011179629, 0.012291721, 0.011300444, 0.011575045, 0.011369966, 0.010526707, 0.011198624, 0.012575049, 0.010660879, 0.0107534425, 0.040111713, 0.0104252165, 0.01092541, 0.01115603, 0.010304785, 0.011566629, 0.012972205, 0.0114007145, 0.011463014, 0.011164496, 0.012481759, 0.011540402, 0.011263725, 0.010448062, 0.010284036, 0.014240364, 0.010287784, 0.012608731, 0.0100652985, 0.012253307, 0.011170846, 0.010816925, 0.010877342, 0.011880613, 0.0119892135, 0.011666974, 0.0120851165, 0.010926529, 0.01134249, 0.013345437, 0.013787647, 0.0110709295, 0.012153016, 0.01038655, 0.01095934, 0.011584723, 0.012869661, 0.011906744, 0.014014889, 0.012655957, 0.0122581115, 0.010772023, 0.011107031, 0.011000454, 0.01117697, 0.011840222, 0.011809126, 0.012061301, 0.0109573845, 0.012237528, 0.011888776, 0.01321667, 0.01188607, 0.011149366, 0.0112016825, 0.010967623, 0.010971648, 0.011121373, 0.011469104, 0.011970896, 0.013372732, 0.011983905, 0.010622544, 0.012652245, 0.011525353, 0.01025199, 0.010809582, 0.010393489, 0.012977511, 0.010572298, 0.015679829, 0.011089347, 0.013475419, 0.010543885, 0.012177778, 0.011105888, 0.012161399, 0.012000331, 0.011365471, 0.01157919, 0.011188924, 0.015374197, 0.0110714985, 0.013020201, 0.011696145, 0.013423263, 0.0120892655, 0.010313709]\n",
      "2021-02-19 13:11:54,385 : INFO : merging changes from 2000 documents into a model of 3204 documents\n",
      "2021-02-19 13:11:54,391 : INFO : topic #30 (0.010): 0.069*\",\" + 0.051*\"termin\" + 0.045*\"-\" + 0.045*\"comput\" + 0.040*\"point\" + 0.036*\"rectangular\" + 0.030*\"arrang\" + 0.029*\"6\" + 0.028*\"intersect\" + 0.028*\"detect\"\n",
      "2021-02-19 13:11:54,392 : INFO : topic #77 (0.010): 0.076*\"divis\" + 0.052*\"?\" + 0.036*\"difficult\" + 0.035*\"-\" + 0.033*\"regular\" + 0.033*\"request\" + 0.032*\"result\" + 0.031*\"elimin\" + 0.031*\"method\" + 0.028*\"criterion\"\n",
      "2021-02-19 13:11:54,393 : INFO : topic #93 (0.015): 0.597*\"\"\" + 0.117*\"standard\" + 0.091*\"inform\" + 0.073*\"propos\" + 0.054*\"process\" + 0.047*\"american\" + 0.004*\"compar\" + 0.003*\"analyz\" + 0.001*\"term\" + 0.001*\"/\"\n",
      "2021-02-19 13:11:54,393 : INFO : topic #82 (0.016): 0.282*\"[\" + 0.200*\"algorithm\" + 0.195*\"(\" + 0.169*\"])\" + 0.027*\"function\" + 0.020*\"-\" + 0.017*\"copi\" + 0.016*\"s14\" + 0.013*\"s15\" + 0.011*\"integr\"\n",
      "2021-02-19 13:11:54,394 : INFO : topic #12 (0.040): 0.400*\")\" + 0.394*\"(\" + 0.170*\"algorithm\" + 0.013*\"integr\" + 0.006*\"interchang\" + 0.004*\"magnet\" + 0.003*\"usa\" + 0.002*\"tape\" + 0.002*\"part\" + 0.002*\"200\"\n"
     ]
    },
    {
     "name": "stderr",
     "output_type": "stream",
     "text": [
      "2021-02-19 13:11:54,396 : INFO : topic diff=0.349359, rho=0.281696\n",
      "2021-02-19 13:11:55,477 : INFO : -6.489 per-word bound, 89.8 perplexity estimate based on a held-out corpus of 1204 documents with 49783 words\n",
      "2021-02-19 13:11:55,478 : INFO : PROGRESS: pass 10, at document #3204/3204\n",
      "2021-02-19 13:11:56,257 : INFO : optimized alpha [0.0117651075, 0.012842733, 0.011331241, 0.012565445, 0.011480944, 0.011748027, 0.011495031, 0.010600063, 0.011325334, 0.012866452, 0.010767551, 0.01081776, 0.042329155, 0.010526842, 0.01104319, 0.011310418, 0.010376305, 0.011732482, 0.013132238, 0.011530018, 0.011552121, 0.011329375, 0.012632583, 0.0116986, 0.011401998, 0.010543238, 0.010388085, 0.01469594, 0.010397445, 0.012813465, 0.010110157, 0.012474595, 0.011322066, 0.01088511, 0.010976023, 0.012089245, 0.012118724, 0.011755197, 0.012248597, 0.011030729, 0.011485693, 0.013696657, 0.014073249, 0.0111439135, 0.012253566, 0.010443088, 0.011083976, 0.011697347, 0.013024047, 0.011945143, 0.014378166, 0.0129481, 0.012486791, 0.010899357, 0.011254095, 0.011148476, 0.0112735415, 0.012025069, 0.011960758, 0.012292072, 0.011042489, 0.012384321, 0.012084985, 0.013532415, 0.011949237, 0.011331849, 0.011338712, 0.011086742, 0.011095115, 0.011224721, 0.0115725, 0.012185348, 0.013619992, 0.012151818, 0.010707059, 0.012753241, 0.011701828, 0.010302845, 0.010919527, 0.010468247, 0.013330745, 0.010647139, 0.015844887, 0.011200807, 0.013755178, 0.010636268, 0.012301851, 0.011282024, 0.012261888, 0.0121678375, 0.011458691, 0.011762872, 0.011336098, 0.015691577, 0.011198719, 0.013207017, 0.0118083395, 0.013631215, 0.012271427, 0.010409703]\n",
      "2021-02-19 13:11:56,264 : INFO : merging changes from 1204 documents into a model of 3204 documents\n",
      "2021-02-19 13:11:56,272 : INFO : topic #30 (0.010): 0.072*\",\" + 0.054*\"termin\" + 0.044*\"comput\" + 0.043*\"-\" + 0.041*\"point\" + 0.040*\"rectangular\" + 0.032*\"arrang\" + 0.030*\"intersect\" + 0.028*\"detect\" + 0.028*\"mode\"\n",
      "2021-02-19 13:11:56,273 : INFO : topic #77 (0.010): 0.068*\"divis\" + 0.061*\"?\" + 0.040*\"difficult\" + 0.035*\"result\" + 0.034*\"regular\" + 0.033*\"request\" + 0.031*\"-\" + 0.031*\"elimin\" + 0.031*\"criterion\" + 0.027*\"method\"\n",
      "2021-02-19 13:11:56,273 : INFO : topic #93 (0.016): 0.642*\"\"\" + 0.102*\"standard\" + 0.083*\"inform\" + 0.064*\"propos\" + 0.050*\"process\" + 0.040*\"american\" + 0.004*\"compar\" + 0.003*\"analyz\" + 0.001*\"term\" + 0.000*\"/\"\n",
      "2021-02-19 13:11:56,274 : INFO : topic #82 (0.016): 0.310*\"[\" + 0.202*\"algorithm\" + 0.185*\"(\" + 0.142*\"])\" + 0.027*\"function\" + 0.025*\"copi\" + 0.021*\"-\" + 0.016*\"s14\" + 0.011*\"s15\" + 0.010*\"e4\"\n",
      "2021-02-19 13:11:56,275 : INFO : topic #12 (0.042): 0.408*\")\" + 0.400*\"(\" + 0.162*\"algorithm\" + 0.012*\"integr\" + 0.005*\"interchang\" + 0.003*\"magnet\" + 0.002*\"usa\" + 0.002*\"part\" + 0.001*\"tape\" + 0.001*\"200\"\n",
      "2021-02-19 13:11:56,275 : INFO : topic diff=0.353648, rho=0.281696\n",
      "2021-02-19 13:11:56,284 : INFO : PROGRESS: pass 11, at document #2000/3204\n",
      "2021-02-19 13:11:57,040 : INFO : optimized alpha [0.011897029, 0.012933544, 0.011390211, 0.012722467, 0.011462481, 0.011894529, 0.011535523, 0.010614627, 0.011360212, 0.0129834665, 0.010770031, 0.0108325295, 0.044785116, 0.010541287, 0.0110453535, 0.011308818, 0.010365391, 0.011716913, 0.013204517, 0.011549106, 0.011678294, 0.011309002, 0.012776142, 0.011748125, 0.011430626, 0.010578154, 0.0103678685, 0.014702603, 0.0104088625, 0.013064071, 0.01009287, 0.012550006, 0.011375978, 0.010956849, 0.011088488, 0.012106231, 0.012181816, 0.011814983, 0.0122296205, 0.011042909, 0.011567191, 0.0139806075, 0.014143376, 0.011140875, 0.012449092, 0.010497438, 0.011120602, 0.011740956, 0.013182854, 0.012112026, 0.014526728, 0.0129396655, 0.012622302, 0.010878696, 0.011311894, 0.011170609, 0.011332917, 0.012062061, 0.012016525, 0.0123282, 0.011066742, 0.012420871, 0.012156173, 0.013648231, 0.012063771, 0.011361562, 0.0113617, 0.011106114, 0.011126714, 0.01126376, 0.011666926, 0.012232973, 0.013810243, 0.012228207, 0.010677843, 0.012836633, 0.011696921, 0.010311713, 0.01091379, 0.010521618, 0.0133067295, 0.010649357, 0.016277809, 0.011222776, 0.013974944, 0.010647388, 0.012400936, 0.011282515, 0.012413512, 0.012223518, 0.011473275, 0.011790777, 0.011340743, 0.015904121, 0.011201531, 0.013365117, 0.011887042, 0.013761258, 0.012313211, 0.010401654]\n",
      "2021-02-19 13:11:57,047 : INFO : merging changes from 2000 documents into a model of 3204 documents\n",
      "2021-02-19 13:11:57,055 : INFO : topic #30 (0.010): 0.069*\",\" + 0.052*\"termin\" + 0.045*\"comput\" + 0.045*\"-\" + 0.041*\"point\" + 0.036*\"rectangular\" + 0.031*\"arrang\" + 0.029*\"6\" + 0.028*\"intersect\" + 0.027*\"mode\"\n",
      "2021-02-19 13:11:57,056 : INFO : topic #77 (0.010): 0.077*\"divis\" + 0.053*\"?\" + 0.037*\"difficult\" + 0.034*\"-\" + 0.034*\"request\" + 0.034*\"regular\" + 0.033*\"result\" + 0.032*\"elimin\" + 0.029*\"criterion\" + 0.028*\"method\"\n",
      "2021-02-19 13:11:57,057 : INFO : topic #93 (0.016): 0.604*\"\"\" + 0.116*\"standard\" + 0.086*\"inform\" + 0.074*\"propos\" + 0.053*\"process\" + 0.047*\"american\" + 0.004*\"compar\" + 0.002*\"analyz\" + 0.001*\"term\" + 0.000*\"/\"\n",
      "2021-02-19 13:11:57,058 : INFO : topic #82 (0.016): 0.283*\"[\" + 0.200*\"algorithm\" + 0.195*\"(\" + 0.168*\"])\" + 0.027*\"function\" + 0.020*\"-\" + 0.017*\"copi\" + 0.016*\"s14\" + 0.013*\"s15\" + 0.011*\"integr\"\n",
      "2021-02-19 13:11:57,059 : INFO : topic #12 (0.045): 0.401*\")\" + 0.395*\"(\" + 0.169*\"algorithm\" + 0.013*\"integr\" + 0.006*\"interchang\" + 0.004*\"magnet\" + 0.003*\"usa\" + 0.002*\"200\" + 0.002*\"part\" + 0.001*\"tape\"\n",
      "2021-02-19 13:11:57,060 : INFO : topic diff=0.308159, rho=0.271143\n",
      "2021-02-19 13:11:57,862 : INFO : -6.475 per-word bound, 89.0 perplexity estimate based on a held-out corpus of 1204 documents with 49783 words\n",
      "2021-02-19 13:11:57,863 : INFO : PROGRESS: pass 11, at document #3204/3204\n",
      "2021-02-19 13:11:58,521 : INFO : optimized alpha [0.011984502, 0.013127291, 0.011535182, 0.0130146835, 0.011638077, 0.012063296, 0.0116543295, 0.010685933, 0.011488381, 0.013293325, 0.0108736465, 0.01089997, 0.04701909, 0.010642385, 0.011159798, 0.011461464, 0.010439669, 0.01187549, 0.013350898, 0.011680008, 0.011764521, 0.011471872, 0.012942853, 0.011904586, 0.011570329, 0.01067776, 0.010466608, 0.015164078, 0.010524741, 0.013287654, 0.010136752, 0.012768827, 0.011525787, 0.011025377, 0.011194239, 0.012306775, 0.012307493, 0.01189784, 0.012393979, 0.011144168, 0.011701237, 0.014337828, 0.014422556, 0.011216859, 0.012560088, 0.0105593195, 0.011239304, 0.011852852, 0.013335573, 0.012148503, 0.014891028, 0.013234109, 0.012854757, 0.011004806, 0.011457596, 0.01131458, 0.011434346, 0.012242144, 0.0121691665, 0.012561851, 0.011146832, 0.01258067, 0.012344795, 0.013958178, 0.012122035, 0.011539518, 0.011492313, 0.011229433, 0.0112466635, 0.011369203, 0.011769802, 0.012447786, 0.014055185, 0.012405308, 0.010757557, 0.012925506, 0.011868602, 0.010363576, 0.011025652, 0.0105964765, 0.013652947, 0.0107293455, 0.016435938, 0.011336065, 0.014246423, 0.010737124, 0.012521259, 0.011461787, 0.012504904, 0.012386444, 0.011569063, 0.01196696, 0.011486391, 0.016207302, 0.011327781, 0.013534868, 0.011990485, 0.013963735, 0.01250445, 0.010494934]\n",
      "2021-02-19 13:11:58,529 : INFO : merging changes from 1204 documents into a model of 3204 documents\n",
      "2021-02-19 13:11:58,537 : INFO : topic #30 (0.010): 0.071*\",\" + 0.054*\"termin\" + 0.044*\"comput\" + 0.043*\"-\" + 0.041*\"point\" + 0.040*\"rectangular\" + 0.033*\"arrang\" + 0.030*\"intersect\" + 0.030*\"mode\" + 0.027*\"6\"\n",
      "2021-02-19 13:11:58,539 : INFO : topic #77 (0.010): 0.069*\"divis\" + 0.062*\"?\" + 0.040*\"difficult\" + 0.036*\"result\" + 0.035*\"regular\" + 0.034*\"request\" + 0.032*\"elimin\" + 0.031*\"criterion\" + 0.031*\"-\" + 0.027*\"primari\"\n",
      "2021-02-19 13:11:58,540 : INFO : topic #93 (0.016): 0.648*\"\"\" + 0.102*\"standard\" + 0.079*\"inform\" + 0.065*\"propos\" + 0.048*\"process\" + 0.040*\"american\" + 0.003*\"compar\" + 0.002*\"analyz\" + 0.001*\"term\" + 0.000*\"/\"\n",
      "2021-02-19 13:11:58,541 : INFO : topic #82 (0.016): 0.309*\"[\" + 0.203*\"algorithm\" + 0.185*\"(\" + 0.142*\"])\" + 0.026*\"function\" + 0.025*\"copi\" + 0.021*\"-\" + 0.016*\"s14\" + 0.011*\"s15\" + 0.010*\"integr\"\n",
      "2021-02-19 13:11:58,542 : INFO : topic #12 (0.047): 0.408*\")\" + 0.401*\"(\" + 0.161*\"algorithm\" + 0.012*\"integr\" + 0.005*\"interchang\" + 0.003*\"magnet\" + 0.002*\"usa\" + 0.002*\"part\" + 0.001*\"200\" + 0.001*\"tape\"\n"
     ]
    },
    {
     "name": "stderr",
     "output_type": "stream",
     "text": [
      "2021-02-19 13:11:58,543 : INFO : topic diff=0.313322, rho=0.271143\n",
      "2021-02-19 13:11:58,551 : INFO : PROGRESS: pass 12, at document #2000/3204\n",
      "2021-02-19 13:11:59,287 : INFO : optimized alpha [0.01211965, 0.0132138375, 0.011601557, 0.013175688, 0.011624374, 0.012219495, 0.011690627, 0.01069893, 0.011522171, 0.013424822, 0.010878977, 0.0109161185, 0.049525827, 0.010662055, 0.01116043, 0.011464174, 0.010433606, 0.011858584, 0.013419446, 0.011699994, 0.011887885, 0.011454907, 0.013088405, 0.011955673, 0.01160256, 0.010715964, 0.010445826, 0.015181257, 0.010539986, 0.013540616, 0.01012064, 0.01284357, 0.011579722, 0.011093938, 0.011304147, 0.012322704, 0.012376891, 0.011949801, 0.0123736765, 0.011159087, 0.011783695, 0.014627393, 0.014488067, 0.011215796, 0.012755349, 0.010616457, 0.0112821795, 0.011895359, 0.013490928, 0.012313249, 0.015051836, 0.013224389, 0.01298389, 0.010984823, 0.0115137575, 0.011334402, 0.011490649, 0.012284196, 0.012224823, 0.012602904, 0.011173522, 0.012617705, 0.012420369, 0.014067033, 0.012232186, 0.011578712, 0.01151768, 0.011248194, 0.0112773795, 0.011408696, 0.011865034, 0.012501725, 0.014243701, 0.012479494, 0.0107297525, 0.013010107, 0.011869741, 0.010376681, 0.01102015, 0.01065268, 0.013623916, 0.010731767, 0.01686501, 0.011361879, 0.014480067, 0.010749503, 0.012614578, 0.011464888, 0.012654779, 0.012440407, 0.011589557, 0.011993689, 0.011492228, 0.01641743, 0.0113319615, 0.0136948405, 0.012074968, 0.014090546, 0.0125463065, 0.0104914745]\n",
      "2021-02-19 13:11:59,293 : INFO : merging changes from 2000 documents into a model of 3204 documents\n",
      "2021-02-19 13:11:59,299 : INFO : topic #30 (0.010): 0.069*\",\" + 0.053*\"termin\" + 0.044*\"-\" + 0.044*\"comput\" + 0.041*\"point\" + 0.036*\"rectangular\" + 0.032*\"arrang\" + 0.029*\"6\" + 0.029*\"intersect\" + 0.028*\"mode\"\n",
      "2021-02-19 13:11:59,300 : INFO : topic #77 (0.010): 0.077*\"divis\" + 0.054*\"?\" + 0.037*\"difficult\" + 0.036*\"request\" + 0.034*\"-\" + 0.034*\"regular\" + 0.034*\"result\" + 0.033*\"elimin\" + 0.029*\"criterion\" + 0.026*\"correct\"\n",
      "2021-02-19 13:11:59,300 : INFO : topic #93 (0.016): 0.610*\"\"\" + 0.116*\"standard\" + 0.082*\"inform\" + 0.074*\"propos\" + 0.051*\"process\" + 0.047*\"american\" + 0.004*\"compar\" + 0.002*\"analyz\" + 0.001*\"term\" + 0.000*\"/\"\n",
      "2021-02-19 13:11:59,302 : INFO : topic #82 (0.017): 0.284*\"[\" + 0.201*\"algorithm\" + 0.195*\"(\" + 0.167*\"])\" + 0.026*\"function\" + 0.020*\"-\" + 0.018*\"copi\" + 0.016*\"s14\" + 0.013*\"s15\" + 0.011*\"integr\"\n",
      "2021-02-19 13:11:59,303 : INFO : topic #12 (0.050): 0.401*\")\" + 0.396*\"(\" + 0.168*\"algorithm\" + 0.013*\"integr\" + 0.006*\"interchang\" + 0.004*\"magnet\" + 0.003*\"usa\" + 0.002*\"200\" + 0.002*\"part\" + 0.001*\"tape\"\n",
      "2021-02-19 13:11:59,303 : INFO : topic diff=0.273940, rho=0.261694\n",
      "2021-02-19 13:12:00,095 : INFO : -6.466 per-word bound, 88.4 perplexity estimate based on a held-out corpus of 1204 documents with 49783 words\n",
      "2021-02-19 13:12:00,095 : INFO : PROGRESS: pass 12, at document #3204/3204\n",
      "2021-02-19 13:12:00,734 : INFO : optimized alpha [0.012199114, 0.013408763, 0.011747906, 0.013478694, 0.011800808, 0.012387104, 0.011811307, 0.010770724, 0.011646999, 0.013751032, 0.010979876, 0.010986685, 0.051752094, 0.010769766, 0.011271838, 0.011612971, 0.010501419, 0.0120182615, 0.013564943, 0.011827523, 0.011971479, 0.011618707, 0.013253861, 0.012100435, 0.011748952, 0.010815334, 0.010544251, 0.015636573, 0.010657412, 0.013766007, 0.010161434, 0.013071526, 0.011728427, 0.011158076, 0.011412023, 0.012518503, 0.012499157, 0.0120329475, 0.012528437, 0.011262642, 0.011916834, 0.0149972895, 0.01477099, 0.011289862, 0.012865741, 0.010683527, 0.011397726, 0.012004256, 0.0136423735, 0.01234803, 0.01543823, 0.01351854, 0.013214656, 0.011114847, 0.011658422, 0.011477222, 0.011589346, 0.01245995, 0.012376345, 0.012834415, 0.011246501, 0.012770698, 0.0126181245, 0.0143747805, 0.012285811, 0.01175015, 0.011649986, 0.011365831, 0.011391764, 0.011506355, 0.011970223, 0.012709075, 0.014486692, 0.012655109, 0.010807475, 0.013096212, 0.0120553775, 0.010427286, 0.011136444, 0.010725494, 0.013963733, 0.0108120665, 0.017016584, 0.011474665, 0.01475972, 0.010839211, 0.012726007, 0.011634957, 0.012743181, 0.0125965085, 0.011685429, 0.012173426, 0.011634198, 0.01672135, 0.011462376, 0.013875107, 0.012180799, 0.014275597, 0.012733072, 0.010586937]\n",
      "2021-02-19 13:12:00,740 : INFO : merging changes from 1204 documents into a model of 3204 documents\n",
      "2021-02-19 13:12:00,746 : INFO : topic #30 (0.010): 0.072*\",\" + 0.056*\"termin\" + 0.043*\"comput\" + 0.042*\"-\" + 0.041*\"point\" + 0.040*\"rectangular\" + 0.034*\"arrang\" + 0.031*\"mode\" + 0.030*\"intersect\" + 0.027*\"6\"\n",
      "2021-02-19 13:12:00,747 : INFO : topic #77 (0.010): 0.070*\"divis\" + 0.062*\"?\" + 0.040*\"difficult\" + 0.037*\"result\" + 0.035*\"request\" + 0.035*\"regular\" + 0.032*\"elimin\" + 0.031*\"criterion\" + 0.031*\"-\" + 0.027*\"termin\"\n",
      "2021-02-19 13:12:00,748 : INFO : topic #93 (0.017): 0.650*\"\"\" + 0.103*\"standard\" + 0.075*\"inform\" + 0.066*\"propos\" + 0.047*\"process\" + 0.041*\"american\" + 0.003*\"compar\" + 0.002*\"analyz\" + 0.001*\"term\" + 0.000*\"/\"\n",
      "2021-02-19 13:12:00,748 : INFO : topic #82 (0.017): 0.309*\"[\" + 0.203*\"algorithm\" + 0.186*\"(\" + 0.142*\"])\" + 0.026*\"function\" + 0.025*\"copi\" + 0.021*\"-\" + 0.016*\"s14\" + 0.011*\"s15\" + 0.010*\"integr\"\n",
      "2021-02-19 13:12:00,749 : INFO : topic #12 (0.052): 0.409*\")\" + 0.401*\"(\" + 0.161*\"algorithm\" + 0.012*\"integr\" + 0.005*\"interchang\" + 0.003*\"magnet\" + 0.002*\"usa\" + 0.002*\"part\" + 0.001*\"200\" + 0.001*\"tape\"\n",
      "2021-02-19 13:12:00,751 : INFO : topic diff=0.279481, rho=0.261694\n",
      "2021-02-19 13:12:00,758 : INFO : PROGRESS: pass 13, at document #2000/3204\n",
      "2021-02-19 13:12:01,475 : INFO : optimized alpha [0.012331481, 0.013496394, 0.011814017, 0.013644094, 0.011787115, 0.012539142, 0.011848105, 0.0107808765, 0.0116827665, 0.013879777, 0.010983773, 0.011006887, 0.054302633, 0.010787577, 0.01127681, 0.011619761, 0.010499861, 0.012001574, 0.013633347, 0.011849939, 0.01209679, 0.01160185, 0.013394849, 0.012154684, 0.011780231, 0.010855358, 0.010524286, 0.015652556, 0.010673603, 0.014021659, 0.01015027, 0.013147329, 0.011791465, 0.01122931, 0.011526929, 0.012533483, 0.012565287, 0.012083706, 0.012516594, 0.011284511, 0.01200041, 0.015292925, 0.014841582, 0.011289109, 0.0130642615, 0.010742105, 0.011440965, 0.012042624, 0.01379631, 0.012509475, 0.015596009, 0.013509378, 0.013347895, 0.011100962, 0.011716051, 0.011496367, 0.011648784, 0.012503862, 0.012428875, 0.012875396, 0.011272706, 0.012814836, 0.012696493, 0.01448245, 0.012393562, 0.011792593, 0.011683513, 0.011385544, 0.0114273755, 0.011547812, 0.012064805, 0.012764554, 0.014675657, 0.012727326, 0.0107823135, 0.01318041, 0.012052944, 0.010439021, 0.011135417, 0.010783176, 0.013935201, 0.010818758, 0.017442167, 0.0115012415, 0.014986805, 0.010855469, 0.012815568, 0.011634639, 0.012888416, 0.012650545, 0.011699511, 0.01220526, 0.011641237, 0.016931573, 0.0114693185, 0.01403192, 0.012264903, 0.014399455, 0.0127735445, 0.010582432]\n",
      "2021-02-19 13:12:01,481 : INFO : merging changes from 2000 documents into a model of 3204 documents\n",
      "2021-02-19 13:12:01,488 : INFO : topic #30 (0.010): 0.069*\",\" + 0.055*\"termin\" + 0.043*\"comput\" + 0.043*\"-\" + 0.041*\"point\" + 0.037*\"rectangular\" + 0.033*\"arrang\" + 0.029*\"mode\" + 0.029*\"6\" + 0.029*\"intersect\"\n",
      "2021-02-19 13:12:01,489 : INFO : topic #77 (0.010): 0.078*\"divis\" + 0.055*\"?\" + 0.037*\"difficult\" + 0.037*\"request\" + 0.035*\"result\" + 0.034*\"regular\" + 0.033*\"elimin\" + 0.033*\"-\" + 0.029*\"criterion\" + 0.027*\"correct\"\n",
      "2021-02-19 13:12:01,490 : INFO : topic #93 (0.017): 0.613*\"\"\" + 0.117*\"standard\" + 0.079*\"inform\" + 0.075*\"propos\" + 0.050*\"process\" + 0.047*\"american\" + 0.004*\"compar\" + 0.002*\"analyz\" + 0.001*\"term\" + 0.000*\"/\"\n",
      "2021-02-19 13:12:01,490 : INFO : topic #82 (0.017): 0.284*\"[\" + 0.202*\"algorithm\" + 0.195*\"(\" + 0.167*\"])\" + 0.026*\"function\" + 0.020*\"-\" + 0.018*\"copi\" + 0.016*\"s14\" + 0.013*\"s15\" + 0.011*\"integr\"\n",
      "2021-02-19 13:12:01,491 : INFO : topic #12 (0.054): 0.402*\")\" + 0.397*\"(\" + 0.168*\"algorithm\" + 0.012*\"integr\" + 0.006*\"interchang\" + 0.004*\"magnet\" + 0.003*\"usa\" + 0.002*\"200\" + 0.002*\"part\" + 0.001*\"tape\"\n",
      "2021-02-19 13:12:01,492 : INFO : topic diff=0.245512, rho=0.253169\n",
      "2021-02-19 13:12:02,261 : INFO : -6.456 per-word bound, 87.8 perplexity estimate based on a held-out corpus of 1204 documents with 49783 words\n"
     ]
    },
    {
     "name": "stderr",
     "output_type": "stream",
     "text": [
      "2021-02-19 13:12:02,261 : INFO : PROGRESS: pass 13, at document #3204/3204\n",
      "2021-02-19 13:12:02,887 : INFO : optimized alpha [0.012413721, 0.013689963, 0.011962125, 0.013969502, 0.011969614, 0.012711132, 0.011960831, 0.010853301, 0.011804618, 0.014234589, 0.011077566, 0.011071147, 0.056509398, 0.010899542, 0.01139035, 0.011769999, 0.010572793, 0.012157525, 0.013783868, 0.011976892, 0.012183047, 0.011761881, 0.013559337, 0.012303687, 0.011925801, 0.010956887, 0.010615878, 0.016105533, 0.01079518, 0.014254925, 0.010190356, 0.01337094, 0.011934313, 0.011291747, 0.011639445, 0.012725009, 0.01268448, 0.012164739, 0.012675705, 0.011392906, 0.012125376, 0.015686247, 0.015113067, 0.011361476, 0.013179791, 0.010809726, 0.011556147, 0.012151334, 0.0139438985, 0.0125453, 0.01599171, 0.0138070285, 0.013571865, 0.01123016, 0.011857427, 0.011638346, 0.011749993, 0.012681088, 0.012582113, 0.01310777, 0.011348719, 0.0129641425, 0.012895703, 0.014794625, 0.012448179, 0.011970387, 0.01182262, 0.0115027465, 0.011541436, 0.011655168, 0.012169763, 0.01297039, 0.014917184, 0.012893716, 0.010862813, 0.013266794, 0.0122320205, 0.010488537, 0.01124421, 0.010861003, 0.014266441, 0.010897128, 0.01758748, 0.011611322, 0.015262329, 0.0109361475, 0.012921328, 0.011798505, 0.012974105, 0.012800339, 0.011798016, 0.0123784635, 0.011782361, 0.017225994, 0.011586956, 0.014211001, 0.012368086, 0.014580133, 0.012958949, 0.010675664]\n",
      "2021-02-19 13:12:02,894 : INFO : merging changes from 1204 documents into a model of 3204 documents\n",
      "2021-02-19 13:12:02,900 : INFO : topic #30 (0.010): 0.072*\",\" + 0.058*\"termin\" + 0.043*\"comput\" + 0.042*\"-\" + 0.041*\"point\" + 0.040*\"rectangular\" + 0.035*\"arrang\" + 0.032*\"mode\" + 0.030*\"intersect\" + 0.027*\"accuraci\"\n",
      "2021-02-19 13:12:02,901 : INFO : topic #77 (0.010): 0.071*\"divis\" + 0.062*\"?\" + 0.040*\"difficult\" + 0.038*\"result\" + 0.036*\"request\" + 0.035*\"regular\" + 0.033*\"elimin\" + 0.031*\"criterion\" + 0.030*\"-\" + 0.028*\"found\"\n",
      "2021-02-19 13:12:02,902 : INFO : topic #93 (0.017): 0.651*\"\"\" + 0.104*\"standard\" + 0.073*\"inform\" + 0.068*\"propos\" + 0.046*\"process\" + 0.041*\"american\" + 0.003*\"compar\" + 0.002*\"analyz\" + 0.001*\"term\" + 0.000*\"/\"\n",
      "2021-02-19 13:12:02,902 : INFO : topic #82 (0.018): 0.308*\"[\" + 0.204*\"algorithm\" + 0.186*\"(\" + 0.142*\"])\" + 0.025*\"function\" + 0.024*\"copi\" + 0.021*\"-\" + 0.016*\"s14\" + 0.011*\"s15\" + 0.010*\"integr\"\n",
      "2021-02-19 13:12:02,903 : INFO : topic #12 (0.057): 0.409*\")\" + 0.402*\"(\" + 0.161*\"algorithm\" + 0.011*\"integr\" + 0.005*\"interchang\" + 0.003*\"magnet\" + 0.002*\"usa\" + 0.002*\"part\" + 0.001*\"200\" + 0.000*\"tape\"\n",
      "2021-02-19 13:12:02,904 : INFO : topic diff=0.251159, rho=0.253169\n",
      "2021-02-19 13:12:02,913 : INFO : PROGRESS: pass 14, at document #2000/3204\n",
      "2021-02-19 13:12:03,630 : INFO : optimized alpha [0.012540516, 0.013780531, 0.012026684, 0.014134302, 0.011961679, 0.012863871, 0.012001177, 0.0108593665, 0.011839474, 0.014369567, 0.011081503, 0.011093785, 0.05908402, 0.010919561, 0.011388207, 0.011773444, 0.010570239, 0.01214103, 0.013852322, 0.011998697, 0.012304453, 0.01174227, 0.0137061095, 0.012356577, 0.011959156, 0.010998696, 0.01059268, 0.016120302, 0.010814861, 0.014517113, 0.010182529, 0.013444705, 0.01200036, 0.011358739, 0.011750884, 0.012740668, 0.012752162, 0.0122114355, 0.012657656, 0.011422718, 0.012210125, 0.015998086, 0.01517369, 0.0113596525, 0.0133754555, 0.010868386, 0.011598316, 0.012185765, 0.014094965, 0.012705279, 0.016146153, 0.013793192, 0.013694327, 0.011215195, 0.011912232, 0.011658298, 0.0118066305, 0.012725322, 0.012636323, 0.013153591, 0.011375887, 0.013021768, 0.01297539, 0.014897803, 0.012550764, 0.012011594, 0.011858096, 0.011523407, 0.011577677, 0.011704237, 0.012266908, 0.013030606, 0.015106817, 0.012962559, 0.010838686, 0.013352347, 0.0122322645, 0.010502903, 0.011246088, 0.010922753, 0.014238455, 0.010901126, 0.018009868, 0.011637268, 0.0154942, 0.010950833, 0.0130105475, 0.011806641, 0.013116618, 0.012852968, 0.01181183, 0.012412245, 0.011790508, 0.017430201, 0.011596574, 0.014366713, 0.012451912, 0.014703126, 0.012996506, 0.010679267]\n",
      "2021-02-19 13:12:03,636 : INFO : merging changes from 2000 documents into a model of 3204 documents\n",
      "2021-02-19 13:12:03,642 : INFO : topic #30 (0.010): 0.069*\",\" + 0.058*\"termin\" + 0.043*\"comput\" + 0.042*\"-\" + 0.041*\"point\" + 0.037*\"rectangular\" + 0.034*\"arrang\" + 0.030*\"mode\" + 0.029*\"6\" + 0.029*\"intersect\"\n",
      "2021-02-19 13:12:03,643 : INFO : topic #77 (0.011): 0.078*\"divis\" + 0.055*\"?\" + 0.037*\"request\" + 0.037*\"difficult\" + 0.035*\"result\" + 0.034*\"regular\" + 0.034*\"elimin\" + 0.033*\"-\" + 0.029*\"criterion\" + 0.027*\"found\"\n",
      "2021-02-19 13:12:03,644 : INFO : topic #93 (0.017): 0.615*\"\"\" + 0.117*\"standard\" + 0.077*\"inform\" + 0.076*\"propos\" + 0.049*\"process\" + 0.047*\"american\" + 0.004*\"compar\" + 0.002*\"analyz\" + 0.001*\"term\" + 0.000*\"/\"\n",
      "2021-02-19 13:12:03,644 : INFO : topic #82 (0.018): 0.284*\"[\" + 0.203*\"algorithm\" + 0.195*\"(\" + 0.166*\"])\" + 0.026*\"function\" + 0.020*\"-\" + 0.018*\"copi\" + 0.016*\"s14\" + 0.013*\"s15\" + 0.011*\"integr\"\n",
      "2021-02-19 13:12:03,645 : INFO : topic #12 (0.059): 0.402*\")\" + 0.397*\"(\" + 0.167*\"algorithm\" + 0.012*\"integr\" + 0.006*\"interchang\" + 0.004*\"magnet\" + 0.003*\"usa\" + 0.002*\"200\" + 0.002*\"part\" + 0.000*\"tape\"\n",
      "2021-02-19 13:12:03,646 : INFO : topic diff=0.222095, rho=0.245426\n",
      "2021-02-19 13:12:04,396 : INFO : -6.447 per-word bound, 87.2 perplexity estimate based on a held-out corpus of 1204 documents with 49783 words\n",
      "2021-02-19 13:12:04,396 : INFO : PROGRESS: pass 14, at document #3204/3204\n",
      "2021-02-19 13:12:05,012 : INFO : optimized alpha [0.01262045, 0.013970249, 0.012166833, 0.01446, 0.0121404715, 0.013040509, 0.012121136, 0.010925683, 0.011960988, 0.014754054, 0.011175413, 0.011156572, 0.061226446, 0.011024618, 0.011496844, 0.011917999, 0.01064161, 0.012296037, 0.013990844, 0.012120329, 0.012385944, 0.0119037265, 0.013869883, 0.012494815, 0.0121141635, 0.011095697, 0.010679944, 0.016574686, 0.010931541, 0.014752648, 0.010232329, 0.013672544, 0.012147792, 0.011421968, 0.011860866, 0.012933504, 0.012868567, 0.012290542, 0.012802803, 0.011531098, 0.012332189, 0.016402792, 0.015446604, 0.011432757, 0.013490645, 0.010940947, 0.011703611, 0.012286907, 0.014238961, 0.012736929, 0.016538497, 0.014088939, 0.013917347, 0.011346138, 0.012053084, 0.011797263, 0.011905483, 0.012893705, 0.012788828, 0.013379266, 0.011450109, 0.013167959, 0.013173622, 0.015211682, 0.01260652, 0.0121910265, 0.01199169, 0.011638006, 0.011691502, 0.011811604, 0.012374469, 0.013232664, 0.01534409, 0.013125351, 0.010917413, 0.013428136, 0.01242023, 0.010547095, 0.011366501, 0.010996516, 0.014561565, 0.010977766, 0.018149119, 0.011744849, 0.015768826, 0.011029723, 0.013113682, 0.011967154, 0.013194421, 0.0129994685, 0.011908175, 0.012576817, 0.011928598, 0.017722573, 0.011716427, 0.014544952, 0.01255258, 0.014876665, 0.0131755, 0.01077263]\n",
      "2021-02-19 13:12:05,018 : INFO : merging changes from 1204 documents into a model of 3204 documents\n",
      "2021-02-19 13:12:05,024 : INFO : topic #30 (0.010): 0.072*\",\" + 0.060*\"termin\" + 0.042*\"comput\" + 0.041*\"point\" + 0.041*\"-\" + 0.040*\"rectangular\" + 0.035*\"arrang\" + 0.034*\"mode\" + 0.030*\"intersect\" + 0.027*\"accuraci\"\n",
      "2021-02-19 13:12:05,024 : INFO : topic #77 (0.011): 0.072*\"divis\" + 0.063*\"?\" + 0.040*\"difficult\" + 0.038*\"result\" + 0.036*\"request\" + 0.035*\"regular\" + 0.033*\"elimin\" + 0.032*\"criterion\" + 0.030*\"-\" + 0.028*\"found\"\n",
      "2021-02-19 13:12:05,025 : INFO : topic #93 (0.018): 0.652*\"\"\" + 0.105*\"standard\" + 0.071*\"inform\" + 0.068*\"propos\" + 0.045*\"process\" + 0.041*\"american\" + 0.003*\"compar\" + 0.002*\"analyz\" + 0.001*\"term\" + 0.000*\"/\"\n",
      "2021-02-19 13:12:05,027 : INFO : topic #82 (0.018): 0.307*\"[\" + 0.205*\"algorithm\" + 0.186*\"(\" + 0.143*\"])\" + 0.025*\"function\" + 0.024*\"copi\" + 0.021*\"-\" + 0.016*\"s14\" + 0.011*\"s15\" + 0.010*\"integr\"\n",
      "2021-02-19 13:12:05,027 : INFO : topic #12 (0.061): 0.409*\")\" + 0.402*\"(\" + 0.160*\"algorithm\" + 0.011*\"integr\" + 0.005*\"interchang\" + 0.003*\"magnet\" + 0.002*\"usa\" + 0.002*\"part\" + 0.001*\"200\" + 0.000*\"tape\"\n",
      "2021-02-19 13:12:05,028 : INFO : topic diff=0.227543, rho=0.245426\n",
      "2021-02-19 13:12:05,034 : INFO : PROGRESS: pass 15, at document #2000/3204\n",
      "2021-02-19 13:12:05,720 : INFO : optimized alpha [0.012751054, 0.014053782, 0.012231498, 0.014626214, 0.012136708, 0.013192626, 0.012166441, 0.010933161, 0.011994994, 0.014895185, 0.011179345, 0.01118166, 0.06380252, 0.0110468045, 0.011498936, 0.011919757, 0.010638057, 0.012278228, 0.014052732, 0.01214305, 0.012506718, 0.011891338, 0.014015892, 0.012547965, 0.012151005, 0.011137972, 0.0106639555, 0.016586296, 0.0109494105, 0.015016363, 0.01022387, 0.013747581, 0.012212434, 0.011487659, 0.01197046, 0.01294984, 0.012934827, 0.01233779, 0.012783589, 0.011556103, 0.01241675, 0.016737346, 0.01550501, 0.011432672, 0.01369493, 0.010999764, 0.011744856, 0.012324979, 0.014387397, 0.012895641, 0.01669994, 0.0140773775, 0.014042422, 0.011335512, 0.012109511, 0.011817963, 0.011965276, 0.012936727, 0.012846237, 0.013433167, 0.01147675, 0.013219476, 0.01324995, 0.015312146, 0.012710229, 0.012239821, 0.012024872, 0.011659619, 0.011726941, 0.011866728, 0.012472766, 0.013288139, 0.015525296, 0.013192573, 0.01089556, 0.01351347, 0.012422955, 0.010560171, 0.01137105, 0.011059732, 0.014532457, 0.010985809, 0.018570717, 0.011767384, 0.016004112, 0.0110468455, 0.013199579, 0.011976276, 0.013334396, 0.01305084, 0.01192616, 0.0126125105, 0.011937815, 0.017929535, 0.011722968, 0.014706721, 0.012631764, 0.014998945, 0.013213485, 0.0107814595]\n"
     ]
    },
    {
     "name": "stderr",
     "output_type": "stream",
     "text": [
      "2021-02-19 13:12:05,726 : INFO : merging changes from 2000 documents into a model of 3204 documents\n",
      "2021-02-19 13:12:05,732 : INFO : topic #30 (0.010): 0.070*\",\" + 0.059*\"termin\" + 0.043*\"comput\" + 0.041*\"point\" + 0.041*\"-\" + 0.037*\"rectangular\" + 0.035*\"arrang\" + 0.032*\"mode\" + 0.029*\"intersect\" + 0.029*\"6\"\n",
      "2021-02-19 13:12:05,733 : INFO : topic #77 (0.011): 0.079*\"divis\" + 0.055*\"?\" + 0.038*\"request\" + 0.038*\"difficult\" + 0.036*\"result\" + 0.035*\"elimin\" + 0.034*\"regular\" + 0.032*\"-\" + 0.029*\"criterion\" + 0.028*\"found\"\n",
      "2021-02-19 13:12:05,734 : INFO : topic #93 (0.018): 0.616*\"\"\" + 0.118*\"standard\" + 0.077*\"propos\" + 0.075*\"inform\" + 0.048*\"process\" + 0.047*\"american\" + 0.004*\"compar\" + 0.002*\"analyz\" + 0.001*\"term\" + 0.000*\"/\"\n",
      "2021-02-19 13:12:05,736 : INFO : topic #82 (0.019): 0.284*\"[\" + 0.204*\"algorithm\" + 0.195*\"(\" + 0.165*\"])\" + 0.025*\"function\" + 0.020*\"-\" + 0.018*\"copi\" + 0.016*\"s14\" + 0.013*\"s15\" + 0.011*\"integr\"\n",
      "2021-02-19 13:12:05,737 : INFO : topic #12 (0.064): 0.402*\")\" + 0.398*\"(\" + 0.167*\"algorithm\" + 0.012*\"integr\" + 0.006*\"interchang\" + 0.004*\"magnet\" + 0.003*\"usa\" + 0.002*\"200\" + 0.002*\"part\" + 0.000*\"tape\"\n",
      "2021-02-19 13:12:05,738 : INFO : topic diff=0.202385, rho=0.238352\n",
      "2021-02-19 13:12:06,490 : INFO : -6.439 per-word bound, 86.8 perplexity estimate based on a held-out corpus of 1204 documents with 49783 words\n",
      "2021-02-19 13:12:06,490 : INFO : PROGRESS: pass 15, at document #3204/3204\n",
      "2021-02-19 13:12:07,102 : INFO : optimized alpha [0.012828929, 0.014242739, 0.012368898, 0.01495819, 0.012321951, 0.013371294, 0.01228147, 0.010993758, 0.012109248, 0.015313252, 0.0112713, 0.011245399, 0.065860845, 0.011149707, 0.011607623, 0.012066118, 0.010707933, 0.012434986, 0.014188212, 0.012264512, 0.012588578, 0.012049576, 0.0141847925, 0.012685878, 0.012288459, 0.011239623, 0.010747298, 0.017039297, 0.011065839, 0.015254399, 0.010268714, 0.0139717525, 0.01235718, 0.011544789, 0.012075711, 0.013141683, 0.013048663, 0.012417578, 0.012931001, 0.011669227, 0.012531374, 0.017164081, 0.015776496, 0.011504293, 0.013815442, 0.0110771945, 0.011847967, 0.012421531, 0.014528083, 0.012933552, 0.017119367, 0.014365795, 0.014256382, 0.011468275, 0.012252423, 0.011954133, 0.012064397, 0.013104516, 0.012995764, 0.013660464, 0.011549476, 0.013349319, 0.013447501, 0.015624938, 0.012764455, 0.012428495, 0.012155796, 0.0117742745, 0.01183844, 0.011978847, 0.0125729935, 0.013486713, 0.015761595, 0.013352105, 0.010974881, 0.01358455, 0.012607513, 0.010607789, 0.011486797, 0.01113843, 0.014847961, 0.011056436, 0.018704133, 0.011879734, 0.016275464, 0.011126274, 0.013297657, 0.012136159, 0.013412596, 0.0131969135, 0.0120252855, 0.012776275, 0.012075504, 0.018213108, 0.011837985, 0.014872607, 0.012727719, 0.015171862, 0.013391718, 0.010874978]\n",
      "2021-02-19 13:12:07,109 : INFO : merging changes from 1204 documents into a model of 3204 documents\n",
      "2021-02-19 13:12:07,117 : INFO : topic #30 (0.010): 0.072*\",\" + 0.061*\"termin\" + 0.043*\"comput\" + 0.040*\"point\" + 0.040*\"rectangular\" + 0.040*\"-\" + 0.036*\"arrang\" + 0.034*\"mode\" + 0.030*\"intersect\" + 0.027*\"accuraci\"\n",
      "2021-02-19 13:12:07,118 : INFO : topic #77 (0.011): 0.072*\"divis\" + 0.062*\"?\" + 0.040*\"difficult\" + 0.039*\"result\" + 0.036*\"request\" + 0.035*\"regular\" + 0.034*\"elimin\" + 0.031*\"criterion\" + 0.029*\"-\" + 0.028*\"found\"\n",
      "2021-02-19 13:12:07,118 : INFO : topic #93 (0.018): 0.652*\"\"\" + 0.105*\"standard\" + 0.070*\"inform\" + 0.070*\"propos\" + 0.045*\"process\" + 0.041*\"american\" + 0.003*\"compar\" + 0.001*\"analyz\" + 0.001*\"term\" + 0.000*\"/\"\n",
      "2021-02-19 13:12:07,119 : INFO : topic #82 (0.019): 0.307*\"[\" + 0.206*\"algorithm\" + 0.187*\"(\" + 0.143*\"])\" + 0.025*\"function\" + 0.024*\"copi\" + 0.021*\"-\" + 0.017*\"s14\" + 0.011*\"s15\" + 0.011*\"integr\"\n",
      "2021-02-19 13:12:07,120 : INFO : topic #12 (0.066): 0.409*\")\" + 0.402*\"(\" + 0.160*\"algorithm\" + 0.011*\"integr\" + 0.005*\"interchang\" + 0.003*\"magnet\" + 0.002*\"usa\" + 0.002*\"part\" + 0.001*\"200\" + 0.000*\"tape\"\n",
      "2021-02-19 13:12:07,121 : INFO : topic diff=0.207821, rho=0.238352\n",
      "2021-02-19 13:12:07,130 : INFO : PROGRESS: pass 16, at document #2000/3204\n",
      "2021-02-19 13:12:07,808 : INFO : optimized alpha [0.012957405, 0.014322755, 0.01243795, 0.015125839, 0.01231482, 0.013522882, 0.012320062, 0.010997486, 0.012143897, 0.01546456, 0.011275244, 0.011270088, 0.06842913, 0.011168835, 0.011611072, 0.012064793, 0.010703414, 0.01241876, 0.0142554, 0.012290933, 0.012710282, 0.012038596, 0.014330206, 0.012742261, 0.012327277, 0.011281008, 0.01072939, 0.017047841, 0.011085799, 0.015523411, 0.010262029, 0.014046577, 0.012427764, 0.011611959, 0.012189202, 0.013157171, 0.013110533, 0.0124625275, 0.012916645, 0.011696416, 0.012611455, 0.017498702, 0.015834723, 0.01150447, 0.014018946, 0.01113746, 0.011888365, 0.012454542, 0.014674078, 0.013091229, 0.017277913, 0.014351448, 0.014382596, 0.01145641, 0.01230622, 0.011979803, 0.012120194, 0.013147933, 0.013054889, 0.013715992, 0.011578414, 0.013399692, 0.01352367, 0.015722776, 0.012866482, 0.012478907, 0.012188177, 0.01179954, 0.01187449, 0.012036925, 0.012670969, 0.013540707, 0.015947485, 0.013416229, 0.010953821, 0.013665163, 0.012612629, 0.010625789, 0.011492555, 0.01119918, 0.014814349, 0.011070917, 0.019125206, 0.0119086625, 0.016514082, 0.0111392895, 0.0133773135, 0.012143396, 0.013551843, 0.013247076, 0.012045814, 0.012813912, 0.012082927, 0.018414497, 0.011845743, 0.015037062, 0.012805425, 0.01529177, 0.013427015, 0.010882402]\n",
      "2021-02-19 13:12:07,816 : INFO : merging changes from 2000 documents into a model of 3204 documents\n",
      "2021-02-19 13:12:07,824 : INFO : topic #30 (0.010): 0.070*\",\" + 0.060*\"termin\" + 0.043*\"comput\" + 0.040*\"point\" + 0.040*\"-\" + 0.037*\"rectangular\" + 0.035*\"arrang\" + 0.032*\"mode\" + 0.029*\"intersect\" + 0.029*\"6\"\n",
      "2021-02-19 13:12:07,825 : INFO : topic #77 (0.011): 0.079*\"divis\" + 0.055*\"?\" + 0.038*\"request\" + 0.037*\"difficult\" + 0.037*\"result\" + 0.035*\"elimin\" + 0.034*\"regular\" + 0.031*\"-\" + 0.029*\"criterion\" + 0.029*\"found\"\n",
      "2021-02-19 13:12:07,825 : INFO : topic #93 (0.018): 0.617*\"\"\" + 0.118*\"standard\" + 0.078*\"propos\" + 0.074*\"inform\" + 0.047*\"process\" + 0.047*\"american\" + 0.003*\"compar\" + 0.002*\"analyz\" + 0.001*\"term\" + 0.000*\"/\"\n",
      "2021-02-19 13:12:07,826 : INFO : topic #82 (0.019): 0.284*\"[\" + 0.205*\"algorithm\" + 0.195*\"(\" + 0.165*\"])\" + 0.025*\"function\" + 0.021*\"-\" + 0.018*\"copi\" + 0.017*\"s14\" + 0.013*\"s15\" + 0.011*\"integr\"\n",
      "2021-02-19 13:12:07,826 : INFO : topic #12 (0.068): 0.403*\")\" + 0.398*\"(\" + 0.167*\"algorithm\" + 0.012*\"integr\" + 0.006*\"interchang\" + 0.004*\"magnet\" + 0.003*\"usa\" + 0.002*\"200\" + 0.002*\"part\" + 0.000*\"tape\"\n",
      "2021-02-19 13:12:07,827 : INFO : topic diff=0.186195, rho=0.231857\n",
      "2021-02-19 13:12:08,560 : INFO : -6.432 per-word bound, 86.3 perplexity estimate based on a held-out corpus of 1204 documents with 49783 words\n",
      "2021-02-19 13:12:08,561 : INFO : PROGRESS: pass 16, at document #3204/3204\n",
      "2021-02-19 13:12:09,146 : INFO : optimized alpha [0.013033304, 0.014508376, 0.0125775365, 0.015458503, 0.012499458, 0.013698742, 0.012432814, 0.011056984, 0.0122582065, 0.015905816, 0.01136539, 0.011336971, 0.07038646, 0.01127186, 0.011717618, 0.0122107575, 0.010773993, 0.012572554, 0.014388111, 0.012405315, 0.012785272, 0.012193961, 0.014498771, 0.012880025, 0.012481459, 0.011384961, 0.010813168, 0.017499806, 0.011204386, 0.015770078, 0.010308126, 0.014267321, 0.012565087, 0.011665551, 0.012297042, 0.013345713, 0.013227052, 0.012535894, 0.013058636, 0.011802721, 0.012721271, 0.017928036, 0.016092956, 0.011574715, 0.014136618, 0.011213345, 0.011987148, 0.0125539685, 0.014811675, 0.013125158, 0.017688042, 0.014638726, 0.014593224, 0.011588901, 0.012444234, 0.012115735, 0.012214982, 0.013312763, 0.013196514, 0.01393189, 0.011649741, 0.013529594, 0.013715427, 0.016037976, 0.012919485, 0.012655015, 0.012319085, 0.011918954, 0.0119860945, 0.012144548, 0.012776432, 0.013738726, 0.016183091, 0.013575353, 0.011029461, 0.013731821, 0.012793929, 0.010674569, 0.011615166, 0.01127841, 0.01513408, 0.011144451, 0.019252948, 0.012021105, 0.016781896, 0.011219296, 0.013470668, 0.012307502, 0.013625337, 0.013385263, 0.012147752, 0.012974793, 0.012220338, 0.018696634, 0.011967803, 0.015205331, 0.012899327, 0.015461283, 0.013604673, 0.010974127]\n",
      "2021-02-19 13:12:09,152 : INFO : merging changes from 1204 documents into a model of 3204 documents\n"
     ]
    },
    {
     "name": "stderr",
     "output_type": "stream",
     "text": [
      "2021-02-19 13:12:09,158 : INFO : topic #30 (0.010): 0.073*\",\" + 0.062*\"termin\" + 0.043*\"comput\" + 0.040*\"rectangular\" + 0.040*\"point\" + 0.038*\"-\" + 0.036*\"arrang\" + 0.035*\"mode\" + 0.030*\"intersect\" + 0.028*\"accuraci\"\n",
      "2021-02-19 13:12:09,158 : INFO : topic #77 (0.011): 0.072*\"divis\" + 0.062*\"?\" + 0.040*\"result\" + 0.040*\"difficult\" + 0.037*\"request\" + 0.035*\"regular\" + 0.034*\"elimin\" + 0.031*\"criterion\" + 0.029*\"found\" + 0.028*\"-\"\n",
      "2021-02-19 13:12:09,159 : INFO : topic #93 (0.019): 0.652*\"\"\" + 0.106*\"standard\" + 0.070*\"propos\" + 0.069*\"inform\" + 0.044*\"process\" + 0.041*\"american\" + 0.003*\"compar\" + 0.001*\"analyz\" + 0.001*\"term\" + 0.000*\"/\"\n",
      "2021-02-19 13:12:09,160 : INFO : topic #82 (0.019): 0.306*\"[\" + 0.207*\"algorithm\" + 0.187*\"(\" + 0.143*\"])\" + 0.024*\"function\" + 0.024*\"copi\" + 0.021*\"-\" + 0.017*\"s14\" + 0.011*\"s15\" + 0.011*\"integr\"\n",
      "2021-02-19 13:12:09,161 : INFO : topic #12 (0.070): 0.409*\")\" + 0.402*\"(\" + 0.160*\"algorithm\" + 0.011*\"integr\" + 0.005*\"interchang\" + 0.003*\"magnet\" + 0.002*\"usa\" + 0.001*\"part\" + 0.001*\"200\" + 0.000*\"tape\"\n",
      "2021-02-19 13:12:09,162 : INFO : topic diff=0.191197, rho=0.231857\n",
      "2021-02-19 13:12:09,169 : INFO : PROGRESS: pass 17, at document #2000/3204\n",
      "2021-02-19 13:12:09,826 : INFO : optimized alpha [0.013158314, 0.01459332, 0.012643891, 0.01562589, 0.012490577, 0.01385617, 0.012476237, 0.011058369, 0.012287959, 0.016056726, 0.011369326, 0.011365235, 0.07292679, 0.011290569, 0.0117223365, 0.012210614, 0.010773466, 0.012554988, 0.014455594, 0.012426923, 0.012902213, 0.012181476, 0.014643754, 0.012939626, 0.012529228, 0.011430703, 0.010798272, 0.01750731, 0.0112264035, 0.016049981, 0.010299594, 0.014340401, 0.012632977, 0.011730292, 0.012410267, 0.013361921, 0.013293739, 0.0125815235, 0.013050387, 0.011840205, 0.012795636, 0.018272435, 0.016154828, 0.011575138, 0.0143396435, 0.011272596, 0.012024047, 0.01259633, 0.014955402, 0.013280509, 0.01783978, 0.014626651, 0.014727302, 0.011578446, 0.012495527, 0.012140698, 0.012273985, 0.013353589, 0.01325441, 0.013987426, 0.011675611, 0.013581952, 0.013794663, 0.016137008, 0.013021324, 0.012701236, 0.012354929, 0.011942323, 0.012021412, 0.0121988505, 0.012877216, 0.013792869, 0.016366553, 0.013641113, 0.011009164, 0.01381254, 0.012799964, 0.010694857, 0.011619425, 0.011340697, 0.015102862, 0.011156244, 0.019671515, 0.012050802, 0.017026188, 0.011234705, 0.013550371, 0.012318535, 0.013762437, 0.013432811, 0.012169359, 0.013015879, 0.012228869, 0.018890532, 0.011973964, 0.015369171, 0.012978597, 0.015577315, 0.013643506, 0.010982743]\n",
      "2021-02-19 13:12:09,831 : INFO : merging changes from 2000 documents into a model of 3204 documents\n",
      "2021-02-19 13:12:09,838 : INFO : topic #30 (0.010): 0.071*\",\" + 0.062*\"termin\" + 0.044*\"comput\" + 0.039*\"point\" + 0.039*\"-\" + 0.037*\"rectangular\" + 0.036*\"arrang\" + 0.033*\"mode\" + 0.029*\"intersect\" + 0.029*\"6\"\n",
      "2021-02-19 13:12:09,839 : INFO : topic #77 (0.011): 0.079*\"divis\" + 0.055*\"?\" + 0.038*\"result\" + 0.038*\"request\" + 0.037*\"difficult\" + 0.036*\"elimin\" + 0.034*\"regular\" + 0.030*\"found\" + 0.030*\"-\" + 0.029*\"criterion\"\n",
      "2021-02-19 13:12:09,840 : INFO : topic #93 (0.019): 0.619*\"\"\" + 0.118*\"standard\" + 0.077*\"propos\" + 0.073*\"inform\" + 0.047*\"american\" + 0.047*\"process\" + 0.003*\"compar\" + 0.001*\"analyz\" + 0.001*\"term\" + 0.000*\"/\"\n",
      "2021-02-19 13:12:09,841 : INFO : topic #82 (0.020): 0.284*\"[\" + 0.205*\"algorithm\" + 0.195*\"(\" + 0.164*\"])\" + 0.025*\"function\" + 0.021*\"-\" + 0.018*\"copi\" + 0.017*\"s14\" + 0.013*\"s15\" + 0.011*\"integr\"\n",
      "2021-02-19 13:12:09,841 : INFO : topic #12 (0.073): 0.403*\")\" + 0.398*\"(\" + 0.167*\"algorithm\" + 0.012*\"integr\" + 0.006*\"interchang\" + 0.004*\"magnet\" + 0.003*\"usa\" + 0.002*\"200\" + 0.002*\"part\" + 0.000*\"tape\"\n",
      "2021-02-19 13:12:09,842 : INFO : topic diff=0.172117, rho=0.225865\n",
      "2021-02-19 13:12:10,554 : INFO : -6.425 per-word bound, 85.9 perplexity estimate based on a held-out corpus of 1204 documents with 49783 words\n",
      "2021-02-19 13:12:10,555 : INFO : PROGRESS: pass 17, at document #3204/3204\n",
      "2021-02-19 13:12:11,110 : INFO : optimized alpha [0.013234883, 0.014773057, 0.01278352, 0.015962314, 0.012681753, 0.014029361, 0.012584483, 0.011116819, 0.012404771, 0.016540302, 0.011457813, 0.011428684, 0.07477072, 0.011395999, 0.011829187, 0.012351734, 0.010842771, 0.012713175, 0.014591342, 0.012543899, 0.012977877, 0.01233648, 0.014812111, 0.013087074, 0.012681015, 0.011530678, 0.01087846, 0.017958483, 0.01134932, 0.016302785, 0.010346878, 0.014560673, 0.012777535, 0.011780548, 0.012518425, 0.0135524385, 0.013410495, 0.012651073, 0.013199719, 0.011944667, 0.01290331, 0.018711226, 0.016421579, 0.011641931, 0.014457353, 0.011347019, 0.012123197, 0.0126938475, 0.015090079, 0.013313148, 0.018254211, 0.014918533, 0.014943217, 0.011708603, 0.012626448, 0.012267397, 0.012376296, 0.013520697, 0.013388427, 0.014202795, 0.011745581, 0.013706919, 0.01398361, 0.016451787, 0.013075485, 0.012886627, 0.012488182, 0.012064161, 0.012131001, 0.0123113515, 0.012982895, 0.013985268, 0.016598638, 0.013800016, 0.011083468, 0.013880225, 0.012975934, 0.010748879, 0.011748737, 0.011414122, 0.015415726, 0.011224205, 0.019793738, 0.01216346, 0.017287433, 0.011311132, 0.013641803, 0.012482432, 0.013833982, 0.013565963, 0.012276349, 0.013169115, 0.01236386, 0.019164382, 0.012091624, 0.015528517, 0.013070618, 0.015737597, 0.013818259, 0.011068664]\n",
      "2021-02-19 13:12:11,115 : INFO : merging changes from 1204 documents into a model of 3204 documents\n",
      "2021-02-19 13:12:11,121 : INFO : topic #30 (0.010): 0.073*\",\" + 0.063*\"termin\" + 0.043*\"comput\" + 0.040*\"rectangular\" + 0.039*\"point\" + 0.037*\"-\" + 0.037*\"arrang\" + 0.037*\"mode\" + 0.030*\"intersect\" + 0.028*\"accuraci\"\n",
      "2021-02-19 13:12:11,122 : INFO : topic #77 (0.011): 0.072*\"divis\" + 0.061*\"?\" + 0.041*\"result\" + 0.040*\"difficult\" + 0.036*\"request\" + 0.035*\"elimin\" + 0.034*\"regular\" + 0.031*\"found\" + 0.031*\"criterion\" + 0.028*\"termin\"\n",
      "2021-02-19 13:12:11,123 : INFO : topic #93 (0.019): 0.653*\"\"\" + 0.107*\"standard\" + 0.070*\"propos\" + 0.069*\"inform\" + 0.044*\"process\" + 0.041*\"american\" + 0.003*\"compar\" + 0.001*\"analyz\" + 0.001*\"term\" + 0.000*\"/\"\n",
      "2021-02-19 13:12:11,124 : INFO : topic #82 (0.020): 0.305*\"[\" + 0.207*\"algorithm\" + 0.187*\"(\" + 0.143*\"])\" + 0.024*\"function\" + 0.024*\"copi\" + 0.022*\"-\" + 0.017*\"s14\" + 0.011*\"s15\" + 0.011*\"integr\"\n",
      "2021-02-19 13:12:11,125 : INFO : topic #12 (0.075): 0.409*\")\" + 0.402*\"(\" + 0.160*\"algorithm\" + 0.011*\"integr\" + 0.005*\"interchang\" + 0.003*\"magnet\" + 0.002*\"usa\" + 0.001*\"part\" + 0.001*\"200\" + 0.000*\"tape\"\n",
      "2021-02-19 13:12:11,126 : INFO : topic diff=0.176705, rho=0.225865\n",
      "2021-02-19 13:12:11,137 : INFO : PROGRESS: pass 18, at document #2000/3204\n",
      "2021-02-19 13:12:11,775 : INFO : optimized alpha [0.013362461, 0.014854726, 0.012848658, 0.01613155, 0.012678092, 0.014178894, 0.012625711, 0.011119676, 0.012435253, 0.016692588, 0.011461757, 0.011457789, 0.07727975, 0.011415565, 0.01183123, 0.012350018, 0.010842419, 0.0126970615, 0.014655927, 0.012565007, 0.013091652, 0.012325353, 0.014951765, 0.013154174, 0.012727857, 0.0115756225, 0.010862831, 0.017961033, 0.011373288, 0.016588727, 0.010341147, 0.014633683, 0.012844219, 0.011845566, 0.012637068, 0.013569323, 0.013474497, 0.012696004, 0.013188557, 0.011982841, 0.012979306, 0.019053577, 0.01648153, 0.011638721, 0.01465995, 0.011405294, 0.012162083, 0.012732684, 0.015231715, 0.013469247, 0.01841939, 0.014900316, 0.0150737455, 0.011698219, 0.012675339, 0.012291736, 0.012441176, 0.013566499, 0.013448145, 0.0142631885, 0.011775015, 0.013753812, 0.014061332, 0.016552122, 0.013175806, 0.01293609, 0.012527419, 0.012085629, 0.012166999, 0.012368713, 0.013083587, 0.014039661, 0.016779674, 0.01386443, 0.011063852, 0.013959629, 0.0129799945, 0.0107689705, 0.011756705, 0.011474163, 0.0153834615, 0.011243367, 0.020209905, 0.0121925725, 0.017535532, 0.0113250585, 0.013720208, 0.012490052, 0.013969081, 0.013614024, 0.012293302, 0.013207816, 0.012373426, 0.019359423, 0.012098954, 0.015695293, 0.013147128, 0.015855059, 0.013857636, 0.011080823]\n",
      "2021-02-19 13:12:11,781 : INFO : merging changes from 2000 documents into a model of 3204 documents\n",
      "2021-02-19 13:12:11,787 : INFO : topic #30 (0.010): 0.071*\",\" + 0.063*\"termin\" + 0.044*\"comput\" + 0.039*\"point\" + 0.038*\"rectangular\" + 0.038*\"-\" + 0.036*\"arrang\" + 0.035*\"mode\" + 0.029*\"intersect\" + 0.029*\"6\"\n"
     ]
    },
    {
     "name": "stderr",
     "output_type": "stream",
     "text": [
      "2021-02-19 13:12:11,788 : INFO : topic #77 (0.011): 0.078*\"divis\" + 0.055*\"?\" + 0.039*\"result\" + 0.037*\"request\" + 0.037*\"difficult\" + 0.037*\"elimin\" + 0.033*\"regular\" + 0.031*\"found\" + 0.029*\"criterion\" + 0.029*\"-\"\n",
      "2021-02-19 13:12:11,789 : INFO : topic #93 (0.019): 0.620*\"\"\" + 0.118*\"standard\" + 0.078*\"propos\" + 0.072*\"inform\" + 0.047*\"american\" + 0.046*\"process\" + 0.003*\"compar\" + 0.001*\"analyz\" + 0.001*\"term\" + 0.000*\"/\"\n",
      "2021-02-19 13:12:11,789 : INFO : topic #82 (0.020): 0.284*\"[\" + 0.206*\"algorithm\" + 0.195*\"(\" + 0.164*\"])\" + 0.024*\"function\" + 0.021*\"-\" + 0.018*\"copi\" + 0.017*\"s14\" + 0.013*\"s15\" + 0.011*\"integr\"\n",
      "2021-02-19 13:12:11,790 : INFO : topic #12 (0.077): 0.403*\")\" + 0.398*\"(\" + 0.167*\"algorithm\" + 0.012*\"integr\" + 0.006*\"interchang\" + 0.004*\"magnet\" + 0.003*\"usa\" + 0.002*\"200\" + 0.002*\"part\" + 0.000*\"tape\"\n",
      "2021-02-19 13:12:11,791 : INFO : topic diff=0.160014, rho=0.220316\n",
      "2021-02-19 13:12:12,492 : INFO : -6.419 per-word bound, 85.6 perplexity estimate based on a held-out corpus of 1204 documents with 49783 words\n",
      "2021-02-19 13:12:12,492 : INFO : PROGRESS: pass 18, at document #3204/3204\n",
      "2021-02-19 13:12:13,058 : INFO : optimized alpha [0.013437296, 0.015028886, 0.012986084, 0.016472077, 0.012866622, 0.014346971, 0.012729753, 0.011175128, 0.012547789, 0.01719263, 0.011548714, 0.011522271, 0.0790146, 0.011519176, 0.011936243, 0.012493334, 0.010910583, 0.012852602, 0.014794697, 0.0126752965, 0.013168031, 0.01248013, 0.015128413, 0.013299341, 0.012886809, 0.0116760135, 0.010947663, 0.01840179, 0.011496297, 0.016844705, 0.010389634, 0.014853672, 0.012984144, 0.01189482, 0.012750204, 0.0137594845, 0.013589142, 0.012761892, 0.013330746, 0.012087719, 0.013085003, 0.019501785, 0.016741775, 0.011706556, 0.01477777, 0.011478337, 0.012261748, 0.012823762, 0.015363706, 0.013500638, 0.01884856, 0.015180417, 0.015281262, 0.011824079, 0.012808825, 0.012418562, 0.012543987, 0.013726049, 0.013582271, 0.014491383, 0.01184374, 0.013873943, 0.014247562, 0.016863642, 0.013228733, 0.013116706, 0.012658555, 0.01220318, 0.0122791855, 0.012477021, 0.013184912, 0.01423187, 0.017014524, 0.014020759, 0.011138964, 0.014025882, 0.013158112, 0.010818087, 0.011879629, 0.011546204, 0.015689824, 0.011312203, 0.020326711, 0.01230551, 0.017796801, 0.011400169, 0.013807299, 0.012651425, 0.014038862, 0.013747353, 0.012398453, 0.0133561175, 0.012508439, 0.019632284, 0.0122146215, 0.015851708, 0.013237398, 0.016015269, 0.014034739, 0.011171369]\n",
      "2021-02-19 13:12:13,065 : INFO : merging changes from 1204 documents into a model of 3204 documents\n",
      "2021-02-19 13:12:13,072 : INFO : topic #30 (0.010): 0.074*\",\" + 0.067*\"termin\" + 0.043*\"comput\" + 0.040*\"rectangular\" + 0.038*\"mode\" + 0.038*\"point\" + 0.037*\"arrang\" + 0.036*\"-\" + 0.030*\"intersect\" + 0.027*\"accuraci\"\n",
      "2021-02-19 13:12:13,073 : INFO : topic #77 (0.011): 0.072*\"divis\" + 0.061*\"?\" + 0.042*\"result\" + 0.040*\"difficult\" + 0.036*\"request\" + 0.035*\"elimin\" + 0.034*\"regular\" + 0.032*\"found\" + 0.031*\"criterion\" + 0.026*\"-\"\n",
      "2021-02-19 13:12:13,073 : INFO : topic #93 (0.020): 0.653*\"\"\" + 0.107*\"standard\" + 0.071*\"propos\" + 0.068*\"inform\" + 0.043*\"process\" + 0.042*\"american\" + 0.003*\"compar\" + 0.001*\"analyz\" + 0.001*\"term\" + 0.000*\"/\"\n",
      "2021-02-19 13:12:13,074 : INFO : topic #82 (0.020): 0.305*\"[\" + 0.207*\"algorithm\" + 0.187*\"(\" + 0.144*\"])\" + 0.024*\"function\" + 0.024*\"copi\" + 0.022*\"-\" + 0.017*\"s14\" + 0.011*\"s15\" + 0.011*\"integr\"\n",
      "2021-02-19 13:12:13,075 : INFO : topic #12 (0.079): 0.410*\")\" + 0.402*\"(\" + 0.160*\"algorithm\" + 0.011*\"integr\" + 0.005*\"interchang\" + 0.003*\"magnet\" + 0.002*\"usa\" + 0.001*\"part\" + 0.001*\"200\" + 0.000*\"tape\"\n",
      "2021-02-19 13:12:13,075 : INFO : topic diff=0.164281, rho=0.220316\n",
      "2021-02-19 13:12:13,081 : INFO : PROGRESS: pass 19, at document #2000/3204\n",
      "2021-02-19 13:12:13,728 : INFO : optimized alpha [0.013564582, 0.015109006, 0.013048694, 0.016641214, 0.012862555, 0.014490185, 0.01276749, 0.011176967, 0.01257768, 0.017355656, 0.011552645, 0.011544828, 0.08146754, 0.011538365, 0.011944684, 0.012490053, 0.010912778, 0.012837918, 0.014867679, 0.0126987435, 0.013280242, 0.012471583, 0.015269522, 0.013365292, 0.012943749, 0.011721434, 0.01093367, 0.01840744, 0.011519747, 0.017140385, 0.010385413, 0.0149298785, 0.013051162, 0.011960165, 0.012868816, 0.013777016, 0.013657862, 0.012808897, 0.0133210905, 0.012126489, 0.01315555, 0.019854266, 0.016803527, 0.011704948, 0.014981718, 0.011535718, 0.012297311, 0.012861962, 0.015503363, 0.013656177, 0.019013325, 0.015167818, 0.015413302, 0.011815065, 0.012860934, 0.012443706, 0.012603758, 0.0137723945, 0.013640897, 0.01454719, 0.01187403, 0.0139245, 0.014322325, 0.016957918, 0.01332905, 0.01316796, 0.012695635, 0.012229527, 0.012313184, 0.0125307515, 0.013282739, 0.014284964, 0.017202633, 0.014085429, 0.011121185, 0.014102538, 0.01316592, 0.010839143, 0.011887343, 0.011607822, 0.015654884, 0.011333594, 0.02074054, 0.01233663, 0.018029347, 0.011413953, 0.0138829835, 0.012658645, 0.014172119, 0.013795946, 0.012419259, 0.013396799, 0.012517664, 0.01982849, 0.012223048, 0.016014813, 0.013312714, 0.01612736, 0.014074611, 0.0111822]\n",
      "2021-02-19 13:12:13,735 : INFO : merging changes from 2000 documents into a model of 3204 documents\n",
      "2021-02-19 13:12:13,743 : INFO : topic #30 (0.010): 0.072*\",\" + 0.066*\"termin\" + 0.044*\"comput\" + 0.038*\"rectangular\" + 0.038*\"point\" + 0.037*\"arrang\" + 0.037*\"-\" + 0.036*\"mode\" + 0.030*\"intersect\" + 0.029*\"6\"\n",
      "2021-02-19 13:12:13,744 : INFO : topic #77 (0.011): 0.078*\"divis\" + 0.054*\"?\" + 0.040*\"result\" + 0.037*\"request\" + 0.037*\"elimin\" + 0.037*\"difficult\" + 0.033*\"regular\" + 0.033*\"found\" + 0.029*\"criterion\" + 0.028*\"-\"\n",
      "2021-02-19 13:12:13,745 : INFO : topic #41 (0.020): 0.620*\"method\" + 0.098*\"comput\" + 0.097*\"network\" + 0.093*\"calcul\" + 0.040*\"present\" + 0.023*\"applic\" + 0.017*\"gener\" + 0.001*\"flow\" + 0.000*\"adapt\" + 0.000*\"regress\"\n",
      "2021-02-19 13:12:13,745 : INFO : topic #82 (0.021): 0.284*\"[\" + 0.206*\"algorithm\" + 0.195*\"(\" + 0.164*\"])\" + 0.024*\"function\" + 0.021*\"-\" + 0.018*\"copi\" + 0.017*\"s14\" + 0.013*\"s15\" + 0.011*\"integr\"\n",
      "2021-02-19 13:12:13,746 : INFO : topic #12 (0.081): 0.403*\")\" + 0.398*\"(\" + 0.167*\"algorithm\" + 0.012*\"integr\" + 0.006*\"interchang\" + 0.004*\"magnet\" + 0.003*\"usa\" + 0.002*\"200\" + 0.002*\"part\" + 0.000*\"tape\"\n",
      "2021-02-19 13:12:13,746 : INFO : topic diff=0.149433, rho=0.215156\n",
      "2021-02-19 13:12:14,457 : INFO : -6.414 per-word bound, 85.3 perplexity estimate based on a held-out corpus of 1204 documents with 49783 words\n",
      "2021-02-19 13:12:14,458 : INFO : PROGRESS: pass 19, at document #3204/3204\n",
      "2021-02-19 13:12:15,009 : INFO : optimized alpha [0.013644948, 0.0152832065, 0.013186341, 0.016983012, 0.013050932, 0.014658325, 0.012876658, 0.011231584, 0.0126928715, 0.017869828, 0.01163817, 0.011614516, 0.083074555, 0.011646605, 0.012043681, 0.012626656, 0.01097787, 0.012995749, 0.014998743, 0.012804896, 0.013355076, 0.012624047, 0.015438058, 0.013510682, 0.013102936, 0.011820186, 0.011017095, 0.01887095, 0.011640843, 0.017411815, 0.010435072, 0.015147103, 0.0131891165, 0.012010629, 0.012984733, 0.013966928, 0.013777859, 0.012882816, 0.013468274, 0.0122319525, 0.013257054, 0.020308698, 0.017066317, 0.011765373, 0.0151024265, 0.011609512, 0.0123908715, 0.0129491985, 0.015632797, 0.01368638, 0.019443983, 0.0154501, 0.015618081, 0.011943187, 0.012992382, 0.012566328, 0.01270256, 0.013929499, 0.013767839, 0.014777934, 0.011937295, 0.014040065, 0.014506006, 0.017257133, 0.0133735705, 0.013353463, 0.012833936, 0.01234749, 0.012425741, 0.012641778, 0.013389346, 0.014477189, 0.017437348, 0.014239338, 0.011193064, 0.014164882, 0.01334158, 0.010893351, 0.012014912, 0.01167858, 0.015966201, 0.011405367, 0.020852102, 0.012449946, 0.01828414, 0.011489894, 0.01396593, 0.0128223505, 0.014240207, 0.0139246285, 0.012527269, 0.013540402, 0.012650579, 0.020096987, 0.012332458, 0.016174208, 0.0134013565, 0.016284764, 0.014249192, 0.011269282]\n",
      "2021-02-19 13:12:15,015 : INFO : merging changes from 1204 documents into a model of 3204 documents\n",
      "2021-02-19 13:12:15,021 : INFO : topic #30 (0.010): 0.075*\",\" + 0.070*\"termin\" + 0.043*\"comput\" + 0.040*\"rectangular\" + 0.040*\"mode\" + 0.038*\"point\" + 0.037*\"arrang\" + 0.035*\"-\" + 0.030*\"intersect\" + 0.028*\"benefit\"\n"
     ]
    },
    {
     "name": "stderr",
     "output_type": "stream",
     "text": [
      "2021-02-19 13:12:15,022 : INFO : topic #77 (0.011): 0.071*\"divis\" + 0.061*\"?\" + 0.043*\"result\" + 0.039*\"difficult\" + 0.036*\"request\" + 0.036*\"elimin\" + 0.034*\"regular\" + 0.034*\"found\" + 0.030*\"criterion\" + 0.026*\"-\"\n",
      "2021-02-19 13:12:15,023 : INFO : topic #41 (0.020): 0.632*\"method\" + 0.099*\"network\" + 0.099*\"comput\" + 0.080*\"calcul\" + 0.039*\"present\" + 0.023*\"applic\" + 0.017*\"gener\" + 0.001*\"flow\" + 0.000*\"adapt\" + 0.000*\"regress\"\n",
      "2021-02-19 13:12:15,023 : INFO : topic #82 (0.021): 0.304*\"[\" + 0.207*\"algorithm\" + 0.187*\"(\" + 0.144*\"])\" + 0.024*\"copi\" + 0.023*\"function\" + 0.022*\"-\" + 0.017*\"s14\" + 0.011*\"s15\" + 0.011*\"integr\"\n",
      "2021-02-19 13:12:15,024 : INFO : topic #12 (0.083): 0.410*\")\" + 0.402*\"(\" + 0.160*\"algorithm\" + 0.011*\"integr\" + 0.005*\"interchang\" + 0.003*\"magnet\" + 0.002*\"usa\" + 0.001*\"part\" + 0.001*\"200\" + 0.000*\"tape\"\n",
      "2021-02-19 13:12:15,025 : INFO : topic diff=0.153216, rho=0.215156\n"
     ]
    },
    {
     "data": {
      "text/plain": [
       "[(0, 0.005575709),\n",
       " (1, 0.006245148),\n",
       " (2, 0.0053883097),\n",
       " (3, 0.006939736),\n",
       " (4, 0.005332978),\n",
       " (5, 0.005989804),\n",
       " (6, 0.0052617644),\n",
       " (7, 0.004589541),\n",
       " (8, 0.005186664),\n",
       " (9, 0.0073021143),\n",
       " (10, 0.0047556832),\n",
       " (11, 0.004746018),\n",
       " (12, 0.0339466),\n",
       " (13, 0.00475913),\n",
       " (14, 0.0049213865),\n",
       " (15, 0.0051596067),\n",
       " (16, 0.004485866),\n",
       " (17, 0.0053104283),\n",
       " (18, 0.006128908),\n",
       " (19, 0.0052324403),\n",
       " (20, 0.0054572597),\n",
       " (21, 0.0051585403),\n",
       " (22, 0.0063084248),\n",
       " (23, 0.0055208444),\n",
       " (24, 0.005354228),\n",
       " (25, 0.00483006),\n",
       " (26, 0.004501895),\n",
       " (27, 0.0077112005),\n",
       " (28, 0.0047567757),\n",
       " (29, 0.007114957),\n",
       " (30, 0.0042640637),\n",
       " (31, 0.006189532),\n",
       " (32, 0.0053894436),\n",
       " (33, 0.004907881),\n",
       " (34, 0.005305927),\n",
       " (35, 0.0057072793),\n",
       " (36, 0.0056300205),\n",
       " (37, 0.005264281),\n",
       " (38, 0.0055035152),\n",
       " (39, 0.00499832),\n",
       " (40, 0.005417205),\n",
       " (41, 0.008298704),\n",
       " (42, 0.006973777),\n",
       " (43, 0.004807662),\n",
       " (44, 0.006171276),\n",
       " (45, 0.0047439733),\n",
       " (46, 0.0050632586),\n",
       " (47, 0.0052914065),\n",
       " (48, 0.006388),\n",
       " (49, 0.0055926396),\n",
       " (50, 0.007945358),\n",
       " (51, 0.0063133454),\n",
       " (52, 0.006381987),\n",
       " (53, 0.0048803217),\n",
       " (54, 0.0053090528),\n",
       " (55, 0.005134955),\n",
       " (56, 0.005190623),\n",
       " (57, 0.41431755),\n",
       " (58, 0.0056259264),\n",
       " (59, 0.0060386793),\n",
       " (60, 0.004877914),\n",
       " (61, 0.0057371655),\n",
       " (62, 0.005927562),\n",
       " (63, 0.00705175),\n",
       " (64, 0.005464817),\n",
       " (65, 0.0054566003),\n",
       " (66, 0.005244307),\n",
       " (67, 0.0050455313),\n",
       " (68, 0.0050775073),\n",
       " (69, 0.005165786),\n",
       " (70, 0.005471263),\n",
       " (71, 0.005915786),\n",
       " (72, 0.0071253907),\n",
       " (73, 0.005818594),\n",
       " (74, 0.0045738006),\n",
       " (75, 0.005788169),\n",
       " (76, 0.0054517444),\n",
       " (77, 0.00445133),\n",
       " (78, 0.004909631),\n",
       " (79, 0.004772196),\n",
       " (80, 0.0065242387),\n",
       " (81, 0.0046605538),\n",
       " (82, 0.008520755),\n",
       " (83, 0.005087398),\n",
       " (84, 0.007471414),\n",
       " (85, 0.0046950937),\n",
       " (86, 0.0057068714),\n",
       " (87, 0.005239573),\n",
       " (88, 0.005818949),\n",
       " (89, 0.0056899944),\n",
       " (90, 0.0051189945),\n",
       " (91, 0.005532989),\n",
       " (92, 0.0051693823),\n",
       " (93, 0.008212194),\n",
       " (94, 0.0050393892),\n",
       " (95, 0.0066092364),\n",
       " (96, 0.005476171),\n",
       " (97, 0.0066544125),\n",
       " (98, 0.0058226204),\n",
       " (99, 0.0046049454)]"
      ]
     },
     "execution_count": 85,
     "metadata": {},
     "output_type": "execute_result"
    }
   ],
   "source": [
    "##### Function check\n",
    "lda = LdaRetrievalModel(doc_repr_2)\n",
    "lda.train_model()\n",
    "\n",
    "# you can now get an LDA vector for a given query in the following way:\n",
    "lda.vectorize_query(\"report\")\n",
    "##### "
   ]
  },
  {
   "cell_type": "markdown",
   "metadata": {
    "deletable": false,
    "editable": false,
    "nbgrader": {
     "cell_type": "markdown",
     "checksum": "32d83b6ea79ca3ddb789a7f8805a1b25",
     "grade": false,
     "grade_id": "cell-0e24b727d5908c0e",
     "locked": true,
     "points": 5,
     "schema_version": 3,
     "solution": false,
     "task": true
    }
   },
   "source": [
    "\\#### Please do not change this. This cell is used for grading."
   ]
  },
  {
   "cell_type": "markdown",
   "metadata": {
    "deletable": false,
    "editable": false,
    "nbgrader": {
     "cell_type": "markdown",
     "checksum": "114a934f0b9ce696e6cf09d3b8da6a3d",
     "grade": false,
     "grade_id": "cell-b1bffcb970b18aeb",
     "locked": true,
     "schema_version": 3,
     "solution": false,
     "task": false
    }
   },
   "source": [
    "---\n",
    "Now we can use the `DenseRetrievalModel` class to obtain an LDA search function.\n",
    "You can test your LDA model in the following cell: Try finding queries which are lexically different to documents, but semantically similar - does LDA work well for these queries?!"
   ]
  },
  {
   "cell_type": "code",
   "execution_count": 86,
   "metadata": {},
   "outputs": [
    {
     "data": {
      "application/vnd.jupyter.widget-view+json": {
       "model_id": "b2929b7d45464782b9abb98bffbe1ef7",
       "version_major": 2,
       "version_minor": 0
      },
      "text/plain": [
       "Text(value='', description='Search Bar')"
      ]
     },
     "metadata": {},
     "output_type": "display_data"
    }
   ],
   "source": [
    "drm_lda = DenseRetrievalRanker(lda, jenson_shannon_sim)\n",
    "\n",
    "# test your LDA model\n",
    "search_fn = drm_lda.search\n",
    "\n",
    "text = widgets.Text(description=\"Search Bar\", width=200)\n",
    "display(text)\n",
    "\n",
    "\n",
    "text.on_submit(handle_submit_2)"
   ]
  },
  {
   "cell_type": "markdown",
   "metadata": {
    "deletable": false,
    "editable": false,
    "nbgrader": {
     "cell_type": "markdown",
     "checksum": "9d7f15863b655119b45f4d89354e5661",
     "grade": false,
     "grade_id": "cell-190cd0854b2791cc",
     "locked": true,
     "schema_version": 3,
     "solution": false,
     "task": false
    }
   },
   "source": [
    "## Section 8: Word2Vec/Doc2Vec (20 points) <a class=\"anchor\" id=\"2vec\"></a>\n",
    "\n",
    "[Back to Part 2](#part2)\n",
    "\n",
    "We will implement two other methods here, the Word2Vec model and the Doc2Vec model, also using `gensim`. Word2Vec creates representations of words, not documents, so the word level vectors need to be aggregated to obtain a representation for the document. Here, we will simply take the mean of the vectors. \n",
    "\n",
    "\n",
    "A drawback of these models is that they need a lot of training data. Our dataset is tiny, so in addition to using a model trained on the data, we will also use a pre-trained model for Word2Vec (this will be automatically downloaded).     \n",
    "\n",
    "*Note*:\n",
    "1. The code in vectorize_documents / vectorize_query should return gensim-like vectors i.e `[(dim, val), .. (dim, val)]`. \n",
    "2. For Word2Vec: You should also handle the following two cases: (a) A word in the query is not present in the vocabulary of the model and (b) none of the words in the query are present in the model - you can return 0 scores for all documents in this case. For either of these, you can check if a `word` is present in the vocab by using `word in self.model`\n"
   ]
  },
  {
   "cell_type": "code",
   "execution_count": 87,
   "metadata": {
    "deletable": false,
    "nbgrader": {
     "cell_type": "code",
     "checksum": "83ab733608ed14c29c09b36b4e1b6daa",
     "grade": false,
     "grade_id": "cell-2b73759f9baf688f",
     "locked": false,
     "schema_version": 3,
     "solution": true,
     "task": false
    }
   },
   "outputs": [
    {
     "name": "stderr",
     "output_type": "stream",
     "text": [
      "2021-02-19 13:12:16,793 : INFO : adding document #0 to Dictionary(0 unique tokens: [])\n",
      "2021-02-19 13:12:16,951 : INFO : built Dictionary(5937 unique tokens: ['-', 'algebra', 'intern', 'languag', 'preliminari']...) from 3204 documents (total 115969 corpus positions)\n",
      "2021-02-19 13:12:16,956 : INFO : discarding 4740 tokens: [('repeat', 8), ('glossari', 7), ('inspect', 8), ('uncol', 2), ('rung', 9), ('secant', 2), ('.', 1603), ('acceler', 6), ('diverg', 3), ('induc', 9)]...\n",
      "2021-02-19 13:12:16,957 : INFO : keeping 1197 tokens which were in no less than 10 and no more than 1602 (=50.0%) documents\n",
      "2021-02-19 13:12:16,959 : INFO : resulting dictionary: Dictionary(1197 unique tokens: ['-', 'algebra', 'intern', 'languag', 'preliminari']...)\n",
      "2021-02-19 13:12:17,035 : INFO : collecting all words and their counts\n",
      "2021-02-19 13:12:17,035 : INFO : PROGRESS: at sentence #0, processed 0 words, keeping 0 word types\n",
      "2021-02-19 13:12:17,063 : INFO : collected 5937 word types from a corpus of 115969 raw words and 3204 sentences\n",
      "2021-02-19 13:12:17,064 : INFO : Loading a fresh vocabulary\n",
      "2021-02-19 13:12:17,083 : INFO : effective_min_count=1 retains 5937 unique words (100% of original 5937, drops 0)\n",
      "2021-02-19 13:12:17,084 : INFO : effective_min_count=1 leaves 115969 word corpus (100% of original 115969, drops 0)\n",
      "2021-02-19 13:12:17,124 : INFO : deleting the raw counts dictionary of 5937 items\n",
      "2021-02-19 13:12:17,125 : INFO : sample=0.001 downsamples 40 most-common words\n",
      "2021-02-19 13:12:17,126 : INFO : downsampling leaves estimated 92346 word corpus (79.6% of prior 115969)\n",
      "2021-02-19 13:12:17,151 : INFO : estimated required memory for 5937 words and 100 dimensions: 7718100 bytes\n",
      "2021-02-19 13:12:17,152 : INFO : resetting layer weights\n",
      "2021-02-19 13:12:18,175 : INFO : training model with 3 workers on 5937 vocabulary and 100 features, using sg=0 hs=0 sample=0.001 negative=5 window=5\n",
      "2021-02-19 13:12:18,257 : INFO : worker thread finished; awaiting finish of 2 more threads\n",
      "2021-02-19 13:12:18,258 : INFO : worker thread finished; awaiting finish of 1 more threads\n",
      "2021-02-19 13:12:18,261 : INFO : worker thread finished; awaiting finish of 0 more threads\n",
      "2021-02-19 13:12:18,261 : INFO : EPOCH - 1 : training on 115969 raw words (92241 effective words) took 0.1s, 1112518 effective words/s\n",
      "2021-02-19 13:12:18,344 : INFO : worker thread finished; awaiting finish of 2 more threads\n",
      "2021-02-19 13:12:18,347 : INFO : worker thread finished; awaiting finish of 1 more threads\n",
      "2021-02-19 13:12:18,352 : INFO : worker thread finished; awaiting finish of 0 more threads\n",
      "2021-02-19 13:12:18,353 : INFO : EPOCH - 2 : training on 115969 raw words (92242 effective words) took 0.1s, 1049859 effective words/s\n",
      "2021-02-19 13:12:18,437 : INFO : worker thread finished; awaiting finish of 2 more threads\n",
      "2021-02-19 13:12:18,444 : INFO : worker thread finished; awaiting finish of 1 more threads\n",
      "2021-02-19 13:12:18,449 : INFO : worker thread finished; awaiting finish of 0 more threads\n",
      "2021-02-19 13:12:18,450 : INFO : EPOCH - 3 : training on 115969 raw words (92356 effective words) took 0.1s, 985517 effective words/s\n",
      "2021-02-19 13:12:18,534 : INFO : worker thread finished; awaiting finish of 2 more threads\n",
      "2021-02-19 13:12:18,546 : INFO : worker thread finished; awaiting finish of 1 more threads\n",
      "2021-02-19 13:12:18,555 : INFO : worker thread finished; awaiting finish of 0 more threads\n",
      "2021-02-19 13:12:18,556 : INFO : EPOCH - 4 : training on 115969 raw words (92279 effective words) took 0.1s, 895794 effective words/s\n",
      "2021-02-19 13:12:18,676 : INFO : worker thread finished; awaiting finish of 2 more threads\n",
      "2021-02-19 13:12:18,683 : INFO : worker thread finished; awaiting finish of 1 more threads\n",
      "2021-02-19 13:12:18,687 : INFO : worker thread finished; awaiting finish of 0 more threads\n",
      "2021-02-19 13:12:18,688 : INFO : EPOCH - 5 : training on 115969 raw words (92536 effective words) took 0.1s, 738667 effective words/s\n",
      "2021-02-19 13:12:18,689 : INFO : training on a 579845 raw words (461654 effective words) took 0.5s, 898303 effective words/s\n",
      "/home/ruben/miniconda3/envs/ir1/lib/python3.6/site-packages/ipykernel_launcher.py:42: DeprecationWarning: Call to deprecated `__contains__` (Method will be removed in 4.0.0, use self.wv.__contains__() instead).\n"
     ]
    },
    {
     "data": {
      "text/plain": [
       "[(0, -0.2438599),\n",
       " (1, -0.3591375),\n",
       " (2, -0.21521898),\n",
       " (3, -0.45744875),\n",
       " (4, 0.31091648),\n",
       " (5, 0.06506193),\n",
       " (6, -0.36267245),\n",
       " (7, 0.5088354),\n",
       " (8, -0.35471606),\n",
       " (9, 0.06422921),\n",
       " (10, 0.46406916),\n",
       " (11, -0.705172),\n",
       " (12, 0.26565135),\n",
       " (13, 0.03561786),\n",
       " (14, -0.37675297),\n",
       " (15, 0.2527291),\n",
       " (16, -0.27504382),\n",
       " (17, 0.57098037),\n",
       " (18, -0.24800575),\n",
       " (19, 0.1934136),\n",
       " (20, -0.10483359),\n",
       " (21, 0.6076845),\n",
       " (22, -0.44965324),\n",
       " (23, -0.13618445),\n",
       " (24, -0.21914278),\n",
       " (25, 0.9468138),\n",
       " (26, -0.21652474),\n",
       " (27, -0.7063375),\n",
       " (28, -0.3413858),\n",
       " (29, -0.7190291),\n",
       " (30, 0.21530308),\n",
       " (31, 0.8765762),\n",
       " (32, -0.14168954),\n",
       " (33, -0.9218518),\n",
       " (34, -0.10502353),\n",
       " (35, -0.37229514),\n",
       " (36, -1.3284665),\n",
       " (37, -0.16623966),\n",
       " (38, 0.4643435),\n",
       " (39, 0.9874024),\n",
       " (40, 0.010358601),\n",
       " (41, 0.50693285),\n",
       " (42, -0.38715222),\n",
       " (43, -0.14886065),\n",
       " (44, 0.14695555),\n",
       " (45, 0.32972413),\n",
       " (46, -0.17310926),\n",
       " (47, -0.82430553),\n",
       " (48, 0.4526332),\n",
       " (49, 0.121150374),\n",
       " (50, 0.55625874),\n",
       " (51, 0.22571248),\n",
       " (52, -0.19099133),\n",
       " (53, -0.023787355),\n",
       " (54, 0.15686457),\n",
       " (55, -0.041650526),\n",
       " (56, -0.69950056),\n",
       " (57, 0.68625706),\n",
       " (58, 0.2380674),\n",
       " (59, 0.13128331),\n",
       " (60, -0.23358734),\n",
       " (61, 0.42346808),\n",
       " (62, 0.21320614),\n",
       " (63, -0.038887672),\n",
       " (64, -0.45050207),\n",
       " (65, 0.4542065),\n",
       " (66, 0.10665804),\n",
       " (67, 0.24003248),\n",
       " (68, -0.64693123),\n",
       " (69, -0.39342967),\n",
       " (70, 0.5441175),\n",
       " (71, 0.18081322),\n",
       " (72, -0.32485208),\n",
       " (73, -0.5473955),\n",
       " (74, 0.96209),\n",
       " (75, 0.11410451),\n",
       " (76, 0.3283664),\n",
       " (77, 0.7741047),\n",
       " (78, -0.30822596),\n",
       " (79, -0.14097708),\n",
       " (80, 0.58664775),\n",
       " (81, 0.08921666),\n",
       " (82, 0.69076496),\n",
       " (83, 0.3808777),\n",
       " (84, 0.26437175),\n",
       " (85, -0.6014177),\n",
       " (86, -0.6896),\n",
       " (87, 0.68484557),\n",
       " (88, 0.27019784),\n",
       " (89, -0.4066842),\n",
       " (90, -0.3934934),\n",
       " (91, -0.0110582085),\n",
       " (92, -0.017583335),\n",
       " (93, -0.4974067),\n",
       " (94, 0.11004441),\n",
       " (95, -0.53462815),\n",
       " (96, 0.36172196),\n",
       " (97, 0.80400974),\n",
       " (98, 0.24744962),\n",
       " (99, 0.16242673)]"
      ]
     },
     "execution_count": 87,
     "metadata": {},
     "output_type": "execute_result"
    }
   ],
   "source": [
    "class W2VRetrievalModel(VectorSpaceRetrievalModel):\n",
    "    def __init__(self, doc_repr):\n",
    "        super().__init__(doc_repr)\n",
    "        \n",
    "        # the dimensionality of the vectors\n",
    "        self.size = 100 \n",
    "        self.min_count = 1\n",
    "    \n",
    "    def train_model(self):\n",
    "        \"\"\"\n",
    "        Trains the W2V model\n",
    "        \"\"\"\n",
    "        # YOUR CODE HERE\n",
    "        self.model = Word2Vec(sentences=self.documents, size=self.size, min_count=self.min_count)\n",
    "        \n",
    "    def vectorize_documents(self):\n",
    "        \"\"\"\n",
    "            Returns a doc_id -> vector dictionary\n",
    "        \"\"\"\n",
    "        # YOUR CODE HERE\n",
    "        doc_vec_dict = {}\n",
    "        for (doc_id, doc) in self.doc_repr:\n",
    "            dw_vecs = [self.model.wv[word] for word in doc if word in self.model]\n",
    "\n",
    "            if len(dw_vecs) == 0:\n",
    "                doc_vec = np.zeros(self.size)\n",
    "            else:\n",
    "                doc_vec = np.mean(np.stack(dw_vecs), axis=0)\n",
    "\n",
    "            doc_vec_dict[doc_id] = list(zip(range(self.size), doc_vec))\n",
    "\n",
    "        return doc_vec_dict\n",
    "        \n",
    "\n",
    "    def vectorize_query(self, query):\n",
    "        \"\"\"\n",
    "        Vectorizes the query using the W2V model\n",
    "        \"\"\"\n",
    "        \n",
    "        query = process_text(query, **config_2)\n",
    "        # YOUR CODE HERE\n",
    "        qw_vecs = [self.model.wv[word] for word in query if word in self.model]\n",
    "        \n",
    "        if len(qw_vecs) == 0:\n",
    "            query_vec = np.zeros(self.size)\n",
    "        else: \n",
    "            query_vec = np.mean(np.stack(qw_vecs), axis=0)\n",
    "        \n",
    "        return list(zip(range(self.size), query_vec))\n",
    "    \n",
    "    \n",
    "class W2VPretrainedRetrievalModel(W2VRetrievalModel):\n",
    "    def __init__(self, doc_repr):\n",
    "        super().__init__(doc_repr)\n",
    "        self.model_name = \"word2vec-google-news-300\"\n",
    "        self.size = 300\n",
    "    \n",
    "    def train_model(self):\n",
    "        \"\"\"\n",
    "        Loads the pretrained model\n",
    "        \"\"\"\n",
    "        self.model = g_downloader.load(self.model_name)\n",
    "\n",
    "w2v = W2VRetrievalModel(doc_repr_2)\n",
    "w2v.train_model()\n",
    "\n",
    "# you can now get a W2V vector for a given query in the following way:\n",
    "w2v.vectorize_query(\"report\")"
   ]
  },
  {
   "cell_type": "code",
   "execution_count": 88,
   "metadata": {
    "deletable": false,
    "editable": false,
    "nbgrader": {
     "cell_type": "code",
     "checksum": "f92b5c5a8c6c4b80652b94223209ab0b",
     "grade": true,
     "grade_id": "cell-b31c0f8d214b8bdf",
     "locked": true,
     "points": 0,
     "schema_version": 3,
     "solution": false,
     "task": false
    }
   },
   "outputs": [
    {
     "name": "stderr",
     "output_type": "stream",
     "text": [
      "/home/ruben/miniconda3/envs/ir1/lib/python3.6/site-packages/ipykernel_launcher.py:42: DeprecationWarning: Call to deprecated `__contains__` (Method will be removed in 4.0.0, use self.wv.__contains__() instead).\n"
     ]
    }
   ],
   "source": [
    "assert len(w2v.vectorize_query(\"report\")) == 100\n",
    "assert len(w2v.vectorize_query(\"this is a sentence that is not mellifluous\")) == 100\n"
   ]
  },
  {
   "cell_type": "markdown",
   "metadata": {
    "deletable": false,
    "editable": false,
    "nbgrader": {
     "cell_type": "markdown",
     "checksum": "8dfaabebcb06f308a7ca61fdc5d369e7",
     "grade": false,
     "grade_id": "cell-c2614fa067386384",
     "locked": true,
     "points": 8,
     "schema_version": 3,
     "solution": false,
     "task": true
    }
   },
   "source": [
    "\\#### Please do not change this. This cell is used for grading."
   ]
  },
  {
   "cell_type": "code",
   "execution_count": 89,
   "metadata": {
    "scrolled": true
   },
   "outputs": [
    {
     "name": "stderr",
     "output_type": "stream",
     "text": [
      "2021-02-19 13:12:18,741 : INFO : adding document #0 to Dictionary(0 unique tokens: [])\n",
      "2021-02-19 13:12:18,881 : INFO : built Dictionary(5937 unique tokens: ['-', 'algebra', 'intern', 'languag', 'preliminari']...) from 3204 documents (total 115969 corpus positions)\n",
      "2021-02-19 13:12:18,892 : INFO : discarding 4740 tokens: [('repeat', 8), ('glossari', 7), ('inspect', 8), ('uncol', 2), ('rung', 9), ('secant', 2), ('.', 1603), ('acceler', 6), ('diverg', 3), ('induc', 9)]...\n",
      "2021-02-19 13:12:18,892 : INFO : keeping 1197 tokens which were in no less than 10 and no more than 1602 (=50.0%) documents\n",
      "2021-02-19 13:12:18,896 : INFO : resulting dictionary: Dictionary(1197 unique tokens: ['-', 'algebra', 'intern', 'languag', 'preliminari']...)\n",
      "2021-02-19 13:12:19,121 : INFO : loading projection weights from /home/ruben/gensim-data/word2vec-google-news-300/word2vec-google-news-300.gz\n",
      "2021-02-19 13:12:58,379 : INFO : loaded (3000000, 300) matrix from /home/ruben/gensim-data/word2vec-google-news-300/word2vec-google-news-300.gz\n",
      "/home/ruben/miniconda3/envs/ir1/lib/python3.6/site-packages/ipykernel_launcher.py:42: DeprecationWarning: Call to deprecated `wv` (Attribute will be removed in 4.0.0, use self instead).\n"
     ]
    },
    {
     "data": {
      "text/plain": [
       "[(0, -0.14257812),\n",
       " (1, -0.1640625),\n",
       " (2, -0.09033203),\n",
       " (3, -0.11230469),\n",
       " (4, 0.100097656),\n",
       " (5, -0.041259766),\n",
       " (6, 0.048828125),\n",
       " (7, -0.13671875),\n",
       " (8, 0.19628906),\n",
       " (9, -0.13476562),\n",
       " (10, -0.017578125),\n",
       " (11, 0.032226562),\n",
       " (12, 0.095214844),\n",
       " (13, -0.10595703),\n",
       " (14, -0.16992188),\n",
       " (15, 0.041015625),\n",
       " (16, -0.26367188),\n",
       " (17, -0.0063171387),\n",
       " (18, -0.17773438),\n",
       " (19, -0.24023438),\n",
       " (20, 0.3515625),\n",
       " (21, -0.012207031),\n",
       " (22, -0.16210938),\n",
       " (23, -0.12060547),\n",
       " (24, 0.04321289),\n",
       " (25, 0.10986328),\n",
       " (26, 0.052490234),\n",
       " (27, 0.17871094),\n",
       " (28, -0.14550781),\n",
       " (29, 0.13769531),\n",
       " (30, -0.08203125),\n",
       " (31, -0.28320312),\n",
       " (32, -0.10888672),\n",
       " (33, -0.2890625),\n",
       " (34, 0.072265625),\n",
       " (35, -0.04736328),\n",
       " (36, 0.040283203),\n",
       " (37, 0.067871094),\n",
       " (38, 0.11669922),\n",
       " (39, 0.000831604),\n",
       " (40, 0.068359375),\n",
       " (41, 0.12011719),\n",
       " (42, -0.088378906),\n",
       " (43, 0.33789062),\n",
       " (44, -0.044677734),\n",
       " (45, -0.030151367),\n",
       " (46, 0.0076904297),\n",
       " (47, -0.021118164),\n",
       " (48, -0.25390625),\n",
       " (49, 0.14941406),\n",
       " (50, 0.3984375),\n",
       " (51, 0.021606445),\n",
       " (52, -0.02319336),\n",
       " (53, 0.0063476562),\n",
       " (54, 0.008239746),\n",
       " (55, -0.16894531),\n",
       " (56, 0.037353516),\n",
       " (57, -0.06347656),\n",
       " (58, 0.1171875),\n",
       " (59, -0.1484375),\n",
       " (60, -0.07861328),\n",
       " (61, 0.36914062),\n",
       " (62, -0.22460938),\n",
       " (63, 0.17382812),\n",
       " (64, 0.0138549805),\n",
       " (65, 0.1875),\n",
       " (66, -0.10107422),\n",
       " (67, 0.037841797),\n",
       " (68, 0.0021209717),\n",
       " (69, -0.05126953),\n",
       " (70, 0.096191406),\n",
       " (71, -0.057128906),\n",
       " (72, 0.10595703),\n",
       " (73, -0.020996094),\n",
       " (74, 0.16113281),\n",
       " (75, 0.09765625),\n",
       " (76, 0.038330078),\n",
       " (77, 0.21972656),\n",
       " (78, 0.10644531),\n",
       " (79, 0.0859375),\n",
       " (80, 0.1796875),\n",
       " (81, -0.08300781),\n",
       " (82, -0.033203125),\n",
       " (83, 0.041015625),\n",
       " (84, -0.064941406),\n",
       " (85, 0.019897461),\n",
       " (86, 0.13378906),\n",
       " (87, -0.09765625),\n",
       " (88, -0.19335938),\n",
       " (89, -0.23535156),\n",
       " (90, 0.19042969),\n",
       " (91, 0.0024871826),\n",
       " (92, -0.01574707),\n",
       " (93, 0.032226562),\n",
       " (94, -0.21972656),\n",
       " (95, -0.091308594),\n",
       " (96, 0.021240234),\n",
       " (97, 0.15820312),\n",
       " (98, 0.29882812),\n",
       " (99, -0.328125),\n",
       " (100, 0.057373047),\n",
       " (101, -0.04638672),\n",
       " (102, 0.11328125),\n",
       " (103, -0.1015625),\n",
       " (104, 0.18066406),\n",
       " (105, -0.025146484),\n",
       " (106, -0.16601562),\n",
       " (107, -0.096191406),\n",
       " (108, 0.018798828),\n",
       " (109, -0.19433594),\n",
       " (110, 0.14941406),\n",
       " (111, -0.056640625),\n",
       " (112, -0.106933594),\n",
       " (113, -0.15039062),\n",
       " (114, -0.17578125),\n",
       " (115, 0.11279297),\n",
       " (116, 0.049316406),\n",
       " (117, 0.21972656),\n",
       " (118, 0.31835938),\n",
       " (119, 0.15722656),\n",
       " (120, -0.29296875),\n",
       " (121, 0.10498047),\n",
       " (122, -0.296875),\n",
       " (123, -0.013427734),\n",
       " (124, 0.09082031),\n",
       " (125, 0.012573242),\n",
       " (126, -0.051513672),\n",
       " (127, -0.12890625),\n",
       " (128, 0.014465332),\n",
       " (129, 0.12060547),\n",
       " (130, -0.10107422),\n",
       " (131, -0.111328125),\n",
       " (132, 0.063964844),\n",
       " (133, -0.052978516),\n",
       " (134, -0.04321289),\n",
       " (135, -0.012939453),\n",
       " (136, -0.02758789),\n",
       " (137, -0.09716797),\n",
       " (138, -0.20214844),\n",
       " (139, 0.123046875),\n",
       " (140, -0.04248047),\n",
       " (141, 0.17382812),\n",
       " (142, -0.013671875),\n",
       " (143, 0.1015625),\n",
       " (144, -0.0009384155),\n",
       " (145, -0.03564453),\n",
       " (146, 0.30078125),\n",
       " (147, -0.068359375),\n",
       " (148, -0.056152344),\n",
       " (149, 0.037597656),\n",
       " (150, 0.06591797),\n",
       " (151, 0.040283203),\n",
       " (152, 0.0119018555),\n",
       " (153, 0.096191406),\n",
       " (154, 0.3671875),\n",
       " (155, -0.27929688),\n",
       " (156, -0.052001953),\n",
       " (157, -0.106933594),\n",
       " (158, -0.13476562),\n",
       " (159, -0.046142578),\n",
       " (160, 0.25),\n",
       " (161, 0.0056762695),\n",
       " (162, -0.014404297),\n",
       " (163, -0.03100586),\n",
       " (164, -0.060302734),\n",
       " (165, 0.10595703),\n",
       " (166, 0.37890625),\n",
       " (167, 0.05883789),\n",
       " (168, 0.123046875),\n",
       " (169, -0.115234375),\n",
       " (170, 0.14941406),\n",
       " (171, -0.1640625),\n",
       " (172, -0.23339844),\n",
       " (173, -0.07763672),\n",
       " (174, 0.026733398),\n",
       " (175, -0.021118164),\n",
       " (176, 0.19433594),\n",
       " (177, -0.056152344),\n",
       " (178, -0.006439209),\n",
       " (179, -0.16992188),\n",
       " (180, -0.118652344),\n",
       " (181, -0.06738281),\n",
       " (182, -0.068847656),\n",
       " (183, -0.08691406),\n",
       " (184, -0.1015625),\n",
       " (185, 0.014160156),\n",
       " (186, -0.20117188),\n",
       " (187, 0.09814453),\n",
       " (188, -0.010253906),\n",
       " (189, 0.1875),\n",
       " (190, 0.19628906),\n",
       " (191, -0.22070312),\n",
       " (192, -0.19628906),\n",
       " (193, -0.07373047),\n",
       " (194, 0.06640625),\n",
       " (195, -0.13378906),\n",
       " (196, 0.18359375),\n",
       " (197, -0.20019531),\n",
       " (198, 0.19824219),\n",
       " (199, 0.05029297),\n",
       " (200, 0.029907227),\n",
       " (201, 0.017700195),\n",
       " (202, -0.19335938),\n",
       " (203, -0.096191406),\n",
       " (204, -0.10253906),\n",
       " (205, 0.21289062),\n",
       " (206, -0.029907227),\n",
       " (207, 0.14355469),\n",
       " (208, 0.041015625),\n",
       " (209, -0.21191406),\n",
       " (210, 0.20800781),\n",
       " (211, 0.13769531),\n",
       " (212, -0.01965332),\n",
       " (213, 0.014953613),\n",
       " (214, -0.09765625),\n",
       " (215, 0.24316406),\n",
       " (216, 0.080078125),\n",
       " (217, 0.08251953),\n",
       " (218, 0.09863281),\n",
       " (219, 0.056884766),\n",
       " (220, 0.04248047),\n",
       " (221, 0.068847656),\n",
       " (222, -0.03540039),\n",
       " (223, -0.076171875),\n",
       " (224, -0.00016117096),\n",
       " (225, -0.07519531),\n",
       " (226, 0.22460938),\n",
       " (227, 0.15136719),\n",
       " (228, 0.10058594),\n",
       " (229, 0.10986328),\n",
       " (230, 0.023803711),\n",
       " (231, 0.088378906),\n",
       " (232, 0.061767578),\n",
       " (233, -0.107910156),\n",
       " (234, 0.06225586),\n",
       " (235, 0.0034332275),\n",
       " (236, 0.080566406),\n",
       " (237, 0.106933594),\n",
       " (238, 0.08886719),\n",
       " (239, -0.23730469),\n",
       " (240, 0.064941406),\n",
       " (241, 0.010192871),\n",
       " (242, -0.088378906),\n",
       " (243, -0.33203125),\n",
       " (244, 0.0046691895),\n",
       " (245, 0.21289062),\n",
       " (246, 0.0859375),\n",
       " (247, 0.020385742),\n",
       " (248, 0.045654297),\n",
       " (249, 0.1484375),\n",
       " (250, 0.11816406),\n",
       " (251, 0.055664062),\n",
       " (252, -0.17285156),\n",
       " (253, -0.125),\n",
       " (254, -0.025390625),\n",
       " (255, -0.31835938),\n",
       " (256, 0.03112793),\n",
       " (257, 0.0859375),\n",
       " (258, -0.041992188),\n",
       " (259, 0.15625),\n",
       " (260, 0.16113281),\n",
       " (261, 0.19824219),\n",
       " (262, -0.100097656),\n",
       " (263, 0.203125),\n",
       " (264, 0.12890625),\n",
       " (265, 0.23339844),\n",
       " (266, -0.26757812),\n",
       " (267, 0.05517578),\n",
       " (268, 0.048828125),\n",
       " (269, 0.072265625),\n",
       " (270, 0.24414062),\n",
       " (271, 0.24414062),\n",
       " (272, 0.056884766),\n",
       " (273, -0.0546875),\n",
       " (274, -0.033691406),\n",
       " (275, -0.12060547),\n",
       " (276, 0.03491211),\n",
       " (277, -0.14550781),\n",
       " (278, 0.087402344),\n",
       " (279, -0.08300781),\n",
       " (280, 0.017211914),\n",
       " (281, 0.14355469),\n",
       " (282, -0.122558594),\n",
       " (283, 0.1796875),\n",
       " (284, 0.13085938),\n",
       " (285, -0.16503906),\n",
       " (286, 0.012756348),\n",
       " (287, 0.16015625),\n",
       " (288, -0.03112793),\n",
       " (289, 0.08203125),\n",
       " (290, 0.17382812),\n",
       " (291, -0.16796875),\n",
       " (292, 0.13085938),\n",
       " (293, 0.08544922),\n",
       " (294, -0.2109375),\n",
       " (295, -0.13085938),\n",
       " (296, -0.028930664),\n",
       " (297, -0.10546875),\n",
       " (298, 0.084472656),\n",
       " (299, -0.14160156)]"
      ]
     },
     "execution_count": 89,
     "metadata": {},
     "output_type": "execute_result"
    }
   ],
   "source": [
    "w2v_pretrained = W2VPretrainedRetrievalModel(doc_repr_2)\n",
    "w2v_pretrained.train_model()\n",
    "\n",
    "# you can now get an W2V vector for a given query in the following way:\n",
    "w2v_pretrained.vectorize_query(\"report\")"
   ]
  },
  {
   "cell_type": "code",
   "execution_count": 90,
   "metadata": {
    "deletable": false,
    "editable": false,
    "nbgrader": {
     "cell_type": "code",
     "checksum": "0822845afb5eafe5ddb1ffeaa4f4942a",
     "grade": true,
     "grade_id": "cell-1b1466f8ce516f42",
     "locked": true,
     "points": 2,
     "schema_version": 3,
     "solution": false,
     "task": false
    }
   },
   "outputs": [
    {
     "name": "stdout",
     "output_type": "stream",
     "text": [
      "300\n"
     ]
    },
    {
     "name": "stderr",
     "output_type": "stream",
     "text": [
      "/home/ruben/miniconda3/envs/ir1/lib/python3.6/site-packages/ipykernel_launcher.py:42: DeprecationWarning: Call to deprecated `wv` (Attribute will be removed in 4.0.0, use self instead).\n"
     ]
    }
   ],
   "source": [
    "##### Function check\n",
    "\n",
    "print(len(w2v_pretrained.vectorize_query(\"report\")))\n",
    "#####"
   ]
  },
  {
   "cell_type": "code",
   "execution_count": 91,
   "metadata": {},
   "outputs": [
    {
     "name": "stderr",
     "output_type": "stream",
     "text": [
      "/home/ruben/miniconda3/envs/ir1/lib/python3.6/site-packages/ipykernel_launcher.py:23: DeprecationWarning: Call to deprecated `__contains__` (Method will be removed in 4.0.0, use self.wv.__contains__() instead).\n"
     ]
    },
    {
     "data": {
      "application/vnd.jupyter.widget-view+json": {
       "model_id": "61e728e3115a43f9bed7587170d633db",
       "version_major": 2,
       "version_minor": 0
      },
      "text/plain": [
       "Text(value='', description='Search Bar')"
      ]
     },
     "metadata": {},
     "output_type": "display_data"
    }
   ],
   "source": [
    "drm_w2v = DenseRetrievalRanker(w2v, cosine_sim)\n",
    "\n",
    "# test your LDA model\n",
    "search_fn = drm_w2v.search\n",
    "\n",
    "text = widgets.Text(description=\"Search Bar\", width=200)\n",
    "display(text)\n",
    "\n",
    "\n",
    "text.on_submit(handle_submit_2)"
   ]
  },
  {
   "cell_type": "code",
   "execution_count": 92,
   "metadata": {},
   "outputs": [
    {
     "name": "stderr",
     "output_type": "stream",
     "text": [
      "/home/ruben/miniconda3/envs/ir1/lib/python3.6/site-packages/ipykernel_launcher.py:23: DeprecationWarning: Call to deprecated `wv` (Attribute will be removed in 4.0.0, use self instead).\n"
     ]
    },
    {
     "data": {
      "application/vnd.jupyter.widget-view+json": {
       "model_id": "b995e0cbc867441ab72a91095d2315f3",
       "version_major": 2,
       "version_minor": 0
      },
      "text/plain": [
       "Text(value='', description='Search Bar')"
      ]
     },
     "metadata": {},
     "output_type": "display_data"
    }
   ],
   "source": [
    "drm_w2v_pretrained = DenseRetrievalRanker(w2v_pretrained, cosine_sim)\n",
    "\n",
    "# test your LDA model\n",
    "search_fn = drm_w2v_pretrained.search\n",
    "\n",
    "text = widgets.Text(description=\"Search Bar\", width=200)\n",
    "display(text)\n",
    "\n",
    "\n",
    "text.on_submit(handle_submit_2)"
   ]
  },
  {
   "cell_type": "markdown",
   "metadata": {
    "deletable": false,
    "editable": false,
    "nbgrader": {
     "cell_type": "markdown",
     "checksum": "51b778984fd60757974f51047c61eb15",
     "grade": false,
     "grade_id": "cell-b92f701cbc706108",
     "locked": true,
     "schema_version": 3,
     "solution": false,
     "task": false
    }
   },
   "source": [
    "**Implementation (10 points):**\n",
    "For Doc2Vec, you will need to create a list of `TaggedDocument` instead of using the `self.corpus` or `self.documents` variable. Use the document id as the 'tag'.\n",
    "  "
   ]
  },
  {
   "cell_type": "code",
   "execution_count": 93,
   "metadata": {
    "deletable": false,
    "nbgrader": {
     "cell_type": "code",
     "checksum": "1f60fdeb97febb7f4a6fd5bf109aac20",
     "grade": false,
     "grade_id": "cell-680facdcc98a19ab",
     "locked": false,
     "schema_version": 3,
     "solution": true,
     "task": false
    }
   },
   "outputs": [
    {
     "name": "stderr",
     "output_type": "stream",
     "text": [
      "2021-02-19 13:12:59,744 : INFO : adding document #0 to Dictionary(0 unique tokens: [])\n",
      "2021-02-19 13:12:59,883 : INFO : built Dictionary(5937 unique tokens: ['-', 'algebra', 'intern', 'languag', 'preliminari']...) from 3204 documents (total 115969 corpus positions)\n",
      "2021-02-19 13:12:59,890 : INFO : discarding 4740 tokens: [('repeat', 8), ('glossari', 7), ('inspect', 8), ('uncol', 2), ('rung', 9), ('secant', 2), ('.', 1603), ('acceler', 6), ('diverg', 3), ('induc', 9)]...\n",
      "2021-02-19 13:12:59,891 : INFO : keeping 1197 tokens which were in no less than 10 and no more than 1602 (=50.0%) documents\n",
      "2021-02-19 13:12:59,893 : INFO : resulting dictionary: Dictionary(1197 unique tokens: ['-', 'algebra', 'intern', 'languag', 'preliminari']...)\n",
      "2021-02-19 13:12:59,980 : INFO : collecting all words and their counts\n",
      "2021-02-19 13:12:59,981 : INFO : PROGRESS: at example #0, processed 0 words (0/s), 0 word types, 0 tags\n",
      "2021-02-19 13:13:00,022 : INFO : collected 5937 word types and 10 unique tags from a corpus of 3204 examples and 115969 words\n",
      "2021-02-19 13:13:00,023 : INFO : Loading a fresh vocabulary\n",
      "2021-02-19 13:13:00,036 : INFO : effective_min_count=1 retains 5937 unique words (100% of original 5937, drops 0)\n",
      "2021-02-19 13:13:00,037 : INFO : effective_min_count=1 leaves 115969 word corpus (100% of original 115969, drops 0)\n",
      "2021-02-19 13:13:00,056 : INFO : deleting the raw counts dictionary of 5937 items\n",
      "2021-02-19 13:13:00,057 : INFO : sample=0.001 downsamples 40 most-common words\n",
      "2021-02-19 13:13:00,057 : INFO : downsampling leaves estimated 92346 word corpus (79.6% of prior 115969)\n",
      "2021-02-19 13:13:00,074 : INFO : estimated required memory for 5937 words and 100 dimensions: 7724100 bytes\n",
      "2021-02-19 13:13:00,074 : INFO : resetting layer weights\n",
      "2021-02-19 13:13:01,070 : INFO : training model with 3 workers on 5937 vocabulary and 100 features, using sg=0 hs=0 sample=0.001 negative=5 window=5\n",
      "2021-02-19 13:13:01,258 : INFO : worker thread finished; awaiting finish of 2 more threads\n",
      "2021-02-19 13:13:01,264 : INFO : worker thread finished; awaiting finish of 1 more threads\n",
      "2021-02-19 13:13:01,273 : INFO : worker thread finished; awaiting finish of 0 more threads\n",
      "2021-02-19 13:13:01,274 : INFO : EPOCH - 1 : training on 115969 raw words (104083 effective words) took 0.2s, 521415 effective words/s\n",
      "2021-02-19 13:13:01,496 : INFO : worker thread finished; awaiting finish of 2 more threads\n",
      "2021-02-19 13:13:01,504 : INFO : worker thread finished; awaiting finish of 1 more threads\n",
      "2021-02-19 13:13:01,512 : INFO : worker thread finished; awaiting finish of 0 more threads\n",
      "2021-02-19 13:13:01,513 : INFO : EPOCH - 2 : training on 115969 raw words (104217 effective words) took 0.2s, 441296 effective words/s\n",
      "2021-02-19 13:13:01,739 : INFO : worker thread finished; awaiting finish of 2 more threads\n",
      "2021-02-19 13:13:01,753 : INFO : worker thread finished; awaiting finish of 1 more threads\n",
      "2021-02-19 13:13:01,756 : INFO : worker thread finished; awaiting finish of 0 more threads\n",
      "2021-02-19 13:13:01,757 : INFO : EPOCH - 3 : training on 115969 raw words (104172 effective words) took 0.2s, 433618 effective words/s\n",
      "2021-02-19 13:13:01,984 : INFO : worker thread finished; awaiting finish of 2 more threads\n",
      "2021-02-19 13:13:02,000 : INFO : worker thread finished; awaiting finish of 1 more threads\n",
      "2021-02-19 13:13:02,005 : INFO : worker thread finished; awaiting finish of 0 more threads\n",
      "2021-02-19 13:13:02,006 : INFO : EPOCH - 4 : training on 115969 raw words (103978 effective words) took 0.2s, 423164 effective words/s\n",
      "2021-02-19 13:13:02,261 : INFO : worker thread finished; awaiting finish of 2 more threads\n",
      "2021-02-19 13:13:02,276 : INFO : worker thread finished; awaiting finish of 1 more threads\n",
      "2021-02-19 13:13:02,282 : INFO : worker thread finished; awaiting finish of 0 more threads\n",
      "2021-02-19 13:13:02,282 : INFO : EPOCH - 5 : training on 115969 raw words (104235 effective words) took 0.3s, 387049 effective words/s\n",
      "2021-02-19 13:13:02,539 : INFO : worker thread finished; awaiting finish of 2 more threads\n",
      "2021-02-19 13:13:02,549 : INFO : worker thread finished; awaiting finish of 1 more threads\n",
      "2021-02-19 13:13:02,562 : INFO : worker thread finished; awaiting finish of 0 more threads\n",
      "2021-02-19 13:13:02,563 : INFO : EPOCH - 6 : training on 115969 raw words (104063 effective words) took 0.3s, 377834 effective words/s\n",
      "2021-02-19 13:13:02,816 : INFO : worker thread finished; awaiting finish of 2 more threads\n",
      "2021-02-19 13:13:02,835 : INFO : worker thread finished; awaiting finish of 1 more threads\n",
      "2021-02-19 13:13:02,839 : INFO : worker thread finished; awaiting finish of 0 more threads\n",
      "2021-02-19 13:13:02,840 : INFO : EPOCH - 7 : training on 115969 raw words (104090 effective words) took 0.3s, 380497 effective words/s\n",
      "2021-02-19 13:13:03,082 : INFO : worker thread finished; awaiting finish of 2 more threads\n",
      "2021-02-19 13:13:03,090 : INFO : worker thread finished; awaiting finish of 1 more threads\n",
      "2021-02-19 13:13:03,095 : INFO : worker thread finished; awaiting finish of 0 more threads\n",
      "2021-02-19 13:13:03,096 : INFO : EPOCH - 8 : training on 115969 raw words (104179 effective words) took 0.3s, 414602 effective words/s\n",
      "2021-02-19 13:13:03,332 : INFO : worker thread finished; awaiting finish of 2 more threads\n",
      "2021-02-19 13:13:03,350 : INFO : worker thread finished; awaiting finish of 1 more threads\n",
      "2021-02-19 13:13:03,354 : INFO : worker thread finished; awaiting finish of 0 more threads\n",
      "2021-02-19 13:13:03,354 : INFO : EPOCH - 9 : training on 115969 raw words (104120 effective words) took 0.3s, 407839 effective words/s\n",
      "2021-02-19 13:13:03,612 : INFO : worker thread finished; awaiting finish of 2 more threads\n",
      "2021-02-19 13:13:03,628 : INFO : worker thread finished; awaiting finish of 1 more threads\n",
      "2021-02-19 13:13:03,632 : INFO : worker thread finished; awaiting finish of 0 more threads\n",
      "2021-02-19 13:13:03,633 : INFO : EPOCH - 10 : training on 115969 raw words (104187 effective words) took 0.3s, 379897 effective words/s\n",
      "2021-02-19 13:13:03,881 : INFO : worker thread finished; awaiting finish of 2 more threads\n",
      "2021-02-19 13:13:03,900 : INFO : worker thread finished; awaiting finish of 1 more threads\n",
      "2021-02-19 13:13:03,904 : INFO : worker thread finished; awaiting finish of 0 more threads\n",
      "2021-02-19 13:13:03,905 : INFO : EPOCH - 11 : training on 115969 raw words (103998 effective words) took 0.3s, 386851 effective words/s\n",
      "2021-02-19 13:13:04,165 : INFO : worker thread finished; awaiting finish of 2 more threads\n",
      "2021-02-19 13:13:04,178 : INFO : worker thread finished; awaiting finish of 1 more threads\n",
      "2021-02-19 13:13:04,183 : INFO : worker thread finished; awaiting finish of 0 more threads\n",
      "2021-02-19 13:13:04,184 : INFO : EPOCH - 12 : training on 115969 raw words (104079 effective words) took 0.3s, 378084 effective words/s\n",
      "2021-02-19 13:13:04,446 : INFO : worker thread finished; awaiting finish of 2 more threads\n",
      "2021-02-19 13:13:04,455 : INFO : worker thread finished; awaiting finish of 1 more threads\n",
      "2021-02-19 13:13:04,467 : INFO : worker thread finished; awaiting finish of 0 more threads\n",
      "2021-02-19 13:13:04,468 : INFO : EPOCH - 13 : training on 115969 raw words (104135 effective words) took 0.3s, 370837 effective words/s\n",
      "2021-02-19 13:13:04,715 : INFO : worker thread finished; awaiting finish of 2 more threads\n",
      "2021-02-19 13:13:04,726 : INFO : worker thread finished; awaiting finish of 1 more threads\n",
      "2021-02-19 13:13:04,734 : INFO : worker thread finished; awaiting finish of 0 more threads\n",
      "2021-02-19 13:13:04,735 : INFO : EPOCH - 14 : training on 115969 raw words (104040 effective words) took 0.3s, 395646 effective words/s\n",
      "2021-02-19 13:13:04,954 : INFO : worker thread finished; awaiting finish of 2 more threads\n",
      "2021-02-19 13:13:04,970 : INFO : worker thread finished; awaiting finish of 1 more threads\n",
      "2021-02-19 13:13:04,971 : INFO : worker thread finished; awaiting finish of 0 more threads\n",
      "2021-02-19 13:13:04,972 : INFO : EPOCH - 15 : training on 115969 raw words (103990 effective words) took 0.2s, 450836 effective words/s\n",
      "2021-02-19 13:13:05,167 : INFO : worker thread finished; awaiting finish of 2 more threads\n",
      "2021-02-19 13:13:05,181 : INFO : worker thread finished; awaiting finish of 1 more threads\n"
     ]
    },
    {
     "name": "stderr",
     "output_type": "stream",
     "text": [
      "2021-02-19 13:13:05,184 : INFO : worker thread finished; awaiting finish of 0 more threads\n",
      "2021-02-19 13:13:05,185 : INFO : EPOCH - 16 : training on 115969 raw words (104073 effective words) took 0.2s, 497575 effective words/s\n",
      "2021-02-19 13:13:05,406 : INFO : worker thread finished; awaiting finish of 2 more threads\n",
      "2021-02-19 13:13:05,421 : INFO : worker thread finished; awaiting finish of 1 more threads\n",
      "2021-02-19 13:13:05,427 : INFO : worker thread finished; awaiting finish of 0 more threads\n",
      "2021-02-19 13:13:05,428 : INFO : EPOCH - 17 : training on 115969 raw words (104078 effective words) took 0.2s, 433793 effective words/s\n",
      "2021-02-19 13:13:05,645 : INFO : worker thread finished; awaiting finish of 2 more threads\n",
      "2021-02-19 13:13:05,653 : INFO : worker thread finished; awaiting finish of 1 more threads\n",
      "2021-02-19 13:13:05,659 : INFO : worker thread finished; awaiting finish of 0 more threads\n",
      "2021-02-19 13:13:05,659 : INFO : EPOCH - 18 : training on 115969 raw words (104175 effective words) took 0.2s, 456470 effective words/s\n",
      "2021-02-19 13:13:05,871 : INFO : worker thread finished; awaiting finish of 2 more threads\n",
      "2021-02-19 13:13:05,892 : INFO : worker thread finished; awaiting finish of 1 more threads\n",
      "2021-02-19 13:13:05,895 : INFO : worker thread finished; awaiting finish of 0 more threads\n",
      "2021-02-19 13:13:05,895 : INFO : EPOCH - 19 : training on 115969 raw words (104068 effective words) took 0.2s, 447838 effective words/s\n",
      "2021-02-19 13:13:06,104 : INFO : worker thread finished; awaiting finish of 2 more threads\n",
      "2021-02-19 13:13:06,116 : INFO : worker thread finished; awaiting finish of 1 more threads\n",
      "2021-02-19 13:13:06,122 : INFO : worker thread finished; awaiting finish of 0 more threads\n",
      "2021-02-19 13:13:06,122 : INFO : EPOCH - 20 : training on 115969 raw words (104162 effective words) took 0.2s, 466728 effective words/s\n",
      "2021-02-19 13:13:06,123 : INFO : training on a 2319380 raw words (2082122 effective words) took 5.1s, 412072 effective words/s\n"
     ]
    },
    {
     "data": {
      "text/plain": [
       "[(0, -0.047803536),\n",
       " (1, -0.03477467),\n",
       " (2, 0.0006340597),\n",
       " (3, -0.020912718),\n",
       " (4, -0.041602552),\n",
       " (5, 0.018957414),\n",
       " (6, 0.030139934),\n",
       " (7, -0.022293897),\n",
       " (8, -0.013913835),\n",
       " (9, -0.07318979),\n",
       " (10, 0.0019337093),\n",
       " (11, 0.057650235),\n",
       " (12, -0.003936985),\n",
       " (13, 0.026753854),\n",
       " (14, -0.019853111),\n",
       " (15, -0.036736887),\n",
       " (16, -0.035760656),\n",
       " (17, -0.011163566),\n",
       " (18, 0.01855865),\n",
       " (19, -0.031282965),\n",
       " (20, 0.041966766),\n",
       " (21, 0.021719484),\n",
       " (22, 0.01484449),\n",
       " (23, -0.031560548),\n",
       " (24, -0.018207626),\n",
       " (25, 0.008036126),\n",
       " (26, 0.04331251),\n",
       " (27, -0.04370254),\n",
       " (28, -0.033082787),\n",
       " (29, -0.042868257),\n",
       " (30, -0.038665663),\n",
       " (31, 0.059641384),\n",
       " (32, 0.0018173958),\n",
       " (33, -0.017414063),\n",
       " (34, -0.061699647),\n",
       " (35, 0.042296693),\n",
       " (36, -0.02546776),\n",
       " (37, 0.00070014223),\n",
       " (38, -0.028601795),\n",
       " (39, -0.01542439),\n",
       " (40, 0.044599373),\n",
       " (41, 0.039445248),\n",
       " (42, -0.01949047),\n",
       " (43, -0.026537554),\n",
       " (44, 0.034145582),\n",
       " (45, 0.018001901),\n",
       " (46, -0.07364766),\n",
       " (47, 0.012076323),\n",
       " (48, 0.0053534727),\n",
       " (49, 0.058523886),\n",
       " (50, -0.0358386),\n",
       " (51, 0.02424023),\n",
       " (52, -0.015879782),\n",
       " (53, 0.00030267827),\n",
       " (54, -0.006536402),\n",
       " (55, 0.05419671),\n",
       " (56, -0.020236896),\n",
       " (57, -0.040763218),\n",
       " (58, -0.025672534),\n",
       " (59, -0.061017122),\n",
       " (60, 0.03081855),\n",
       " (61, 0.006203601),\n",
       " (62, 0.04578377),\n",
       " (63, -0.026267787),\n",
       " (64, -0.044782773),\n",
       " (65, -0.027452242),\n",
       " (66, 0.024419647),\n",
       " (67, -0.008600149),\n",
       " (68, 0.010575743),\n",
       " (69, -0.0103702415),\n",
       " (70, 0.04032055),\n",
       " (71, -0.061896175),\n",
       " (72, 0.0038928844),\n",
       " (73, 0.036788154),\n",
       " (74, 0.06862995),\n",
       " (75, 0.03874408),\n",
       " (76, 0.00587275),\n",
       " (77, -0.045428272),\n",
       " (78, 0.0075481874),\n",
       " (79, -0.01336468),\n",
       " (80, -0.019352112),\n",
       " (81, 0.008303684),\n",
       " (82, -0.05829048),\n",
       " (83, 0.023666136),\n",
       " (84, 0.0046658996),\n",
       " (85, -0.0387627),\n",
       " (86, -0.020278066),\n",
       " (87, -0.004780031),\n",
       " (88, -0.00063601055),\n",
       " (89, -0.026825173),\n",
       " (90, -0.033268806),\n",
       " (91, -0.05934976),\n",
       " (92, -0.014901909),\n",
       " (93, -0.060564976),\n",
       " (94, 0.06963497),\n",
       " (95, 0.01476715),\n",
       " (96, -0.03579276),\n",
       " (97, -0.08626977),\n",
       " (98, 0.07702313),\n",
       " (99, 0.008295677)]"
      ]
     },
     "execution_count": 93,
     "metadata": {},
     "output_type": "execute_result"
    }
   ],
   "source": [
    "class D2VRetrievalModel(VectorSpaceRetrievalModel):\n",
    "    def __init__(self, doc_repr):\n",
    "        super().__init__(doc_repr)\n",
    "        \n",
    "        self.vector_size= 100\n",
    "        self.min_count = 1\n",
    "        self.epochs = 20\n",
    "        \n",
    "        # YOUR CODE HERE\n",
    "        self.documents = [TaggedDocument(doc, str(doc_id)) for (doc_id, doc) in doc_repr]\n",
    "\n",
    "        \n",
    "    def train_model(self):\n",
    "        # YOUR CODE HERE\n",
    "        self.model = Doc2Vec(documents=self.documents, vector_size=self.vector_size, min_count=self.min_count, epochs=self.epochs)\n",
    "        \n",
    "        \n",
    "    def vectorize_documents(self):\n",
    "        \"\"\"\n",
    "            Returns a doc_id -> vector dictionary\n",
    "        \"\"\"  \n",
    "        # YOUR CODE HERE\n",
    "        doc_vec_dict = {}\n",
    "        for (doc_id, doc) in self.doc_repr:\n",
    "            doc_vec = self.model.infer_vector(doc)\n",
    "            doc_vec_dict[doc_id] = list(zip(range(self.vector_size), doc_vec))\n",
    "\n",
    "        return doc_vec_dict\n",
    "\n",
    "    \n",
    "    def vectorize_query(self, query):\n",
    "        # YOUR CODE HERE\n",
    "        query = process_text(query, **config_2)\n",
    "        query_vec = self.model.infer_vector(query)\n",
    "        \n",
    "        return list(zip(range(self.vector_size), query_vec))\n",
    "\n",
    "        \n",
    "d2v = D2VRetrievalModel(doc_repr_2)\n",
    "d2v.train_model()\n",
    "\n",
    "\n",
    "# # you can now get an LSI vector for a given query in the following way:\n",
    "d2v.vectorize_query(\"report\")"
   ]
  },
  {
   "cell_type": "code",
   "execution_count": 94,
   "metadata": {
    "deletable": false,
    "editable": false,
    "nbgrader": {
     "cell_type": "code",
     "checksum": "e83a363a9d4f136efbdde1426a83925e",
     "grade": true,
     "grade_id": "cell-5e2c5e0c9a2e8cb5",
     "locked": true,
     "points": 0,
     "schema_version": 3,
     "solution": false,
     "task": false
    }
   },
   "outputs": [],
   "source": [
    "#### Please do not change this. This cell is used for grading."
   ]
  },
  {
   "cell_type": "markdown",
   "metadata": {
    "deletable": false,
    "editable": false,
    "nbgrader": {
     "cell_type": "markdown",
     "checksum": "5bb46bf6b9be1e0ca66f0b0bc6260ecb",
     "grade": false,
     "grade_id": "cell-8a49d414f798a595",
     "locked": true,
     "points": 10,
     "schema_version": 3,
     "solution": false,
     "task": true
    }
   },
   "source": [
    "\\#### Please do not change this. This cell is used for grading."
   ]
  },
  {
   "cell_type": "code",
   "execution_count": 95,
   "metadata": {},
   "outputs": [
    {
     "data": {
      "application/vnd.jupyter.widget-view+json": {
       "model_id": "3dc482694bb64c78a594e5c4ea78b41b",
       "version_major": 2,
       "version_minor": 0
      },
      "text/plain": [
       "Text(value='', description='Search Bar')"
      ]
     },
     "metadata": {},
     "output_type": "display_data"
    }
   ],
   "source": [
    "drm_d2v = DenseRetrievalRanker(d2v, cosine_sim)\n",
    "\n",
    "# test your LDA model\n",
    "search_fn = drm_d2v.search\n",
    "\n",
    "text = widgets.Text(description=\"Search Bar\", width=200)\n",
    "display(text)\n",
    "\n",
    "\n",
    "text.on_submit(handle_submit_2)"
   ]
  },
  {
   "cell_type": "markdown",
   "metadata": {
    "deletable": false,
    "editable": false,
    "nbgrader": {
     "cell_type": "markdown",
     "checksum": "363ec36c1d03d9f9e1c2045a6e193c14",
     "grade": false,
     "grade_id": "cell-3529ae29eece7b97",
     "locked": true,
     "schema_version": 3,
     "solution": false,
     "task": false
    }
   },
   "source": [
    "---\n",
    "## Section 9: Re-ranking (10 points) <a class=\"anchor\" id=\"reranking\"></a>\n",
    "\n",
    "[Back to Part 2](#part2)\n",
    "\n",
    "To motivate the re-ranking perspective (i.e retrieve with lexical method + rerank with a semantic method), let's search using semantic methods and compare it to BM25's performance, along with their runtime:\n"
   ]
  },
  {
   "cell_type": "code",
   "execution_count": 96,
   "metadata": {
    "deletable": false,
    "editable": false,
    "nbgrader": {
     "cell_type": "code",
     "checksum": "5755f70e3eb28abc65d14d80125338af",
     "grade": false,
     "grade_id": "cell-f8f43bf5ae383128",
     "locked": true,
     "schema_version": 3,
     "solution": false,
     "task": false
    }
   },
   "outputs": [
    {
     "name": "stdout",
     "output_type": "stream",
     "text": [
      "BM25: \n",
      "989 µs ± 56.8 µs per loop (mean ± std. dev. of 7 runs, 1000 loops each)\n",
      "LSI: \n",
      "305 ms ± 13.2 ms per loop (mean ± std. dev. of 7 runs, 1 loop each)\n",
      "LDA: \n",
      "153 ms ± 2.89 ms per loop (mean ± std. dev. of 7 runs, 10 loops each)\n",
      "W2V: \n"
     ]
    },
    {
     "name": "stderr",
     "output_type": "stream",
     "text": [
      "/home/ruben/miniconda3/envs/ir1/lib/python3.6/site-packages/ipykernel_launcher.py:42: DeprecationWarning: Call to deprecated `__contains__` (Method will be removed in 4.0.0, use self.wv.__contains__() instead).\n"
     ]
    },
    {
     "name": "stdout",
     "output_type": "stream",
     "text": [
      "325 ms ± 2.33 ms per loop (mean ± std. dev. of 7 runs, 1 loop each)\n",
      "W2V(Pretrained): \n"
     ]
    },
    {
     "name": "stderr",
     "output_type": "stream",
     "text": [
      "/home/ruben/miniconda3/envs/ir1/lib/python3.6/site-packages/ipykernel_launcher.py:42: DeprecationWarning: Call to deprecated `wv` (Attribute will be removed in 4.0.0, use self instead).\n",
      "/home/ruben/miniconda3/envs/ir1/lib/python3.6/site-packages/ipykernel_launcher.py:16: RuntimeWarning: invalid value encountered in double_scalars\n",
      "  app.launch_new_instance()\n"
     ]
    },
    {
     "name": "stdout",
     "output_type": "stream",
     "text": [
      "843 ms ± 45.9 ms per loop (mean ± std. dev. of 7 runs, 1 loop each)\n",
      "D2V:\n",
      "299 ms ± 8.31 ms per loop (mean ± std. dev. of 7 runs, 1 loop each)\n"
     ]
    }
   ],
   "source": [
    "query = \"algebraic functions\"\n",
    "print(\"BM25: \")\n",
    "%timeit bm25_search(query, 2)\n",
    "print(\"LSI: \")\n",
    "%timeit drm_lsi.search(query)\n",
    "print(\"LDA: \")\n",
    "%timeit drm_lda.search(query)\n",
    "print(\"W2V: \")\n",
    "%timeit drm_w2v.search(query)\n",
    "print(\"W2V(Pretrained): \")\n",
    "%timeit drm_w2v_pretrained.search(query)\n",
    "print(\"D2V:\")\n",
    "%timeit drm_d2v.search(query)"
   ]
  },
  {
   "cell_type": "markdown",
   "metadata": {
    "deletable": false,
    "editable": false,
    "nbgrader": {
     "cell_type": "markdown",
     "checksum": "ae398da0a8c23c95bcbb0023b7ec6f34",
     "grade": false,
     "grade_id": "cell-db5ff09f97841af7",
     "locked": true,
     "schema_version": 3,
     "solution": false,
     "task": false
    }
   },
   "source": [
    "---\n",
    "\n",
    "**Implementation (10 points):**\n",
    "Re-ranking involves retrieving a small set of documents using simple but fast methods like BM25 and then re-ranking them with the aid of semantic methods such as LDA or LSI. Implement the following class, which takes in an `initial_retrieval_fn` - the initial retrieval function and `vsrm` - an instance of the `VectorSpaceRetrievalModel` class (i.e LSI/LDA) as input. The search function should first retrieve an initial list of K documents, and then these documents are re-ranked using a semantic method. This not only makes retrieval faster, but semantic methods perform poorly when used in isolation, as you will find out."
   ]
  },
  {
   "cell_type": "code",
   "execution_count": 97,
   "metadata": {
    "deletable": false,
    "nbgrader": {
     "cell_type": "code",
     "checksum": "63b6b05a676a2ae3f08d8bed1bc59428",
     "grade": false,
     "grade_id": "cell-5bf47600d1a0c507",
     "locked": false,
     "schema_version": 3,
     "solution": true,
     "task": false
    }
   },
   "outputs": [],
   "source": [
    "class DenseRerankingModel:\n",
    "    def __init__(self, initial_retrieval_fn, vsrm, similarity_fn):\n",
    "        \"\"\"\n",
    "            initial_retrieval_fn: takes in a query and returns a list of [(doc_id, score)] (sorted)\n",
    "            vsrm: instance of `VectorSpaceRetrievalModel`\n",
    "            similarity_fn: function instance that takes in two vectors \n",
    "                            and returns a similarity score e.g cosine_sim defined earlier\n",
    "        \"\"\"\n",
    "        self.ret = initial_retrieval_fn\n",
    "        self.vsrm = vsrm\n",
    "        self.similarity_fn = similarity_fn\n",
    "        self.vectorized_documents = vsrm.vectorize_documents()\n",
    "        \n",
    "        assert len(self.vectorized_documents) == len(doc_repr_2)\n",
    "    \n",
    "    def search(self, query, K=50):\n",
    "        \"\"\"\n",
    "            First, retrieve the top K results using the retrieval function\n",
    "            Then, re-rank the results using the VSRM instance\n",
    "        \"\"\"\n",
    "        # YOUR CODE HERE\n",
    "        top_k = [doc_id for (doc_id, score) in self.ret(query)][:K]\n",
    "        query_vec = self.vsrm.vectorize_query(query)\n",
    "        reranking = []\n",
    "        for doc_id in top_k:\n",
    "            doc_vec = self.vectorized_documents[doc_id]\n",
    "            score = self.similarity_fn(query_vec, doc_vec)\n",
    "            reranking.append((doc_id, score))\n",
    "        \n",
    "        reranking.sort(key=lambda _:-_[1])\n",
    "        return reranking"
   ]
  },
  {
   "cell_type": "code",
   "execution_count": 98,
   "metadata": {
    "deletable": false,
    "editable": false,
    "nbgrader": {
     "cell_type": "code",
     "checksum": "334ab5af96976265cace682ab82a7387",
     "grade": true,
     "grade_id": "cell-52c6d18a4c0b4882",
     "locked": true,
     "points": 0,
     "schema_version": 3,
     "solution": false,
     "task": false
    }
   },
   "outputs": [
    {
     "name": "stderr",
     "output_type": "stream",
     "text": [
      "/home/ruben/miniconda3/envs/ir1/lib/python3.6/site-packages/ipykernel_launcher.py:23: DeprecationWarning: Call to deprecated `__contains__` (Method will be removed in 4.0.0, use self.wv.__contains__() instead).\n",
      "/home/ruben/miniconda3/envs/ir1/lib/python3.6/site-packages/ipykernel_launcher.py:23: DeprecationWarning: Call to deprecated `wv` (Attribute will be removed in 4.0.0, use self instead).\n"
     ]
    }
   ],
   "source": [
    "##### Function check\n",
    "bm25_search_2 = partial(bm25_search, index_set=2)\n",
    "lsi_rerank = DenseRerankingModel(bm25_search_2, lsi, cosine_sim)\n",
    "lda_rerank = DenseRerankingModel(bm25_search_2, lda, jenson_shannon_sim)\n",
    "w2v_rerank = DenseRerankingModel(bm25_search_2, w2v, cosine_sim)\n",
    "w2v_pretrained_rerank = DenseRerankingModel(bm25_search_2, w2v_pretrained, cosine_sim)\n",
    "d2v_rerank = DenseRerankingModel(bm25_search_2, d2v, cosine_sim)\n",
    "\n",
    "##### "
   ]
  },
  {
   "cell_type": "markdown",
   "metadata": {
    "deletable": false,
    "editable": false,
    "nbgrader": {
     "cell_type": "markdown",
     "checksum": "bd904253f45f84e63bab3a69729058fc",
     "grade": false,
     "grade_id": "cell-93215dfe6bcf7cff",
     "locked": true,
     "points": 10,
     "schema_version": 3,
     "solution": false,
     "task": true
    }
   },
   "source": [
    "\\#### Please do not change this. This cell is used for grading."
   ]
  },
  {
   "cell_type": "markdown",
   "metadata": {
    "deletable": false,
    "editable": false,
    "nbgrader": {
     "cell_type": "markdown",
     "checksum": "b592e60292bfe3d9ef2930a354c4077a",
     "grade": false,
     "grade_id": "cell-aa694ff55fa91e7d",
     "locked": true,
     "schema_version": 3,
     "solution": false,
     "task": false
    }
   },
   "source": [
    "---\n",
    "Now, let us time the new search functions:"
   ]
  },
  {
   "cell_type": "code",
   "execution_count": 99,
   "metadata": {
    "deletable": false,
    "editable": false,
    "nbgrader": {
     "cell_type": "code",
     "checksum": "338c7e3528cba266a865a061287c0e38",
     "grade": false,
     "grade_id": "cell-5edbd481562ad91f",
     "locked": true,
     "schema_version": 3,
     "solution": false,
     "task": false
    }
   },
   "outputs": [
    {
     "name": "stdout",
     "output_type": "stream",
     "text": [
      "BM25: \n",
      "995 µs ± 77.1 µs per loop (mean ± std. dev. of 7 runs, 1000 loops each)\n",
      "LSI: \n",
      "6.21 ms ± 546 µs per loop (mean ± std. dev. of 7 runs, 100 loops each)\n",
      "LDA: \n",
      "3.86 ms ± 272 µs per loop (mean ± std. dev. of 7 runs, 100 loops each)\n",
      "W2V: \n"
     ]
    },
    {
     "name": "stderr",
     "output_type": "stream",
     "text": [
      "/home/ruben/miniconda3/envs/ir1/lib/python3.6/site-packages/ipykernel_launcher.py:42: DeprecationWarning: Call to deprecated `__contains__` (Method will be removed in 4.0.0, use self.wv.__contains__() instead).\n"
     ]
    },
    {
     "name": "stdout",
     "output_type": "stream",
     "text": [
      "5.64 ms ± 105 µs per loop (mean ± std. dev. of 7 runs, 100 loops each)\n",
      "W2V(Pretrained): \n"
     ]
    },
    {
     "name": "stderr",
     "output_type": "stream",
     "text": [
      "/home/ruben/miniconda3/envs/ir1/lib/python3.6/site-packages/ipykernel_launcher.py:42: DeprecationWarning: Call to deprecated `wv` (Attribute will be removed in 4.0.0, use self instead).\n"
     ]
    },
    {
     "name": "stdout",
     "output_type": "stream",
     "text": [
      "13.4 ms ± 190 µs per loop (mean ± std. dev. of 7 runs, 100 loops each)\n",
      "D2V:\n",
      "6.42 ms ± 462 µs per loop (mean ± std. dev. of 7 runs, 100 loops each)\n"
     ]
    }
   ],
   "source": [
    "query = \"algebraic functions\"\n",
    "print(\"BM25: \")\n",
    "%timeit bm25_search(query, 2)\n",
    "print(\"LSI: \")\n",
    "%timeit lsi_rerank.search(query)\n",
    "print(\"LDA: \")\n",
    "%timeit lda_rerank.search(query)\n",
    "print(\"W2V: \")\n",
    "%timeit w2v_rerank.search(query)\n",
    "print(\"W2V(Pretrained): \")\n",
    "%timeit w2v_pretrained_rerank.search(query)\n",
    "print(\"D2V:\")\n",
    "%timeit d2v_rerank.search(query)"
   ]
  },
  {
   "cell_type": "markdown",
   "metadata": {
    "deletable": false,
    "editable": false,
    "nbgrader": {
     "cell_type": "markdown",
     "checksum": "c45c5e3f015b2de89d9d39ae3766368b",
     "grade": false,
     "grade_id": "cell-85c50f2ab9eec301",
     "locked": true,
     "schema_version": 3,
     "solution": false,
     "task": false
    }
   },
   "source": [
    "---\n",
    "As you can see, it is much faster (but BM25 is still orders of magnitude faster)."
   ]
  },
  {
   "cell_type": "markdown",
   "metadata": {
    "deletable": false,
    "editable": false,
    "nbgrader": {
     "cell_type": "markdown",
     "checksum": "1e2f3388e3807659f303fe31a75a010e",
     "grade": false,
     "grade_id": "cell-5071bb99b2af61cb",
     "locked": true,
     "schema_version": 3,
     "solution": false,
     "task": false
    }
   },
   "source": [
    "---\n",
    "## Section 10: Evaluation & Analysis (30 points) <a class=\"anchor\" id=\"reranking_eval\"></a>\n",
    "\n",
    "[Back to Part 2](#part2)\n",
    "\n",
    "[Previously](#evaluation) we have implemented some evaluation metrics and used them for measuring the ranking performance of term-based IR algorithms. In this section, we will do the same for semantic methods, both with and without re-ranking.\n",
    "\n",
    "### Section 10.1: Plot (10 points)\n",
    "\n",
    "First, gather the results. The results should consider the index set, the different search functions and different metrics. Plot the results in bar charts, per metric, with clear labels.\n",
    "\n",
    "Then, gather only the re-ranking models, and plot and compare them with the results obtained in part 1 (only index set 2)."
   ]
  },
  {
   "cell_type": "code",
   "execution_count": 100,
   "metadata": {
    "deletable": false,
    "editable": false,
    "nbgrader": {
     "cell_type": "code",
     "checksum": "4fe81520ac6413a803838913fd64de03",
     "grade": false,
     "grade_id": "cell-b672fe6dfae0b1ce",
     "locked": true,
     "schema_version": 3,
     "solution": false,
     "task": false
    }
   },
   "outputs": [],
   "source": [
    "list_of_sem_search_fns = [\n",
    "    (\"lda\", drm_lda.search),\n",
    "    (\"lsi\", drm_lsi.search),\n",
    "    (\"w2v\", drm_w2v.search),\n",
    "    (\"w2v_pretrained\", drm_w2v_pretrained.search),\n",
    "    (\"d2v\", drm_d2v.search),\n",
    "    (\"lsi_rr\", lsi_rerank.search),\n",
    "    (\"lda_rr\", lda_rerank.search),\n",
    "    (\"w2v_rr\", w2v_rerank.search),\n",
    "    (\"w2v_pretrained_rr\", w2v_pretrained_rerank.search),\n",
    "    (\"d2v_rr\", d2v_rerank.search),\n",
    "    \n",
    "]"
   ]
  },
  {
   "cell_type": "code",
   "execution_count": 101,
   "metadata": {
    "deletable": false,
    "nbgrader": {
     "cell_type": "code",
     "checksum": "54707c4afac084299aeefa047259b4a9",
     "grade": true,
     "grade_id": "cell-7dd8273b0f5a3c22",
     "locked": false,
     "points": 10,
     "schema_version": 3,
     "solution": true,
     "task": false
    }
   },
   "outputs": [
    {
     "name": "stderr",
     "output_type": "stream",
     "text": [
      "/home/ruben/miniconda3/envs/ir1/lib/python3.6/site-packages/ipykernel_launcher.py:42: DeprecationWarning: Call to deprecated `wv` (Attribute will be removed in 4.0.0, use self instead).\n",
      "/home/ruben/miniconda3/envs/ir1/lib/python3.6/site-packages/ipykernel_launcher.py:16: RuntimeWarning: invalid value encountered in double_scalars\n",
      "  app.launch_new_instance()\n",
      "/home/ruben/miniconda3/envs/ir1/lib/python3.6/site-packages/ipykernel_launcher.py:42: DeprecationWarning: Call to deprecated `__contains__` (Method will be removed in 4.0.0, use self.wv.__contains__() instead).\n"
     ]
    },
    {
     "data": {
      "image/png": "[encoded data removed]",
      "text/plain": [
       "<Figure size 1080x576 with 1 Axes>"
      ]
     },
     "metadata": {
      "needs_background": "light"
     },
     "output_type": "display_data"
    },
    {
     "data": {
      "image/png": "[encoded data removed]",
      "text/plain": [
       "<Figure size 1080x576 with 1 Axes>"
      ]
     },
     "metadata": {
      "needs_background": "light"
     },
     "output_type": "display_data"
    },
    {
     "data": {
      "image/png": "[encoded data removed]",
      "text/plain": [
       "<Figure size 1080x576 with 1 Axes>"
      ]
     },
     "metadata": {
      "needs_background": "light"
     },
     "output_type": "display_data"
    }
   ],
   "source": [
    "# YOUR CODE HERE\n",
    "list_rr_and_lex_search_fns = [\n",
    "\n",
    "    (\"lsi_rr\", lsi_rerank.search),\n",
    "    (\"lda_rr\", lda_rerank.search),\n",
    "    (\"w2v_rr\", w2v_rerank.search),\n",
    "    (\"w2v_pretrained_rr\", w2v_pretrained_rerank.search),\n",
    "    (\"d2v_rr\", d2v_rerank.search),\n",
    "    (\"BOW\", bow_search),\n",
    "    (\"TF-IDF\", tfidf_search),\n",
    "    (\"NaiveQL\", naive_ql_search),\n",
    "    (\"QL\", ql_search),\n",
    "    (\"BM25\", bm25_search)\n",
    "]\n",
    "\n",
    "evaluate_search_fn(w2v_pretrained_rerank.search, list_of_metrics)\n",
    "def get_results(search_fns, metrics):\n",
    "    results = {}\n",
    "    for (method_name, search_fn) in search_fns:\n",
    "        res = evaluate_search_fn(search_fn, metrics)\n",
    "        results[method_name] = res\n",
    "    return results\n",
    "\n",
    "\n",
    "def plot_results(res, title):\n",
    "    num_metrics = len(res[list(res.keys())[0]])\n",
    "    num_methods = len(res)\n",
    "    fig, subplts = plt.subplots(figsize=(15,8))\n",
    "    colors = ['#1f77b4', '#ff7f0e', '#2ca02c', '#d62728', '#9467bd', '#8c564b', '#e377c2', '#7f7f7f', '#bcbd22', '#17becf']\n",
    "    for i, method_res in enumerate(res.keys()):\n",
    "        labels = list(res[method_res].keys())\n",
    "        scores = list(res[method_res].values())\n",
    "        x_ticks = np.array([j for j in range(len(labels))])\n",
    "        num_methods = len(res.keys())\n",
    "        width = 0.8/num_methods\n",
    "        if i == int(num_methods/2):\n",
    "            subplts.bar(x_ticks - (i*width), height=scores, tick_label=labels, label=method_res, width=width)\n",
    "        else:\n",
    "            subplts.bar(x_ticks - (i*width), height=scores, label=method_res, width=width)\n",
    "            \n",
    "    plt.ylabel(\"Score\")\n",
    "    plt.title(title)\n",
    "    subplts.legend()\n",
    "    plt.show()\n",
    "\n",
    "res = get_results(list_of_sem_search_fns, list_of_metrics)\n",
    "plot_results(res, \"Semantic Search Functions\")\n",
    "\n",
    "# other plot\n",
    "res_rr_lex = {}\n",
    "search_list = [search_fn[0] for search_fn in list_rr_and_lex_search_fns]\n",
    "for search_fn in res:\n",
    "    if search_fn in search_list:     \n",
    "        res_rr_lex[search_fn] = res[search_fn]\n",
    "for search_fn in evaluations_2:\n",
    "    if search_fn in search_list:\n",
    "        res_rr_lex[search_fn] = evaluations_2[search_fn]\n",
    "\n",
    "plot_results(res_rr_lex, \"Reranked Semantic- and Lexical Search Functions\")\n",
    "\n",
    "# Plot all non-reranked semantic methods\n",
    "non_rr_res = {key: val for key, val in res.items() if 'rr' not in key}\n",
    "plot_results(non_rr_res, \"Semantic Search Functions, no reranking\")"
   ]
  },
  {
   "cell_type": "markdown",
   "metadata": {
    "deletable": false,
    "editable": false,
    "nbgrader": {
     "cell_type": "markdown",
     "checksum": "a8a3b6189bdde66704c694d85e38d049",
     "grade": false,
     "grade_id": "cell-deb2ef3daa306e82",
     "locked": true,
     "schema_version": 3,
     "solution": false,
     "task": false
    }
   },
   "source": [
    "### Section 10.2: Summary (20 points)\n",
    "\n",
    "Your summary should compare methods from Part 1 and Part 2 (only for index set 2). State what you expected to see in the results, followed by either supporting evidence *or* justify why the results did not support your expectations. Consider the availability of data, scalability, domain/type of data, etc."
   ]
  },
  {
   "cell_type": "markdown",
   "metadata": {
    "deletable": false,
    "nbgrader": {
     "cell_type": "markdown",
     "checksum": "ff97c43837d10bff6aaffa75e1492887",
     "grade": true,
     "grade_id": "cell-ec5dd7d9cf59dd86",
     "locked": false,
     "points": 20,
     "schema_version": 3,
     "solution": true,
     "task": false
    }
   },
   "source": [
    "For the semantic search functions, we expected the re-ranking models to outperform the non-reranked versions. In the first plot, which shows the scores of the semantic models and their re-ranked version, we observe that with re-ranking the performance of the semantic models increases significantly. This is likely due to the fact that the re-ranking models receive as input a ranking produced by BM25, which as we have seen in part 1 outperforms all other term-based search functions. We also suspect that the dataset is not large enough for the semantic models to generalize a meaning from the words and create representative vectors. The impact from quality word embeddings can be seen in the score difference between our word2vec and the pre-trained version. When re-ranked the weakness of average word embeddings and addition of document vectors is less influential than the benefit of pretrained embeddings resulting in word2vec outperforming doc2vec.\n",
    "\n",
    "Furthermore, we expected the semantic search functions to outperform the term-based search functions, simply because the semantic models represent documents with richer embeddings than the simple count/occurence based lexical methods. In the second plot, showing scores of the re-ranked semantic models and the lexical models, we can observe that the semantic models outperform term-based models such as BoW, TF-IDF and NaiveQL. However, QL and BM25 seem to outperform the semantic models on all metrics. Again we suspect that this is due to semantic models requiring a larger collection in order to do well. The two best semantic models, Word2Vec Pretrained Reranked and Doc2Vec Reranked, benefit from the performance of the initial ranking of BM25, and then only have to look at the top K results. Furthermore, the Word2Vec model also shows that it benefits greatly from both pretraining and reranking, which again, indicates that the collection size is important for semantic models to perform well.\n",
    "\n",
    "In the third plot, we show all semantic models' performance on the evaluation metrics, excluding models that depend on reranking. Our expectations were that Doc2Vec would outperform Word2Vec, because Doc2Vec's document embeddings are based on an average of both context word-vectors and the full document’s doc-vector. The Word2Vec based document embeddings, on the other hand, are obtained by taking the mean of all individual word embeddings to get a document embedding. Especially for longer documents the average of many word vectors may muddle the representation, simply taking the mean of the embeddings may not always result in rich document embeddings. From the results, we do see that this is the case, even for the Word2Vec pretrained model.\n",
    "\n",
    "In the third plot, Word2Vec with pretraining did not improve the MAP and Recall@10 performance compared to regular Word2Vec. The domain of the dataset is CACM which are papers related to computer science, and the pretrained Word2Vec model was trained on Google news articles. These two domains are very different from eachother, and so perhaps these word embeddings may not have translated well across these domains. The discrepency between the W2V and W2V pretrained recall@k results are likely the cause of the lower MAP score as this depends on the recall and precision. When looking at the difference between their precisions@k, the gap between the pretrained model and the normal model decreases, which means it could be that precision@k>10 and recall@k>10 are consistently better for the regular W2V model as opposed to the pretrained W2V model.\n",
    "\n",
    "Moreover, we expected LSI to outperform LDA, because LDA is supposed to learn a topic distribution instead of a vector. Due to the fact that the CACM dataset is a general collection of papers about computer science, we did not expect LDA to be able to learn very good topic distributions to correctly rank documents based off the Jensen-Shannon divergence similarity score.\n",
    "\n",
    "Lastly, we now look specifically at the trends between the recall@k and precision@k. As recall@k increases k, each of the methods can only increase its recall, and this can be seen from all the plots. With precision@k with increasing k, precision decreases, as it's more likely for the models to return some irrelevant documents at lower rankings rather than at the top rankings."
   ]
  }
 ],
 "metadata": {
  "kernelspec": {
   "display_name": "Python 3",
   "language": "python",
   "name": "python3"
  },
  "language_info": {
   "codemirror_mode": {
    "name": "ipython",
    "version": 3
   },
   "file_extension": ".py",
   "mimetype": "text/x-python",
   "name": "python",
   "nbconvert_exporter": "python",
   "pygments_lexer": "ipython3",
   "version": "3.8.3"
  }
 },
 "nbformat": 4,
 "nbformat_minor": 4
}
